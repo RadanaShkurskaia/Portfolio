{
 "cells": [
  {
   "cell_type": "markdown",
   "id": "25294b27",
   "metadata": {},
   "source": [
    "# Оптимизация технологического процесса в промышленности"
   ]
  },
  {
   "cell_type": "markdown",
   "id": "3b974be1",
   "metadata": {},
   "source": [
    "Чтобы оптимизировать производственные расходы, металлургический комбинат «Стальная птица» решил уменьшить потребление электроэнергии на этапе обработки стали. Для этого комбинату нужно контролировать температуру сплава.\n"
   ]
  },
  {
   "cell_type": "markdown",
   "id": "3e998b42",
   "metadata": {},
   "source": [
    "**Описание этапа обработки**\n",
    "\n",
    "Сталь обрабатывают в металлическом ковше вместимостью около 100 тонн. Чтобы ковш выдерживал высокие температуры, изнутри его облицовывают огнеупорным кирпичом. Расплавленную сталь заливают в ковш и подогревают до нужной температуры графитовыми электродами. Они установлены в крышке ковша. \n",
    "\n",
    "Из сплава выводится сера (этот процесс — десульфурация), добавлением примесей корректируется химический состав и отбираются пробы. Сталь легируют — изменяют её состав — подавая куски сплава из бункера для сыпучих материалов или проволоку через специальный трайб-аппарат (от англ. tribe — «масса»).\n",
    "\n",
    "Перед тем как первый раз ввести легирующие добавки, измеряют температуру стали и производят её химический анализ. Потом температуру на несколько минут повышают, добавляют легирующие материалы и продувают сплав инертным газом. Затем его перемешивают и снова проводят измерения. Такой цикл повторяется до достижения целевого химического состава и оптимальной температуры плавки.\n",
    "\n",
    "Тогда расплавленная сталь отправляется на доводку металла или поступает в машину непрерывной разливки. Оттуда готовый продукт выходит в виде заготовок-слябов (от англ. slab — «плита»)."
   ]
  },
  {
   "cell_type": "markdown",
   "id": "f1fbb202",
   "metadata": {},
   "source": [
    "**Цель проекта**"
   ]
  },
  {
   "cell_type": "markdown",
   "id": "fcbd0bdb",
   "metadata": {},
   "source": [
    "Построить модель, которая будет предсказывать конечную температуру сплава.  Необходимо достичь показателя качества модели машинного обучения MAE не ниже 6,8. \n",
    "\n",
    "Прогнозные данные модели необходимы предприятию для уменьшения потребления электроэнергии. Заказчик будет использовать разработанную модель для имитации технологического процесса."
   ]
  },
  {
   "cell_type": "markdown",
   "id": "f114a9e2",
   "metadata": {},
   "source": [
    "## Описание данных"
   ]
  },
  {
   "cell_type": "markdown",
   "id": "66891d71",
   "metadata": {},
   "source": [
    "Данные состоят из нескольких файлов, полученных из разных источников:\n",
    "- data_arc_new.csv — данные об электродах;\n",
    "- data_bulk_new.csv — данные о подаче сыпучих материалов (объём);\n",
    "- data_bulk_time_new.csv — данные о подаче сыпучих материалов (время);\n",
    "- data_gas_new.csv — данные о продувке сплава газом;\n",
    "- data_temp_new.csv — результаты измерения температуры;\n",
    "- data_wire_new.csv — данные о проволочных материалах (объём);\n",
    "- data_wire_time_new.csv — данные о проволочных материалах (время).\n",
    "\n",
    "*Файл data_arc_new.csv *\n",
    "\n",
    "- key — номер партии;\n",
    "- Начало нагрева дугой — время начала нагрева;\n",
    "- Конец нагрева дугой — время окончания нагрева;\n",
    "- Активная мощность — значение активной мощности;\n",
    "- Реактивная мощность — значение реактивной мощности.\n",
    "\n",
    "*Файл data_bulk_new.csv*\n",
    "\n",
    "- key — номер партии;\n",
    "- Bulk 1 … Bulk 15 — объём подаваемого материала.\n",
    "\n",
    "*Файл data_bulk_time_new.csv*\n",
    "\n",
    "- key — номер партии;\n",
    "- Bulk 1 … Bulk 15 — время подачи материала.\n",
    "\n",
    "*Файл data_gas_new.csv*\n",
    "\n",
    "- key — номер партии;\n",
    "- Газ 1 — объём подаваемого газа.\n",
    "\n",
    "*Файл data_temp_new.csv*\n",
    "\n",
    "- key — номер партии;\n",
    "- Время замера — время замера;\n",
    "- Температура — значение температуры.\n",
    "\n",
    "*Файл data_wire_new.csv*\n",
    "\n",
    "- key — номер партии;\n",
    "- Wire 1 … Wire 15 — объём подаваемых проволочных материалов.\n",
    "\n",
    "*Файл data_wire_time_new.csv*\n",
    "\n",
    "- key — номер партии;\n",
    "- Wire 1 … Wire 15 — время подачи проволочных материалов.\n",
    "\n",
    "\n",
    "Во всех файлах столбец key содержит номер партии. В файлах может быть несколько строк с одинаковым значением key: они соответствуют разным итерациям обработки."
   ]
  },
  {
   "cell_type": "markdown",
   "id": "d436f524",
   "metadata": {},
   "source": [
    "##  Загрузка данных"
   ]
  },
  {
   "cell_type": "markdown",
   "id": "c8c42362",
   "metadata": {},
   "source": [
    "Загрузка необходимых библиотек."
   ]
  },
  {
   "cell_type": "code",
   "execution_count": 1,
   "id": "feaefd2d",
   "metadata": {},
   "outputs": [],
   "source": [
    "import pandas as pd\n",
    "import numpy as np\n",
    "import os\n",
    "import seaborn as sns\n",
    "import matplotlib.pyplot as plt\n",
    "\n",
    "from lightgbm import LGBMRegressor\n",
    "from catboost import CatBoostRegressor\n",
    "from sklearn.ensemble import RandomForestRegressor\n",
    "from sklearn.linear_model import LinearRegression\n",
    "\n",
    "from sklearn.preprocessing import StandardScaler, OneHotEncoder\n",
    "from sklearn.pipeline import make_pipeline\n",
    "from sklearn.compose import make_column_transformer\n",
    "from sklearn.model_selection import (train_test_split, \n",
    "                                     cross_val_score, \n",
    "                                     GridSearchCV, \n",
    "                                     RandomizedSearchCV)\n",
    "from sklearn.metrics import mean_absolute_error, r2_score\n",
    "from sklearn.dummy import DummyRegressor\n",
    "\n",
    "from IPython.display import Image\n",
    "#warnings.filterwarnings('ignore')"
   ]
  },
  {
   "cell_type": "code",
   "execution_count": 2,
   "id": "eed1f9b9",
   "metadata": {},
   "outputs": [],
   "source": [
    "RANDOM_STATE = np.random.seed(190224)"
   ]
  },
  {
   "cell_type": "markdown",
   "id": "056d389f",
   "metadata": {},
   "source": [
    "Загрузка файлов."
   ]
  },
  {
   "cell_type": "code",
   "execution_count": 3,
   "id": "3e2ad4f2",
   "metadata": {},
   "outputs": [],
   "source": [
    "def read_data(data):\n",
    "    '''\n",
    "    Функция загрузки файлов\n",
    "    Принимает на вход название файла\n",
    "    Загружает датафрейм\n",
    "    '''\n",
    "    pth1 = '/datasets/' + data\n",
    "    pth2 = 'https://code.s3.yandex.net'+ pth1\n",
    "    if os.path.exists(pth1):\n",
    "        query_1 = pd.read_csv(pth1)\n",
    "    elif os.path.exists(pth2):\n",
    "        query_1 = pd.read_csv(pth2)\n",
    "    else:\n",
    "        print('Something is wrong', data)\n",
    "    return query_1"
   ]
  },
  {
   "cell_type": "code",
   "execution_count": 4,
   "id": "6a6048a9",
   "metadata": {},
   "outputs": [],
   "source": [
    "data_arc = read_data('data_arc_new.csv')\n",
    "data_bulk = read_data('data_bulk_new.csv')\n",
    "data_bulk_time = read_data('data_bulk_time_new.csv')\n",
    "data_gas = read_data('data_gas_new.csv')\n",
    "data_temp = read_data('data_temp_new.csv')\n",
    "data_wire = read_data('data_wire_new.csv')\n",
    "data_wire_time = read_data('data_wire_time_new.csv')"
   ]
  },
  {
   "cell_type": "markdown",
   "id": "e8b5332b",
   "metadata": {},
   "source": [
    "## Исследовательский анализ и предобработка данных"
   ]
  },
  {
   "cell_type": "markdown",
   "id": "ff35ed7c",
   "metadata": {},
   "source": [
    "Откроем каждый файл и ознакомимся с данными в нем."
   ]
  },
  {
   "cell_type": "code",
   "execution_count": 5,
   "id": "11c80a18",
   "metadata": {},
   "outputs": [],
   "source": [
    "def get_data_info(data1):\n",
    "    '''\n",
    "    Информативная функция о данных датафрейма\n",
    "    '''\n",
    "    display(data1.head())\n",
    "    display(data1.info())\n",
    "    display(data1.isna().sum())\n",
    "    display('Кол-во партий:', data1['key'].nunique())\n",
    "    display(data1.describe(include='all'))\n",
    "    # Добавить графики по каждому файлу"
   ]
  },
  {
   "cell_type": "markdown",
   "id": "4fe28324",
   "metadata": {},
   "source": [
    "### data_arcm"
   ]
  },
  {
   "cell_type": "code",
   "execution_count": 6,
   "id": "80586865",
   "metadata": {},
   "outputs": [
    {
     "data": {
      "text/html": [
       "<div>\n",
       "<style scoped>\n",
       "    .dataframe tbody tr th:only-of-type {\n",
       "        vertical-align: middle;\n",
       "    }\n",
       "\n",
       "    .dataframe tbody tr th {\n",
       "        vertical-align: top;\n",
       "    }\n",
       "\n",
       "    .dataframe thead th {\n",
       "        text-align: right;\n",
       "    }\n",
       "</style>\n",
       "<table border=\"1\" class=\"dataframe\">\n",
       "  <thead>\n",
       "    <tr style=\"text-align: right;\">\n",
       "      <th></th>\n",
       "      <th>key</th>\n",
       "      <th>Начало нагрева дугой</th>\n",
       "      <th>Конец нагрева дугой</th>\n",
       "      <th>Активная мощность</th>\n",
       "      <th>Реактивная мощность</th>\n",
       "    </tr>\n",
       "  </thead>\n",
       "  <tbody>\n",
       "    <tr>\n",
       "      <th>0</th>\n",
       "      <td>1</td>\n",
       "      <td>2019-05-03 11:02:14</td>\n",
       "      <td>2019-05-03 11:06:02</td>\n",
       "      <td>0.305130</td>\n",
       "      <td>0.211253</td>\n",
       "    </tr>\n",
       "    <tr>\n",
       "      <th>1</th>\n",
       "      <td>1</td>\n",
       "      <td>2019-05-03 11:07:28</td>\n",
       "      <td>2019-05-03 11:10:33</td>\n",
       "      <td>0.765658</td>\n",
       "      <td>0.477438</td>\n",
       "    </tr>\n",
       "    <tr>\n",
       "      <th>2</th>\n",
       "      <td>1</td>\n",
       "      <td>2019-05-03 11:11:44</td>\n",
       "      <td>2019-05-03 11:14:36</td>\n",
       "      <td>0.580313</td>\n",
       "      <td>0.430460</td>\n",
       "    </tr>\n",
       "    <tr>\n",
       "      <th>3</th>\n",
       "      <td>1</td>\n",
       "      <td>2019-05-03 11:18:14</td>\n",
       "      <td>2019-05-03 11:24:19</td>\n",
       "      <td>0.518496</td>\n",
       "      <td>0.379979</td>\n",
       "    </tr>\n",
       "    <tr>\n",
       "      <th>4</th>\n",
       "      <td>1</td>\n",
       "      <td>2019-05-03 11:26:09</td>\n",
       "      <td>2019-05-03 11:28:37</td>\n",
       "      <td>0.867133</td>\n",
       "      <td>0.643691</td>\n",
       "    </tr>\n",
       "  </tbody>\n",
       "</table>\n",
       "</div>"
      ],
      "text/plain": [
       "   key Начало нагрева дугой  Конец нагрева дугой  Активная мощность  \\\n",
       "0    1  2019-05-03 11:02:14  2019-05-03 11:06:02           0.305130   \n",
       "1    1  2019-05-03 11:07:28  2019-05-03 11:10:33           0.765658   \n",
       "2    1  2019-05-03 11:11:44  2019-05-03 11:14:36           0.580313   \n",
       "3    1  2019-05-03 11:18:14  2019-05-03 11:24:19           0.518496   \n",
       "4    1  2019-05-03 11:26:09  2019-05-03 11:28:37           0.867133   \n",
       "\n",
       "   Реактивная мощность  \n",
       "0             0.211253  \n",
       "1             0.477438  \n",
       "2             0.430460  \n",
       "3             0.379979  \n",
       "4             0.643691  "
      ]
     },
     "metadata": {},
     "output_type": "display_data"
    },
    {
     "name": "stdout",
     "output_type": "stream",
     "text": [
      "<class 'pandas.core.frame.DataFrame'>\n",
      "RangeIndex: 14876 entries, 0 to 14875\n",
      "Data columns (total 5 columns):\n",
      " #   Column                Non-Null Count  Dtype  \n",
      "---  ------                --------------  -----  \n",
      " 0   key                   14876 non-null  int64  \n",
      " 1   Начало нагрева дугой  14876 non-null  object \n",
      " 2   Конец нагрева дугой   14876 non-null  object \n",
      " 3   Активная мощность     14876 non-null  float64\n",
      " 4   Реактивная мощность   14876 non-null  float64\n",
      "dtypes: float64(2), int64(1), object(2)\n",
      "memory usage: 581.2+ KB\n"
     ]
    },
    {
     "data": {
      "text/plain": [
       "None"
      ]
     },
     "metadata": {},
     "output_type": "display_data"
    },
    {
     "data": {
      "text/plain": [
       "key                     0\n",
       "Начало нагрева дугой    0\n",
       "Конец нагрева дугой     0\n",
       "Активная мощность       0\n",
       "Реактивная мощность     0\n",
       "dtype: int64"
      ]
     },
     "metadata": {},
     "output_type": "display_data"
    },
    {
     "data": {
      "text/plain": [
       "'Кол-во партий:'"
      ]
     },
     "metadata": {},
     "output_type": "display_data"
    },
    {
     "data": {
      "text/plain": [
       "3214"
      ]
     },
     "metadata": {},
     "output_type": "display_data"
    },
    {
     "data": {
      "text/html": [
       "<div>\n",
       "<style scoped>\n",
       "    .dataframe tbody tr th:only-of-type {\n",
       "        vertical-align: middle;\n",
       "    }\n",
       "\n",
       "    .dataframe tbody tr th {\n",
       "        vertical-align: top;\n",
       "    }\n",
       "\n",
       "    .dataframe thead th {\n",
       "        text-align: right;\n",
       "    }\n",
       "</style>\n",
       "<table border=\"1\" class=\"dataframe\">\n",
       "  <thead>\n",
       "    <tr style=\"text-align: right;\">\n",
       "      <th></th>\n",
       "      <th>key</th>\n",
       "      <th>Начало нагрева дугой</th>\n",
       "      <th>Конец нагрева дугой</th>\n",
       "      <th>Активная мощность</th>\n",
       "      <th>Реактивная мощность</th>\n",
       "    </tr>\n",
       "  </thead>\n",
       "  <tbody>\n",
       "    <tr>\n",
       "      <th>count</th>\n",
       "      <td>14876.000000</td>\n",
       "      <td>14876</td>\n",
       "      <td>14876</td>\n",
       "      <td>14876.000000</td>\n",
       "      <td>14876.000000</td>\n",
       "    </tr>\n",
       "    <tr>\n",
       "      <th>unique</th>\n",
       "      <td>NaN</td>\n",
       "      <td>14876</td>\n",
       "      <td>14876</td>\n",
       "      <td>NaN</td>\n",
       "      <td>NaN</td>\n",
       "    </tr>\n",
       "    <tr>\n",
       "      <th>top</th>\n",
       "      <td>NaN</td>\n",
       "      <td>2019-08-04 00:26:30</td>\n",
       "      <td>2019-05-24 14:02:05</td>\n",
       "      <td>NaN</td>\n",
       "      <td>NaN</td>\n",
       "    </tr>\n",
       "    <tr>\n",
       "      <th>freq</th>\n",
       "      <td>NaN</td>\n",
       "      <td>1</td>\n",
       "      <td>1</td>\n",
       "      <td>NaN</td>\n",
       "      <td>NaN</td>\n",
       "    </tr>\n",
       "    <tr>\n",
       "      <th>mean</th>\n",
       "      <td>1615.220422</td>\n",
       "      <td>NaN</td>\n",
       "      <td>NaN</td>\n",
       "      <td>0.662752</td>\n",
       "      <td>0.438986</td>\n",
       "    </tr>\n",
       "    <tr>\n",
       "      <th>std</th>\n",
       "      <td>934.571502</td>\n",
       "      <td>NaN</td>\n",
       "      <td>NaN</td>\n",
       "      <td>0.258885</td>\n",
       "      <td>5.873485</td>\n",
       "    </tr>\n",
       "    <tr>\n",
       "      <th>min</th>\n",
       "      <td>1.000000</td>\n",
       "      <td>NaN</td>\n",
       "      <td>NaN</td>\n",
       "      <td>0.223120</td>\n",
       "      <td>-715.479924</td>\n",
       "    </tr>\n",
       "    <tr>\n",
       "      <th>25%</th>\n",
       "      <td>806.000000</td>\n",
       "      <td>NaN</td>\n",
       "      <td>NaN</td>\n",
       "      <td>0.467115</td>\n",
       "      <td>0.337175</td>\n",
       "    </tr>\n",
       "    <tr>\n",
       "      <th>50%</th>\n",
       "      <td>1617.000000</td>\n",
       "      <td>NaN</td>\n",
       "      <td>NaN</td>\n",
       "      <td>0.599587</td>\n",
       "      <td>0.441639</td>\n",
       "    </tr>\n",
       "    <tr>\n",
       "      <th>75%</th>\n",
       "      <td>2429.000000</td>\n",
       "      <td>NaN</td>\n",
       "      <td>NaN</td>\n",
       "      <td>0.830070</td>\n",
       "      <td>0.608201</td>\n",
       "    </tr>\n",
       "    <tr>\n",
       "      <th>max</th>\n",
       "      <td>3241.000000</td>\n",
       "      <td>NaN</td>\n",
       "      <td>NaN</td>\n",
       "      <td>1.463773</td>\n",
       "      <td>1.270284</td>\n",
       "    </tr>\n",
       "  </tbody>\n",
       "</table>\n",
       "</div>"
      ],
      "text/plain": [
       "                 key Начало нагрева дугой  Конец нагрева дугой  \\\n",
       "count   14876.000000                14876                14876   \n",
       "unique           NaN                14876                14876   \n",
       "top              NaN  2019-08-04 00:26:30  2019-05-24 14:02:05   \n",
       "freq             NaN                    1                    1   \n",
       "mean     1615.220422                  NaN                  NaN   \n",
       "std       934.571502                  NaN                  NaN   \n",
       "min         1.000000                  NaN                  NaN   \n",
       "25%       806.000000                  NaN                  NaN   \n",
       "50%      1617.000000                  NaN                  NaN   \n",
       "75%      2429.000000                  NaN                  NaN   \n",
       "max      3241.000000                  NaN                  NaN   \n",
       "\n",
       "        Активная мощность  Реактивная мощность  \n",
       "count        14876.000000         14876.000000  \n",
       "unique                NaN                  NaN  \n",
       "top                   NaN                  NaN  \n",
       "freq                  NaN                  NaN  \n",
       "mean             0.662752             0.438986  \n",
       "std              0.258885             5.873485  \n",
       "min              0.223120          -715.479924  \n",
       "25%              0.467115             0.337175  \n",
       "50%              0.599587             0.441639  \n",
       "75%              0.830070             0.608201  \n",
       "max              1.463773             1.270284  "
      ]
     },
     "metadata": {},
     "output_type": "display_data"
    }
   ],
   "source": [
    "get_data_info(data_arc)"
   ]
  },
  {
   "cell_type": "markdown",
   "id": "572dfe76",
   "metadata": {},
   "source": [
    "В файле отмечены данные по 3214 процессам, в 14876 строках за 2,5 месяца наблюдений. Необходимо переименовать столбцы, сменить тип данных в столбцах с данными  о времени нагрева (начало/конец). В столбце \"Реактивная мощность\" есть отрицательные значения, что противоречит определению мощности. Удалим отрицательные значения. Агрегируем мощности в разрезе каждой партии."
   ]
  },
  {
   "cell_type": "code",
   "execution_count": 7,
   "id": "78768bf9",
   "metadata": {},
   "outputs": [],
   "source": [
    "#переименование столбцов\n",
    "data_arc = data_arc.rename(columns={'Начало нагрева дугой':'start_arc_heating',\n",
    "                                    'Конец нагрева дугой':'end_arc_heating',\n",
    "                                    'Активная мощность':'apparent_power',\n",
    "                                    'Реактивная мощность':'reactive_power'\n",
    "                                   })"
   ]
  },
  {
   "cell_type": "code",
   "execution_count": 8,
   "id": "89c18c78",
   "metadata": {},
   "outputs": [
    {
     "data": {
      "text/html": [
       "<div>\n",
       "<style scoped>\n",
       "    .dataframe tbody tr th:only-of-type {\n",
       "        vertical-align: middle;\n",
       "    }\n",
       "\n",
       "    .dataframe tbody tr th {\n",
       "        vertical-align: top;\n",
       "    }\n",
       "\n",
       "    .dataframe thead th {\n",
       "        text-align: right;\n",
       "    }\n",
       "</style>\n",
       "<table border=\"1\" class=\"dataframe\">\n",
       "  <thead>\n",
       "    <tr style=\"text-align: right;\">\n",
       "      <th></th>\n",
       "      <th>key</th>\n",
       "      <th>start_arc_heating</th>\n",
       "      <th>end_arc_heating</th>\n",
       "      <th>apparent_power</th>\n",
       "      <th>reactive_power</th>\n",
       "    </tr>\n",
       "  </thead>\n",
       "  <tbody>\n",
       "    <tr>\n",
       "      <th>0</th>\n",
       "      <td>1</td>\n",
       "      <td>2019-05-03 11:02:14</td>\n",
       "      <td>2019-05-03 11:06:02</td>\n",
       "      <td>0.305130</td>\n",
       "      <td>0.211253</td>\n",
       "    </tr>\n",
       "    <tr>\n",
       "      <th>1</th>\n",
       "      <td>1</td>\n",
       "      <td>2019-05-03 11:07:28</td>\n",
       "      <td>2019-05-03 11:10:33</td>\n",
       "      <td>0.765658</td>\n",
       "      <td>0.477438</td>\n",
       "    </tr>\n",
       "    <tr>\n",
       "      <th>2</th>\n",
       "      <td>1</td>\n",
       "      <td>2019-05-03 11:11:44</td>\n",
       "      <td>2019-05-03 11:14:36</td>\n",
       "      <td>0.580313</td>\n",
       "      <td>0.430460</td>\n",
       "    </tr>\n",
       "    <tr>\n",
       "      <th>3</th>\n",
       "      <td>1</td>\n",
       "      <td>2019-05-03 11:18:14</td>\n",
       "      <td>2019-05-03 11:24:19</td>\n",
       "      <td>0.518496</td>\n",
       "      <td>0.379979</td>\n",
       "    </tr>\n",
       "    <tr>\n",
       "      <th>4</th>\n",
       "      <td>1</td>\n",
       "      <td>2019-05-03 11:26:09</td>\n",
       "      <td>2019-05-03 11:28:37</td>\n",
       "      <td>0.867133</td>\n",
       "      <td>0.643691</td>\n",
       "    </tr>\n",
       "  </tbody>\n",
       "</table>\n",
       "</div>"
      ],
      "text/plain": [
       "   key   start_arc_heating     end_arc_heating  apparent_power  reactive_power\n",
       "0    1 2019-05-03 11:02:14 2019-05-03 11:06:02        0.305130        0.211253\n",
       "1    1 2019-05-03 11:07:28 2019-05-03 11:10:33        0.765658        0.477438\n",
       "2    1 2019-05-03 11:11:44 2019-05-03 11:14:36        0.580313        0.430460\n",
       "3    1 2019-05-03 11:18:14 2019-05-03 11:24:19        0.518496        0.379979\n",
       "4    1 2019-05-03 11:26:09 2019-05-03 11:28:37        0.867133        0.643691"
      ]
     },
     "metadata": {},
     "output_type": "display_data"
    },
    {
     "data": {
      "text/plain": [
       "key                           int64\n",
       "start_arc_heating    datetime64[ns]\n",
       "end_arc_heating      datetime64[ns]\n",
       "apparent_power              float64\n",
       "reactive_power              float64\n",
       "dtype: object"
      ]
     },
     "execution_count": 8,
     "metadata": {},
     "output_type": "execute_result"
    }
   ],
   "source": [
    "data_arc['start_arc_heating'] = pd.to_datetime(data_arc['start_arc_heating'], format='%Y-%m-%d %H:%M:%S')\n",
    "data_arc['end_arc_heating'] = pd.to_datetime(data_arc['end_arc_heating'], format='%Y-%m-%d %H:%M:%S')\n",
    "display(data_arc.head())\n",
    "data_arc.dtypes"
   ]
  },
  {
   "cell_type": "code",
   "execution_count": 9,
   "id": "84c189fc",
   "metadata": {},
   "outputs": [],
   "source": [
    "#удаление данных с отрицательными значениями\n",
    "\n",
    "data_arc = data_arc.query('reactive_power > 0')"
   ]
  },
  {
   "cell_type": "markdown",
   "id": "a567fc63",
   "metadata": {},
   "source": [
    "Определим полную мощность.\n",
    "Обратимся к теории.\n",
    "\n",
    "**Полная мощность (S - full_power)**\n",
    "\n",
    "Полная мощность – это произведение напряжения и тока при игнорировании фазового угла между ними. Вся мощность в сети переменного тока (рассеиваемая и поглощаемая/возвращаемая) является полной.\n",
    "\n",
    "Комбинация реактивной и активной мощностей называется полной мощностью. Произведение действующего значения напряжения на действующее значение тока в цепи переменного тока называется полной мощностью.\n",
    "\n",
    "Полная мощность = √ (Активная мощность2 + Реактивная мощность2)"
   ]
  },
  {
   "cell_type": "code",
   "execution_count": 10,
   "id": "a3b4ff5d",
   "metadata": {},
   "outputs": [
    {
     "name": "stdout",
     "output_type": "stream",
     "text": [
      "Тригонометрическое соотношение мощностей:\n"
     ]
    },
    {
     "data": {
      "image/jpeg": "[encoded data removed]",
      "text/plain": [
       "<IPython.core.display.Image object>"
      ]
     },
     "metadata": {
      "image/jpeg": {
       "height": 320,
       "width": 360
      }
     },
     "output_type": "display_data"
    }
   ],
   "source": [
    "print('Тригонометрическое соотношение мощностей:')\n",
    "display(Image(\"https://khomovelectro.ru/images/32/clip_image001.jpg\", width=360, height=320))"
   ]
  },
  {
   "cell_type": "markdown",
   "id": "44f7879b",
   "metadata": {},
   "source": [
    "Расчитаем полную мощность для каждого замера и время нагрева дугой. Выделим данные по каждой партии."
   ]
  },
  {
   "cell_type": "code",
   "execution_count": 11,
   "id": "68aa8873",
   "metadata": {},
   "outputs": [],
   "source": [
    "# определение полной мощности\n",
    "data_arc['full_power'] = (data_arc['apparent_power']**2 + data_arc['reactive_power']**2)**0.5\n",
    "\n",
    "#выделим кол-во этапов нагревания\n",
    "rounds_heating = data_arc['key'].value_counts().reset_index(name='rounds_heating').rename(columns={'index': 'key'}).sort_values(by='key', ascending=True)\n",
    "\n",
    "# определение временого интервала нагрева в секундах\n",
    "data_arc['time_arc_heating'] = data_arc['end_arc_heating'] - data_arc['start_arc_heating']\n",
    "data_arc['time_arc_heating'] = data_arc['time_arc_heating'].astype('timedelta64[s]')"
   ]
  },
  {
   "cell_type": "code",
   "execution_count": 12,
   "id": "eef36215",
   "metadata": {},
   "outputs": [
    {
     "data": {
      "text/html": [
       "<div>\n",
       "<style scoped>\n",
       "    .dataframe tbody tr th:only-of-type {\n",
       "        vertical-align: middle;\n",
       "    }\n",
       "\n",
       "    .dataframe tbody tr th {\n",
       "        vertical-align: top;\n",
       "    }\n",
       "\n",
       "    .dataframe thead th {\n",
       "        text-align: right;\n",
       "    }\n",
       "</style>\n",
       "<table border=\"1\" class=\"dataframe\">\n",
       "  <thead>\n",
       "    <tr style=\"text-align: right;\">\n",
       "      <th></th>\n",
       "      <th>key</th>\n",
       "      <th>start_arc_heating</th>\n",
       "      <th>end_arc_heating</th>\n",
       "      <th>apparent_power</th>\n",
       "      <th>reactive_power</th>\n",
       "      <th>full_power</th>\n",
       "      <th>time_arc_heating</th>\n",
       "    </tr>\n",
       "  </thead>\n",
       "  <tbody>\n",
       "    <tr>\n",
       "      <th>0</th>\n",
       "      <td>1</td>\n",
       "      <td>2019-05-03 11:02:14</td>\n",
       "      <td>2019-05-03 11:06:02</td>\n",
       "      <td>0.305130</td>\n",
       "      <td>0.211253</td>\n",
       "      <td>0.371123</td>\n",
       "      <td>228.0</td>\n",
       "    </tr>\n",
       "    <tr>\n",
       "      <th>1</th>\n",
       "      <td>1</td>\n",
       "      <td>2019-05-03 11:07:28</td>\n",
       "      <td>2019-05-03 11:10:33</td>\n",
       "      <td>0.765658</td>\n",
       "      <td>0.477438</td>\n",
       "      <td>0.902319</td>\n",
       "      <td>185.0</td>\n",
       "    </tr>\n",
       "    <tr>\n",
       "      <th>2</th>\n",
       "      <td>1</td>\n",
       "      <td>2019-05-03 11:11:44</td>\n",
       "      <td>2019-05-03 11:14:36</td>\n",
       "      <td>0.580313</td>\n",
       "      <td>0.430460</td>\n",
       "      <td>0.722536</td>\n",
       "      <td>172.0</td>\n",
       "    </tr>\n",
       "    <tr>\n",
       "      <th>3</th>\n",
       "      <td>1</td>\n",
       "      <td>2019-05-03 11:18:14</td>\n",
       "      <td>2019-05-03 11:24:19</td>\n",
       "      <td>0.518496</td>\n",
       "      <td>0.379979</td>\n",
       "      <td>0.642824</td>\n",
       "      <td>365.0</td>\n",
       "    </tr>\n",
       "    <tr>\n",
       "      <th>4</th>\n",
       "      <td>1</td>\n",
       "      <td>2019-05-03 11:26:09</td>\n",
       "      <td>2019-05-03 11:28:37</td>\n",
       "      <td>0.867133</td>\n",
       "      <td>0.643691</td>\n",
       "      <td>1.079934</td>\n",
       "      <td>148.0</td>\n",
       "    </tr>\n",
       "  </tbody>\n",
       "</table>\n",
       "</div>"
      ],
      "text/plain": [
       "   key   start_arc_heating     end_arc_heating  apparent_power  \\\n",
       "0    1 2019-05-03 11:02:14 2019-05-03 11:06:02        0.305130   \n",
       "1    1 2019-05-03 11:07:28 2019-05-03 11:10:33        0.765658   \n",
       "2    1 2019-05-03 11:11:44 2019-05-03 11:14:36        0.580313   \n",
       "3    1 2019-05-03 11:18:14 2019-05-03 11:24:19        0.518496   \n",
       "4    1 2019-05-03 11:26:09 2019-05-03 11:28:37        0.867133   \n",
       "\n",
       "   reactive_power  full_power  time_arc_heating  \n",
       "0        0.211253    0.371123             228.0  \n",
       "1        0.477438    0.902319             185.0  \n",
       "2        0.430460    0.722536             172.0  \n",
       "3        0.379979    0.642824             365.0  \n",
       "4        0.643691    1.079934             148.0  "
      ]
     },
     "metadata": {},
     "output_type": "display_data"
    },
    {
     "data": {
      "text/html": [
       "<div>\n",
       "<style scoped>\n",
       "    .dataframe tbody tr th:only-of-type {\n",
       "        vertical-align: middle;\n",
       "    }\n",
       "\n",
       "    .dataframe tbody tr th {\n",
       "        vertical-align: top;\n",
       "    }\n",
       "\n",
       "    .dataframe thead th {\n",
       "        text-align: right;\n",
       "    }\n",
       "</style>\n",
       "<table border=\"1\" class=\"dataframe\">\n",
       "  <thead>\n",
       "    <tr style=\"text-align: right;\">\n",
       "      <th></th>\n",
       "      <th>key</th>\n",
       "      <th>rounds_heating</th>\n",
       "    </tr>\n",
       "  </thead>\n",
       "  <tbody>\n",
       "    <tr>\n",
       "      <th>1140</th>\n",
       "      <td>1</td>\n",
       "      <td>5</td>\n",
       "    </tr>\n",
       "    <tr>\n",
       "      <th>2019</th>\n",
       "      <td>2</td>\n",
       "      <td>4</td>\n",
       "    </tr>\n",
       "    <tr>\n",
       "      <th>1527</th>\n",
       "      <td>3</td>\n",
       "      <td>5</td>\n",
       "    </tr>\n",
       "    <tr>\n",
       "      <th>2231</th>\n",
       "      <td>4</td>\n",
       "      <td>4</td>\n",
       "    </tr>\n",
       "    <tr>\n",
       "      <th>2424</th>\n",
       "      <td>5</td>\n",
       "      <td>4</td>\n",
       "    </tr>\n",
       "    <tr>\n",
       "      <th>...</th>\n",
       "      <td>...</td>\n",
       "      <td>...</td>\n",
       "    </tr>\n",
       "    <tr>\n",
       "      <th>870</th>\n",
       "      <td>3237</td>\n",
       "      <td>5</td>\n",
       "    </tr>\n",
       "    <tr>\n",
       "      <th>2563</th>\n",
       "      <td>3238</td>\n",
       "      <td>3</td>\n",
       "    </tr>\n",
       "    <tr>\n",
       "      <th>104</th>\n",
       "      <td>3239</td>\n",
       "      <td>8</td>\n",
       "    </tr>\n",
       "    <tr>\n",
       "      <th>1491</th>\n",
       "      <td>3240</td>\n",
       "      <td>5</td>\n",
       "    </tr>\n",
       "    <tr>\n",
       "      <th>1334</th>\n",
       "      <td>3241</td>\n",
       "      <td>5</td>\n",
       "    </tr>\n",
       "  </tbody>\n",
       "</table>\n",
       "<p>3214 rows × 2 columns</p>\n",
       "</div>"
      ],
      "text/plain": [
       "       key  rounds_heating\n",
       "1140     1               5\n",
       "2019     2               4\n",
       "1527     3               5\n",
       "2231     4               4\n",
       "2424     5               4\n",
       "...    ...             ...\n",
       "870   3237               5\n",
       "2563  3238               3\n",
       "104   3239               8\n",
       "1491  3240               5\n",
       "1334  3241               5\n",
       "\n",
       "[3214 rows x 2 columns]"
      ]
     },
     "execution_count": 12,
     "metadata": {},
     "output_type": "execute_result"
    }
   ],
   "source": [
    "display(data_arc.head())\n",
    "data_arc.dtypes\n",
    "rounds_heating"
   ]
  },
  {
   "cell_type": "code",
   "execution_count": 13,
   "id": "47b65d0d",
   "metadata": {},
   "outputs": [],
   "source": [
    "# Составим сводную таблицу относительно полной мощности, времени и кол-ва нагрева по партиям\n",
    "# Остальны данные не понадобятся в построении модели,т.к.будут коррелирующими признаками\n",
    "data_arc_final = data_arc.pivot_table(index='key', values=['full_power', 'time_arc_heating'], aggfunc='sum').reset_index()\n",
    "data_arc_final = data_arc_final.merge(right=rounds_heating, on='key')"
   ]
  },
  {
   "cell_type": "markdown",
   "id": "b8db0f53",
   "metadata": {},
   "source": [
    "Мощность равна отношению работы ко времени, за которое она была совершена. Вычислим работу. "
   ]
  },
  {
   "cell_type": "code",
   "execution_count": 14,
   "id": "2967f485",
   "metadata": {},
   "outputs": [],
   "source": [
    "data_arc_final['work'] = data_arc_final['full_power']*data_arc_final['time_arc_heating']"
   ]
  },
  {
   "cell_type": "code",
   "execution_count": 15,
   "id": "a36f7f2f",
   "metadata": {
    "scrolled": true
   },
   "outputs": [
    {
     "data": {
      "text/html": [
       "<div>\n",
       "<style scoped>\n",
       "    .dataframe tbody tr th:only-of-type {\n",
       "        vertical-align: middle;\n",
       "    }\n",
       "\n",
       "    .dataframe tbody tr th {\n",
       "        vertical-align: top;\n",
       "    }\n",
       "\n",
       "    .dataframe thead th {\n",
       "        text-align: right;\n",
       "    }\n",
       "</style>\n",
       "<table border=\"1\" class=\"dataframe\">\n",
       "  <thead>\n",
       "    <tr style=\"text-align: right;\">\n",
       "      <th></th>\n",
       "      <th>key</th>\n",
       "      <th>full_power</th>\n",
       "      <th>time_arc_heating</th>\n",
       "      <th>rounds_heating</th>\n",
       "      <th>work</th>\n",
       "    </tr>\n",
       "  </thead>\n",
       "  <tbody>\n",
       "    <tr>\n",
       "      <th>0</th>\n",
       "      <td>1</td>\n",
       "      <td>3.718736</td>\n",
       "      <td>1098.0</td>\n",
       "      <td>5</td>\n",
       "      <td>4083.171936</td>\n",
       "    </tr>\n",
       "    <tr>\n",
       "      <th>1</th>\n",
       "      <td>2</td>\n",
       "      <td>2.588349</td>\n",
       "      <td>811.0</td>\n",
       "      <td>4</td>\n",
       "      <td>2099.150800</td>\n",
       "    </tr>\n",
       "    <tr>\n",
       "      <th>2</th>\n",
       "      <td>3</td>\n",
       "      <td>5.019223</td>\n",
       "      <td>655.0</td>\n",
       "      <td>5</td>\n",
       "      <td>3287.591368</td>\n",
       "    </tr>\n",
       "    <tr>\n",
       "      <th>3</th>\n",
       "      <td>4</td>\n",
       "      <td>3.400038</td>\n",
       "      <td>741.0</td>\n",
       "      <td>4</td>\n",
       "      <td>2519.428170</td>\n",
       "    </tr>\n",
       "    <tr>\n",
       "      <th>4</th>\n",
       "      <td>5</td>\n",
       "      <td>2.816980</td>\n",
       "      <td>869.0</td>\n",
       "      <td>4</td>\n",
       "      <td>2447.955323</td>\n",
       "    </tr>\n",
       "  </tbody>\n",
       "</table>\n",
       "</div>"
      ],
      "text/plain": [
       "   key  full_power  time_arc_heating  rounds_heating         work\n",
       "0    1    3.718736            1098.0               5  4083.171936\n",
       "1    2    2.588349             811.0               4  2099.150800\n",
       "2    3    5.019223             655.0               5  3287.591368\n",
       "3    4    3.400038             741.0               4  2519.428170\n",
       "4    5    2.816980             869.0               4  2447.955323"
      ]
     },
     "execution_count": 15,
     "metadata": {},
     "output_type": "execute_result"
    }
   ],
   "source": [
    "data_arc_final.head()"
   ]
  },
  {
   "cell_type": "markdown",
   "id": "e1872d35",
   "metadata": {},
   "source": [
    "### data_bulk"
   ]
  },
  {
   "cell_type": "code",
   "execution_count": 16,
   "id": "89d8f2be",
   "metadata": {
    "scrolled": true
   },
   "outputs": [
    {
     "data": {
      "text/html": [
       "<div>\n",
       "<style scoped>\n",
       "    .dataframe tbody tr th:only-of-type {\n",
       "        vertical-align: middle;\n",
       "    }\n",
       "\n",
       "    .dataframe tbody tr th {\n",
       "        vertical-align: top;\n",
       "    }\n",
       "\n",
       "    .dataframe thead th {\n",
       "        text-align: right;\n",
       "    }\n",
       "</style>\n",
       "<table border=\"1\" class=\"dataframe\">\n",
       "  <thead>\n",
       "    <tr style=\"text-align: right;\">\n",
       "      <th></th>\n",
       "      <th>key</th>\n",
       "      <th>Bulk 1</th>\n",
       "      <th>Bulk 2</th>\n",
       "      <th>Bulk 3</th>\n",
       "      <th>Bulk 4</th>\n",
       "      <th>Bulk 5</th>\n",
       "      <th>Bulk 6</th>\n",
       "      <th>Bulk 7</th>\n",
       "      <th>Bulk 8</th>\n",
       "      <th>Bulk 9</th>\n",
       "      <th>Bulk 10</th>\n",
       "      <th>Bulk 11</th>\n",
       "      <th>Bulk 12</th>\n",
       "      <th>Bulk 13</th>\n",
       "      <th>Bulk 14</th>\n",
       "      <th>Bulk 15</th>\n",
       "    </tr>\n",
       "  </thead>\n",
       "  <tbody>\n",
       "    <tr>\n",
       "      <th>0</th>\n",
       "      <td>1</td>\n",
       "      <td>NaN</td>\n",
       "      <td>NaN</td>\n",
       "      <td>NaN</td>\n",
       "      <td>43.0</td>\n",
       "      <td>NaN</td>\n",
       "      <td>NaN</td>\n",
       "      <td>NaN</td>\n",
       "      <td>NaN</td>\n",
       "      <td>NaN</td>\n",
       "      <td>NaN</td>\n",
       "      <td>NaN</td>\n",
       "      <td>206.0</td>\n",
       "      <td>NaN</td>\n",
       "      <td>150.0</td>\n",
       "      <td>154.0</td>\n",
       "    </tr>\n",
       "    <tr>\n",
       "      <th>1</th>\n",
       "      <td>2</td>\n",
       "      <td>NaN</td>\n",
       "      <td>NaN</td>\n",
       "      <td>NaN</td>\n",
       "      <td>73.0</td>\n",
       "      <td>NaN</td>\n",
       "      <td>NaN</td>\n",
       "      <td>NaN</td>\n",
       "      <td>NaN</td>\n",
       "      <td>NaN</td>\n",
       "      <td>NaN</td>\n",
       "      <td>NaN</td>\n",
       "      <td>206.0</td>\n",
       "      <td>NaN</td>\n",
       "      <td>149.0</td>\n",
       "      <td>154.0</td>\n",
       "    </tr>\n",
       "    <tr>\n",
       "      <th>2</th>\n",
       "      <td>3</td>\n",
       "      <td>NaN</td>\n",
       "      <td>NaN</td>\n",
       "      <td>NaN</td>\n",
       "      <td>34.0</td>\n",
       "      <td>NaN</td>\n",
       "      <td>NaN</td>\n",
       "      <td>NaN</td>\n",
       "      <td>NaN</td>\n",
       "      <td>NaN</td>\n",
       "      <td>NaN</td>\n",
       "      <td>NaN</td>\n",
       "      <td>205.0</td>\n",
       "      <td>NaN</td>\n",
       "      <td>152.0</td>\n",
       "      <td>153.0</td>\n",
       "    </tr>\n",
       "    <tr>\n",
       "      <th>3</th>\n",
       "      <td>4</td>\n",
       "      <td>NaN</td>\n",
       "      <td>NaN</td>\n",
       "      <td>NaN</td>\n",
       "      <td>81.0</td>\n",
       "      <td>NaN</td>\n",
       "      <td>NaN</td>\n",
       "      <td>NaN</td>\n",
       "      <td>NaN</td>\n",
       "      <td>NaN</td>\n",
       "      <td>NaN</td>\n",
       "      <td>NaN</td>\n",
       "      <td>207.0</td>\n",
       "      <td>NaN</td>\n",
       "      <td>153.0</td>\n",
       "      <td>154.0</td>\n",
       "    </tr>\n",
       "    <tr>\n",
       "      <th>4</th>\n",
       "      <td>5</td>\n",
       "      <td>NaN</td>\n",
       "      <td>NaN</td>\n",
       "      <td>NaN</td>\n",
       "      <td>78.0</td>\n",
       "      <td>NaN</td>\n",
       "      <td>NaN</td>\n",
       "      <td>NaN</td>\n",
       "      <td>NaN</td>\n",
       "      <td>NaN</td>\n",
       "      <td>NaN</td>\n",
       "      <td>NaN</td>\n",
       "      <td>203.0</td>\n",
       "      <td>NaN</td>\n",
       "      <td>151.0</td>\n",
       "      <td>152.0</td>\n",
       "    </tr>\n",
       "  </tbody>\n",
       "</table>\n",
       "</div>"
      ],
      "text/plain": [
       "   key  Bulk 1  Bulk 2  Bulk 3  Bulk 4  Bulk 5  Bulk 6  Bulk 7  Bulk 8  \\\n",
       "0    1     NaN     NaN     NaN    43.0     NaN     NaN     NaN     NaN   \n",
       "1    2     NaN     NaN     NaN    73.0     NaN     NaN     NaN     NaN   \n",
       "2    3     NaN     NaN     NaN    34.0     NaN     NaN     NaN     NaN   \n",
       "3    4     NaN     NaN     NaN    81.0     NaN     NaN     NaN     NaN   \n",
       "4    5     NaN     NaN     NaN    78.0     NaN     NaN     NaN     NaN   \n",
       "\n",
       "   Bulk 9  Bulk 10  Bulk 11  Bulk 12  Bulk 13  Bulk 14  Bulk 15  \n",
       "0     NaN      NaN      NaN    206.0      NaN    150.0    154.0  \n",
       "1     NaN      NaN      NaN    206.0      NaN    149.0    154.0  \n",
       "2     NaN      NaN      NaN    205.0      NaN    152.0    153.0  \n",
       "3     NaN      NaN      NaN    207.0      NaN    153.0    154.0  \n",
       "4     NaN      NaN      NaN    203.0      NaN    151.0    152.0  "
      ]
     },
     "metadata": {},
     "output_type": "display_data"
    },
    {
     "name": "stdout",
     "output_type": "stream",
     "text": [
      "<class 'pandas.core.frame.DataFrame'>\n",
      "RangeIndex: 3129 entries, 0 to 3128\n",
      "Data columns (total 16 columns):\n",
      " #   Column   Non-Null Count  Dtype  \n",
      "---  ------   --------------  -----  \n",
      " 0   key      3129 non-null   int64  \n",
      " 1   Bulk 1   252 non-null    float64\n",
      " 2   Bulk 2   22 non-null     float64\n",
      " 3   Bulk 3   1298 non-null   float64\n",
      " 4   Bulk 4   1014 non-null   float64\n",
      " 5   Bulk 5   77 non-null     float64\n",
      " 6   Bulk 6   576 non-null    float64\n",
      " 7   Bulk 7   25 non-null     float64\n",
      " 8   Bulk 8   1 non-null      float64\n",
      " 9   Bulk 9   19 non-null     float64\n",
      " 10  Bulk 10  176 non-null    float64\n",
      " 11  Bulk 11  177 non-null    float64\n",
      " 12  Bulk 12  2450 non-null   float64\n",
      " 13  Bulk 13  18 non-null     float64\n",
      " 14  Bulk 14  2806 non-null   float64\n",
      " 15  Bulk 15  2248 non-null   float64\n",
      "dtypes: float64(15), int64(1)\n",
      "memory usage: 391.2 KB\n"
     ]
    },
    {
     "data": {
      "text/plain": [
       "None"
      ]
     },
     "metadata": {},
     "output_type": "display_data"
    },
    {
     "data": {
      "text/plain": [
       "key           0\n",
       "Bulk 1     2877\n",
       "Bulk 2     3107\n",
       "Bulk 3     1831\n",
       "Bulk 4     2115\n",
       "Bulk 5     3052\n",
       "Bulk 6     2553\n",
       "Bulk 7     3104\n",
       "Bulk 8     3128\n",
       "Bulk 9     3110\n",
       "Bulk 10    2953\n",
       "Bulk 11    2952\n",
       "Bulk 12     679\n",
       "Bulk 13    3111\n",
       "Bulk 14     323\n",
       "Bulk 15     881\n",
       "dtype: int64"
      ]
     },
     "metadata": {},
     "output_type": "display_data"
    },
    {
     "data": {
      "text/plain": [
       "'Кол-во партий:'"
      ]
     },
     "metadata": {},
     "output_type": "display_data"
    },
    {
     "data": {
      "text/plain": [
       "3129"
      ]
     },
     "metadata": {},
     "output_type": "display_data"
    },
    {
     "data": {
      "text/html": [
       "<div>\n",
       "<style scoped>\n",
       "    .dataframe tbody tr th:only-of-type {\n",
       "        vertical-align: middle;\n",
       "    }\n",
       "\n",
       "    .dataframe tbody tr th {\n",
       "        vertical-align: top;\n",
       "    }\n",
       "\n",
       "    .dataframe thead th {\n",
       "        text-align: right;\n",
       "    }\n",
       "</style>\n",
       "<table border=\"1\" class=\"dataframe\">\n",
       "  <thead>\n",
       "    <tr style=\"text-align: right;\">\n",
       "      <th></th>\n",
       "      <th>key</th>\n",
       "      <th>Bulk 1</th>\n",
       "      <th>Bulk 2</th>\n",
       "      <th>Bulk 3</th>\n",
       "      <th>Bulk 4</th>\n",
       "      <th>Bulk 5</th>\n",
       "      <th>Bulk 6</th>\n",
       "      <th>Bulk 7</th>\n",
       "      <th>Bulk 8</th>\n",
       "      <th>Bulk 9</th>\n",
       "      <th>Bulk 10</th>\n",
       "      <th>Bulk 11</th>\n",
       "      <th>Bulk 12</th>\n",
       "      <th>Bulk 13</th>\n",
       "      <th>Bulk 14</th>\n",
       "      <th>Bulk 15</th>\n",
       "    </tr>\n",
       "  </thead>\n",
       "  <tbody>\n",
       "    <tr>\n",
       "      <th>count</th>\n",
       "      <td>3129.000000</td>\n",
       "      <td>252.000000</td>\n",
       "      <td>22.000000</td>\n",
       "      <td>1298.000000</td>\n",
       "      <td>1014.000000</td>\n",
       "      <td>77.000000</td>\n",
       "      <td>576.000000</td>\n",
       "      <td>25.000000</td>\n",
       "      <td>1.0</td>\n",
       "      <td>19.000000</td>\n",
       "      <td>176.000000</td>\n",
       "      <td>177.000000</td>\n",
       "      <td>2450.000000</td>\n",
       "      <td>18.000000</td>\n",
       "      <td>2806.000000</td>\n",
       "      <td>2248.000000</td>\n",
       "    </tr>\n",
       "    <tr>\n",
       "      <th>mean</th>\n",
       "      <td>1624.383509</td>\n",
       "      <td>39.242063</td>\n",
       "      <td>253.045455</td>\n",
       "      <td>113.879045</td>\n",
       "      <td>104.394477</td>\n",
       "      <td>107.025974</td>\n",
       "      <td>118.925347</td>\n",
       "      <td>305.600000</td>\n",
       "      <td>49.0</td>\n",
       "      <td>76.315789</td>\n",
       "      <td>83.284091</td>\n",
       "      <td>76.819209</td>\n",
       "      <td>260.471020</td>\n",
       "      <td>181.111111</td>\n",
       "      <td>170.284747</td>\n",
       "      <td>160.513345</td>\n",
       "    </tr>\n",
       "    <tr>\n",
       "      <th>std</th>\n",
       "      <td>933.337642</td>\n",
       "      <td>18.277654</td>\n",
       "      <td>21.180578</td>\n",
       "      <td>75.483494</td>\n",
       "      <td>48.184126</td>\n",
       "      <td>81.790646</td>\n",
       "      <td>72.057776</td>\n",
       "      <td>191.022904</td>\n",
       "      <td>NaN</td>\n",
       "      <td>21.720581</td>\n",
       "      <td>26.060347</td>\n",
       "      <td>59.655365</td>\n",
       "      <td>120.649269</td>\n",
       "      <td>46.088009</td>\n",
       "      <td>65.868652</td>\n",
       "      <td>51.765319</td>\n",
       "    </tr>\n",
       "    <tr>\n",
       "      <th>min</th>\n",
       "      <td>1.000000</td>\n",
       "      <td>10.000000</td>\n",
       "      <td>228.000000</td>\n",
       "      <td>6.000000</td>\n",
       "      <td>12.000000</td>\n",
       "      <td>11.000000</td>\n",
       "      <td>17.000000</td>\n",
       "      <td>47.000000</td>\n",
       "      <td>49.0</td>\n",
       "      <td>63.000000</td>\n",
       "      <td>24.000000</td>\n",
       "      <td>8.000000</td>\n",
       "      <td>53.000000</td>\n",
       "      <td>151.000000</td>\n",
       "      <td>16.000000</td>\n",
       "      <td>1.000000</td>\n",
       "    </tr>\n",
       "    <tr>\n",
       "      <th>25%</th>\n",
       "      <td>816.000000</td>\n",
       "      <td>27.000000</td>\n",
       "      <td>242.000000</td>\n",
       "      <td>58.000000</td>\n",
       "      <td>72.000000</td>\n",
       "      <td>70.000000</td>\n",
       "      <td>69.750000</td>\n",
       "      <td>155.000000</td>\n",
       "      <td>49.0</td>\n",
       "      <td>66.000000</td>\n",
       "      <td>64.000000</td>\n",
       "      <td>25.000000</td>\n",
       "      <td>204.000000</td>\n",
       "      <td>153.250000</td>\n",
       "      <td>119.000000</td>\n",
       "      <td>105.000000</td>\n",
       "    </tr>\n",
       "    <tr>\n",
       "      <th>50%</th>\n",
       "      <td>1622.000000</td>\n",
       "      <td>31.000000</td>\n",
       "      <td>251.500000</td>\n",
       "      <td>97.500000</td>\n",
       "      <td>102.000000</td>\n",
       "      <td>86.000000</td>\n",
       "      <td>100.000000</td>\n",
       "      <td>298.000000</td>\n",
       "      <td>49.0</td>\n",
       "      <td>68.000000</td>\n",
       "      <td>86.500000</td>\n",
       "      <td>64.000000</td>\n",
       "      <td>208.000000</td>\n",
       "      <td>155.500000</td>\n",
       "      <td>151.000000</td>\n",
       "      <td>160.000000</td>\n",
       "    </tr>\n",
       "    <tr>\n",
       "      <th>75%</th>\n",
       "      <td>2431.000000</td>\n",
       "      <td>46.000000</td>\n",
       "      <td>257.750000</td>\n",
       "      <td>152.000000</td>\n",
       "      <td>133.000000</td>\n",
       "      <td>132.000000</td>\n",
       "      <td>157.000000</td>\n",
       "      <td>406.000000</td>\n",
       "      <td>49.0</td>\n",
       "      <td>70.500000</td>\n",
       "      <td>102.000000</td>\n",
       "      <td>106.000000</td>\n",
       "      <td>316.000000</td>\n",
       "      <td>203.500000</td>\n",
       "      <td>205.750000</td>\n",
       "      <td>205.000000</td>\n",
       "    </tr>\n",
       "    <tr>\n",
       "      <th>max</th>\n",
       "      <td>3241.000000</td>\n",
       "      <td>185.000000</td>\n",
       "      <td>325.000000</td>\n",
       "      <td>454.000000</td>\n",
       "      <td>281.000000</td>\n",
       "      <td>603.000000</td>\n",
       "      <td>503.000000</td>\n",
       "      <td>772.000000</td>\n",
       "      <td>49.0</td>\n",
       "      <td>147.000000</td>\n",
       "      <td>159.000000</td>\n",
       "      <td>313.000000</td>\n",
       "      <td>1849.000000</td>\n",
       "      <td>305.000000</td>\n",
       "      <td>636.000000</td>\n",
       "      <td>405.000000</td>\n",
       "    </tr>\n",
       "  </tbody>\n",
       "</table>\n",
       "</div>"
      ],
      "text/plain": [
       "               key      Bulk 1      Bulk 2       Bulk 3       Bulk 4  \\\n",
       "count  3129.000000  252.000000   22.000000  1298.000000  1014.000000   \n",
       "mean   1624.383509   39.242063  253.045455   113.879045   104.394477   \n",
       "std     933.337642   18.277654   21.180578    75.483494    48.184126   \n",
       "min       1.000000   10.000000  228.000000     6.000000    12.000000   \n",
       "25%     816.000000   27.000000  242.000000    58.000000    72.000000   \n",
       "50%    1622.000000   31.000000  251.500000    97.500000   102.000000   \n",
       "75%    2431.000000   46.000000  257.750000   152.000000   133.000000   \n",
       "max    3241.000000  185.000000  325.000000   454.000000   281.000000   \n",
       "\n",
       "           Bulk 5      Bulk 6      Bulk 7  Bulk 8      Bulk 9     Bulk 10  \\\n",
       "count   77.000000  576.000000   25.000000     1.0   19.000000  176.000000   \n",
       "mean   107.025974  118.925347  305.600000    49.0   76.315789   83.284091   \n",
       "std     81.790646   72.057776  191.022904     NaN   21.720581   26.060347   \n",
       "min     11.000000   17.000000   47.000000    49.0   63.000000   24.000000   \n",
       "25%     70.000000   69.750000  155.000000    49.0   66.000000   64.000000   \n",
       "50%     86.000000  100.000000  298.000000    49.0   68.000000   86.500000   \n",
       "75%    132.000000  157.000000  406.000000    49.0   70.500000  102.000000   \n",
       "max    603.000000  503.000000  772.000000    49.0  147.000000  159.000000   \n",
       "\n",
       "          Bulk 11      Bulk 12     Bulk 13      Bulk 14      Bulk 15  \n",
       "count  177.000000  2450.000000   18.000000  2806.000000  2248.000000  \n",
       "mean    76.819209   260.471020  181.111111   170.284747   160.513345  \n",
       "std     59.655365   120.649269   46.088009    65.868652    51.765319  \n",
       "min      8.000000    53.000000  151.000000    16.000000     1.000000  \n",
       "25%     25.000000   204.000000  153.250000   119.000000   105.000000  \n",
       "50%     64.000000   208.000000  155.500000   151.000000   160.000000  \n",
       "75%    106.000000   316.000000  203.500000   205.750000   205.000000  \n",
       "max    313.000000  1849.000000  305.000000   636.000000   405.000000  "
      ]
     },
     "metadata": {},
     "output_type": "display_data"
    }
   ],
   "source": [
    "get_data_info(data_bulk)"
   ]
  },
  {
   "cell_type": "markdown",
   "id": "1aaa8722",
   "metadata": {},
   "source": [
    "В данных много пропусков. Пропуск означает то, что материал данного наименования не добавлялся в  партию . Значит правомерно заполнить их нулями.\n"
   ]
  },
  {
   "cell_type": "code",
   "execution_count": 17,
   "id": "e40c18f8",
   "metadata": {},
   "outputs": [],
   "source": [
    "data_bulk = data_bulk.fillna(0)"
   ]
  },
  {
   "cell_type": "markdown",
   "id": "136df39c",
   "metadata": {},
   "source": [
    "Приведем названия столбцов к стандартному виду"
   ]
  },
  {
   "cell_type": "code",
   "execution_count": 18,
   "id": "ea3daff1",
   "metadata": {},
   "outputs": [],
   "source": [
    "data_bulk.columns = data_bulk.columns.str.replace('Bulk ', 'bulk_', regex=False)"
   ]
  },
  {
   "cell_type": "markdown",
   "id": "fd545c49",
   "metadata": {},
   "source": [
    "Так же в данных наблюдается малая заполненность по признакам. Можно предположить, что признаки с заполненностью менее 80% могут привести к переобучению модели и сложностям в подборе гиперпараметров.\n",
    "Таких признаков в этом датафреме достаточно много. Для построения модели возьмем признаки с кол-ом пропусков менее 1800, это:\n",
    " bulk_3, bulk_4, bulk_12, bulk_14, bulk_15."
   ]
  },
  {
   "cell_type": "code",
   "execution_count": 19,
   "id": "f4c3e01b",
   "metadata": {},
   "outputs": [],
   "source": [
    "data_bulk_final = data_bulk[['key','bulk_3', 'bulk_4', 'bulk_12', 'bulk_14', 'bulk_15']]"
   ]
  },
  {
   "cell_type": "code",
   "execution_count": 20,
   "id": "743c9d6d",
   "metadata": {},
   "outputs": [
    {
     "data": {
      "text/html": [
       "<div>\n",
       "<style scoped>\n",
       "    .dataframe tbody tr th:only-of-type {\n",
       "        vertical-align: middle;\n",
       "    }\n",
       "\n",
       "    .dataframe tbody tr th {\n",
       "        vertical-align: top;\n",
       "    }\n",
       "\n",
       "    .dataframe thead th {\n",
       "        text-align: right;\n",
       "    }\n",
       "</style>\n",
       "<table border=\"1\" class=\"dataframe\">\n",
       "  <thead>\n",
       "    <tr style=\"text-align: right;\">\n",
       "      <th></th>\n",
       "      <th>key</th>\n",
       "      <th>bulk_3</th>\n",
       "      <th>bulk_4</th>\n",
       "      <th>bulk_12</th>\n",
       "      <th>bulk_14</th>\n",
       "      <th>bulk_15</th>\n",
       "    </tr>\n",
       "  </thead>\n",
       "  <tbody>\n",
       "    <tr>\n",
       "      <th>0</th>\n",
       "      <td>1</td>\n",
       "      <td>0.0</td>\n",
       "      <td>43.0</td>\n",
       "      <td>206.0</td>\n",
       "      <td>150.0</td>\n",
       "      <td>154.0</td>\n",
       "    </tr>\n",
       "    <tr>\n",
       "      <th>1</th>\n",
       "      <td>2</td>\n",
       "      <td>0.0</td>\n",
       "      <td>73.0</td>\n",
       "      <td>206.0</td>\n",
       "      <td>149.0</td>\n",
       "      <td>154.0</td>\n",
       "    </tr>\n",
       "    <tr>\n",
       "      <th>2</th>\n",
       "      <td>3</td>\n",
       "      <td>0.0</td>\n",
       "      <td>34.0</td>\n",
       "      <td>205.0</td>\n",
       "      <td>152.0</td>\n",
       "      <td>153.0</td>\n",
       "    </tr>\n",
       "    <tr>\n",
       "      <th>3</th>\n",
       "      <td>4</td>\n",
       "      <td>0.0</td>\n",
       "      <td>81.0</td>\n",
       "      <td>207.0</td>\n",
       "      <td>153.0</td>\n",
       "      <td>154.0</td>\n",
       "    </tr>\n",
       "    <tr>\n",
       "      <th>4</th>\n",
       "      <td>5</td>\n",
       "      <td>0.0</td>\n",
       "      <td>78.0</td>\n",
       "      <td>203.0</td>\n",
       "      <td>151.0</td>\n",
       "      <td>152.0</td>\n",
       "    </tr>\n",
       "  </tbody>\n",
       "</table>\n",
       "</div>"
      ],
      "text/plain": [
       "   key  bulk_3  bulk_4  bulk_12  bulk_14  bulk_15\n",
       "0    1     0.0    43.0    206.0    150.0    154.0\n",
       "1    2     0.0    73.0    206.0    149.0    154.0\n",
       "2    3     0.0    34.0    205.0    152.0    153.0\n",
       "3    4     0.0    81.0    207.0    153.0    154.0\n",
       "4    5     0.0    78.0    203.0    151.0    152.0"
      ]
     },
     "execution_count": 20,
     "metadata": {},
     "output_type": "execute_result"
    }
   ],
   "source": [
    "data_bulk_final.head()"
   ]
  },
  {
   "cell_type": "markdown",
   "id": "ca3c1a63",
   "metadata": {},
   "source": [
    "### data_bulk_time"
   ]
  },
  {
   "cell_type": "code",
   "execution_count": 21,
   "id": "9ae43444",
   "metadata": {},
   "outputs": [
    {
     "data": {
      "text/html": [
       "<div>\n",
       "<style scoped>\n",
       "    .dataframe tbody tr th:only-of-type {\n",
       "        vertical-align: middle;\n",
       "    }\n",
       "\n",
       "    .dataframe tbody tr th {\n",
       "        vertical-align: top;\n",
       "    }\n",
       "\n",
       "    .dataframe thead th {\n",
       "        text-align: right;\n",
       "    }\n",
       "</style>\n",
       "<table border=\"1\" class=\"dataframe\">\n",
       "  <thead>\n",
       "    <tr style=\"text-align: right;\">\n",
       "      <th></th>\n",
       "      <th>key</th>\n",
       "      <th>Bulk 1</th>\n",
       "      <th>Bulk 2</th>\n",
       "      <th>Bulk 3</th>\n",
       "      <th>Bulk 4</th>\n",
       "      <th>Bulk 5</th>\n",
       "      <th>Bulk 6</th>\n",
       "      <th>Bulk 7</th>\n",
       "      <th>Bulk 8</th>\n",
       "      <th>Bulk 9</th>\n",
       "      <th>Bulk 10</th>\n",
       "      <th>Bulk 11</th>\n",
       "      <th>Bulk 12</th>\n",
       "      <th>Bulk 13</th>\n",
       "      <th>Bulk 14</th>\n",
       "      <th>Bulk 15</th>\n",
       "    </tr>\n",
       "  </thead>\n",
       "  <tbody>\n",
       "    <tr>\n",
       "      <th>0</th>\n",
       "      <td>1</td>\n",
       "      <td>NaN</td>\n",
       "      <td>NaN</td>\n",
       "      <td>NaN</td>\n",
       "      <td>2019-05-03 11:28:48</td>\n",
       "      <td>NaN</td>\n",
       "      <td>NaN</td>\n",
       "      <td>NaN</td>\n",
       "      <td>NaN</td>\n",
       "      <td>NaN</td>\n",
       "      <td>NaN</td>\n",
       "      <td>NaN</td>\n",
       "      <td>2019-05-03 11:24:31</td>\n",
       "      <td>NaN</td>\n",
       "      <td>2019-05-03 11:14:50</td>\n",
       "      <td>2019-05-03 11:10:43</td>\n",
       "    </tr>\n",
       "    <tr>\n",
       "      <th>1</th>\n",
       "      <td>2</td>\n",
       "      <td>NaN</td>\n",
       "      <td>NaN</td>\n",
       "      <td>NaN</td>\n",
       "      <td>2019-05-03 11:36:50</td>\n",
       "      <td>NaN</td>\n",
       "      <td>NaN</td>\n",
       "      <td>NaN</td>\n",
       "      <td>NaN</td>\n",
       "      <td>NaN</td>\n",
       "      <td>NaN</td>\n",
       "      <td>NaN</td>\n",
       "      <td>2019-05-03 11:53:30</td>\n",
       "      <td>NaN</td>\n",
       "      <td>2019-05-03 11:48:37</td>\n",
       "      <td>2019-05-03 11:44:39</td>\n",
       "    </tr>\n",
       "    <tr>\n",
       "      <th>2</th>\n",
       "      <td>3</td>\n",
       "      <td>NaN</td>\n",
       "      <td>NaN</td>\n",
       "      <td>NaN</td>\n",
       "      <td>2019-05-03 12:32:39</td>\n",
       "      <td>NaN</td>\n",
       "      <td>NaN</td>\n",
       "      <td>NaN</td>\n",
       "      <td>NaN</td>\n",
       "      <td>NaN</td>\n",
       "      <td>NaN</td>\n",
       "      <td>NaN</td>\n",
       "      <td>2019-05-03 12:27:13</td>\n",
       "      <td>NaN</td>\n",
       "      <td>2019-05-03 12:21:01</td>\n",
       "      <td>2019-05-03 12:16:16</td>\n",
       "    </tr>\n",
       "    <tr>\n",
       "      <th>3</th>\n",
       "      <td>4</td>\n",
       "      <td>NaN</td>\n",
       "      <td>NaN</td>\n",
       "      <td>NaN</td>\n",
       "      <td>2019-05-03 12:43:22</td>\n",
       "      <td>NaN</td>\n",
       "      <td>NaN</td>\n",
       "      <td>NaN</td>\n",
       "      <td>NaN</td>\n",
       "      <td>NaN</td>\n",
       "      <td>NaN</td>\n",
       "      <td>NaN</td>\n",
       "      <td>2019-05-03 12:58:00</td>\n",
       "      <td>NaN</td>\n",
       "      <td>2019-05-03 12:51:11</td>\n",
       "      <td>2019-05-03 12:46:36</td>\n",
       "    </tr>\n",
       "    <tr>\n",
       "      <th>4</th>\n",
       "      <td>5</td>\n",
       "      <td>NaN</td>\n",
       "      <td>NaN</td>\n",
       "      <td>NaN</td>\n",
       "      <td>2019-05-03 13:30:47</td>\n",
       "      <td>NaN</td>\n",
       "      <td>NaN</td>\n",
       "      <td>NaN</td>\n",
       "      <td>NaN</td>\n",
       "      <td>NaN</td>\n",
       "      <td>NaN</td>\n",
       "      <td>NaN</td>\n",
       "      <td>2019-05-03 13:30:47</td>\n",
       "      <td>NaN</td>\n",
       "      <td>2019-05-03 13:34:12</td>\n",
       "      <td>2019-05-03 13:30:47</td>\n",
       "    </tr>\n",
       "  </tbody>\n",
       "</table>\n",
       "</div>"
      ],
      "text/plain": [
       "   key Bulk 1 Bulk 2 Bulk 3               Bulk 4 Bulk 5 Bulk 6 Bulk 7 Bulk 8  \\\n",
       "0    1    NaN    NaN    NaN  2019-05-03 11:28:48    NaN    NaN    NaN    NaN   \n",
       "1    2    NaN    NaN    NaN  2019-05-03 11:36:50    NaN    NaN    NaN    NaN   \n",
       "2    3    NaN    NaN    NaN  2019-05-03 12:32:39    NaN    NaN    NaN    NaN   \n",
       "3    4    NaN    NaN    NaN  2019-05-03 12:43:22    NaN    NaN    NaN    NaN   \n",
       "4    5    NaN    NaN    NaN  2019-05-03 13:30:47    NaN    NaN    NaN    NaN   \n",
       "\n",
       "  Bulk 9 Bulk 10 Bulk 11              Bulk 12 Bulk 13              Bulk 14  \\\n",
       "0    NaN     NaN     NaN  2019-05-03 11:24:31     NaN  2019-05-03 11:14:50   \n",
       "1    NaN     NaN     NaN  2019-05-03 11:53:30     NaN  2019-05-03 11:48:37   \n",
       "2    NaN     NaN     NaN  2019-05-03 12:27:13     NaN  2019-05-03 12:21:01   \n",
       "3    NaN     NaN     NaN  2019-05-03 12:58:00     NaN  2019-05-03 12:51:11   \n",
       "4    NaN     NaN     NaN  2019-05-03 13:30:47     NaN  2019-05-03 13:34:12   \n",
       "\n",
       "               Bulk 15  \n",
       "0  2019-05-03 11:10:43  \n",
       "1  2019-05-03 11:44:39  \n",
       "2  2019-05-03 12:16:16  \n",
       "3  2019-05-03 12:46:36  \n",
       "4  2019-05-03 13:30:47  "
      ]
     },
     "metadata": {},
     "output_type": "display_data"
    },
    {
     "name": "stdout",
     "output_type": "stream",
     "text": [
      "<class 'pandas.core.frame.DataFrame'>\n",
      "RangeIndex: 3129 entries, 0 to 3128\n",
      "Data columns (total 16 columns):\n",
      " #   Column   Non-Null Count  Dtype \n",
      "---  ------   --------------  ----- \n",
      " 0   key      3129 non-null   int64 \n",
      " 1   Bulk 1   252 non-null    object\n",
      " 2   Bulk 2   22 non-null     object\n",
      " 3   Bulk 3   1298 non-null   object\n",
      " 4   Bulk 4   1014 non-null   object\n",
      " 5   Bulk 5   77 non-null     object\n",
      " 6   Bulk 6   576 non-null    object\n",
      " 7   Bulk 7   25 non-null     object\n",
      " 8   Bulk 8   1 non-null      object\n",
      " 9   Bulk 9   19 non-null     object\n",
      " 10  Bulk 10  176 non-null    object\n",
      " 11  Bulk 11  177 non-null    object\n",
      " 12  Bulk 12  2450 non-null   object\n",
      " 13  Bulk 13  18 non-null     object\n",
      " 14  Bulk 14  2806 non-null   object\n",
      " 15  Bulk 15  2248 non-null   object\n",
      "dtypes: int64(1), object(15)\n",
      "memory usage: 391.2+ KB\n"
     ]
    },
    {
     "data": {
      "text/plain": [
       "None"
      ]
     },
     "metadata": {},
     "output_type": "display_data"
    },
    {
     "data": {
      "text/plain": [
       "key           0\n",
       "Bulk 1     2877\n",
       "Bulk 2     3107\n",
       "Bulk 3     1831\n",
       "Bulk 4     2115\n",
       "Bulk 5     3052\n",
       "Bulk 6     2553\n",
       "Bulk 7     3104\n",
       "Bulk 8     3128\n",
       "Bulk 9     3110\n",
       "Bulk 10    2953\n",
       "Bulk 11    2952\n",
       "Bulk 12     679\n",
       "Bulk 13    3111\n",
       "Bulk 14     323\n",
       "Bulk 15     881\n",
       "dtype: int64"
      ]
     },
     "metadata": {},
     "output_type": "display_data"
    },
    {
     "data": {
      "text/plain": [
       "'Кол-во партий:'"
      ]
     },
     "metadata": {},
     "output_type": "display_data"
    },
    {
     "data": {
      "text/plain": [
       "3129"
      ]
     },
     "metadata": {},
     "output_type": "display_data"
    },
    {
     "data": {
      "text/html": [
       "<div>\n",
       "<style scoped>\n",
       "    .dataframe tbody tr th:only-of-type {\n",
       "        vertical-align: middle;\n",
       "    }\n",
       "\n",
       "    .dataframe tbody tr th {\n",
       "        vertical-align: top;\n",
       "    }\n",
       "\n",
       "    .dataframe thead th {\n",
       "        text-align: right;\n",
       "    }\n",
       "</style>\n",
       "<table border=\"1\" class=\"dataframe\">\n",
       "  <thead>\n",
       "    <tr style=\"text-align: right;\">\n",
       "      <th></th>\n",
       "      <th>key</th>\n",
       "      <th>Bulk 1</th>\n",
       "      <th>Bulk 2</th>\n",
       "      <th>Bulk 3</th>\n",
       "      <th>Bulk 4</th>\n",
       "      <th>Bulk 5</th>\n",
       "      <th>Bulk 6</th>\n",
       "      <th>Bulk 7</th>\n",
       "      <th>Bulk 8</th>\n",
       "      <th>Bulk 9</th>\n",
       "      <th>Bulk 10</th>\n",
       "      <th>Bulk 11</th>\n",
       "      <th>Bulk 12</th>\n",
       "      <th>Bulk 13</th>\n",
       "      <th>Bulk 14</th>\n",
       "      <th>Bulk 15</th>\n",
       "    </tr>\n",
       "  </thead>\n",
       "  <tbody>\n",
       "    <tr>\n",
       "      <th>count</th>\n",
       "      <td>3129.000000</td>\n",
       "      <td>252</td>\n",
       "      <td>22</td>\n",
       "      <td>1298</td>\n",
       "      <td>1014</td>\n",
       "      <td>77</td>\n",
       "      <td>576</td>\n",
       "      <td>25</td>\n",
       "      <td>1</td>\n",
       "      <td>19</td>\n",
       "      <td>176</td>\n",
       "      <td>177</td>\n",
       "      <td>2450</td>\n",
       "      <td>18</td>\n",
       "      <td>2806</td>\n",
       "      <td>2248</td>\n",
       "    </tr>\n",
       "    <tr>\n",
       "      <th>unique</th>\n",
       "      <td>NaN</td>\n",
       "      <td>252</td>\n",
       "      <td>22</td>\n",
       "      <td>1298</td>\n",
       "      <td>1014</td>\n",
       "      <td>77</td>\n",
       "      <td>576</td>\n",
       "      <td>25</td>\n",
       "      <td>1</td>\n",
       "      <td>19</td>\n",
       "      <td>176</td>\n",
       "      <td>177</td>\n",
       "      <td>2450</td>\n",
       "      <td>18</td>\n",
       "      <td>2806</td>\n",
       "      <td>2248</td>\n",
       "    </tr>\n",
       "    <tr>\n",
       "      <th>top</th>\n",
       "      <td>NaN</td>\n",
       "      <td>2019-05-16 12:14:14</td>\n",
       "      <td>2019-05-07 19:13:07</td>\n",
       "      <td>2019-06-27 12:34:47</td>\n",
       "      <td>2019-07-06 16:18:32</td>\n",
       "      <td>2019-09-01 09:37:36</td>\n",
       "      <td>2019-08-06 07:07:25</td>\n",
       "      <td>2019-07-27 19:15:43</td>\n",
       "      <td>2019-07-08 17:14:53</td>\n",
       "      <td>2019-05-14 11:57:58</td>\n",
       "      <td>2019-07-31 11:10:59</td>\n",
       "      <td>2019-07-24 23:08:34</td>\n",
       "      <td>2019-06-19 06:22:29</td>\n",
       "      <td>2019-08-22 14:48:22</td>\n",
       "      <td>2019-07-06 16:18:32</td>\n",
       "      <td>2019-05-15 16:18:32</td>\n",
       "    </tr>\n",
       "    <tr>\n",
       "      <th>freq</th>\n",
       "      <td>NaN</td>\n",
       "      <td>1</td>\n",
       "      <td>1</td>\n",
       "      <td>1</td>\n",
       "      <td>1</td>\n",
       "      <td>1</td>\n",
       "      <td>1</td>\n",
       "      <td>1</td>\n",
       "      <td>1</td>\n",
       "      <td>1</td>\n",
       "      <td>1</td>\n",
       "      <td>1</td>\n",
       "      <td>1</td>\n",
       "      <td>1</td>\n",
       "      <td>1</td>\n",
       "      <td>1</td>\n",
       "    </tr>\n",
       "    <tr>\n",
       "      <th>mean</th>\n",
       "      <td>1624.383509</td>\n",
       "      <td>NaN</td>\n",
       "      <td>NaN</td>\n",
       "      <td>NaN</td>\n",
       "      <td>NaN</td>\n",
       "      <td>NaN</td>\n",
       "      <td>NaN</td>\n",
       "      <td>NaN</td>\n",
       "      <td>NaN</td>\n",
       "      <td>NaN</td>\n",
       "      <td>NaN</td>\n",
       "      <td>NaN</td>\n",
       "      <td>NaN</td>\n",
       "      <td>NaN</td>\n",
       "      <td>NaN</td>\n",
       "      <td>NaN</td>\n",
       "    </tr>\n",
       "    <tr>\n",
       "      <th>std</th>\n",
       "      <td>933.337642</td>\n",
       "      <td>NaN</td>\n",
       "      <td>NaN</td>\n",
       "      <td>NaN</td>\n",
       "      <td>NaN</td>\n",
       "      <td>NaN</td>\n",
       "      <td>NaN</td>\n",
       "      <td>NaN</td>\n",
       "      <td>NaN</td>\n",
       "      <td>NaN</td>\n",
       "      <td>NaN</td>\n",
       "      <td>NaN</td>\n",
       "      <td>NaN</td>\n",
       "      <td>NaN</td>\n",
       "      <td>NaN</td>\n",
       "      <td>NaN</td>\n",
       "    </tr>\n",
       "    <tr>\n",
       "      <th>min</th>\n",
       "      <td>1.000000</td>\n",
       "      <td>NaN</td>\n",
       "      <td>NaN</td>\n",
       "      <td>NaN</td>\n",
       "      <td>NaN</td>\n",
       "      <td>NaN</td>\n",
       "      <td>NaN</td>\n",
       "      <td>NaN</td>\n",
       "      <td>NaN</td>\n",
       "      <td>NaN</td>\n",
       "      <td>NaN</td>\n",
       "      <td>NaN</td>\n",
       "      <td>NaN</td>\n",
       "      <td>NaN</td>\n",
       "      <td>NaN</td>\n",
       "      <td>NaN</td>\n",
       "    </tr>\n",
       "    <tr>\n",
       "      <th>25%</th>\n",
       "      <td>816.000000</td>\n",
       "      <td>NaN</td>\n",
       "      <td>NaN</td>\n",
       "      <td>NaN</td>\n",
       "      <td>NaN</td>\n",
       "      <td>NaN</td>\n",
       "      <td>NaN</td>\n",
       "      <td>NaN</td>\n",
       "      <td>NaN</td>\n",
       "      <td>NaN</td>\n",
       "      <td>NaN</td>\n",
       "      <td>NaN</td>\n",
       "      <td>NaN</td>\n",
       "      <td>NaN</td>\n",
       "      <td>NaN</td>\n",
       "      <td>NaN</td>\n",
       "    </tr>\n",
       "    <tr>\n",
       "      <th>50%</th>\n",
       "      <td>1622.000000</td>\n",
       "      <td>NaN</td>\n",
       "      <td>NaN</td>\n",
       "      <td>NaN</td>\n",
       "      <td>NaN</td>\n",
       "      <td>NaN</td>\n",
       "      <td>NaN</td>\n",
       "      <td>NaN</td>\n",
       "      <td>NaN</td>\n",
       "      <td>NaN</td>\n",
       "      <td>NaN</td>\n",
       "      <td>NaN</td>\n",
       "      <td>NaN</td>\n",
       "      <td>NaN</td>\n",
       "      <td>NaN</td>\n",
       "      <td>NaN</td>\n",
       "    </tr>\n",
       "    <tr>\n",
       "      <th>75%</th>\n",
       "      <td>2431.000000</td>\n",
       "      <td>NaN</td>\n",
       "      <td>NaN</td>\n",
       "      <td>NaN</td>\n",
       "      <td>NaN</td>\n",
       "      <td>NaN</td>\n",
       "      <td>NaN</td>\n",
       "      <td>NaN</td>\n",
       "      <td>NaN</td>\n",
       "      <td>NaN</td>\n",
       "      <td>NaN</td>\n",
       "      <td>NaN</td>\n",
       "      <td>NaN</td>\n",
       "      <td>NaN</td>\n",
       "      <td>NaN</td>\n",
       "      <td>NaN</td>\n",
       "    </tr>\n",
       "    <tr>\n",
       "      <th>max</th>\n",
       "      <td>3241.000000</td>\n",
       "      <td>NaN</td>\n",
       "      <td>NaN</td>\n",
       "      <td>NaN</td>\n",
       "      <td>NaN</td>\n",
       "      <td>NaN</td>\n",
       "      <td>NaN</td>\n",
       "      <td>NaN</td>\n",
       "      <td>NaN</td>\n",
       "      <td>NaN</td>\n",
       "      <td>NaN</td>\n",
       "      <td>NaN</td>\n",
       "      <td>NaN</td>\n",
       "      <td>NaN</td>\n",
       "      <td>NaN</td>\n",
       "      <td>NaN</td>\n",
       "    </tr>\n",
       "  </tbody>\n",
       "</table>\n",
       "</div>"
      ],
      "text/plain": [
       "                key               Bulk 1               Bulk 2  \\\n",
       "count   3129.000000                  252                   22   \n",
       "unique          NaN                  252                   22   \n",
       "top             NaN  2019-05-16 12:14:14  2019-05-07 19:13:07   \n",
       "freq            NaN                    1                    1   \n",
       "mean    1624.383509                  NaN                  NaN   \n",
       "std      933.337642                  NaN                  NaN   \n",
       "min        1.000000                  NaN                  NaN   \n",
       "25%      816.000000                  NaN                  NaN   \n",
       "50%     1622.000000                  NaN                  NaN   \n",
       "75%     2431.000000                  NaN                  NaN   \n",
       "max     3241.000000                  NaN                  NaN   \n",
       "\n",
       "                     Bulk 3               Bulk 4               Bulk 5  \\\n",
       "count                  1298                 1014                   77   \n",
       "unique                 1298                 1014                   77   \n",
       "top     2019-06-27 12:34:47  2019-07-06 16:18:32  2019-09-01 09:37:36   \n",
       "freq                      1                    1                    1   \n",
       "mean                    NaN                  NaN                  NaN   \n",
       "std                     NaN                  NaN                  NaN   \n",
       "min                     NaN                  NaN                  NaN   \n",
       "25%                     NaN                  NaN                  NaN   \n",
       "50%                     NaN                  NaN                  NaN   \n",
       "75%                     NaN                  NaN                  NaN   \n",
       "max                     NaN                  NaN                  NaN   \n",
       "\n",
       "                     Bulk 6               Bulk 7               Bulk 8  \\\n",
       "count                   576                   25                    1   \n",
       "unique                  576                   25                    1   \n",
       "top     2019-08-06 07:07:25  2019-07-27 19:15:43  2019-07-08 17:14:53   \n",
       "freq                      1                    1                    1   \n",
       "mean                    NaN                  NaN                  NaN   \n",
       "std                     NaN                  NaN                  NaN   \n",
       "min                     NaN                  NaN                  NaN   \n",
       "25%                     NaN                  NaN                  NaN   \n",
       "50%                     NaN                  NaN                  NaN   \n",
       "75%                     NaN                  NaN                  NaN   \n",
       "max                     NaN                  NaN                  NaN   \n",
       "\n",
       "                     Bulk 9              Bulk 10              Bulk 11  \\\n",
       "count                    19                  176                  177   \n",
       "unique                   19                  176                  177   \n",
       "top     2019-05-14 11:57:58  2019-07-31 11:10:59  2019-07-24 23:08:34   \n",
       "freq                      1                    1                    1   \n",
       "mean                    NaN                  NaN                  NaN   \n",
       "std                     NaN                  NaN                  NaN   \n",
       "min                     NaN                  NaN                  NaN   \n",
       "25%                     NaN                  NaN                  NaN   \n",
       "50%                     NaN                  NaN                  NaN   \n",
       "75%                     NaN                  NaN                  NaN   \n",
       "max                     NaN                  NaN                  NaN   \n",
       "\n",
       "                    Bulk 12              Bulk 13              Bulk 14  \\\n",
       "count                  2450                   18                 2806   \n",
       "unique                 2450                   18                 2806   \n",
       "top     2019-06-19 06:22:29  2019-08-22 14:48:22  2019-07-06 16:18:32   \n",
       "freq                      1                    1                    1   \n",
       "mean                    NaN                  NaN                  NaN   \n",
       "std                     NaN                  NaN                  NaN   \n",
       "min                     NaN                  NaN                  NaN   \n",
       "25%                     NaN                  NaN                  NaN   \n",
       "50%                     NaN                  NaN                  NaN   \n",
       "75%                     NaN                  NaN                  NaN   \n",
       "max                     NaN                  NaN                  NaN   \n",
       "\n",
       "                    Bulk 15  \n",
       "count                  2248  \n",
       "unique                 2248  \n",
       "top     2019-05-15 16:18:32  \n",
       "freq                      1  \n",
       "mean                    NaN  \n",
       "std                     NaN  \n",
       "min                     NaN  \n",
       "25%                     NaN  \n",
       "50%                     NaN  \n",
       "75%                     NaN  \n",
       "max                     NaN  "
      ]
     },
     "metadata": {},
     "output_type": "display_data"
    }
   ],
   "source": [
    "get_data_info(data_bulk_time)"
   ]
  },
  {
   "cell_type": "markdown",
   "id": "7b28e31f",
   "metadata": {},
   "source": [
    "Информация в датасете это время подачи сплавов из бункера для сыпучих материалов. Из данных можно почерпнуть последовательность подачи материалов в сплав. Пока оставим эту информацию, учтем ее при корректировке качества модели."
   ]
  },
  {
   "cell_type": "markdown",
   "id": "45ede6f2",
   "metadata": {},
   "source": [
    "### data_gas"
   ]
  },
  {
   "cell_type": "code",
   "execution_count": 22,
   "id": "940c98d7",
   "metadata": {
    "scrolled": true
   },
   "outputs": [
    {
     "data": {
      "text/html": [
       "<div>\n",
       "<style scoped>\n",
       "    .dataframe tbody tr th:only-of-type {\n",
       "        vertical-align: middle;\n",
       "    }\n",
       "\n",
       "    .dataframe tbody tr th {\n",
       "        vertical-align: top;\n",
       "    }\n",
       "\n",
       "    .dataframe thead th {\n",
       "        text-align: right;\n",
       "    }\n",
       "</style>\n",
       "<table border=\"1\" class=\"dataframe\">\n",
       "  <thead>\n",
       "    <tr style=\"text-align: right;\">\n",
       "      <th></th>\n",
       "      <th>key</th>\n",
       "      <th>Газ 1</th>\n",
       "    </tr>\n",
       "  </thead>\n",
       "  <tbody>\n",
       "    <tr>\n",
       "      <th>0</th>\n",
       "      <td>1</td>\n",
       "      <td>29.749986</td>\n",
       "    </tr>\n",
       "    <tr>\n",
       "      <th>1</th>\n",
       "      <td>2</td>\n",
       "      <td>12.555561</td>\n",
       "    </tr>\n",
       "    <tr>\n",
       "      <th>2</th>\n",
       "      <td>3</td>\n",
       "      <td>28.554793</td>\n",
       "    </tr>\n",
       "    <tr>\n",
       "      <th>3</th>\n",
       "      <td>4</td>\n",
       "      <td>18.841219</td>\n",
       "    </tr>\n",
       "    <tr>\n",
       "      <th>4</th>\n",
       "      <td>5</td>\n",
       "      <td>5.413692</td>\n",
       "    </tr>\n",
       "  </tbody>\n",
       "</table>\n",
       "</div>"
      ],
      "text/plain": [
       "   key      Газ 1\n",
       "0    1  29.749986\n",
       "1    2  12.555561\n",
       "2    3  28.554793\n",
       "3    4  18.841219\n",
       "4    5   5.413692"
      ]
     },
     "metadata": {},
     "output_type": "display_data"
    },
    {
     "name": "stdout",
     "output_type": "stream",
     "text": [
      "<class 'pandas.core.frame.DataFrame'>\n",
      "RangeIndex: 3239 entries, 0 to 3238\n",
      "Data columns (total 2 columns):\n",
      " #   Column  Non-Null Count  Dtype  \n",
      "---  ------  --------------  -----  \n",
      " 0   key     3239 non-null   int64  \n",
      " 1   Газ 1   3239 non-null   float64\n",
      "dtypes: float64(1), int64(1)\n",
      "memory usage: 50.7 KB\n"
     ]
    },
    {
     "data": {
      "text/plain": [
       "None"
      ]
     },
     "metadata": {},
     "output_type": "display_data"
    },
    {
     "data": {
      "text/plain": [
       "key      0\n",
       "Газ 1    0\n",
       "dtype: int64"
      ]
     },
     "metadata": {},
     "output_type": "display_data"
    },
    {
     "data": {
      "text/plain": [
       "'Кол-во партий:'"
      ]
     },
     "metadata": {},
     "output_type": "display_data"
    },
    {
     "data": {
      "text/plain": [
       "3239"
      ]
     },
     "metadata": {},
     "output_type": "display_data"
    },
    {
     "data": {
      "text/html": [
       "<div>\n",
       "<style scoped>\n",
       "    .dataframe tbody tr th:only-of-type {\n",
       "        vertical-align: middle;\n",
       "    }\n",
       "\n",
       "    .dataframe tbody tr th {\n",
       "        vertical-align: top;\n",
       "    }\n",
       "\n",
       "    .dataframe thead th {\n",
       "        text-align: right;\n",
       "    }\n",
       "</style>\n",
       "<table border=\"1\" class=\"dataframe\">\n",
       "  <thead>\n",
       "    <tr style=\"text-align: right;\">\n",
       "      <th></th>\n",
       "      <th>key</th>\n",
       "      <th>Газ 1</th>\n",
       "    </tr>\n",
       "  </thead>\n",
       "  <tbody>\n",
       "    <tr>\n",
       "      <th>count</th>\n",
       "      <td>3239.000000</td>\n",
       "      <td>3239.000000</td>\n",
       "    </tr>\n",
       "    <tr>\n",
       "      <th>mean</th>\n",
       "      <td>1621.861377</td>\n",
       "      <td>11.002062</td>\n",
       "    </tr>\n",
       "    <tr>\n",
       "      <th>std</th>\n",
       "      <td>935.386334</td>\n",
       "      <td>6.220327</td>\n",
       "    </tr>\n",
       "    <tr>\n",
       "      <th>min</th>\n",
       "      <td>1.000000</td>\n",
       "      <td>0.008399</td>\n",
       "    </tr>\n",
       "    <tr>\n",
       "      <th>25%</th>\n",
       "      <td>812.500000</td>\n",
       "      <td>7.043089</td>\n",
       "    </tr>\n",
       "    <tr>\n",
       "      <th>50%</th>\n",
       "      <td>1622.000000</td>\n",
       "      <td>9.836267</td>\n",
       "    </tr>\n",
       "    <tr>\n",
       "      <th>75%</th>\n",
       "      <td>2431.500000</td>\n",
       "      <td>13.769915</td>\n",
       "    </tr>\n",
       "    <tr>\n",
       "      <th>max</th>\n",
       "      <td>3241.000000</td>\n",
       "      <td>77.995040</td>\n",
       "    </tr>\n",
       "  </tbody>\n",
       "</table>\n",
       "</div>"
      ],
      "text/plain": [
       "               key        Газ 1\n",
       "count  3239.000000  3239.000000\n",
       "mean   1621.861377    11.002062\n",
       "std     935.386334     6.220327\n",
       "min       1.000000     0.008399\n",
       "25%     812.500000     7.043089\n",
       "50%    1622.000000     9.836267\n",
       "75%    2431.500000    13.769915\n",
       "max    3241.000000    77.995040"
      ]
     },
     "metadata": {},
     "output_type": "display_data"
    }
   ],
   "source": [
    "get_data_info(data_gas)"
   ]
  },
  {
   "cell_type": "markdown",
   "id": "4a3360db",
   "metadata": {},
   "source": [
    "В датафрейме хранятся полные данные, без пропусков и явных аномалий."
   ]
  },
  {
   "cell_type": "code",
   "execution_count": 23,
   "id": "aa24d831",
   "metadata": {},
   "outputs": [],
   "source": [
    "data_gas_final = data_gas.rename(columns={'Газ 1': 'gas'})"
   ]
  },
  {
   "cell_type": "code",
   "execution_count": 24,
   "id": "f97475a5",
   "metadata": {},
   "outputs": [
    {
     "data": {
      "text/html": [
       "<div>\n",
       "<style scoped>\n",
       "    .dataframe tbody tr th:only-of-type {\n",
       "        vertical-align: middle;\n",
       "    }\n",
       "\n",
       "    .dataframe tbody tr th {\n",
       "        vertical-align: top;\n",
       "    }\n",
       "\n",
       "    .dataframe thead th {\n",
       "        text-align: right;\n",
       "    }\n",
       "</style>\n",
       "<table border=\"1\" class=\"dataframe\">\n",
       "  <thead>\n",
       "    <tr style=\"text-align: right;\">\n",
       "      <th></th>\n",
       "      <th>key</th>\n",
       "      <th>gas</th>\n",
       "    </tr>\n",
       "  </thead>\n",
       "  <tbody>\n",
       "    <tr>\n",
       "      <th>0</th>\n",
       "      <td>1</td>\n",
       "      <td>29.749986</td>\n",
       "    </tr>\n",
       "    <tr>\n",
       "      <th>1</th>\n",
       "      <td>2</td>\n",
       "      <td>12.555561</td>\n",
       "    </tr>\n",
       "    <tr>\n",
       "      <th>2</th>\n",
       "      <td>3</td>\n",
       "      <td>28.554793</td>\n",
       "    </tr>\n",
       "    <tr>\n",
       "      <th>3</th>\n",
       "      <td>4</td>\n",
       "      <td>18.841219</td>\n",
       "    </tr>\n",
       "    <tr>\n",
       "      <th>4</th>\n",
       "      <td>5</td>\n",
       "      <td>5.413692</td>\n",
       "    </tr>\n",
       "  </tbody>\n",
       "</table>\n",
       "</div>"
      ],
      "text/plain": [
       "   key        gas\n",
       "0    1  29.749986\n",
       "1    2  12.555561\n",
       "2    3  28.554793\n",
       "3    4  18.841219\n",
       "4    5   5.413692"
      ]
     },
     "execution_count": 24,
     "metadata": {},
     "output_type": "execute_result"
    }
   ],
   "source": [
    "data_gas_final.head()"
   ]
  },
  {
   "cell_type": "markdown",
   "id": "5b16263c",
   "metadata": {},
   "source": [
    "### data_temp"
   ]
  },
  {
   "cell_type": "code",
   "execution_count": 25,
   "id": "4ddc0491",
   "metadata": {
    "scrolled": false
   },
   "outputs": [
    {
     "data": {
      "text/html": [
       "<div>\n",
       "<style scoped>\n",
       "    .dataframe tbody tr th:only-of-type {\n",
       "        vertical-align: middle;\n",
       "    }\n",
       "\n",
       "    .dataframe tbody tr th {\n",
       "        vertical-align: top;\n",
       "    }\n",
       "\n",
       "    .dataframe thead th {\n",
       "        text-align: right;\n",
       "    }\n",
       "</style>\n",
       "<table border=\"1\" class=\"dataframe\">\n",
       "  <thead>\n",
       "    <tr style=\"text-align: right;\">\n",
       "      <th></th>\n",
       "      <th>key</th>\n",
       "      <th>Время замера</th>\n",
       "      <th>Температура</th>\n",
       "    </tr>\n",
       "  </thead>\n",
       "  <tbody>\n",
       "    <tr>\n",
       "      <th>0</th>\n",
       "      <td>1</td>\n",
       "      <td>2019-05-03 11:02:04</td>\n",
       "      <td>1571.0</td>\n",
       "    </tr>\n",
       "    <tr>\n",
       "      <th>1</th>\n",
       "      <td>1</td>\n",
       "      <td>2019-05-03 11:07:18</td>\n",
       "      <td>1604.0</td>\n",
       "    </tr>\n",
       "    <tr>\n",
       "      <th>2</th>\n",
       "      <td>1</td>\n",
       "      <td>2019-05-03 11:11:34</td>\n",
       "      <td>1618.0</td>\n",
       "    </tr>\n",
       "    <tr>\n",
       "      <th>3</th>\n",
       "      <td>1</td>\n",
       "      <td>2019-05-03 11:18:04</td>\n",
       "      <td>1601.0</td>\n",
       "    </tr>\n",
       "    <tr>\n",
       "      <th>4</th>\n",
       "      <td>1</td>\n",
       "      <td>2019-05-03 11:25:59</td>\n",
       "      <td>1606.0</td>\n",
       "    </tr>\n",
       "  </tbody>\n",
       "</table>\n",
       "</div>"
      ],
      "text/plain": [
       "   key         Время замера  Температура\n",
       "0    1  2019-05-03 11:02:04       1571.0\n",
       "1    1  2019-05-03 11:07:18       1604.0\n",
       "2    1  2019-05-03 11:11:34       1618.0\n",
       "3    1  2019-05-03 11:18:04       1601.0\n",
       "4    1  2019-05-03 11:25:59       1606.0"
      ]
     },
     "metadata": {},
     "output_type": "display_data"
    },
    {
     "name": "stdout",
     "output_type": "stream",
     "text": [
      "<class 'pandas.core.frame.DataFrame'>\n",
      "RangeIndex: 18092 entries, 0 to 18091\n",
      "Data columns (total 3 columns):\n",
      " #   Column        Non-Null Count  Dtype  \n",
      "---  ------        --------------  -----  \n",
      " 0   key           18092 non-null  int64  \n",
      " 1   Время замера  18092 non-null  object \n",
      " 2   Температура   14665 non-null  float64\n",
      "dtypes: float64(1), int64(1), object(1)\n",
      "memory usage: 424.2+ KB\n"
     ]
    },
    {
     "data": {
      "text/plain": [
       "None"
      ]
     },
     "metadata": {},
     "output_type": "display_data"
    },
    {
     "data": {
      "text/plain": [
       "key                0\n",
       "Время замера       0\n",
       "Температура     3427\n",
       "dtype: int64"
      ]
     },
     "metadata": {},
     "output_type": "display_data"
    },
    {
     "data": {
      "text/plain": [
       "'Кол-во партий:'"
      ]
     },
     "metadata": {},
     "output_type": "display_data"
    },
    {
     "data": {
      "text/plain": [
       "3216"
      ]
     },
     "metadata": {},
     "output_type": "display_data"
    },
    {
     "data": {
      "text/html": [
       "<div>\n",
       "<style scoped>\n",
       "    .dataframe tbody tr th:only-of-type {\n",
       "        vertical-align: middle;\n",
       "    }\n",
       "\n",
       "    .dataframe tbody tr th {\n",
       "        vertical-align: top;\n",
       "    }\n",
       "\n",
       "    .dataframe thead th {\n",
       "        text-align: right;\n",
       "    }\n",
       "</style>\n",
       "<table border=\"1\" class=\"dataframe\">\n",
       "  <thead>\n",
       "    <tr style=\"text-align: right;\">\n",
       "      <th></th>\n",
       "      <th>key</th>\n",
       "      <th>Время замера</th>\n",
       "      <th>Температура</th>\n",
       "    </tr>\n",
       "  </thead>\n",
       "  <tbody>\n",
       "    <tr>\n",
       "      <th>count</th>\n",
       "      <td>18092.000000</td>\n",
       "      <td>18092</td>\n",
       "      <td>14665.000000</td>\n",
       "    </tr>\n",
       "    <tr>\n",
       "      <th>unique</th>\n",
       "      <td>NaN</td>\n",
       "      <td>18092</td>\n",
       "      <td>NaN</td>\n",
       "    </tr>\n",
       "    <tr>\n",
       "      <th>top</th>\n",
       "      <td>NaN</td>\n",
       "      <td>2019-06-08 05:03:45</td>\n",
       "      <td>NaN</td>\n",
       "    </tr>\n",
       "    <tr>\n",
       "      <th>freq</th>\n",
       "      <td>NaN</td>\n",
       "      <td>1</td>\n",
       "      <td>NaN</td>\n",
       "    </tr>\n",
       "    <tr>\n",
       "      <th>mean</th>\n",
       "      <td>1616.460977</td>\n",
       "      <td>NaN</td>\n",
       "      <td>1590.722741</td>\n",
       "    </tr>\n",
       "    <tr>\n",
       "      <th>std</th>\n",
       "      <td>934.641385</td>\n",
       "      <td>NaN</td>\n",
       "      <td>20.394381</td>\n",
       "    </tr>\n",
       "    <tr>\n",
       "      <th>min</th>\n",
       "      <td>1.000000</td>\n",
       "      <td>NaN</td>\n",
       "      <td>1191.000000</td>\n",
       "    </tr>\n",
       "    <tr>\n",
       "      <th>25%</th>\n",
       "      <td>807.750000</td>\n",
       "      <td>NaN</td>\n",
       "      <td>1580.000000</td>\n",
       "    </tr>\n",
       "    <tr>\n",
       "      <th>50%</th>\n",
       "      <td>1618.000000</td>\n",
       "      <td>NaN</td>\n",
       "      <td>1590.000000</td>\n",
       "    </tr>\n",
       "    <tr>\n",
       "      <th>75%</th>\n",
       "      <td>2429.000000</td>\n",
       "      <td>NaN</td>\n",
       "      <td>1599.000000</td>\n",
       "    </tr>\n",
       "    <tr>\n",
       "      <th>max</th>\n",
       "      <td>3241.000000</td>\n",
       "      <td>NaN</td>\n",
       "      <td>1705.000000</td>\n",
       "    </tr>\n",
       "  </tbody>\n",
       "</table>\n",
       "</div>"
      ],
      "text/plain": [
       "                 key         Время замера   Температура\n",
       "count   18092.000000                18092  14665.000000\n",
       "unique           NaN                18092           NaN\n",
       "top              NaN  2019-06-08 05:03:45           NaN\n",
       "freq             NaN                    1           NaN\n",
       "mean     1616.460977                  NaN   1590.722741\n",
       "std       934.641385                  NaN     20.394381\n",
       "min         1.000000                  NaN   1191.000000\n",
       "25%       807.750000                  NaN   1580.000000\n",
       "50%      1618.000000                  NaN   1590.000000\n",
       "75%      2429.000000                  NaN   1599.000000\n",
       "max      3241.000000                  NaN   1705.000000"
      ]
     },
     "metadata": {},
     "output_type": "display_data"
    }
   ],
   "source": [
    "get_data_info(data_temp)"
   ]
  },
  {
   "cell_type": "markdown",
   "id": "cb01290c",
   "metadata": {},
   "source": [
    "Представлены данные замеров температуры по 3216 циклам обработки металла.\n",
    "Необходимо переименовать столбцы и сгруппировать данные по ключам, высчитав количество итераций по каждому ключу и среднюю температуру. \n",
    "В полученном датасете удалим все пропуски(3427) и ключи без двух зафиксированных температур. И температуры ниже 1500 градусов, т.к.это минимальная температура плавления."
   ]
  },
  {
   "cell_type": "code",
   "execution_count": 26,
   "id": "914ecddc",
   "metadata": {},
   "outputs": [],
   "source": [
    "#переименование столбцов\n",
    "data_temp = data_temp.rename(columns={'Время замера':'sample time',\n",
    "                                     'Температура':'temperature'\n",
    "                                     })\n",
    "\n",
    "data_temp['sample time'] = pd.to_datetime(data_temp['sample time'], format='%Y-%m-%d %H:%M:%S')"
   ]
  },
  {
   "cell_type": "markdown",
   "id": "03667e14",
   "metadata": {},
   "source": [
    "Обработка пропусков"
   ]
  },
  {
   "cell_type": "code",
   "execution_count": 27,
   "id": "568c7de9",
   "metadata": {},
   "outputs": [],
   "source": [
    "data_temp = data_temp.dropna().reset_index(drop=True)"
   ]
  },
  {
   "cell_type": "code",
   "execution_count": 28,
   "id": "758681ba",
   "metadata": {
    "scrolled": true
   },
   "outputs": [
    {
     "data": {
      "text/html": [
       "<div>\n",
       "<style scoped>\n",
       "    .dataframe tbody tr th:only-of-type {\n",
       "        vertical-align: middle;\n",
       "    }\n",
       "\n",
       "    .dataframe tbody tr th {\n",
       "        vertical-align: top;\n",
       "    }\n",
       "\n",
       "    .dataframe thead th {\n",
       "        text-align: right;\n",
       "    }\n",
       "</style>\n",
       "<table border=\"1\" class=\"dataframe\">\n",
       "  <thead>\n",
       "    <tr style=\"text-align: right;\">\n",
       "      <th></th>\n",
       "      <th>key</th>\n",
       "      <th>rounds_temp</th>\n",
       "    </tr>\n",
       "  </thead>\n",
       "  <tbody>\n",
       "    <tr>\n",
       "      <th>978</th>\n",
       "      <td>1</td>\n",
       "      <td>6</td>\n",
       "    </tr>\n",
       "    <tr>\n",
       "      <th>1891</th>\n",
       "      <td>2</td>\n",
       "      <td>5</td>\n",
       "    </tr>\n",
       "    <tr>\n",
       "      <th>853</th>\n",
       "      <td>3</td>\n",
       "      <td>6</td>\n",
       "    </tr>\n",
       "    <tr>\n",
       "      <th>1270</th>\n",
       "      <td>4</td>\n",
       "      <td>5</td>\n",
       "    </tr>\n",
       "    <tr>\n",
       "      <th>1500</th>\n",
       "      <td>5</td>\n",
       "      <td>5</td>\n",
       "    </tr>\n",
       "    <tr>\n",
       "      <th>...</th>\n",
       "      <td>...</td>\n",
       "      <td>...</td>\n",
       "    </tr>\n",
       "    <tr>\n",
       "      <th>2722</th>\n",
       "      <td>3237</td>\n",
       "      <td>1</td>\n",
       "    </tr>\n",
       "    <tr>\n",
       "      <th>2594</th>\n",
       "      <td>3238</td>\n",
       "      <td>1</td>\n",
       "    </tr>\n",
       "    <tr>\n",
       "      <th>2709</th>\n",
       "      <td>3239</td>\n",
       "      <td>1</td>\n",
       "    </tr>\n",
       "    <tr>\n",
       "      <th>3050</th>\n",
       "      <td>3240</td>\n",
       "      <td>1</td>\n",
       "    </tr>\n",
       "    <tr>\n",
       "      <th>2698</th>\n",
       "      <td>3241</td>\n",
       "      <td>1</td>\n",
       "    </tr>\n",
       "  </tbody>\n",
       "</table>\n",
       "<p>3216 rows × 2 columns</p>\n",
       "</div>"
      ],
      "text/plain": [
       "       key  rounds_temp\n",
       "978      1            6\n",
       "1891     2            5\n",
       "853      3            6\n",
       "1270     4            5\n",
       "1500     5            5\n",
       "...    ...          ...\n",
       "2722  3237            1\n",
       "2594  3238            1\n",
       "2709  3239            1\n",
       "3050  3240            1\n",
       "2698  3241            1\n",
       "\n",
       "[3216 rows x 2 columns]"
      ]
     },
     "execution_count": 28,
     "metadata": {},
     "output_type": "execute_result"
    }
   ],
   "source": [
    "#выделим кол-во этапов нагревания\n",
    "rounds_temp = data_temp['key'].value_counts().reset_index(name='rounds_temp').rename(columns={'index': 'key'}).sort_values(by='key', ascending=True)\n",
    "rounds_temp"
   ]
  },
  {
   "cell_type": "markdown",
   "id": "0605db32",
   "metadata": {},
   "source": [
    "Данные количества замеров на единицу больше данных количества итераций из файла data_arcm, что обьясняется технологическим процессом. Не будем использовать данные rounds_temp при построении модели, дабы избежать корреляции признаков."
   ]
  },
  {
   "cell_type": "markdown",
   "id": "7a2b04c8",
   "metadata": {},
   "source": [
    "Проверим значение температур(не ниже 1500) и количества замеров (не менее двух)."
   ]
  },
  {
   "cell_type": "code",
   "execution_count": 29,
   "id": "b4c7af05",
   "metadata": {},
   "outputs": [
    {
     "data": {
      "text/html": [
       "<div>\n",
       "<style scoped>\n",
       "    .dataframe tbody tr th:only-of-type {\n",
       "        vertical-align: middle;\n",
       "    }\n",
       "\n",
       "    .dataframe tbody tr th {\n",
       "        vertical-align: top;\n",
       "    }\n",
       "\n",
       "    .dataframe thead th {\n",
       "        text-align: right;\n",
       "    }\n",
       "</style>\n",
       "<table border=\"1\" class=\"dataframe\">\n",
       "  <thead>\n",
       "    <tr style=\"text-align: right;\">\n",
       "      <th></th>\n",
       "      <th>key</th>\n",
       "      <th>sample time</th>\n",
       "      <th>temperature</th>\n",
       "    </tr>\n",
       "  </thead>\n",
       "  <tbody>\n",
       "    <tr>\n",
       "      <th>4883</th>\n",
       "      <td>867</td>\n",
       "      <td>2019-06-06 08:03:39</td>\n",
       "      <td>1191.0</td>\n",
       "    </tr>\n",
       "    <tr>\n",
       "      <th>6784</th>\n",
       "      <td>1214</td>\n",
       "      <td>2019-06-18 08:01:03</td>\n",
       "      <td>1208.0</td>\n",
       "    </tr>\n",
       "    <tr>\n",
       "      <th>9050</th>\n",
       "      <td>1619</td>\n",
       "      <td>2019-07-03 02:34:41</td>\n",
       "      <td>1218.0</td>\n",
       "    </tr>\n",
       "    <tr>\n",
       "      <th>11495</th>\n",
       "      <td>2052</td>\n",
       "      <td>2019-07-25 08:49:15</td>\n",
       "      <td>1227.0</td>\n",
       "    </tr>\n",
       "    <tr>\n",
       "      <th>13987</th>\n",
       "      <td>2561</td>\n",
       "      <td>2019-08-12 18:49:29</td>\n",
       "      <td>1204.0</td>\n",
       "    </tr>\n",
       "  </tbody>\n",
       "</table>\n",
       "</div>"
      ],
      "text/plain": [
       "        key         sample time  temperature\n",
       "4883    867 2019-06-06 08:03:39       1191.0\n",
       "6784   1214 2019-06-18 08:01:03       1208.0\n",
       "9050   1619 2019-07-03 02:34:41       1218.0\n",
       "11495  2052 2019-07-25 08:49:15       1227.0\n",
       "13987  2561 2019-08-12 18:49:29       1204.0"
      ]
     },
     "metadata": {},
     "output_type": "display_data"
    }
   ],
   "source": [
    "anomalies = data_temp.query('temperature <= 1500')\n",
    "display(anomalies)"
   ]
  },
  {
   "cell_type": "code",
   "execution_count": 30,
   "id": "bba0a528",
   "metadata": {
    "scrolled": true
   },
   "outputs": [
    {
     "data": {
      "text/plain": [
       "key            741\n",
       "rounds_temp      1\n",
       "dtype: int64"
      ]
     },
     "metadata": {},
     "output_type": "display_data"
    },
    {
     "data": {
      "text/plain": [
       "array([ 195,  279, 2500, 2501, 2502, 2503, 2504, 2505, 2506, 2507, 2508,\n",
       "       2509, 2510, 2511, 2512, 2513, 2514, 2515, 2516, 2517, 2518, 2519,\n",
       "       2520, 2521, 2522, 2523, 2524, 2525, 2526, 2527, 2528, 2529, 2530,\n",
       "       2531, 2532, 2533, 2534, 2535, 2536, 2537, 2538, 2539, 2540, 2541,\n",
       "       2542, 2543, 2544, 2545, 2546, 2547, 2548, 2549, 2550, 2551, 2552,\n",
       "       2553, 2554, 2555, 2556, 2557, 2558, 2559, 2560, 2561, 2562, 2563,\n",
       "       2564, 2565, 2566, 2567, 2568, 2569, 2570, 2571, 2572, 2573, 2574,\n",
       "       2575, 2576, 2577, 2578, 2579, 2580, 2581, 2582, 2583, 2584, 2585,\n",
       "       2586, 2587, 2588, 2589, 2590, 2591, 2592, 2593, 2594, 2595, 2596,\n",
       "       2597, 2598, 2599, 2600, 2601, 2602, 2603, 2604, 2605, 2606, 2607,\n",
       "       2608, 2609, 2610, 2611, 2612, 2613, 2614, 2615, 2616, 2617, 2618,\n",
       "       2619, 2620, 2621, 2622, 2623, 2624, 2625, 2626, 2627, 2628, 2629,\n",
       "       2630, 2631, 2632, 2633, 2634, 2635, 2636, 2637, 2638, 2639, 2640,\n",
       "       2641, 2642, 2643, 2644, 2645, 2646, 2647, 2648, 2649, 2650, 2651,\n",
       "       2652, 2653, 2654, 2655, 2656, 2657, 2658, 2659, 2660, 2661, 2662,\n",
       "       2663, 2664, 2665, 2666, 2667, 2668, 2669, 2670, 2671, 2672, 2673,\n",
       "       2674, 2675, 2676, 2677, 2678, 2679, 2680, 2681, 2682, 2684, 2685,\n",
       "       2686, 2687, 2688, 2689, 2690, 2691, 2692, 2693, 2694, 2695, 2696,\n",
       "       2697, 2698, 2699, 2700, 2701, 2702, 2703, 2704, 2705, 2706, 2707,\n",
       "       2708, 2709, 2710, 2711, 2712, 2713, 2714, 2715, 2716, 2717, 2718,\n",
       "       2719, 2720, 2721, 2722, 2723, 2724, 2725, 2726, 2727, 2728, 2729,\n",
       "       2730, 2731, 2732, 2733, 2734, 2735, 2736, 2737, 2738, 2739, 2740,\n",
       "       2741, 2742, 2743, 2744, 2745, 2746, 2747, 2748, 2749, 2750, 2751,\n",
       "       2752, 2753, 2754, 2755, 2756, 2757, 2758, 2759, 2760, 2761, 2762,\n",
       "       2763, 2764, 2765, 2766, 2767, 2768, 2769, 2770, 2771, 2772, 2773,\n",
       "       2774, 2775, 2776, 2777, 2778, 2779, 2780, 2781, 2782, 2783, 2784,\n",
       "       2785, 2786, 2787, 2788, 2789, 2790, 2791, 2792, 2793, 2794, 2795,\n",
       "       2796, 2797, 2798, 2799, 2800, 2801, 2802, 2803, 2804, 2805, 2806,\n",
       "       2807, 2808, 2809, 2810, 2811, 2812, 2813, 2814, 2815, 2816, 2817,\n",
       "       2818, 2819, 2820, 2821, 2822, 2823, 2824, 2825, 2826, 2827, 2828,\n",
       "       2829, 2830, 2831, 2832, 2833, 2834, 2835, 2836, 2837, 2838, 2839,\n",
       "       2840, 2841, 2842, 2843, 2844, 2845, 2846, 2847, 2848, 2849, 2850,\n",
       "       2851, 2852, 2853, 2854, 2855, 2856, 2857, 2858, 2859, 2860, 2861,\n",
       "       2862, 2863, 2864, 2865, 2866, 2867, 2868, 2869, 2870, 2871, 2872,\n",
       "       2873, 2874, 2875, 2876, 2877, 2878, 2879, 2880, 2881, 2882, 2883,\n",
       "       2884, 2885, 2886, 2887, 2888, 2889, 2890, 2891, 2892, 2893, 2894,\n",
       "       2895, 2896, 2897, 2898, 2899, 2900, 2901, 2902, 2903, 2904, 2905,\n",
       "       2906, 2907, 2908, 2909, 2910, 2911, 2912, 2913, 2914, 2915, 2916,\n",
       "       2917, 2918, 2919, 2920, 2921, 2922, 2923, 2924, 2925, 2926, 2927,\n",
       "       2928, 2929, 2930, 2931, 2932, 2933, 2934, 2935, 2936, 2937, 2938,\n",
       "       2939, 2940, 2941, 2942, 2943, 2944, 2945, 2946, 2947, 2948, 2949,\n",
       "       2950, 2951, 2952, 2953, 2954, 2955, 2956, 2957, 2958, 2959, 2960,\n",
       "       2961, 2962, 2963, 2964, 2965, 2966, 2967, 2968, 2969, 2970, 2971,\n",
       "       2972, 2973, 2974, 2975, 2976, 2977, 2978, 2979, 2980, 2981, 2982,\n",
       "       2983, 2984, 2985, 2986, 2987, 2988, 2989, 2990, 2991, 2992, 2993,\n",
       "       2994, 2995, 2996, 2997, 2998, 2999, 3000, 3001, 3002, 3003, 3004,\n",
       "       3005, 3006, 3007, 3008, 3009, 3010, 3011, 3012, 3013, 3014, 3015,\n",
       "       3016, 3017, 3018, 3019, 3020, 3021, 3022, 3023, 3024, 3025, 3026,\n",
       "       3027, 3028, 3029, 3030, 3031, 3032, 3033, 3034, 3035, 3036, 3037,\n",
       "       3038, 3039, 3040, 3041, 3042, 3043, 3044, 3045, 3046, 3047, 3048,\n",
       "       3049, 3050, 3051, 3052, 3053, 3054, 3055, 3056, 3057, 3058, 3059,\n",
       "       3060, 3061, 3062, 3063, 3064, 3065, 3066, 3067, 3068, 3069, 3070,\n",
       "       3071, 3072, 3073, 3074, 3075, 3076, 3077, 3078, 3079, 3080, 3081,\n",
       "       3082, 3083, 3084, 3085, 3086, 3087, 3088, 3089, 3090, 3091, 3092,\n",
       "       3093, 3094, 3095, 3096, 3097, 3098, 3099, 3100, 3101, 3102, 3103,\n",
       "       3104, 3105, 3106, 3107, 3108, 3109, 3110, 3111, 3112, 3113, 3114,\n",
       "       3115, 3116, 3117, 3118, 3119, 3120, 3121, 3122, 3123, 3124, 3125,\n",
       "       3126, 3127, 3128, 3129, 3130, 3131, 3132, 3133, 3134, 3135, 3136,\n",
       "       3137, 3138, 3139, 3140, 3141, 3142, 3143, 3144, 3145, 3146, 3147,\n",
       "       3148, 3149, 3150, 3151, 3152, 3153, 3154, 3155, 3156, 3157, 3158,\n",
       "       3159, 3160, 3161, 3162, 3163, 3164, 3165, 3166, 3167, 3168, 3169,\n",
       "       3170, 3171, 3172, 3173, 3174, 3175, 3176, 3177, 3178, 3179, 3180,\n",
       "       3181, 3182, 3183, 3184, 3185, 3186, 3187, 3188, 3189, 3190, 3191,\n",
       "       3192, 3193, 3194, 3195, 3196, 3197, 3198, 3199, 3201, 3202, 3203,\n",
       "       3204, 3205, 3206, 3208, 3209, 3210, 3211, 3212, 3213, 3214, 3215,\n",
       "       3216, 3217, 3218, 3219, 3220, 3221, 3222, 3223, 3224, 3225, 3226,\n",
       "       3227, 3228, 3229, 3230, 3231, 3232, 3233, 3234, 3235, 3236, 3237,\n",
       "       3238, 3239, 3240, 3241])"
      ]
     },
     "metadata": {},
     "output_type": "display_data"
    }
   ],
   "source": [
    "anomalies2 = rounds_temp.query('rounds_temp < 2')\n",
    "\n",
    "display(anomalies2.nunique(),anomalies2['key'].unique() )"
   ]
  },
  {
   "cell_type": "markdown",
   "id": "04bce008",
   "metadata": {},
   "source": [
    "Пять партии попали в аномальные из-за температуры и 741 из-за отсутствия второго и последущих замеров температуры(195, 279 и все партии с ключем после 2500). Избавимся от них."
   ]
  },
  {
   "cell_type": "code",
   "execution_count": 31,
   "id": "9bfe7f37",
   "metadata": {},
   "outputs": [
    {
     "data": {
      "text/html": [
       "<div>\n",
       "<style scoped>\n",
       "    .dataframe tbody tr th:only-of-type {\n",
       "        vertical-align: middle;\n",
       "    }\n",
       "\n",
       "    .dataframe tbody tr th {\n",
       "        vertical-align: top;\n",
       "    }\n",
       "\n",
       "    .dataframe thead th {\n",
       "        text-align: right;\n",
       "    }\n",
       "</style>\n",
       "<table border=\"1\" class=\"dataframe\">\n",
       "  <thead>\n",
       "    <tr style=\"text-align: right;\">\n",
       "      <th></th>\n",
       "      <th>key</th>\n",
       "      <th>sample time</th>\n",
       "      <th>temperature</th>\n",
       "    </tr>\n",
       "  </thead>\n",
       "  <tbody>\n",
       "    <tr>\n",
       "      <th>0</th>\n",
       "      <td>1</td>\n",
       "      <td>2019-05-03 11:02:04</td>\n",
       "      <td>1571.0</td>\n",
       "    </tr>\n",
       "    <tr>\n",
       "      <th>1</th>\n",
       "      <td>1</td>\n",
       "      <td>2019-05-03 11:07:18</td>\n",
       "      <td>1604.0</td>\n",
       "    </tr>\n",
       "    <tr>\n",
       "      <th>2</th>\n",
       "      <td>1</td>\n",
       "      <td>2019-05-03 11:11:34</td>\n",
       "      <td>1618.0</td>\n",
       "    </tr>\n",
       "    <tr>\n",
       "      <th>3</th>\n",
       "      <td>1</td>\n",
       "      <td>2019-05-03 11:18:04</td>\n",
       "      <td>1601.0</td>\n",
       "    </tr>\n",
       "    <tr>\n",
       "      <th>4</th>\n",
       "      <td>1</td>\n",
       "      <td>2019-05-03 11:25:59</td>\n",
       "      <td>1606.0</td>\n",
       "    </tr>\n",
       "  </tbody>\n",
       "</table>\n",
       "</div>"
      ],
      "text/plain": [
       "   key         sample time  temperature\n",
       "0    1 2019-05-03 11:02:04       1571.0\n",
       "1    1 2019-05-03 11:07:18       1604.0\n",
       "2    1 2019-05-03 11:11:34       1618.0\n",
       "3    1 2019-05-03 11:18:04       1601.0\n",
       "4    1 2019-05-03 11:25:59       1606.0"
      ]
     },
     "execution_count": 31,
     "metadata": {},
     "output_type": "execute_result"
    }
   ],
   "source": [
    "data_temp_final = data_temp.query('temperature > 1500 and key != 195 and key != 279 and key < 2500')\n",
    "data_temp_final.head()"
   ]
  },
  {
   "cell_type": "markdown",
   "id": "83da6cb1",
   "metadata": {},
   "source": [
    "Дополним датафрейм данными о времени между крайними замерами температуры."
   ]
  },
  {
   "cell_type": "code",
   "execution_count": 32,
   "id": "e8885409",
   "metadata": {},
   "outputs": [],
   "source": [
    "# с помощью сортировки добавим столбцы с крайними замерами \n",
    "data_temp_final = data_temp_final.groupby(by = 'key').agg(['first', 'last']).reset_index()\n",
    "\n",
    "# переименуем столбцы\n",
    "data_temp_final.columns = ['key', 'first_time', 'finish_time', 'first_temp', 'finish_temp']\n",
    "\n",
    "#добавим новый признак -  время нагрева\n",
    "data_temp_final['diff_time_temp'] = data_temp_final['finish_time'] - data_temp_final['first_time']\n",
    "data_temp_final['diff_time_temp'] = data_temp_final['diff_time_temp'].dt.seconds\n",
    "data_temp_final['diff_time_temp'] = data_temp_final['diff_time_temp'].astype('float')\n",
    "\n",
    "# удалим стобцы с исходными данными времени,т.к. новый признак заменяет их\n",
    "data_temp_final = data_temp_final.drop(['first_time', 'finish_time'], axis=1)"
   ]
  },
  {
   "cell_type": "code",
   "execution_count": 33,
   "id": "61765ccf",
   "metadata": {},
   "outputs": [
    {
     "data": {
      "text/html": [
       "<div>\n",
       "<style scoped>\n",
       "    .dataframe tbody tr th:only-of-type {\n",
       "        vertical-align: middle;\n",
       "    }\n",
       "\n",
       "    .dataframe tbody tr th {\n",
       "        vertical-align: top;\n",
       "    }\n",
       "\n",
       "    .dataframe thead th {\n",
       "        text-align: right;\n",
       "    }\n",
       "</style>\n",
       "<table border=\"1\" class=\"dataframe\">\n",
       "  <thead>\n",
       "    <tr style=\"text-align: right;\">\n",
       "      <th></th>\n",
       "      <th>key</th>\n",
       "      <th>first_temp</th>\n",
       "      <th>finish_temp</th>\n",
       "      <th>diff_time_temp</th>\n",
       "    </tr>\n",
       "  </thead>\n",
       "  <tbody>\n",
       "    <tr>\n",
       "      <th>0</th>\n",
       "      <td>1</td>\n",
       "      <td>1571.0</td>\n",
       "      <td>1613.0</td>\n",
       "      <td>1714.0</td>\n",
       "    </tr>\n",
       "    <tr>\n",
       "      <th>1</th>\n",
       "      <td>2</td>\n",
       "      <td>1581.0</td>\n",
       "      <td>1602.0</td>\n",
       "      <td>1265.0</td>\n",
       "    </tr>\n",
       "    <tr>\n",
       "      <th>2</th>\n",
       "      <td>3</td>\n",
       "      <td>1596.0</td>\n",
       "      <td>1599.0</td>\n",
       "      <td>1753.0</td>\n",
       "    </tr>\n",
       "    <tr>\n",
       "      <th>3</th>\n",
       "      <td>4</td>\n",
       "      <td>1601.0</td>\n",
       "      <td>1625.0</td>\n",
       "      <td>1220.0</td>\n",
       "    </tr>\n",
       "    <tr>\n",
       "      <th>4</th>\n",
       "      <td>5</td>\n",
       "      <td>1576.0</td>\n",
       "      <td>1602.0</td>\n",
       "      <td>1536.0</td>\n",
       "    </tr>\n",
       "  </tbody>\n",
       "</table>\n",
       "</div>"
      ],
      "text/plain": [
       "   key  first_temp  finish_temp  diff_time_temp\n",
       "0    1      1571.0       1613.0          1714.0\n",
       "1    2      1581.0       1602.0          1265.0\n",
       "2    3      1596.0       1599.0          1753.0\n",
       "3    4      1601.0       1625.0          1220.0\n",
       "4    5      1576.0       1602.0          1536.0"
      ]
     },
     "execution_count": 33,
     "metadata": {},
     "output_type": "execute_result"
    }
   ],
   "source": [
    "data_temp_final.head()\n"
   ]
  },
  {
   "cell_type": "markdown",
   "id": "5263dcaf",
   "metadata": {},
   "source": [
    "### data_wire"
   ]
  },
  {
   "cell_type": "code",
   "execution_count": 34,
   "id": "09d0cf18",
   "metadata": {
    "scrolled": true
   },
   "outputs": [
    {
     "data": {
      "text/html": [
       "<div>\n",
       "<style scoped>\n",
       "    .dataframe tbody tr th:only-of-type {\n",
       "        vertical-align: middle;\n",
       "    }\n",
       "\n",
       "    .dataframe tbody tr th {\n",
       "        vertical-align: top;\n",
       "    }\n",
       "\n",
       "    .dataframe thead th {\n",
       "        text-align: right;\n",
       "    }\n",
       "</style>\n",
       "<table border=\"1\" class=\"dataframe\">\n",
       "  <thead>\n",
       "    <tr style=\"text-align: right;\">\n",
       "      <th></th>\n",
       "      <th>key</th>\n",
       "      <th>Wire 1</th>\n",
       "      <th>Wire 2</th>\n",
       "      <th>Wire 3</th>\n",
       "      <th>Wire 4</th>\n",
       "      <th>Wire 5</th>\n",
       "      <th>Wire 6</th>\n",
       "      <th>Wire 7</th>\n",
       "      <th>Wire 8</th>\n",
       "      <th>Wire 9</th>\n",
       "    </tr>\n",
       "  </thead>\n",
       "  <tbody>\n",
       "    <tr>\n",
       "      <th>0</th>\n",
       "      <td>1</td>\n",
       "      <td>60.059998</td>\n",
       "      <td>NaN</td>\n",
       "      <td>NaN</td>\n",
       "      <td>NaN</td>\n",
       "      <td>NaN</td>\n",
       "      <td>NaN</td>\n",
       "      <td>NaN</td>\n",
       "      <td>NaN</td>\n",
       "      <td>NaN</td>\n",
       "    </tr>\n",
       "    <tr>\n",
       "      <th>1</th>\n",
       "      <td>2</td>\n",
       "      <td>96.052315</td>\n",
       "      <td>NaN</td>\n",
       "      <td>NaN</td>\n",
       "      <td>NaN</td>\n",
       "      <td>NaN</td>\n",
       "      <td>NaN</td>\n",
       "      <td>NaN</td>\n",
       "      <td>NaN</td>\n",
       "      <td>NaN</td>\n",
       "    </tr>\n",
       "    <tr>\n",
       "      <th>2</th>\n",
       "      <td>3</td>\n",
       "      <td>91.160157</td>\n",
       "      <td>NaN</td>\n",
       "      <td>NaN</td>\n",
       "      <td>NaN</td>\n",
       "      <td>NaN</td>\n",
       "      <td>NaN</td>\n",
       "      <td>NaN</td>\n",
       "      <td>NaN</td>\n",
       "      <td>NaN</td>\n",
       "    </tr>\n",
       "    <tr>\n",
       "      <th>3</th>\n",
       "      <td>4</td>\n",
       "      <td>89.063515</td>\n",
       "      <td>NaN</td>\n",
       "      <td>NaN</td>\n",
       "      <td>NaN</td>\n",
       "      <td>NaN</td>\n",
       "      <td>NaN</td>\n",
       "      <td>NaN</td>\n",
       "      <td>NaN</td>\n",
       "      <td>NaN</td>\n",
       "    </tr>\n",
       "    <tr>\n",
       "      <th>4</th>\n",
       "      <td>5</td>\n",
       "      <td>89.238236</td>\n",
       "      <td>9.11456</td>\n",
       "      <td>NaN</td>\n",
       "      <td>NaN</td>\n",
       "      <td>NaN</td>\n",
       "      <td>NaN</td>\n",
       "      <td>NaN</td>\n",
       "      <td>NaN</td>\n",
       "      <td>NaN</td>\n",
       "    </tr>\n",
       "  </tbody>\n",
       "</table>\n",
       "</div>"
      ],
      "text/plain": [
       "   key     Wire 1   Wire 2  Wire 3  Wire 4  Wire 5  Wire 6  Wire 7  Wire 8  \\\n",
       "0    1  60.059998      NaN     NaN     NaN     NaN     NaN     NaN     NaN   \n",
       "1    2  96.052315      NaN     NaN     NaN     NaN     NaN     NaN     NaN   \n",
       "2    3  91.160157      NaN     NaN     NaN     NaN     NaN     NaN     NaN   \n",
       "3    4  89.063515      NaN     NaN     NaN     NaN     NaN     NaN     NaN   \n",
       "4    5  89.238236  9.11456     NaN     NaN     NaN     NaN     NaN     NaN   \n",
       "\n",
       "   Wire 9  \n",
       "0     NaN  \n",
       "1     NaN  \n",
       "2     NaN  \n",
       "3     NaN  \n",
       "4     NaN  "
      ]
     },
     "metadata": {},
     "output_type": "display_data"
    },
    {
     "name": "stdout",
     "output_type": "stream",
     "text": [
      "<class 'pandas.core.frame.DataFrame'>\n",
      "RangeIndex: 3081 entries, 0 to 3080\n",
      "Data columns (total 10 columns):\n",
      " #   Column  Non-Null Count  Dtype  \n",
      "---  ------  --------------  -----  \n",
      " 0   key     3081 non-null   int64  \n",
      " 1   Wire 1  3055 non-null   float64\n",
      " 2   Wire 2  1079 non-null   float64\n",
      " 3   Wire 3  63 non-null     float64\n",
      " 4   Wire 4  14 non-null     float64\n",
      " 5   Wire 5  1 non-null      float64\n",
      " 6   Wire 6  73 non-null     float64\n",
      " 7   Wire 7  11 non-null     float64\n",
      " 8   Wire 8  19 non-null     float64\n",
      " 9   Wire 9  29 non-null     float64\n",
      "dtypes: float64(9), int64(1)\n",
      "memory usage: 240.8 KB\n"
     ]
    },
    {
     "data": {
      "text/plain": [
       "None"
      ]
     },
     "metadata": {},
     "output_type": "display_data"
    },
    {
     "data": {
      "text/plain": [
       "key          0\n",
       "Wire 1      26\n",
       "Wire 2    2002\n",
       "Wire 3    3018\n",
       "Wire 4    3067\n",
       "Wire 5    3080\n",
       "Wire 6    3008\n",
       "Wire 7    3070\n",
       "Wire 8    3062\n",
       "Wire 9    3052\n",
       "dtype: int64"
      ]
     },
     "metadata": {},
     "output_type": "display_data"
    },
    {
     "data": {
      "text/plain": [
       "'Кол-во партий:'"
      ]
     },
     "metadata": {},
     "output_type": "display_data"
    },
    {
     "data": {
      "text/plain": [
       "3081"
      ]
     },
     "metadata": {},
     "output_type": "display_data"
    },
    {
     "data": {
      "text/html": [
       "<div>\n",
       "<style scoped>\n",
       "    .dataframe tbody tr th:only-of-type {\n",
       "        vertical-align: middle;\n",
       "    }\n",
       "\n",
       "    .dataframe tbody tr th {\n",
       "        vertical-align: top;\n",
       "    }\n",
       "\n",
       "    .dataframe thead th {\n",
       "        text-align: right;\n",
       "    }\n",
       "</style>\n",
       "<table border=\"1\" class=\"dataframe\">\n",
       "  <thead>\n",
       "    <tr style=\"text-align: right;\">\n",
       "      <th></th>\n",
       "      <th>key</th>\n",
       "      <th>Wire 1</th>\n",
       "      <th>Wire 2</th>\n",
       "      <th>Wire 3</th>\n",
       "      <th>Wire 4</th>\n",
       "      <th>Wire 5</th>\n",
       "      <th>Wire 6</th>\n",
       "      <th>Wire 7</th>\n",
       "      <th>Wire 8</th>\n",
       "      <th>Wire 9</th>\n",
       "    </tr>\n",
       "  </thead>\n",
       "  <tbody>\n",
       "    <tr>\n",
       "      <th>count</th>\n",
       "      <td>3081.000000</td>\n",
       "      <td>3055.000000</td>\n",
       "      <td>1079.000000</td>\n",
       "      <td>63.000000</td>\n",
       "      <td>14.000000</td>\n",
       "      <td>1.000</td>\n",
       "      <td>73.000000</td>\n",
       "      <td>11.000000</td>\n",
       "      <td>19.000000</td>\n",
       "      <td>29.000000</td>\n",
       "    </tr>\n",
       "    <tr>\n",
       "      <th>mean</th>\n",
       "      <td>1623.426485</td>\n",
       "      <td>100.895853</td>\n",
       "      <td>50.577323</td>\n",
       "      <td>189.482681</td>\n",
       "      <td>57.442841</td>\n",
       "      <td>15.132</td>\n",
       "      <td>48.016974</td>\n",
       "      <td>10.039007</td>\n",
       "      <td>53.625193</td>\n",
       "      <td>34.155752</td>\n",
       "    </tr>\n",
       "    <tr>\n",
       "      <th>std</th>\n",
       "      <td>932.996726</td>\n",
       "      <td>42.012518</td>\n",
       "      <td>39.320216</td>\n",
       "      <td>99.513444</td>\n",
       "      <td>28.824667</td>\n",
       "      <td>NaN</td>\n",
       "      <td>33.919845</td>\n",
       "      <td>8.610584</td>\n",
       "      <td>16.881728</td>\n",
       "      <td>19.931616</td>\n",
       "    </tr>\n",
       "    <tr>\n",
       "      <th>min</th>\n",
       "      <td>1.000000</td>\n",
       "      <td>1.918800</td>\n",
       "      <td>0.030160</td>\n",
       "      <td>0.144144</td>\n",
       "      <td>24.148801</td>\n",
       "      <td>15.132</td>\n",
       "      <td>0.034320</td>\n",
       "      <td>0.234208</td>\n",
       "      <td>45.076721</td>\n",
       "      <td>4.622800</td>\n",
       "    </tr>\n",
       "    <tr>\n",
       "      <th>25%</th>\n",
       "      <td>823.000000</td>\n",
       "      <td>72.115684</td>\n",
       "      <td>20.193680</td>\n",
       "      <td>95.135044</td>\n",
       "      <td>40.807002</td>\n",
       "      <td>15.132</td>\n",
       "      <td>25.053600</td>\n",
       "      <td>6.762756</td>\n",
       "      <td>46.094879</td>\n",
       "      <td>22.058401</td>\n",
       "    </tr>\n",
       "    <tr>\n",
       "      <th>50%</th>\n",
       "      <td>1619.000000</td>\n",
       "      <td>100.158234</td>\n",
       "      <td>40.142956</td>\n",
       "      <td>235.194977</td>\n",
       "      <td>45.234282</td>\n",
       "      <td>15.132</td>\n",
       "      <td>42.076324</td>\n",
       "      <td>9.017009</td>\n",
       "      <td>46.279999</td>\n",
       "      <td>30.066399</td>\n",
       "    </tr>\n",
       "    <tr>\n",
       "      <th>75%</th>\n",
       "      <td>2434.000000</td>\n",
       "      <td>126.060483</td>\n",
       "      <td>70.227558</td>\n",
       "      <td>276.252014</td>\n",
       "      <td>76.124619</td>\n",
       "      <td>15.132</td>\n",
       "      <td>64.212723</td>\n",
       "      <td>11.886057</td>\n",
       "      <td>48.089603</td>\n",
       "      <td>43.862003</td>\n",
       "    </tr>\n",
       "    <tr>\n",
       "      <th>max</th>\n",
       "      <td>3241.000000</td>\n",
       "      <td>330.314424</td>\n",
       "      <td>282.780152</td>\n",
       "      <td>385.008668</td>\n",
       "      <td>113.231044</td>\n",
       "      <td>15.132</td>\n",
       "      <td>180.454575</td>\n",
       "      <td>32.847674</td>\n",
       "      <td>102.762401</td>\n",
       "      <td>90.053604</td>\n",
       "    </tr>\n",
       "  </tbody>\n",
       "</table>\n",
       "</div>"
      ],
      "text/plain": [
       "               key       Wire 1       Wire 2      Wire 3      Wire 4  Wire 5  \\\n",
       "count  3081.000000  3055.000000  1079.000000   63.000000   14.000000   1.000   \n",
       "mean   1623.426485   100.895853    50.577323  189.482681   57.442841  15.132   \n",
       "std     932.996726    42.012518    39.320216   99.513444   28.824667     NaN   \n",
       "min       1.000000     1.918800     0.030160    0.144144   24.148801  15.132   \n",
       "25%     823.000000    72.115684    20.193680   95.135044   40.807002  15.132   \n",
       "50%    1619.000000   100.158234    40.142956  235.194977   45.234282  15.132   \n",
       "75%    2434.000000   126.060483    70.227558  276.252014   76.124619  15.132   \n",
       "max    3241.000000   330.314424   282.780152  385.008668  113.231044  15.132   \n",
       "\n",
       "           Wire 6     Wire 7      Wire 8     Wire 9  \n",
       "count   73.000000  11.000000   19.000000  29.000000  \n",
       "mean    48.016974  10.039007   53.625193  34.155752  \n",
       "std     33.919845   8.610584   16.881728  19.931616  \n",
       "min      0.034320   0.234208   45.076721   4.622800  \n",
       "25%     25.053600   6.762756   46.094879  22.058401  \n",
       "50%     42.076324   9.017009   46.279999  30.066399  \n",
       "75%     64.212723  11.886057   48.089603  43.862003  \n",
       "max    180.454575  32.847674  102.762401  90.053604  "
      ]
     },
     "metadata": {},
     "output_type": "display_data"
    }
   ],
   "source": [
    "get_data_info(data_wire)"
   ]
  },
  {
   "cell_type": "markdown",
   "id": "f5191a82",
   "metadata": {},
   "source": [
    "В датасете представленны данные об обьеме девяти различных проволочных материалов, используемых в тех.процессе. Явные аномалии и отрицательные значения отсутствуют. Большое количество отсутствующих данных говорит о нулевом значении обьема. Исправим это и название столбцов. В данных по многим наименованиям заполненность данных составляет менее 80%. Используем для построения модели лишь данные из Wire 1 и Wire 2. "
   ]
  },
  {
   "cell_type": "code",
   "execution_count": 35,
   "id": "1b5297b4",
   "metadata": {},
   "outputs": [],
   "source": [
    "data_wire = data_wire.fillna(0).astype('float')\n",
    "\n",
    "data_wire.columns = data_wire.columns.str.replace('Wire ', 'wire_', regex=False)"
   ]
  },
  {
   "cell_type": "code",
   "execution_count": 36,
   "id": "dbce99d9",
   "metadata": {},
   "outputs": [],
   "source": [
    "data_wire_final = data_wire[['key','wire_1','wire_2']]"
   ]
  },
  {
   "cell_type": "code",
   "execution_count": 37,
   "id": "23573024",
   "metadata": {
    "scrolled": true
   },
   "outputs": [
    {
     "data": {
      "text/html": [
       "<div>\n",
       "<style scoped>\n",
       "    .dataframe tbody tr th:only-of-type {\n",
       "        vertical-align: middle;\n",
       "    }\n",
       "\n",
       "    .dataframe tbody tr th {\n",
       "        vertical-align: top;\n",
       "    }\n",
       "\n",
       "    .dataframe thead th {\n",
       "        text-align: right;\n",
       "    }\n",
       "</style>\n",
       "<table border=\"1\" class=\"dataframe\">\n",
       "  <thead>\n",
       "    <tr style=\"text-align: right;\">\n",
       "      <th></th>\n",
       "      <th>key</th>\n",
       "      <th>wire_1</th>\n",
       "      <th>wire_2</th>\n",
       "    </tr>\n",
       "  </thead>\n",
       "  <tbody>\n",
       "    <tr>\n",
       "      <th>0</th>\n",
       "      <td>1.0</td>\n",
       "      <td>60.059998</td>\n",
       "      <td>0.00000</td>\n",
       "    </tr>\n",
       "    <tr>\n",
       "      <th>1</th>\n",
       "      <td>2.0</td>\n",
       "      <td>96.052315</td>\n",
       "      <td>0.00000</td>\n",
       "    </tr>\n",
       "    <tr>\n",
       "      <th>2</th>\n",
       "      <td>3.0</td>\n",
       "      <td>91.160157</td>\n",
       "      <td>0.00000</td>\n",
       "    </tr>\n",
       "    <tr>\n",
       "      <th>3</th>\n",
       "      <td>4.0</td>\n",
       "      <td>89.063515</td>\n",
       "      <td>0.00000</td>\n",
       "    </tr>\n",
       "    <tr>\n",
       "      <th>4</th>\n",
       "      <td>5.0</td>\n",
       "      <td>89.238236</td>\n",
       "      <td>9.11456</td>\n",
       "    </tr>\n",
       "  </tbody>\n",
       "</table>\n",
       "</div>"
      ],
      "text/plain": [
       "   key     wire_1   wire_2\n",
       "0  1.0  60.059998  0.00000\n",
       "1  2.0  96.052315  0.00000\n",
       "2  3.0  91.160157  0.00000\n",
       "3  4.0  89.063515  0.00000\n",
       "4  5.0  89.238236  9.11456"
      ]
     },
     "execution_count": 37,
     "metadata": {},
     "output_type": "execute_result"
    }
   ],
   "source": [
    "data_wire_final.head()"
   ]
  },
  {
   "cell_type": "markdown",
   "id": "f1327941",
   "metadata": {},
   "source": [
    "### data_wire_time"
   ]
  },
  {
   "cell_type": "code",
   "execution_count": 38,
   "id": "c1570862",
   "metadata": {
    "scrolled": true
   },
   "outputs": [
    {
     "data": {
      "text/html": [
       "<div>\n",
       "<style scoped>\n",
       "    .dataframe tbody tr th:only-of-type {\n",
       "        vertical-align: middle;\n",
       "    }\n",
       "\n",
       "    .dataframe tbody tr th {\n",
       "        vertical-align: top;\n",
       "    }\n",
       "\n",
       "    .dataframe thead th {\n",
       "        text-align: right;\n",
       "    }\n",
       "</style>\n",
       "<table border=\"1\" class=\"dataframe\">\n",
       "  <thead>\n",
       "    <tr style=\"text-align: right;\">\n",
       "      <th></th>\n",
       "      <th>key</th>\n",
       "      <th>Wire 1</th>\n",
       "      <th>Wire 2</th>\n",
       "      <th>Wire 3</th>\n",
       "      <th>Wire 4</th>\n",
       "      <th>Wire 5</th>\n",
       "      <th>Wire 6</th>\n",
       "      <th>Wire 7</th>\n",
       "      <th>Wire 8</th>\n",
       "      <th>Wire 9</th>\n",
       "    </tr>\n",
       "  </thead>\n",
       "  <tbody>\n",
       "    <tr>\n",
       "      <th>0</th>\n",
       "      <td>1</td>\n",
       "      <td>2019-05-03 11:06:19</td>\n",
       "      <td>NaN</td>\n",
       "      <td>NaN</td>\n",
       "      <td>NaN</td>\n",
       "      <td>NaN</td>\n",
       "      <td>NaN</td>\n",
       "      <td>NaN</td>\n",
       "      <td>NaN</td>\n",
       "      <td>NaN</td>\n",
       "    </tr>\n",
       "    <tr>\n",
       "      <th>1</th>\n",
       "      <td>2</td>\n",
       "      <td>2019-05-03 11:36:50</td>\n",
       "      <td>NaN</td>\n",
       "      <td>NaN</td>\n",
       "      <td>NaN</td>\n",
       "      <td>NaN</td>\n",
       "      <td>NaN</td>\n",
       "      <td>NaN</td>\n",
       "      <td>NaN</td>\n",
       "      <td>NaN</td>\n",
       "    </tr>\n",
       "    <tr>\n",
       "      <th>2</th>\n",
       "      <td>3</td>\n",
       "      <td>2019-05-03 12:11:46</td>\n",
       "      <td>NaN</td>\n",
       "      <td>NaN</td>\n",
       "      <td>NaN</td>\n",
       "      <td>NaN</td>\n",
       "      <td>NaN</td>\n",
       "      <td>NaN</td>\n",
       "      <td>NaN</td>\n",
       "      <td>NaN</td>\n",
       "    </tr>\n",
       "    <tr>\n",
       "      <th>3</th>\n",
       "      <td>4</td>\n",
       "      <td>2019-05-03 12:43:22</td>\n",
       "      <td>NaN</td>\n",
       "      <td>NaN</td>\n",
       "      <td>NaN</td>\n",
       "      <td>NaN</td>\n",
       "      <td>NaN</td>\n",
       "      <td>NaN</td>\n",
       "      <td>NaN</td>\n",
       "      <td>NaN</td>\n",
       "    </tr>\n",
       "    <tr>\n",
       "      <th>4</th>\n",
       "      <td>5</td>\n",
       "      <td>2019-05-03 13:20:44</td>\n",
       "      <td>2019-05-03 13:15:34</td>\n",
       "      <td>NaN</td>\n",
       "      <td>NaN</td>\n",
       "      <td>NaN</td>\n",
       "      <td>NaN</td>\n",
       "      <td>NaN</td>\n",
       "      <td>NaN</td>\n",
       "      <td>NaN</td>\n",
       "    </tr>\n",
       "  </tbody>\n",
       "</table>\n",
       "</div>"
      ],
      "text/plain": [
       "   key               Wire 1               Wire 2 Wire 3 Wire 4 Wire 5 Wire 6  \\\n",
       "0    1  2019-05-03 11:06:19                  NaN    NaN    NaN    NaN    NaN   \n",
       "1    2  2019-05-03 11:36:50                  NaN    NaN    NaN    NaN    NaN   \n",
       "2    3  2019-05-03 12:11:46                  NaN    NaN    NaN    NaN    NaN   \n",
       "3    4  2019-05-03 12:43:22                  NaN    NaN    NaN    NaN    NaN   \n",
       "4    5  2019-05-03 13:20:44  2019-05-03 13:15:34    NaN    NaN    NaN    NaN   \n",
       "\n",
       "  Wire 7 Wire 8 Wire 9  \n",
       "0    NaN    NaN    NaN  \n",
       "1    NaN    NaN    NaN  \n",
       "2    NaN    NaN    NaN  \n",
       "3    NaN    NaN    NaN  \n",
       "4    NaN    NaN    NaN  "
      ]
     },
     "metadata": {},
     "output_type": "display_data"
    },
    {
     "name": "stdout",
     "output_type": "stream",
     "text": [
      "<class 'pandas.core.frame.DataFrame'>\n",
      "RangeIndex: 3081 entries, 0 to 3080\n",
      "Data columns (total 10 columns):\n",
      " #   Column  Non-Null Count  Dtype \n",
      "---  ------  --------------  ----- \n",
      " 0   key     3081 non-null   int64 \n",
      " 1   Wire 1  3055 non-null   object\n",
      " 2   Wire 2  1079 non-null   object\n",
      " 3   Wire 3  63 non-null     object\n",
      " 4   Wire 4  14 non-null     object\n",
      " 5   Wire 5  1 non-null      object\n",
      " 6   Wire 6  73 non-null     object\n",
      " 7   Wire 7  11 non-null     object\n",
      " 8   Wire 8  19 non-null     object\n",
      " 9   Wire 9  29 non-null     object\n",
      "dtypes: int64(1), object(9)\n",
      "memory usage: 240.8+ KB\n"
     ]
    },
    {
     "data": {
      "text/plain": [
       "None"
      ]
     },
     "metadata": {},
     "output_type": "display_data"
    },
    {
     "data": {
      "text/plain": [
       "key          0\n",
       "Wire 1      26\n",
       "Wire 2    2002\n",
       "Wire 3    3018\n",
       "Wire 4    3067\n",
       "Wire 5    3080\n",
       "Wire 6    3008\n",
       "Wire 7    3070\n",
       "Wire 8    3062\n",
       "Wire 9    3052\n",
       "dtype: int64"
      ]
     },
     "metadata": {},
     "output_type": "display_data"
    },
    {
     "data": {
      "text/plain": [
       "'Кол-во партий:'"
      ]
     },
     "metadata": {},
     "output_type": "display_data"
    },
    {
     "data": {
      "text/plain": [
       "3081"
      ]
     },
     "metadata": {},
     "output_type": "display_data"
    },
    {
     "data": {
      "text/html": [
       "<div>\n",
       "<style scoped>\n",
       "    .dataframe tbody tr th:only-of-type {\n",
       "        vertical-align: middle;\n",
       "    }\n",
       "\n",
       "    .dataframe tbody tr th {\n",
       "        vertical-align: top;\n",
       "    }\n",
       "\n",
       "    .dataframe thead th {\n",
       "        text-align: right;\n",
       "    }\n",
       "</style>\n",
       "<table border=\"1\" class=\"dataframe\">\n",
       "  <thead>\n",
       "    <tr style=\"text-align: right;\">\n",
       "      <th></th>\n",
       "      <th>key</th>\n",
       "      <th>Wire 1</th>\n",
       "      <th>Wire 2</th>\n",
       "      <th>Wire 3</th>\n",
       "      <th>Wire 4</th>\n",
       "      <th>Wire 5</th>\n",
       "      <th>Wire 6</th>\n",
       "      <th>Wire 7</th>\n",
       "      <th>Wire 8</th>\n",
       "      <th>Wire 9</th>\n",
       "    </tr>\n",
       "  </thead>\n",
       "  <tbody>\n",
       "    <tr>\n",
       "      <th>count</th>\n",
       "      <td>3081.000000</td>\n",
       "      <td>3055</td>\n",
       "      <td>1079</td>\n",
       "      <td>63</td>\n",
       "      <td>14</td>\n",
       "      <td>1</td>\n",
       "      <td>73</td>\n",
       "      <td>11</td>\n",
       "      <td>19</td>\n",
       "      <td>29</td>\n",
       "    </tr>\n",
       "    <tr>\n",
       "      <th>unique</th>\n",
       "      <td>NaN</td>\n",
       "      <td>3055</td>\n",
       "      <td>1079</td>\n",
       "      <td>63</td>\n",
       "      <td>14</td>\n",
       "      <td>1</td>\n",
       "      <td>73</td>\n",
       "      <td>11</td>\n",
       "      <td>19</td>\n",
       "      <td>29</td>\n",
       "    </tr>\n",
       "    <tr>\n",
       "      <th>top</th>\n",
       "      <td>NaN</td>\n",
       "      <td>2019-07-24 23:17:09</td>\n",
       "      <td>2019-06-10 01:20:50</td>\n",
       "      <td>2019-06-14 22:16:16</td>\n",
       "      <td>2019-05-07 15:19:17</td>\n",
       "      <td>2019-08-13 06:14:30</td>\n",
       "      <td>2019-07-27 19:15:43</td>\n",
       "      <td>2019-08-13 10:25:22</td>\n",
       "      <td>2019-05-14 15:07:59</td>\n",
       "      <td>2019-06-09 22:50:56</td>\n",
       "    </tr>\n",
       "    <tr>\n",
       "      <th>freq</th>\n",
       "      <td>NaN</td>\n",
       "      <td>1</td>\n",
       "      <td>1</td>\n",
       "      <td>1</td>\n",
       "      <td>1</td>\n",
       "      <td>1</td>\n",
       "      <td>1</td>\n",
       "      <td>1</td>\n",
       "      <td>1</td>\n",
       "      <td>1</td>\n",
       "    </tr>\n",
       "    <tr>\n",
       "      <th>mean</th>\n",
       "      <td>1623.426485</td>\n",
       "      <td>NaN</td>\n",
       "      <td>NaN</td>\n",
       "      <td>NaN</td>\n",
       "      <td>NaN</td>\n",
       "      <td>NaN</td>\n",
       "      <td>NaN</td>\n",
       "      <td>NaN</td>\n",
       "      <td>NaN</td>\n",
       "      <td>NaN</td>\n",
       "    </tr>\n",
       "    <tr>\n",
       "      <th>std</th>\n",
       "      <td>932.996726</td>\n",
       "      <td>NaN</td>\n",
       "      <td>NaN</td>\n",
       "      <td>NaN</td>\n",
       "      <td>NaN</td>\n",
       "      <td>NaN</td>\n",
       "      <td>NaN</td>\n",
       "      <td>NaN</td>\n",
       "      <td>NaN</td>\n",
       "      <td>NaN</td>\n",
       "    </tr>\n",
       "    <tr>\n",
       "      <th>min</th>\n",
       "      <td>1.000000</td>\n",
       "      <td>NaN</td>\n",
       "      <td>NaN</td>\n",
       "      <td>NaN</td>\n",
       "      <td>NaN</td>\n",
       "      <td>NaN</td>\n",
       "      <td>NaN</td>\n",
       "      <td>NaN</td>\n",
       "      <td>NaN</td>\n",
       "      <td>NaN</td>\n",
       "    </tr>\n",
       "    <tr>\n",
       "      <th>25%</th>\n",
       "      <td>823.000000</td>\n",
       "      <td>NaN</td>\n",
       "      <td>NaN</td>\n",
       "      <td>NaN</td>\n",
       "      <td>NaN</td>\n",
       "      <td>NaN</td>\n",
       "      <td>NaN</td>\n",
       "      <td>NaN</td>\n",
       "      <td>NaN</td>\n",
       "      <td>NaN</td>\n",
       "    </tr>\n",
       "    <tr>\n",
       "      <th>50%</th>\n",
       "      <td>1619.000000</td>\n",
       "      <td>NaN</td>\n",
       "      <td>NaN</td>\n",
       "      <td>NaN</td>\n",
       "      <td>NaN</td>\n",
       "      <td>NaN</td>\n",
       "      <td>NaN</td>\n",
       "      <td>NaN</td>\n",
       "      <td>NaN</td>\n",
       "      <td>NaN</td>\n",
       "    </tr>\n",
       "    <tr>\n",
       "      <th>75%</th>\n",
       "      <td>2434.000000</td>\n",
       "      <td>NaN</td>\n",
       "      <td>NaN</td>\n",
       "      <td>NaN</td>\n",
       "      <td>NaN</td>\n",
       "      <td>NaN</td>\n",
       "      <td>NaN</td>\n",
       "      <td>NaN</td>\n",
       "      <td>NaN</td>\n",
       "      <td>NaN</td>\n",
       "    </tr>\n",
       "    <tr>\n",
       "      <th>max</th>\n",
       "      <td>3241.000000</td>\n",
       "      <td>NaN</td>\n",
       "      <td>NaN</td>\n",
       "      <td>NaN</td>\n",
       "      <td>NaN</td>\n",
       "      <td>NaN</td>\n",
       "      <td>NaN</td>\n",
       "      <td>NaN</td>\n",
       "      <td>NaN</td>\n",
       "      <td>NaN</td>\n",
       "    </tr>\n",
       "  </tbody>\n",
       "</table>\n",
       "</div>"
      ],
      "text/plain": [
       "                key               Wire 1               Wire 2  \\\n",
       "count   3081.000000                 3055                 1079   \n",
       "unique          NaN                 3055                 1079   \n",
       "top             NaN  2019-07-24 23:17:09  2019-06-10 01:20:50   \n",
       "freq            NaN                    1                    1   \n",
       "mean    1623.426485                  NaN                  NaN   \n",
       "std      932.996726                  NaN                  NaN   \n",
       "min        1.000000                  NaN                  NaN   \n",
       "25%      823.000000                  NaN                  NaN   \n",
       "50%     1619.000000                  NaN                  NaN   \n",
       "75%     2434.000000                  NaN                  NaN   \n",
       "max     3241.000000                  NaN                  NaN   \n",
       "\n",
       "                     Wire 3               Wire 4               Wire 5  \\\n",
       "count                    63                   14                    1   \n",
       "unique                   63                   14                    1   \n",
       "top     2019-06-14 22:16:16  2019-05-07 15:19:17  2019-08-13 06:14:30   \n",
       "freq                      1                    1                    1   \n",
       "mean                    NaN                  NaN                  NaN   \n",
       "std                     NaN                  NaN                  NaN   \n",
       "min                     NaN                  NaN                  NaN   \n",
       "25%                     NaN                  NaN                  NaN   \n",
       "50%                     NaN                  NaN                  NaN   \n",
       "75%                     NaN                  NaN                  NaN   \n",
       "max                     NaN                  NaN                  NaN   \n",
       "\n",
       "                     Wire 6               Wire 7               Wire 8  \\\n",
       "count                    73                   11                   19   \n",
       "unique                   73                   11                   19   \n",
       "top     2019-07-27 19:15:43  2019-08-13 10:25:22  2019-05-14 15:07:59   \n",
       "freq                      1                    1                    1   \n",
       "mean                    NaN                  NaN                  NaN   \n",
       "std                     NaN                  NaN                  NaN   \n",
       "min                     NaN                  NaN                  NaN   \n",
       "25%                     NaN                  NaN                  NaN   \n",
       "50%                     NaN                  NaN                  NaN   \n",
       "75%                     NaN                  NaN                  NaN   \n",
       "max                     NaN                  NaN                  NaN   \n",
       "\n",
       "                     Wire 9  \n",
       "count                    29  \n",
       "unique                   29  \n",
       "top     2019-06-09 22:50:56  \n",
       "freq                      1  \n",
       "mean                    NaN  \n",
       "std                     NaN  \n",
       "min                     NaN  \n",
       "25%                     NaN  \n",
       "50%                     NaN  \n",
       "75%                     NaN  \n",
       "max                     NaN  "
      ]
     },
     "metadata": {},
     "output_type": "display_data"
    }
   ],
   "source": [
    "get_data_info(data_wire_time)"
   ]
  },
  {
   "cell_type": "markdown",
   "id": "c66812bd",
   "metadata": {},
   "source": [
    "Информация в датасете это время подачи проволоки того или иного вида. Из данных можно почерпнуть время подачи проволок в сплав относительно начала процесса. Пока оставим эту информацию, учтем ее при корректировке качества модели, если это потребуется."
   ]
  },
  {
   "cell_type": "markdown",
   "id": "ceab554f",
   "metadata": {},
   "source": [
    "### Вывод\n"
   ]
  },
  {
   "cell_type": "markdown",
   "id": "1c71423f",
   "metadata": {},
   "source": [
    "Проведен исследовательский анализ  и предобработка данных по следущим пунктам:\n",
    "- стандартизаированы названия столбцов;\n",
    "- выявлены и обработаны пропуски в данных;\n",
    "- в датафреймах data_bulk b data_wire выявлены признаки с наполненностью менее 80%. Принято решение не использовать их при обучении модели;\n",
    "- выполнена оценка полноты данных фиксации технологического цикла файла data_temp. Исключены данные с единичными измерениями и температурным режимом менее 1500 градусов;\n",
    "- выделены в финальные таблицы признаки необходимые для построения модели;\n",
    "- добавлены новые признаки на основе исх.данных: полная мощность, работа, время нагрева, время нагрева дугой, кол-во райндов нагрева одной партии.\n"
   ]
  },
  {
   "cell_type": "markdown",
   "id": "5bedbe55",
   "metadata": {},
   "source": [
    "## Объединение данных"
   ]
  },
  {
   "cell_type": "markdown",
   "id": "e657daf3",
   "metadata": {},
   "source": [
    "Для дальнейшего анализа мы располагаем следущими файлами:\n",
    "- data_arc_final\n",
    "- data_bulk_final\n",
    "- data_gas_final\n",
    "- data_temp_final\n",
    "- data_wire_final\n",
    "\n",
    "Обьеденим эти файлы в один датафрейм. Воспользуемся функцией для этого процесса."
   ]
  },
  {
   "cell_type": "code",
   "execution_count": 39,
   "id": "da8babba",
   "metadata": {},
   "outputs": [],
   "source": [
    "df = data_arc_final.copy()"
   ]
  },
  {
   "cell_type": "code",
   "execution_count": 40,
   "id": "03b4d891",
   "metadata": {},
   "outputs": [],
   "source": [
    "def inner(data1, data2):\n",
    "    data1 = data1.merge(data2, on='key', how='inner')\n",
    "    return data1"
   ]
  },
  {
   "cell_type": "code",
   "execution_count": 41,
   "id": "4dc9fe81",
   "metadata": {
    "scrolled": true
   },
   "outputs": [
    {
     "data": {
      "text/html": [
       "<div>\n",
       "<style scoped>\n",
       "    .dataframe tbody tr th:only-of-type {\n",
       "        vertical-align: middle;\n",
       "    }\n",
       "\n",
       "    .dataframe tbody tr th {\n",
       "        vertical-align: top;\n",
       "    }\n",
       "\n",
       "    .dataframe thead th {\n",
       "        text-align: right;\n",
       "    }\n",
       "</style>\n",
       "<table border=\"1\" class=\"dataframe\">\n",
       "  <thead>\n",
       "    <tr style=\"text-align: right;\">\n",
       "      <th></th>\n",
       "      <th>full_power</th>\n",
       "      <th>time_arc_heating</th>\n",
       "      <th>rounds_heating</th>\n",
       "      <th>work</th>\n",
       "      <th>bulk_3</th>\n",
       "      <th>bulk_4</th>\n",
       "      <th>bulk_12</th>\n",
       "      <th>bulk_14</th>\n",
       "      <th>bulk_15</th>\n",
       "      <th>gas</th>\n",
       "      <th>first_temp</th>\n",
       "      <th>finish_temp</th>\n",
       "      <th>diff_time_temp</th>\n",
       "      <th>wire_1</th>\n",
       "      <th>wire_2</th>\n",
       "    </tr>\n",
       "  </thead>\n",
       "  <tbody>\n",
       "    <tr>\n",
       "      <th>2324</th>\n",
       "      <td>3.868721</td>\n",
       "      <td>723.0</td>\n",
       "      <td>4</td>\n",
       "      <td>2797.085270</td>\n",
       "      <td>21.0</td>\n",
       "      <td>0.0</td>\n",
       "      <td>256.0</td>\n",
       "      <td>129.0</td>\n",
       "      <td>223.0</td>\n",
       "      <td>7.125735</td>\n",
       "      <td>1570.0</td>\n",
       "      <td>1591.0</td>\n",
       "      <td>1380.0</td>\n",
       "      <td>89.150879</td>\n",
       "      <td>0.00000</td>\n",
       "    </tr>\n",
       "    <tr>\n",
       "      <th>2325</th>\n",
       "      <td>5.070316</td>\n",
       "      <td>940.0</td>\n",
       "      <td>6</td>\n",
       "      <td>4766.096882</td>\n",
       "      <td>0.0</td>\n",
       "      <td>63.0</td>\n",
       "      <td>256.0</td>\n",
       "      <td>129.0</td>\n",
       "      <td>226.0</td>\n",
       "      <td>9.412616</td>\n",
       "      <td>1554.0</td>\n",
       "      <td>1591.0</td>\n",
       "      <td>1705.0</td>\n",
       "      <td>114.179527</td>\n",
       "      <td>0.00000</td>\n",
       "    </tr>\n",
       "    <tr>\n",
       "      <th>2326</th>\n",
       "      <td>4.360918</td>\n",
       "      <td>569.0</td>\n",
       "      <td>3</td>\n",
       "      <td>2481.362162</td>\n",
       "      <td>0.0</td>\n",
       "      <td>85.0</td>\n",
       "      <td>230.0</td>\n",
       "      <td>124.0</td>\n",
       "      <td>226.0</td>\n",
       "      <td>6.271699</td>\n",
       "      <td>1571.0</td>\n",
       "      <td>1589.0</td>\n",
       "      <td>962.0</td>\n",
       "      <td>94.086723</td>\n",
       "      <td>9.04800</td>\n",
       "    </tr>\n",
       "    <tr>\n",
       "      <th>2327</th>\n",
       "      <td>3.909917</td>\n",
       "      <td>750.0</td>\n",
       "      <td>5</td>\n",
       "      <td>2932.437798</td>\n",
       "      <td>90.0</td>\n",
       "      <td>0.0</td>\n",
       "      <td>206.0</td>\n",
       "      <td>129.0</td>\n",
       "      <td>207.0</td>\n",
       "      <td>14.953657</td>\n",
       "      <td>1591.0</td>\n",
       "      <td>1594.0</td>\n",
       "      <td>1520.0</td>\n",
       "      <td>118.110717</td>\n",
       "      <td>0.00000</td>\n",
       "    </tr>\n",
       "    <tr>\n",
       "      <th>2328</th>\n",
       "      <td>2.169252</td>\n",
       "      <td>883.0</td>\n",
       "      <td>4</td>\n",
       "      <td>1915.449904</td>\n",
       "      <td>47.0</td>\n",
       "      <td>0.0</td>\n",
       "      <td>233.0</td>\n",
       "      <td>126.0</td>\n",
       "      <td>227.0</td>\n",
       "      <td>11.336151</td>\n",
       "      <td>1569.0</td>\n",
       "      <td>1603.0</td>\n",
       "      <td>1537.0</td>\n",
       "      <td>110.160958</td>\n",
       "      <td>50.00528</td>\n",
       "    </tr>\n",
       "  </tbody>\n",
       "</table>\n",
       "</div>"
      ],
      "text/plain": [
       "      full_power  time_arc_heating  rounds_heating         work  bulk_3  \\\n",
       "2324    3.868721             723.0               4  2797.085270    21.0   \n",
       "2325    5.070316             940.0               6  4766.096882     0.0   \n",
       "2326    4.360918             569.0               3  2481.362162     0.0   \n",
       "2327    3.909917             750.0               5  2932.437798    90.0   \n",
       "2328    2.169252             883.0               4  1915.449904    47.0   \n",
       "\n",
       "      bulk_4  bulk_12  bulk_14  bulk_15        gas  first_temp  finish_temp  \\\n",
       "2324     0.0    256.0    129.0    223.0   7.125735      1570.0       1591.0   \n",
       "2325    63.0    256.0    129.0    226.0   9.412616      1554.0       1591.0   \n",
       "2326    85.0    230.0    124.0    226.0   6.271699      1571.0       1589.0   \n",
       "2327     0.0    206.0    129.0    207.0  14.953657      1591.0       1594.0   \n",
       "2328     0.0    233.0    126.0    227.0  11.336151      1569.0       1603.0   \n",
       "\n",
       "      diff_time_temp      wire_1    wire_2  \n",
       "2324          1380.0   89.150879   0.00000  \n",
       "2325          1705.0  114.179527   0.00000  \n",
       "2326           962.0   94.086723   9.04800  \n",
       "2327          1520.0  118.110717   0.00000  \n",
       "2328          1537.0  110.160958  50.00528  "
      ]
     },
     "execution_count": 41,
     "metadata": {},
     "output_type": "execute_result"
    }
   ],
   "source": [
    "# обьеденим датафреймы в один\n",
    "df = inner(df, data_bulk_final)\n",
    "df = inner(df, data_gas_final)\n",
    "df = inner(df, data_temp_final)\n",
    "df = inner(df, data_wire_final)\n",
    "\n",
    "# удалим общий ключ\n",
    "df = df.drop('key', axis=1)\n",
    "#\n",
    "df.tail()"
   ]
  },
  {
   "cell_type": "code",
   "execution_count": 42,
   "id": "8460f58a",
   "metadata": {
    "scrolled": true
   },
   "outputs": [
    {
     "name": "stdout",
     "output_type": "stream",
     "text": [
      "<class 'pandas.core.frame.DataFrame'>\n",
      "Int64Index: 2329 entries, 0 to 2328\n",
      "Data columns (total 15 columns):\n",
      " #   Column            Non-Null Count  Dtype  \n",
      "---  ------            --------------  -----  \n",
      " 0   full_power        2329 non-null   float64\n",
      " 1   time_arc_heating  2329 non-null   float64\n",
      " 2   rounds_heating    2329 non-null   int64  \n",
      " 3   work              2329 non-null   float64\n",
      " 4   bulk_3            2329 non-null   float64\n",
      " 5   bulk_4            2329 non-null   float64\n",
      " 6   bulk_12           2329 non-null   float64\n",
      " 7   bulk_14           2329 non-null   float64\n",
      " 8   bulk_15           2329 non-null   float64\n",
      " 9   gas               2329 non-null   float64\n",
      " 10  first_temp        2329 non-null   float64\n",
      " 11  finish_temp       2329 non-null   float64\n",
      " 12  diff_time_temp    2329 non-null   float64\n",
      " 13  wire_1            2329 non-null   float64\n",
      " 14  wire_2            2329 non-null   float64\n",
      "dtypes: float64(14), int64(1)\n",
      "memory usage: 291.1 KB\n"
     ]
    }
   ],
   "source": [
    "df.info()"
   ]
  },
  {
   "cell_type": "markdown",
   "id": "503d3394",
   "metadata": {},
   "source": [
    "## Исследовательский анализ и предобработка данных объединённого датафрейма"
   ]
  },
  {
   "cell_type": "markdown",
   "id": "0756a2b2",
   "metadata": {},
   "source": [
    "В обьединенном датасете оказались 15 числовых не бинарных признаков.\n",
    "Исследуем их на наличие аномальных значений."
   ]
  },
  {
   "cell_type": "code",
   "execution_count": 43,
   "id": "e2604f2d",
   "metadata": {},
   "outputs": [],
   "source": [
    "def analyze_outliers(df, col):\n",
    "    '''поиск выбросов с помощью IQR'''\n",
    "    Q3 = np.quantile(df[col], 0.75, axis=0)\n",
    "    Q1 = np.quantile(df[col], 0.25, axis=0)\n",
    "    IQR = Q3 - Q1\n",
    "    upper = round(Q3 + 1.5*IQR, 2)\n",
    "    lower = round(Q1 - 1.5*IQR, 2)\n",
    "    if round(Q1 - 1.5 * IQR, 2) < 0:\n",
    "        lower = 0\n",
    "    print('____________________________________________________________________')\n",
    "    print(col)\n",
    "    print(f'интервал фактических значений для переменной {col} от {round(df[col].min(),2)} до {round(df[col].max(),2)}')\n",
    "    print(f'интервал нормальных значений для переменной {col} от {lower} до {upper}')\n",
    "\n",
    "    print(f'переменная {col} содержит аномальных значений: {round(df[(df[col]>upper)|(df[col]<lower)].shape[0]/df.shape[0]*100, 2)}%')\n",
    "\n",
    "    if df[(df[col] == 0)].shape[0]>0:\n",
    "        print(f'переменная {col} содержит нулевые значения {round(df[(df[col] == 0)].shape[0]/df.shape[0]*100, 2)}%')\n",
    "\n",
    "    return lower, upper"
   ]
  },
  {
   "cell_type": "code",
   "execution_count": 44,
   "id": "1bfbbf27",
   "metadata": {
    "scrolled": true
   },
   "outputs": [
    {
     "name": "stdout",
     "output_type": "stream",
     "text": [
      "____________________________________________________________________\n",
      "full_power\n",
      "интервал фактических значений для переменной full_power от 0.33 до 15.29\n",
      "интервал нормальных значений для переменной full_power от 0 до 7.66\n",
      "переменная full_power содержит аномальных значений: 1.46%\n",
      "____________________________________________________________________\n",
      "time_arc_heating\n",
      "интервал фактических значений для переменной time_arc_heating от 57.0 до 4189.0\n",
      "интервал нормальных значений для переменной time_arc_heating от 0 до 1611.0\n",
      "переменная time_arc_heating содержит аномальных значений: 1.8%\n",
      "____________________________________________________________________\n",
      "rounds_heating\n",
      "интервал фактических значений для переменной rounds_heating от 1 до 16\n",
      "интервал нормальных значений для переменной rounds_heating от 1.0 до 9.0\n",
      "переменная rounds_heating содержит аномальных значений: 0.73%\n",
      "____________________________________________________________________\n",
      "work\n",
      "интервал фактических значений для переменной work от 33.43 до 64042.57\n",
      "интервал нормальных значений для переменной work от 0 до 8724.35\n",
      "переменная work содержит аномальных значений: 4.04%\n",
      "____________________________________________________________________\n",
      "bulk_3\n",
      "интервал фактических значений для переменной bulk_3 от 0.0 до 454.0\n",
      "интервал нормальных значений для переменной bulk_3 от 0 до 200.0\n",
      "переменная bulk_3 содержит аномальных значений: 5.54%\n",
      "переменная bulk_3 содержит нулевые значения 58.78%\n",
      "____________________________________________________________________\n",
      "bulk_4\n",
      "интервал фактических значений для переменной bulk_4 от 0.0 до 281.0\n",
      "интервал нормальных значений для переменной bulk_4 от 0 до 192.5\n",
      "переменная bulk_4 содержит аномальных значений: 1.98%\n",
      "переменная bulk_4 содержит нулевые значения 65.14%\n",
      "____________________________________________________________________\n",
      "bulk_12\n",
      "интервал фактических значений для переменной bulk_12 от 0.0 до 1849.0\n",
      "интервал нормальных значений для переменной bulk_12 от 0 до 547.5\n",
      "переменная bulk_12 содержит аномальных значений: 1.37%\n",
      "переменная bulk_12 содержит нулевые значения 22.2%\n",
      "____________________________________________________________________\n",
      "bulk_14\n",
      "интервал фактических значений для переменной bulk_14 от 0.0 до 636.0\n",
      "интервал нормальных значений для переменной bulk_14 от 0 до 352.5\n",
      "переменная bulk_14 содержит аномальных значений: 1.2%\n",
      "переменная bulk_14 содержит нулевые значения 11.21%\n",
      "____________________________________________________________________\n",
      "bulk_15\n",
      "интервал фактических значений для переменной bulk_15 от 0.0 до 405.0\n",
      "интервал нормальных значений для переменной bulk_15 от 0 до 510.0\n",
      "переменная bulk_15 содержит аномальных значений: 0.0%\n",
      "переменная bulk_15 содержит нулевые значения 27.05%\n",
      "____________________________________________________________________\n",
      "gas\n",
      "интервал фактических значений для переменной gas от 0.01 до 78.0\n",
      "интервал нормальных значений для переменной gas от 0 до 24.62\n",
      "переменная gas содержит аномальных значений: 3.99%\n",
      "____________________________________________________________________\n",
      "first_temp\n",
      "интервал фактических значений для переменной first_temp от 1519.0 до 1660.0\n",
      "интервал нормальных значений для переменной first_temp от 1523.0 до 1651.0\n",
      "переменная first_temp содержит аномальных значений: 0.6%\n",
      "____________________________________________________________________\n",
      "finish_temp\n",
      "интервал фактических значений для переменной finish_temp от 1541.0 до 1653.0\n",
      "интервал нормальных значений для переменной finish_temp от 1570.5 до 1614.5\n",
      "переменная finish_temp содержит аномальных значений: 7.77%\n",
      "____________________________________________________________________\n",
      "diff_time_temp\n",
      "интервал фактических значений для переменной diff_time_temp от 270.0 до 23674.0\n",
      "интервал нормальных значений для переменной diff_time_temp от 0 до 4609.0\n",
      "переменная diff_time_temp содержит аномальных значений: 2.92%\n",
      "____________________________________________________________________\n",
      "wire_1\n",
      "интервал фактических значений для переменной wire_1 от 0.0 до 330.31\n",
      "интервал нормальных значений для переменной wire_1 от 0 до 210.42\n",
      "переменная wire_1 содержит аномальных значений: 1.2%\n",
      "переменная wire_1 содержит нулевые значения 0.99%\n",
      "____________________________________________________________________\n",
      "wire_2\n",
      "интервал фактических значений для переменной wire_2 от 0.0 до 282.78\n",
      "интервал нормальных значений для переменной wire_2 от 0 до 57.76\n",
      "переменная wire_2 содержит аномальных значений: 11.68%\n",
      "переменная wire_2 содержит нулевые значения 65.18%\n"
     ]
    }
   ],
   "source": [
    "for col in df.columns:\n",
    "    analyze_outliers(df, col)"
   ]
  },
  {
   "cell_type": "markdown",
   "id": "82cd184d",
   "metadata": {},
   "source": [
    "### Корреляция признаков"
   ]
  },
  {
   "cell_type": "code",
   "execution_count": 45,
   "id": "de14d27e",
   "metadata": {},
   "outputs": [
    {
     "data": {
      "image/png": "[encoded data removed]",
      "text/plain": [
       "<Figure size 1512x648 with 2 Axes>"
      ]
     },
     "metadata": {
      "needs_background": "light"
     },
     "output_type": "display_data"
    }
   ],
   "source": [
    "plt.figure(figsize=(21, 9))\n",
    "fig = sns.heatmap(df.corr().abs(), cmap=\"crest\", annot=True)\n",
    "plt.title('Корреляция признаков', fontsize=16)\n",
    "plt.setp(fig.get_xticklabels(), rotation=18)\n",
    "plt.show()"
   ]
  },
  {
   "cell_type": "markdown",
   "id": "f756cd11",
   "metadata": {},
   "source": [
    "В основном обьеме хитмеп довольно оптиместичный. Просматривается  высокая корреляция только между несколькими признаками: полной мощностью, работой, временем и количеством раундов нагрева. Выделим наиболее выжные из них после выбора конечной модели."
   ]
  },
  {
   "cell_type": "markdown",
   "id": "b5730e12",
   "metadata": {},
   "source": [
    "### Гистограммы  признаков."
   ]
  },
  {
   "cell_type": "markdown",
   "id": "d69c1bb8",
   "metadata": {},
   "source": [
    "Рассмотрим гистограммы по распределению признаков после обьединения.\n",
    "\n",
    "Для этого пропишем функцию построения гистограмм."
   ]
  },
  {
   "cell_type": "code",
   "execution_count": 46,
   "id": "f3765fba",
   "metadata": {},
   "outputs": [],
   "source": [
    "def bar(data, row, row_rus, unit):\n",
    "    data[row].plot(title = 'Распределение {}'.format(row_rus.upper()),\n",
    "                          kind='hist', \n",
    "                          bins=200, \n",
    "                          grid=True, \n",
    "                          legend=True,\n",
    "                          figsize=(20, 5),\n",
    "                          alpha=0.5,\n",
    "                         ).set(xlabel=unit, ylabel='количество партий') \n",
    "    \n",
    "    plt.show()"
   ]
  },
  {
   "cell_type": "markdown",
   "id": "238fb5b5",
   "metadata": {},
   "source": [
    "Рассмотрим графики распределения группами признаков сходных по технологическому процессу."
   ]
  },
  {
   "cell_type": "code",
   "execution_count": 47,
   "id": "191ef193",
   "metadata": {
    "scrolled": true
   },
   "outputs": [
    {
     "data": {
      "image/png": "[encoded data removed]",
      "text/plain": [
       "<Figure size 1440x360 with 1 Axes>"
      ]
     },
     "metadata": {
      "needs_background": "light"
     },
     "output_type": "display_data"
    }
   ],
   "source": [
    "bar(df, 'full_power','полной мощности', 'кВА')"
   ]
  },
  {
   "cell_type": "code",
   "execution_count": 48,
   "id": "8e06f34f",
   "metadata": {
    "scrolled": true
   },
   "outputs": [
    {
     "data": {
      "image/png": "[encoded data removed]",
      "text/plain": [
       "<Figure size 1440x360 with 1 Axes>"
      ]
     },
     "metadata": {
      "needs_background": "light"
     },
     "output_type": "display_data"
    }
   ],
   "source": [
    "bar(df, 'time_arc_heating','времени нагрева дугой', 'с')"
   ]
  },
  {
   "cell_type": "code",
   "execution_count": 49,
   "id": "7f84e1a8",
   "metadata": {},
   "outputs": [
    {
     "data": {
      "image/png": "[encoded data removed]",
      "text/plain": [
       "<Figure size 1440x360 with 1 Axes>"
      ]
     },
     "metadata": {
      "needs_background": "light"
     },
     "output_type": "display_data"
    }
   ],
   "source": [
    "bar(df, 'gas','обьема продуваемого газа', 'обьем газа')"
   ]
  },
  {
   "cell_type": "code",
   "execution_count": 50,
   "id": "b0c817bd",
   "metadata": {},
   "outputs": [
    {
     "data": {
      "image/png": "[encoded data removed]",
      "text/plain": [
       "<Figure size 1440x360 with 1 Axes>"
      ]
     },
     "metadata": {
      "needs_background": "light"
     },
     "output_type": "display_data"
    }
   ],
   "source": [
    "bar(df, 'first_temp','температуры начала нагрева', 'градусы Цельсия')"
   ]
  },
  {
   "cell_type": "code",
   "execution_count": 51,
   "id": "5d858049",
   "metadata": {},
   "outputs": [
    {
     "data": {
      "image/png": "[encoded data removed]",
      "text/plain": [
       "<Figure size 1440x360 with 1 Axes>"
      ]
     },
     "metadata": {
      "needs_background": "light"
     },
     "output_type": "display_data"
    }
   ],
   "source": [
    "bar(df, 'finish_temp','ремпературы окончания нагрева', 'градусы Цельсия')"
   ]
  },
  {
   "cell_type": "markdown",
   "id": "31191343",
   "metadata": {},
   "source": [
    "В целом распределение данных близко к нормальному. Есть пиковые показатели и крайне высокие показатели полной мощности/времени нагрева дугой/обьема газа. Избавиться от них с помощью квантилей распределения выглядит вполне логичным. Это возможно будет сделать после разделения данных на тренировочный и тестовый датасеты. "
   ]
  },
  {
   "cell_type": "code",
   "execution_count": 52,
   "id": "65cb2c4d",
   "metadata": {},
   "outputs": [
    {
     "data": {
      "image/png": "[encoded data removed]",
      "text/plain": [
       "<Figure size 1440x360 with 1 Axes>"
      ]
     },
     "metadata": {
      "needs_background": "light"
     },
     "output_type": "display_data"
    }
   ],
   "source": [
    "bar(df, 'diff_time_temp','времени нагрева', 'с')"
   ]
  },
  {
   "cell_type": "code",
   "execution_count": 53,
   "id": "559940b5",
   "metadata": {
    "scrolled": true
   },
   "outputs": [
    {
     "data": {
      "image/png": "[encoded data removed]",
      "text/plain": [
       "<Figure size 1440x360 with 1 Axes>"
      ]
     },
     "metadata": {
      "needs_background": "light"
     },
     "output_type": "display_data"
    }
   ],
   "source": [
    "bar(df, 'work','работы', 'Дж')"
   ]
  },
  {
   "cell_type": "markdown",
   "id": "6b6c2039",
   "metadata": {},
   "source": [
    "Графики распределения работы и времени нагрева так же демонстрируют нормальное распределение данных, но уже со сдвигом пика влево. Так же присутствуют редкие, критически высокие показатели в данных."
   ]
  },
  {
   "cell_type": "code",
   "execution_count": 54,
   "id": "375bf902",
   "metadata": {},
   "outputs": [
    {
     "data": {
      "image/png": "[encoded data removed]",
      "text/plain": [
       "<Figure size 1440x360 with 1 Axes>"
      ]
     },
     "metadata": {
      "needs_background": "light"
     },
     "output_type": "display_data"
    }
   ],
   "source": [
    "bar(df, 'rounds_heating','количесва нагревов дугой', 'кол-во нагревов')"
   ]
  },
  {
   "cell_type": "markdown",
   "id": "769d3844",
   "metadata": {},
   "source": [
    "Для данного признака гистограмма похожа больше на диаграмму, т.к. представлен количественный признак категорального характера."
   ]
  },
  {
   "cell_type": "code",
   "execution_count": 55,
   "id": "ad6cebbf",
   "metadata": {
    "scrolled": true
   },
   "outputs": [
    {
     "data": {
      "image/png": "[encoded data removed]",
      "text/plain": [
       "<Figure size 1440x360 with 1 Axes>"
      ]
     },
     "metadata": {
      "needs_background": "light"
     },
     "output_type": "display_data"
    },
    {
     "data": {
      "image/png": "[encoded data removed]",
      "text/plain": [
       "<Figure size 1440x360 with 1 Axes>"
      ]
     },
     "metadata": {
      "needs_background": "light"
     },
     "output_type": "display_data"
    },
    {
     "data": {
      "image/png": "[encoded data removed]",
      "text/plain": [
       "<Figure size 1440x360 with 1 Axes>"
      ]
     },
     "metadata": {
      "needs_background": "light"
     },
     "output_type": "display_data"
    },
    {
     "data": {
      "image/png": "[encoded data removed]",
      "text/plain": [
       "<Figure size 1440x360 with 1 Axes>"
      ]
     },
     "metadata": {
      "needs_background": "light"
     },
     "output_type": "display_data"
    },
    {
     "data": {
      "image/png": "[encoded data removed]",
      "text/plain": [
       "<Figure size 1440x360 with 1 Axes>"
      ]
     },
     "metadata": {
      "needs_background": "light"
     },
     "output_type": "display_data"
    }
   ],
   "source": [
    "bulk_all = ['bulk_3', 'bulk_4', 'bulk_12', 'bulk_14', 'bulk_15']\n",
    "for bulk in bulk_all:\n",
    "    bar(df, bulk, bulk, 'обьем материала')"
   ]
  },
  {
   "cell_type": "code",
   "execution_count": 56,
   "id": "50f26f07",
   "metadata": {},
   "outputs": [
    {
     "data": {
      "image/png": "[encoded data removed]",
      "text/plain": [
       "<Figure size 1440x360 with 1 Axes>"
      ]
     },
     "metadata": {
      "needs_background": "light"
     },
     "output_type": "display_data"
    }
   ],
   "source": [
    "bar(df, 'wire_1','объёма подаваемых проволочных материалов wire_1', 'обьем материала')"
   ]
  },
  {
   "cell_type": "code",
   "execution_count": 57,
   "id": "b92731be",
   "metadata": {
    "scrolled": false
   },
   "outputs": [
    {
     "data": {
      "image/png": "[encoded data removed]",
      "text/plain": [
       "<Figure size 1440x360 with 1 Axes>"
      ]
     },
     "metadata": {
      "needs_background": "light"
     },
     "output_type": "display_data"
    }
   ],
   "source": [
    "bar(df, 'wire_2','объёма подаваемых проволочных материалов wire_2', 'обьем материала')"
   ]
  },
  {
   "cell_type": "markdown",
   "id": "060801ce",
   "metadata": {},
   "source": [
    "В данных об объемах сыпучих и проволочных материалов явно заметны нулевые значения. Эти показатели не случайны и не являются выбросами, т.к. объясняются технологическим процессом: в каждой партии может использоваться индивидуальное кол-во добавляемых материалов в разных объемах. Яркие пиковые значения обьясняются применением мерной дозировки подачи того или иного материала в сплав. "
   ]
  },
  {
   "cell_type": "markdown",
   "id": "3420a3d1",
   "metadata": {},
   "source": [
    "### Вывод\n",
    "\n",
    "Проведено исследование объединенного датасета df.\n",
    "\n",
    "По каждому признаку:\n",
    "- выявлены интервалы фактических и нормальных значений,\n",
    "- подсчитано процентное содержание аномальных и нулевых значений,\n",
    "- построены гистограммы распределения признаков,\n",
    "- рассчитаны корреляции с остальными признаками.\n",
    "\n",
    "Приктически во всех признаках наблюдается небольшое количество аномальныч значений - до 7,7%.\n",
    "В материальных признаках выявлены нулевые значения обусловленные производственным процессом. \n",
    "Матрица корреляции показала группу из 4-х признаков с высокими показателями: full_power, time_arc_heating, rounds_heating и\twork. Все эти признаки были созданы в процессе предобработки данных. Для оценки значимости признаков в паре высокой корреляции необходимо будет воспользоваться оценкой значимости персонально для каждой модели прогнозирования."
   ]
  },
  {
   "cell_type": "markdown",
   "id": "95a4cf84",
   "metadata": {},
   "source": [
    "## Подготовка данных"
   ]
  },
  {
   "cell_type": "markdown",
   "id": "a3fece25",
   "metadata": {},
   "source": [
    "### Выделение целевого признака"
   ]
  },
  {
   "cell_type": "code",
   "execution_count": 73,
   "id": "1b15668a",
   "metadata": {},
   "outputs": [],
   "source": [
    "# все признаки\n",
    "features = df.drop(columns='finish_temp')\n",
    "\n",
    "# целевой признак\n",
    "target = df['finish_temp']"
   ]
  },
  {
   "cell_type": "markdown",
   "id": "444a321f",
   "metadata": {},
   "source": [
    "### Разделение на тренировочную и тестовую выборки"
   ]
  },
  {
   "cell_type": "code",
   "execution_count": 74,
   "id": "72861bd2",
   "metadata": {},
   "outputs": [
    {
     "name": "stdout",
     "output_type": "stream",
     "text": [
      "Объемы выборок: Тренировочная (1746, 14) Тестовая (583, 14)\n"
     ]
    }
   ],
   "source": [
    "# Разделяем преобразованный датасет на выборки\n",
    "features_train, features_test, target_train, target_test = train_test_split(\n",
    "    features, target, test_size=0.25, random_state=RANDOM_STATE, shuffle=True\n",
    ")\n",
    "print('Объемы выборок:',\n",
    "      'Тренировочная', features_train.shape,\n",
    "      'Тестовая', features_test.shape)"
   ]
  },
  {
   "cell_type": "markdown",
   "id": "52aac37a",
   "metadata": {},
   "source": [
    "Удалим выбросы по основным значимым признакам тренировочной выборки."
   ]
  },
  {
   "cell_type": "code",
   "execution_count": 75,
   "id": "d9f8e888",
   "metadata": {},
   "outputs": [
    {
     "name": "stdout",
     "output_type": "stream",
     "text": [
      "(1710,) (1710, 14)\n"
     ]
    }
   ],
   "source": [
    "# отфильтруем признаки по значениям квантилей.\n",
    "features_train = features_train.query('full_power < 8 and time_arc_heating < 1660')\n",
    "target_train = target_train[target_train.index.isin(features_train.index)]\n",
    "\n",
    "print(target_train.shape,\n",
    "      features_train.shape)"
   ]
  },
  {
   "cell_type": "markdown",
   "id": "188d8c1c",
   "metadata": {},
   "source": [
    "### Вывод\n",
    "\n",
    "В данных выделен целевой пизнак, они разделены на обучающую и тестовую выборки в соотношении 75/25. Удалены выбросы по столбцам полной мощности и времени нагрева. Данные подготовлены к построению моделей. "
   ]
  },
  {
   "cell_type": "markdown",
   "id": "b8b51416",
   "metadata": {},
   "source": [
    "## Обучение моделей машинного обучения"
   ]
  },
  {
   "cell_type": "markdown",
   "id": "1a7e54ec",
   "metadata": {},
   "source": [
    "Перед нами стоит задача регресии, значит отберем следующие модели для обучения:\n",
    "- LinearRegression,\n",
    "- RandomForestRegressor,\n",
    "- CatBoostRegressor.\n",
    "\n",
    "\n",
    "**Выполним поиск лучшей модели для предсказаний**"
   ]
  },
  {
   "cell_type": "markdown",
   "id": "500f208c",
   "metadata": {},
   "source": [
    "В качестве **baseline** модели будем использовать DummyRegressor."
   ]
  },
  {
   "cell_type": "code",
   "execution_count": 76,
   "id": "82402b00",
   "metadata": {},
   "outputs": [
    {
     "name": "stdout",
     "output_type": "stream",
     "text": [
      "RMSE на тестовой выборке: 7.9336\n"
     ]
    }
   ],
   "source": [
    "dummy_regr = DummyRegressor(strategy=\"mean\")\n",
    "dummy_regr.fit(features_train, target_train)\n",
    "dummy_regr_pred = dummy_regr.predict(features_train)\n",
    "dummy_regr_mae = mean_absolute_error(target_train, dummy_regr_pred)\n",
    "print(f'RMSE на тестовой выборке: {dummy_regr_mae:.4f}')"
   ]
  },
  {
   "cell_type": "markdown",
   "id": "bdb889c2",
   "metadata": {},
   "source": [
    "### Линейная регрессия"
   ]
  },
  {
   "cell_type": "markdown",
   "id": "e5ee0ffd",
   "metadata": {},
   "source": [
    "Перед построением линейной модели удалим из датасета признаки из сильно коррелирующих пар.\n",
    "Пренебрежем work и rounds_heating, т.к. full_power и time_arc_heating основные признаки в данных."
   ]
  },
  {
   "cell_type": "code",
   "execution_count": 77,
   "id": "4871e88e",
   "metadata": {},
   "outputs": [],
   "source": [
    "features_train_lr = features_train.drop(columns=['work', 'rounds_heating'])"
   ]
  },
  {
   "cell_type": "code",
   "execution_count": 78,
   "id": "f859b140",
   "metadata": {},
   "outputs": [],
   "source": [
    "#кодирование признаков: все признаки масштабируются.\n",
    "col_transformer_lr = make_column_transformer(\n",
    "    (\n",
    "        StandardScaler(),\n",
    "        features_train_lr.select_dtypes(exclude='int').columns.to_list()\n",
    "    ),\n",
    "    remainder='passthrough'\n",
    ")"
   ]
  },
  {
   "cell_type": "code",
   "execution_count": 79,
   "id": "03be389e",
   "metadata": {},
   "outputs": [
    {
     "name": "stdout",
     "output_type": "stream",
     "text": [
      "RMSE на тестовой выборке: 5.9473\n"
     ]
    }
   ],
   "source": [
    "model_lr = LinearRegression()\n",
    "\n",
    "pipline_lr = make_pipeline(col_transformer_lr,  model_lr)\n",
    "\n",
    "params = {}\n",
    "\n",
    "grid_lr = GridSearchCV(pipline_lr, \n",
    "                       params, \n",
    "                       cv=5, \n",
    "                       scoring='neg_mean_absolute_error')\n",
    "\n",
    "grid_lr.fit(features_train_lr, target_train)\n",
    "\n",
    "grid_lr_best_score = abs(grid_lr.best_score_)\n",
    "\n",
    "# лучшее значение RMSE на кросс-валидации\n",
    "print(f'RMSE на тестовой выборке: {grid_lr_best_score:.4f}')"
   ]
  },
  {
   "cell_type": "markdown",
   "id": "b5ed7293",
   "metadata": {},
   "source": [
    "### Cлучайный лес"
   ]
  },
  {
   "cell_type": "code",
   "execution_count": 80,
   "id": "743e75c7",
   "metadata": {},
   "outputs": [
    {
     "name": "stdout",
     "output_type": "stream",
     "text": [
      "Лучшее значение метрики качества (train): 6.0111\n",
      "Лучшие гиперпараметры: {'randomforestregressor__bootstrap': True, 'randomforestregressor__max_depth': 15, 'randomforestregressor__min_samples_split': 8, 'randomforestregressor__n_estimators': 100, 'randomforestregressor__random_state': None}\n"
     ]
    }
   ],
   "source": [
    "#кодирование признаков: все признаки масштабируются.\n",
    "col_transformer_forest = make_column_transformer(\n",
    "    (\n",
    "        StandardScaler(),\n",
    "        features_train.select_dtypes(exclude='int').columns.to_list()\n",
    "    ),\n",
    "    remainder='passthrough'\n",
    ")\n",
    "model_forest = RandomForestRegressor()\n",
    "\n",
    "pipline_forest = make_pipeline(col_transformer_forest,  model_forest)\n",
    "\n",
    "params = {'randomforestregressor__n_estimators': [100], #исходный диапазон[90, 100, 120],\n",
    "          'randomforestregressor__max_depth': [15], #исходный диапазон [10, 15, 20],\n",
    "          'randomforestregressor__min_samples_split': [8], #исходный диапазон [6, 8, 10],\n",
    "          'randomforestregressor__bootstrap': [True, False],\n",
    "          'randomforestregressor__random_state': [RANDOM_STATE]\n",
    "         }\n",
    "\n",
    "grid_forest = GridSearchCV(pipline_forest, \n",
    "                       params, \n",
    "                       cv=5, \n",
    "                       scoring='neg_mean_absolute_error')\n",
    "\n",
    "grid_forest.fit(features_train, target_train)\n",
    "\n",
    "grid_forest_best_score = abs(grid_forest.best_score_)\n",
    "\n",
    "\n",
    "best_params_forest = grid_forest.best_params_\n",
    "grid_forest_best_score = abs(grid_forest.best_score_) \n",
    "\n",
    "print(f'Лучшее значение метрики качества (train): {grid_forest_best_score:.4f}')\n",
    "print(f'Лучшие гиперпараметры: {best_params_forest}')"
   ]
  },
  {
   "cell_type": "markdown",
   "id": "b655b402",
   "metadata": {},
   "source": [
    "Лучшее значение метрики качества (train): 6.0111\n",
    "Лучшие гиперпараметры: {'bootstrap': True, 'max_depth': 15, 'min_samples_split': 8, 'n_estimators': 100, 'random_state': None}"
   ]
  },
  {
   "cell_type": "markdown",
   "id": "f8c83275",
   "metadata": {},
   "source": [
    "### CatBoostRegressor \n",
    "без кодирования"
   ]
  },
  {
   "cell_type": "code",
   "execution_count": 81,
   "id": "ab990f76",
   "metadata": {},
   "outputs": [
    {
     "name": "stderr",
     "output_type": "stream",
     "text": [
      "/opt/conda/lib/python3.9/site-packages/sklearn/model_selection/_search.py:285: UserWarning: The total space of parameters 1 is smaller than n_iter=10. Running 1 iterations. For exhaustive searches, use GridSearchCV.\n",
      "  warnings.warn(\n"
     ]
    },
    {
     "name": "stdout",
     "output_type": "stream",
     "text": [
      "0:\tlearn: 10.8198094\ttotal: 2.08ms\tremaining: 623ms\n",
      "1:\tlearn: 10.6411934\ttotal: 4.07ms\tremaining: 606ms\n",
      "2:\tlearn: 10.4463241\ttotal: 5.84ms\tremaining: 578ms\n",
      "3:\tlearn: 10.2923206\ttotal: 7.66ms\tremaining: 567ms\n",
      "4:\tlearn: 10.1022413\ttotal: 9.5ms\tremaining: 561ms\n",
      "5:\tlearn: 9.9282823\ttotal: 11.3ms\tremaining: 556ms\n",
      "6:\tlearn: 9.7854666\ttotal: 13.1ms\tremaining: 548ms\n",
      "7:\tlearn: 9.6515045\ttotal: 15ms\tremaining: 546ms\n",
      "8:\tlearn: 9.5305654\ttotal: 16.7ms\tremaining: 539ms\n",
      "9:\tlearn: 9.4101477\ttotal: 18.5ms\tremaining: 538ms\n",
      "10:\tlearn: 9.3225035\ttotal: 20.4ms\tremaining: 535ms\n",
      "11:\tlearn: 9.1954953\ttotal: 22.2ms\tremaining: 533ms\n",
      "12:\tlearn: 9.1041545\ttotal: 24.1ms\tremaining: 532ms\n",
      "13:\tlearn: 9.0313443\ttotal: 25.9ms\tremaining: 528ms\n",
      "14:\tlearn: 8.9324510\ttotal: 27.6ms\tremaining: 524ms\n",
      "15:\tlearn: 8.8730419\ttotal: 29.4ms\tremaining: 521ms\n",
      "16:\tlearn: 8.7914743\ttotal: 31ms\tremaining: 516ms\n",
      "17:\tlearn: 8.7073817\ttotal: 32.8ms\tremaining: 513ms\n",
      "18:\tlearn: 8.6468349\ttotal: 34.6ms\tremaining: 511ms\n",
      "19:\tlearn: 8.5666233\ttotal: 36.2ms\tremaining: 507ms\n",
      "20:\tlearn: 8.5017922\ttotal: 38.1ms\tremaining: 506ms\n",
      "21:\tlearn: 8.4673075\ttotal: 39.9ms\tremaining: 504ms\n",
      "22:\tlearn: 8.4195615\ttotal: 41.6ms\tremaining: 501ms\n",
      "23:\tlearn: 8.3676867\ttotal: 43.3ms\tremaining: 498ms\n",
      "24:\tlearn: 8.3198199\ttotal: 45ms\tremaining: 495ms\n",
      "25:\tlearn: 8.2780960\ttotal: 46.7ms\tremaining: 492ms\n",
      "26:\tlearn: 8.2173846\ttotal: 49.2ms\tremaining: 497ms\n",
      "27:\tlearn: 8.1596576\ttotal: 50.8ms\tremaining: 494ms\n",
      "28:\tlearn: 8.1358656\ttotal: 52.7ms\tremaining: 492ms\n",
      "29:\tlearn: 8.1055941\ttotal: 54.5ms\tremaining: 491ms\n",
      "30:\tlearn: 8.0529790\ttotal: 56.2ms\tremaining: 488ms\n",
      "31:\tlearn: 8.0316269\ttotal: 58.1ms\tremaining: 486ms\n",
      "32:\tlearn: 7.9967307\ttotal: 59.8ms\tremaining: 483ms\n",
      "33:\tlearn: 7.9612487\ttotal: 61.6ms\tremaining: 482ms\n",
      "34:\tlearn: 7.9097219\ttotal: 63.3ms\tremaining: 479ms\n",
      "35:\tlearn: 7.8764826\ttotal: 65ms\tremaining: 477ms\n",
      "36:\tlearn: 7.8248495\ttotal: 66.7ms\tremaining: 474ms\n",
      "37:\tlearn: 7.8027214\ttotal: 68.4ms\tremaining: 472ms\n",
      "38:\tlearn: 7.7882188\ttotal: 70.2ms\tremaining: 469ms\n",
      "39:\tlearn: 7.7546525\ttotal: 71.9ms\tremaining: 467ms\n",
      "40:\tlearn: 7.7293655\ttotal: 73.8ms\tremaining: 466ms\n",
      "41:\tlearn: 7.7245583\ttotal: 75.5ms\tremaining: 464ms\n",
      "42:\tlearn: 7.6938421\ttotal: 77.5ms\tremaining: 463ms\n",
      "43:\tlearn: 7.6663841\ttotal: 79.3ms\tremaining: 461ms\n",
      "44:\tlearn: 7.6297635\ttotal: 81.1ms\tremaining: 459ms\n",
      "45:\tlearn: 7.6143651\ttotal: 82.8ms\tremaining: 457ms\n",
      "46:\tlearn: 7.6032259\ttotal: 84.6ms\tremaining: 456ms\n",
      "47:\tlearn: 7.5682895\ttotal: 86.6ms\tremaining: 454ms\n",
      "48:\tlearn: 7.5450828\ttotal: 88.4ms\tremaining: 453ms\n",
      "49:\tlearn: 7.5118443\ttotal: 90ms\tremaining: 450ms\n",
      "50:\tlearn: 7.5018956\ttotal: 91.7ms\tremaining: 448ms\n",
      "51:\tlearn: 7.4663054\ttotal: 93.4ms\tremaining: 446ms\n",
      "52:\tlearn: 7.4441826\ttotal: 95.2ms\tremaining: 443ms\n",
      "53:\tlearn: 7.4249052\ttotal: 96.8ms\tremaining: 441ms\n",
      "54:\tlearn: 7.3938994\ttotal: 98.7ms\tremaining: 439ms\n",
      "55:\tlearn: 7.3746771\ttotal: 100ms\tremaining: 437ms\n",
      "56:\tlearn: 7.3350125\ttotal: 102ms\tremaining: 436ms\n",
      "57:\tlearn: 7.3262982\ttotal: 104ms\tremaining: 434ms\n",
      "58:\tlearn: 7.3054169\ttotal: 106ms\tremaining: 432ms\n",
      "59:\tlearn: 7.2894875\ttotal: 108ms\tremaining: 430ms\n",
      "60:\tlearn: 7.2660298\ttotal: 110ms\tremaining: 429ms\n",
      "61:\tlearn: 7.2418215\ttotal: 111ms\tremaining: 428ms\n",
      "62:\tlearn: 7.1943071\ttotal: 113ms\tremaining: 426ms\n",
      "63:\tlearn: 7.1718353\ttotal: 115ms\tremaining: 424ms\n",
      "64:\tlearn: 7.1632024\ttotal: 117ms\tremaining: 422ms\n",
      "65:\tlearn: 7.1578067\ttotal: 118ms\tremaining: 420ms\n",
      "66:\tlearn: 7.1385189\ttotal: 120ms\tremaining: 419ms\n",
      "67:\tlearn: 7.0971924\ttotal: 122ms\tremaining: 416ms\n",
      "68:\tlearn: 7.0864572\ttotal: 124ms\tremaining: 415ms\n",
      "69:\tlearn: 7.0750075\ttotal: 126ms\tremaining: 413ms\n",
      "70:\tlearn: 7.0625941\ttotal: 127ms\tremaining: 411ms\n",
      "71:\tlearn: 7.0487285\ttotal: 129ms\tremaining: 409ms\n",
      "72:\tlearn: 7.0345324\ttotal: 131ms\tremaining: 407ms\n",
      "73:\tlearn: 6.9872183\ttotal: 133ms\tremaining: 405ms\n",
      "74:\tlearn: 6.9572409\ttotal: 134ms\tremaining: 403ms\n",
      "75:\tlearn: 6.9471998\ttotal: 136ms\tremaining: 401ms\n",
      "76:\tlearn: 6.9397141\ttotal: 138ms\tremaining: 399ms\n",
      "77:\tlearn: 6.9317892\ttotal: 140ms\tremaining: 398ms\n",
      "78:\tlearn: 6.9171230\ttotal: 141ms\tremaining: 396ms\n",
      "79:\tlearn: 6.9110059\ttotal: 143ms\tremaining: 394ms\n",
      "80:\tlearn: 6.8876890\ttotal: 145ms\tremaining: 392ms\n",
      "81:\tlearn: 6.8714980\ttotal: 147ms\tremaining: 390ms\n",
      "82:\tlearn: 6.8539217\ttotal: 148ms\tremaining: 388ms\n",
      "83:\tlearn: 6.8467614\ttotal: 150ms\tremaining: 386ms\n",
      "84:\tlearn: 6.8397519\ttotal: 152ms\tremaining: 384ms\n",
      "85:\tlearn: 6.7969157\ttotal: 154ms\tremaining: 382ms\n",
      "86:\tlearn: 6.7905363\ttotal: 155ms\tremaining: 380ms\n",
      "87:\tlearn: 6.7638693\ttotal: 157ms\tremaining: 378ms\n",
      "88:\tlearn: 6.7317894\ttotal: 159ms\tremaining: 376ms\n",
      "89:\tlearn: 6.7088659\ttotal: 160ms\tremaining: 374ms\n",
      "90:\tlearn: 6.6953716\ttotal: 162ms\tremaining: 372ms\n",
      "91:\tlearn: 6.6476627\ttotal: 164ms\tremaining: 371ms\n",
      "92:\tlearn: 6.6269399\ttotal: 166ms\tremaining: 369ms\n",
      "93:\tlearn: 6.6116528\ttotal: 168ms\tremaining: 367ms\n",
      "94:\tlearn: 6.5951601\ttotal: 170ms\tremaining: 367ms\n",
      "95:\tlearn: 6.5659156\ttotal: 172ms\tremaining: 366ms\n",
      "96:\tlearn: 6.5418277\ttotal: 174ms\tremaining: 364ms\n",
      "97:\tlearn: 6.5370004\ttotal: 176ms\tremaining: 362ms\n",
      "98:\tlearn: 6.5328677\ttotal: 177ms\tremaining: 360ms\n",
      "99:\tlearn: 6.5055969\ttotal: 179ms\tremaining: 358ms\n",
      "100:\tlearn: 6.4800021\ttotal: 181ms\tremaining: 356ms\n",
      "101:\tlearn: 6.4728662\ttotal: 182ms\tremaining: 354ms\n",
      "102:\tlearn: 6.4449621\ttotal: 184ms\tremaining: 352ms\n",
      "103:\tlearn: 6.4205195\ttotal: 186ms\tremaining: 351ms\n",
      "104:\tlearn: 6.4056567\ttotal: 188ms\tremaining: 349ms\n",
      "105:\tlearn: 6.3822209\ttotal: 190ms\tremaining: 347ms\n",
      "106:\tlearn: 6.3786356\ttotal: 191ms\tremaining: 345ms\n",
      "107:\tlearn: 6.3589043\ttotal: 193ms\tremaining: 343ms\n",
      "108:\tlearn: 6.3366818\ttotal: 195ms\tremaining: 341ms\n",
      "109:\tlearn: 6.3084314\ttotal: 197ms\tremaining: 340ms\n",
      "110:\tlearn: 6.2825761\ttotal: 198ms\tremaining: 338ms\n",
      "111:\tlearn: 6.2769690\ttotal: 200ms\tremaining: 336ms\n",
      "112:\tlearn: 6.2545579\ttotal: 202ms\tremaining: 334ms\n",
      "113:\tlearn: 6.2472148\ttotal: 205ms\tremaining: 334ms\n",
      "114:\tlearn: 6.2323985\ttotal: 207ms\tremaining: 333ms\n",
      "115:\tlearn: 6.2040366\ttotal: 209ms\tremaining: 332ms\n",
      "116:\tlearn: 6.1885201\ttotal: 211ms\tremaining: 330ms\n",
      "117:\tlearn: 6.1674867\ttotal: 213ms\tremaining: 329ms\n",
      "118:\tlearn: 6.1625463\ttotal: 215ms\tremaining: 327ms\n",
      "119:\tlearn: 6.1364236\ttotal: 217ms\tremaining: 325ms\n",
      "120:\tlearn: 6.1284425\ttotal: 219ms\tremaining: 323ms\n",
      "121:\tlearn: 6.1077858\ttotal: 221ms\tremaining: 322ms\n",
      "122:\tlearn: 6.0902685\ttotal: 222ms\tremaining: 320ms\n",
      "123:\tlearn: 6.0757596\ttotal: 224ms\tremaining: 318ms\n",
      "124:\tlearn: 6.0517743\ttotal: 226ms\tremaining: 316ms\n",
      "125:\tlearn: 6.0488625\ttotal: 227ms\tremaining: 314ms\n",
      "126:\tlearn: 6.0297283\ttotal: 229ms\tremaining: 312ms\n",
      "127:\tlearn: 6.0235127\ttotal: 232ms\tremaining: 311ms\n",
      "128:\tlearn: 6.0210538\ttotal: 234ms\tremaining: 310ms\n",
      "129:\tlearn: 6.0008223\ttotal: 237ms\tremaining: 310ms\n",
      "130:\tlearn: 5.9878164\ttotal: 239ms\tremaining: 308ms\n",
      "131:\tlearn: 5.9856544\ttotal: 241ms\tremaining: 307ms\n",
      "132:\tlearn: 5.9824595\ttotal: 243ms\tremaining: 305ms\n",
      "133:\tlearn: 5.9637918\ttotal: 244ms\tremaining: 303ms\n",
      "134:\tlearn: 5.9598612\ttotal: 246ms\tremaining: 301ms\n",
      "135:\tlearn: 5.9578113\ttotal: 248ms\tremaining: 299ms\n",
      "136:\tlearn: 5.9446363\ttotal: 250ms\tremaining: 298ms\n",
      "137:\tlearn: 5.9378125\ttotal: 252ms\tremaining: 296ms\n",
      "138:\tlearn: 5.9247722\ttotal: 254ms\tremaining: 294ms\n",
      "139:\tlearn: 5.9068987\ttotal: 255ms\tremaining: 292ms\n",
      "140:\tlearn: 5.8917235\ttotal: 257ms\tremaining: 290ms\n",
      "141:\tlearn: 5.8747823\ttotal: 259ms\tremaining: 288ms\n",
      "142:\tlearn: 5.8510176\ttotal: 261ms\tremaining: 286ms\n",
      "143:\tlearn: 5.8367449\ttotal: 262ms\tremaining: 284ms\n",
      "144:\tlearn: 5.8343673\ttotal: 264ms\tremaining: 282ms\n",
      "145:\tlearn: 5.8158236\ttotal: 266ms\tremaining: 280ms\n",
      "146:\tlearn: 5.7970840\ttotal: 267ms\tremaining: 278ms\n",
      "147:\tlearn: 5.7942305\ttotal: 270ms\tremaining: 278ms\n",
      "148:\tlearn: 5.7891530\ttotal: 273ms\tremaining: 276ms\n",
      "149:\tlearn: 5.7751976\ttotal: 275ms\tremaining: 275ms\n",
      "150:\tlearn: 5.7627795\ttotal: 278ms\tremaining: 274ms\n",
      "151:\tlearn: 5.7461026\ttotal: 281ms\tremaining: 273ms\n",
      "152:\tlearn: 5.7417060\ttotal: 284ms\tremaining: 272ms\n",
      "153:\tlearn: 5.7391306\ttotal: 286ms\tremaining: 271ms\n",
      "154:\tlearn: 5.7249940\ttotal: 289ms\tremaining: 270ms\n",
      "155:\tlearn: 5.7213134\ttotal: 291ms\tremaining: 268ms\n",
      "156:\tlearn: 5.6935878\ttotal: 292ms\tremaining: 266ms\n",
      "157:\tlearn: 5.6731791\ttotal: 294ms\tremaining: 264ms\n",
      "158:\tlearn: 5.6587508\ttotal: 296ms\tremaining: 262ms\n",
      "159:\tlearn: 5.6464400\ttotal: 298ms\tremaining: 260ms\n",
      "160:\tlearn: 5.6301301\ttotal: 299ms\tremaining: 258ms\n",
      "161:\tlearn: 5.6050137\ttotal: 301ms\tremaining: 256ms\n",
      "162:\tlearn: 5.5931712\ttotal: 303ms\tremaining: 254ms\n",
      "163:\tlearn: 5.5835721\ttotal: 304ms\tremaining: 252ms\n",
      "164:\tlearn: 5.5701637\ttotal: 306ms\tremaining: 251ms\n",
      "165:\tlearn: 5.5503179\ttotal: 308ms\tremaining: 249ms\n",
      "166:\tlearn: 5.5374055\ttotal: 310ms\tremaining: 247ms\n",
      "167:\tlearn: 5.5324232\ttotal: 311ms\tremaining: 245ms\n",
      "168:\tlearn: 5.5248285\ttotal: 313ms\tremaining: 243ms\n",
      "169:\tlearn: 5.5101562\ttotal: 315ms\tremaining: 241ms\n",
      "170:\tlearn: 5.5088177\ttotal: 317ms\tremaining: 239ms\n",
      "171:\tlearn: 5.4876622\ttotal: 318ms\tremaining: 237ms\n",
      "172:\tlearn: 5.4846320\ttotal: 320ms\tremaining: 235ms\n",
      "173:\tlearn: 5.4818569\ttotal: 322ms\tremaining: 233ms\n",
      "174:\tlearn: 5.4785033\ttotal: 323ms\tremaining: 231ms\n",
      "175:\tlearn: 5.4619941\ttotal: 325ms\tremaining: 229ms\n",
      "176:\tlearn: 5.4560186\ttotal: 327ms\tremaining: 227ms\n",
      "177:\tlearn: 5.4465850\ttotal: 329ms\tremaining: 225ms\n",
      "178:\tlearn: 5.4213272\ttotal: 330ms\tremaining: 223ms\n",
      "179:\tlearn: 5.4186344\ttotal: 333ms\tremaining: 222ms\n",
      "180:\tlearn: 5.4106998\ttotal: 335ms\tremaining: 220ms\n",
      "181:\tlearn: 5.3922972\ttotal: 336ms\tremaining: 218ms\n",
      "182:\tlearn: 5.3785473\ttotal: 338ms\tremaining: 216ms\n",
      "183:\tlearn: 5.3674346\ttotal: 340ms\tremaining: 215ms\n",
      "184:\tlearn: 5.3579320\ttotal: 342ms\tremaining: 213ms\n",
      "185:\tlearn: 5.3559838\ttotal: 344ms\tremaining: 211ms\n",
      "186:\tlearn: 5.3534234\ttotal: 347ms\tremaining: 210ms\n",
      "187:\tlearn: 5.3390937\ttotal: 349ms\tremaining: 208ms\n",
      "188:\tlearn: 5.3358488\ttotal: 351ms\tremaining: 206ms\n",
      "189:\tlearn: 5.3244679\ttotal: 352ms\tremaining: 204ms\n",
      "190:\tlearn: 5.3106779\ttotal: 354ms\tremaining: 202ms\n",
      "191:\tlearn: 5.3012423\ttotal: 356ms\tremaining: 200ms\n",
      "192:\tlearn: 5.2909690\ttotal: 358ms\tremaining: 198ms\n",
      "193:\tlearn: 5.2900373\ttotal: 360ms\tremaining: 196ms\n",
      "194:\tlearn: 5.2691351\ttotal: 361ms\tremaining: 195ms\n",
      "195:\tlearn: 5.2620950\ttotal: 363ms\tremaining: 193ms\n",
      "196:\tlearn: 5.2545350\ttotal: 365ms\tremaining: 191ms\n",
      "197:\tlearn: 5.2357168\ttotal: 367ms\tremaining: 189ms\n",
      "198:\tlearn: 5.2274956\ttotal: 368ms\tremaining: 187ms\n",
      "199:\tlearn: 5.2258254\ttotal: 370ms\tremaining: 185ms\n",
      "200:\tlearn: 5.2187318\ttotal: 372ms\tremaining: 183ms\n",
      "201:\tlearn: 5.2064061\ttotal: 374ms\tremaining: 181ms\n",
      "202:\tlearn: 5.1994597\ttotal: 376ms\tremaining: 180ms\n",
      "203:\tlearn: 5.1922813\ttotal: 378ms\tremaining: 178ms\n",
      "204:\tlearn: 5.1901432\ttotal: 379ms\tremaining: 176ms\n",
      "205:\tlearn: 5.1797552\ttotal: 381ms\tremaining: 174ms\n",
      "206:\tlearn: 5.1690239\ttotal: 383ms\tremaining: 172ms\n",
      "207:\tlearn: 5.1587866\ttotal: 385ms\tremaining: 170ms\n",
      "208:\tlearn: 5.1517673\ttotal: 387ms\tremaining: 168ms\n",
      "209:\tlearn: 5.1323510\ttotal: 388ms\tremaining: 166ms\n",
      "210:\tlearn: 5.1139762\ttotal: 390ms\tremaining: 165ms\n",
      "211:\tlearn: 5.1075170\ttotal: 392ms\tremaining: 163ms\n",
      "212:\tlearn: 5.1047657\ttotal: 394ms\tremaining: 161ms\n",
      "213:\tlearn: 5.1029155\ttotal: 395ms\tremaining: 159ms\n",
      "214:\tlearn: 5.0858575\ttotal: 397ms\tremaining: 157ms\n",
      "215:\tlearn: 5.0817028\ttotal: 399ms\tremaining: 155ms\n",
      "216:\tlearn: 5.0805545\ttotal: 401ms\tremaining: 153ms\n",
      "217:\tlearn: 5.0763361\ttotal: 402ms\tremaining: 151ms\n",
      "218:\tlearn: 5.0736314\ttotal: 404ms\tremaining: 150ms\n",
      "219:\tlearn: 5.0668110\ttotal: 406ms\tremaining: 148ms\n",
      "220:\tlearn: 5.0544261\ttotal: 408ms\tremaining: 146ms\n",
      "221:\tlearn: 5.0536829\ttotal: 410ms\tremaining: 144ms\n",
      "222:\tlearn: 5.0403736\ttotal: 411ms\tremaining: 142ms\n",
      "223:\tlearn: 5.0376094\ttotal: 413ms\tremaining: 140ms\n",
      "224:\tlearn: 5.0311439\ttotal: 415ms\tremaining: 138ms\n",
      "225:\tlearn: 5.0255608\ttotal: 417ms\tremaining: 136ms\n",
      "226:\tlearn: 5.0201917\ttotal: 418ms\tremaining: 135ms\n",
      "227:\tlearn: 5.0195577\ttotal: 420ms\tremaining: 133ms\n",
      "228:\tlearn: 5.0101807\ttotal: 422ms\tremaining: 131ms\n",
      "229:\tlearn: 5.0087626\ttotal: 424ms\tremaining: 129ms\n",
      "230:\tlearn: 5.0030853\ttotal: 425ms\tremaining: 127ms\n",
      "231:\tlearn: 4.9873593\ttotal: 427ms\tremaining: 125ms\n",
      "232:\tlearn: 4.9806643\ttotal: 429ms\tremaining: 123ms\n",
      "233:\tlearn: 4.9713128\ttotal: 431ms\tremaining: 122ms\n",
      "234:\tlearn: 4.9691678\ttotal: 433ms\tremaining: 120ms\n",
      "235:\tlearn: 4.9506432\ttotal: 434ms\tremaining: 118ms\n",
      "236:\tlearn: 4.9444635\ttotal: 436ms\tremaining: 116ms\n",
      "237:\tlearn: 4.9369786\ttotal: 438ms\tremaining: 114ms\n",
      "238:\tlearn: 4.9269472\ttotal: 440ms\tremaining: 112ms\n",
      "239:\tlearn: 4.9128040\ttotal: 442ms\tremaining: 110ms\n",
      "240:\tlearn: 4.9118484\ttotal: 443ms\tremaining: 109ms\n",
      "241:\tlearn: 4.8952332\ttotal: 445ms\tremaining: 107ms\n",
      "242:\tlearn: 4.8890352\ttotal: 447ms\tremaining: 105ms\n",
      "243:\tlearn: 4.8818307\ttotal: 449ms\tremaining: 103ms\n",
      "244:\tlearn: 4.8798362\ttotal: 450ms\tremaining: 101ms\n",
      "245:\tlearn: 4.8782704\ttotal: 452ms\tremaining: 99.2ms\n",
      "246:\tlearn: 4.8712059\ttotal: 454ms\tremaining: 97.4ms\n",
      "247:\tlearn: 4.8694015\ttotal: 456ms\tremaining: 95.5ms\n",
      "248:\tlearn: 4.8656906\ttotal: 457ms\tremaining: 93.7ms\n",
      "249:\tlearn: 4.8592286\ttotal: 459ms\tremaining: 91.8ms\n",
      "250:\tlearn: 4.8581692\ttotal: 461ms\tremaining: 89.9ms\n",
      "251:\tlearn: 4.8442661\ttotal: 463ms\tremaining: 88.1ms\n",
      "252:\tlearn: 4.8371346\ttotal: 464ms\tremaining: 86.3ms\n",
      "253:\tlearn: 4.8300374\ttotal: 466ms\tremaining: 84.4ms\n",
      "254:\tlearn: 4.8241221\ttotal: 468ms\tremaining: 82.6ms\n",
      "255:\tlearn: 4.8210689\ttotal: 470ms\tremaining: 80.7ms\n",
      "256:\tlearn: 4.8203191\ttotal: 471ms\tremaining: 78.9ms\n",
      "257:\tlearn: 4.8183804\ttotal: 473ms\tremaining: 77.1ms\n",
      "258:\tlearn: 4.8162583\ttotal: 476ms\tremaining: 75.3ms\n",
      "259:\tlearn: 4.8079705\ttotal: 478ms\tremaining: 73.5ms\n",
      "260:\tlearn: 4.7951832\ttotal: 480ms\tremaining: 71.7ms\n",
      "261:\tlearn: 4.7868032\ttotal: 481ms\tremaining: 69.8ms\n",
      "262:\tlearn: 4.7819401\ttotal: 483ms\tremaining: 68ms\n",
      "263:\tlearn: 4.7814607\ttotal: 485ms\tremaining: 66.1ms\n",
      "264:\tlearn: 4.7796848\ttotal: 487ms\tremaining: 64.3ms\n",
      "265:\tlearn: 4.7630832\ttotal: 489ms\tremaining: 62.4ms\n",
      "266:\tlearn: 4.7623729\ttotal: 490ms\tremaining: 60.6ms\n",
      "267:\tlearn: 4.7615922\ttotal: 492ms\tremaining: 58.8ms\n",
      "268:\tlearn: 4.7563380\ttotal: 494ms\tremaining: 56.9ms\n",
      "269:\tlearn: 4.7500700\ttotal: 496ms\tremaining: 55.1ms\n",
      "270:\tlearn: 4.7433809\ttotal: 498ms\tremaining: 53.3ms\n",
      "271:\tlearn: 4.7316991\ttotal: 500ms\tremaining: 51.4ms\n",
      "272:\tlearn: 4.7288566\ttotal: 501ms\tremaining: 49.6ms\n",
      "273:\tlearn: 4.7217722\ttotal: 503ms\tremaining: 47.8ms\n",
      "274:\tlearn: 4.7139508\ttotal: 505ms\tremaining: 45.9ms\n",
      "275:\tlearn: 4.7020550\ttotal: 507ms\tremaining: 44.1ms\n",
      "276:\tlearn: 4.7003929\ttotal: 509ms\tremaining: 42.2ms\n",
      "277:\tlearn: 4.6914212\ttotal: 511ms\tremaining: 40.4ms\n",
      "278:\tlearn: 4.6895257\ttotal: 513ms\tremaining: 38.6ms\n",
      "279:\tlearn: 4.6878578\ttotal: 514ms\tremaining: 36.7ms\n",
      "280:\tlearn: 4.6858903\ttotal: 516ms\tremaining: 34.9ms\n",
      "281:\tlearn: 4.6812912\ttotal: 518ms\tremaining: 33.1ms\n",
      "282:\tlearn: 4.6806621\ttotal: 520ms\tremaining: 31.2ms\n",
      "283:\tlearn: 4.6748408\ttotal: 523ms\tremaining: 29.4ms\n",
      "284:\tlearn: 4.6629668\ttotal: 525ms\tremaining: 27.6ms\n",
      "285:\tlearn: 4.6509396\ttotal: 526ms\tremaining: 25.8ms\n",
      "286:\tlearn: 4.6388618\ttotal: 528ms\tremaining: 23.9ms\n",
      "287:\tlearn: 4.6304958\ttotal: 530ms\tremaining: 22.1ms\n",
      "288:\tlearn: 4.6299729\ttotal: 532ms\tremaining: 20.2ms\n",
      "289:\tlearn: 4.6191544\ttotal: 534ms\tremaining: 18.4ms\n",
      "290:\tlearn: 4.6184705\ttotal: 536ms\tremaining: 16.6ms\n",
      "291:\tlearn: 4.6117097\ttotal: 538ms\tremaining: 14.7ms\n",
      "292:\tlearn: 4.6113110\ttotal: 540ms\tremaining: 12.9ms\n",
      "293:\tlearn: 4.6035293\ttotal: 541ms\tremaining: 11ms\n",
      "294:\tlearn: 4.5934332\ttotal: 543ms\tremaining: 9.21ms\n",
      "295:\tlearn: 4.5864802\ttotal: 545ms\tremaining: 7.37ms\n",
      "296:\tlearn: 4.5859450\ttotal: 547ms\tremaining: 5.52ms\n",
      "297:\tlearn: 4.5836082\ttotal: 549ms\tremaining: 3.68ms\n",
      "298:\tlearn: 4.5742193\ttotal: 551ms\tremaining: 1.84ms\n",
      "299:\tlearn: 4.5676771\ttotal: 552ms\tremaining: 0us\n",
      "0:\tlearn: 10.5430940\ttotal: 2.05ms\tremaining: 612ms\n",
      "1:\tlearn: 10.3316938\ttotal: 4.25ms\tremaining: 634ms\n",
      "2:\tlearn: 10.1492696\ttotal: 6.25ms\tremaining: 619ms\n",
      "3:\tlearn: 9.9888379\ttotal: 8.01ms\tremaining: 593ms\n",
      "4:\tlearn: 9.8190027\ttotal: 9.91ms\tremaining: 585ms\n",
      "5:\tlearn: 9.6625196\ttotal: 11.7ms\tremaining: 575ms\n",
      "6:\tlearn: 9.5368539\ttotal: 13.6ms\tremaining: 570ms\n",
      "7:\tlearn: 9.3958418\ttotal: 15.6ms\tremaining: 570ms\n",
      "8:\tlearn: 9.2781557\ttotal: 17.6ms\tremaining: 569ms\n",
      "9:\tlearn: 9.1852186\ttotal: 19.5ms\tremaining: 565ms\n",
      "10:\tlearn: 9.0877447\ttotal: 21.3ms\tremaining: 559ms\n",
      "11:\tlearn: 9.0014479\ttotal: 23ms\tremaining: 552ms\n",
      "12:\tlearn: 8.9021838\ttotal: 24.8ms\tremaining: 547ms\n",
      "13:\tlearn: 8.8099144\ttotal: 26.5ms\tremaining: 542ms\n",
      "14:\tlearn: 8.7412455\ttotal: 28.2ms\tremaining: 536ms\n",
      "15:\tlearn: 8.6830391\ttotal: 30ms\tremaining: 533ms\n",
      "16:\tlearn: 8.6090804\ttotal: 32.5ms\tremaining: 540ms\n",
      "17:\tlearn: 8.5443535\ttotal: 34.9ms\tremaining: 546ms\n",
      "18:\tlearn: 8.4890659\ttotal: 36.7ms\tremaining: 543ms\n",
      "19:\tlearn: 8.4378541\ttotal: 38.4ms\tremaining: 537ms\n",
      "20:\tlearn: 8.3967532\ttotal: 40.4ms\tremaining: 537ms\n",
      "21:\tlearn: 8.3492589\ttotal: 42.2ms\tremaining: 533ms\n",
      "22:\tlearn: 8.2784186\ttotal: 43.9ms\tremaining: 529ms\n",
      "23:\tlearn: 8.2397543\ttotal: 45.6ms\tremaining: 524ms\n",
      "24:\tlearn: 8.1902051\ttotal: 47.3ms\tremaining: 520ms\n",
      "25:\tlearn: 8.1243227\ttotal: 49.2ms\tremaining: 518ms\n",
      "26:\tlearn: 8.0887321\ttotal: 50.9ms\tremaining: 514ms\n",
      "27:\tlearn: 8.0318833\ttotal: 52.6ms\tremaining: 511ms\n",
      "28:\tlearn: 7.9857065\ttotal: 54.4ms\tremaining: 508ms\n",
      "29:\tlearn: 7.9618742\ttotal: 56.2ms\tremaining: 506ms\n",
      "30:\tlearn: 7.9061126\ttotal: 57.9ms\tremaining: 503ms\n",
      "31:\tlearn: 7.8592257\ttotal: 59.8ms\tremaining: 501ms\n",
      "32:\tlearn: 7.8212914\ttotal: 61.5ms\tremaining: 497ms\n",
      "33:\tlearn: 7.7970295\ttotal: 63.2ms\tremaining: 495ms\n",
      "34:\tlearn: 7.7486720\ttotal: 65ms\tremaining: 492ms\n",
      "35:\tlearn: 7.7217846\ttotal: 66.8ms\tremaining: 490ms\n",
      "36:\tlearn: 7.6742363\ttotal: 68.3ms\tremaining: 486ms\n",
      "37:\tlearn: 7.6487674\ttotal: 70.1ms\tremaining: 483ms\n",
      "38:\tlearn: 7.6299068\ttotal: 71.7ms\tremaining: 480ms\n",
      "39:\tlearn: 7.6040498\ttotal: 73.7ms\tremaining: 479ms\n",
      "40:\tlearn: 7.5837017\ttotal: 75.5ms\tremaining: 477ms\n",
      "41:\tlearn: 7.5492408\ttotal: 77.3ms\tremaining: 475ms\n",
      "42:\tlearn: 7.5400185\ttotal: 79.1ms\tremaining: 473ms\n",
      "43:\tlearn: 7.5207430\ttotal: 80.8ms\tremaining: 470ms\n",
      "44:\tlearn: 7.4781940\ttotal: 82.6ms\tremaining: 468ms\n",
      "45:\tlearn: 7.4563912\ttotal: 84.3ms\tremaining: 466ms\n",
      "46:\tlearn: 7.4335590\ttotal: 86.2ms\tremaining: 464ms\n",
      "47:\tlearn: 7.4119941\ttotal: 88ms\tremaining: 462ms\n",
      "48:\tlearn: 7.3863381\ttotal: 89.8ms\tremaining: 460ms\n",
      "49:\tlearn: 7.3426466\ttotal: 91.6ms\tremaining: 458ms\n",
      "50:\tlearn: 7.3291126\ttotal: 93.5ms\tremaining: 456ms\n",
      "51:\tlearn: 7.2916069\ttotal: 95.1ms\tremaining: 454ms\n",
      "52:\tlearn: 7.2696955\ttotal: 97.1ms\tremaining: 453ms\n",
      "53:\tlearn: 7.2594945\ttotal: 98.9ms\tremaining: 450ms\n",
      "54:\tlearn: 7.2176985\ttotal: 101ms\tremaining: 449ms\n",
      "55:\tlearn: 7.1983869\ttotal: 103ms\tremaining: 447ms\n",
      "56:\tlearn: 7.1624482\ttotal: 104ms\tremaining: 445ms\n",
      "57:\tlearn: 7.1468750\ttotal: 106ms\tremaining: 443ms\n",
      "58:\tlearn: 7.1316007\ttotal: 108ms\tremaining: 441ms\n",
      "59:\tlearn: 7.1257478\ttotal: 110ms\tremaining: 439ms\n",
      "60:\tlearn: 7.1033005\ttotal: 112ms\tremaining: 437ms\n",
      "61:\tlearn: 7.0858393\ttotal: 113ms\tremaining: 435ms\n",
      "62:\tlearn: 7.0547258\ttotal: 115ms\tremaining: 434ms\n",
      "63:\tlearn: 7.0389803\ttotal: 117ms\tremaining: 432ms\n",
      "64:\tlearn: 7.0318589\ttotal: 119ms\tremaining: 429ms\n",
      "65:\tlearn: 7.0147068\ttotal: 121ms\tremaining: 427ms\n",
      "66:\tlearn: 6.9943497\ttotal: 122ms\tremaining: 425ms\n",
      "67:\tlearn: 6.9796014\ttotal: 124ms\tremaining: 423ms\n",
      "68:\tlearn: 6.9581247\ttotal: 126ms\tremaining: 422ms\n",
      "69:\tlearn: 6.9315063\ttotal: 128ms\tremaining: 420ms\n",
      "70:\tlearn: 6.9083796\ttotal: 130ms\tremaining: 418ms\n",
      "71:\tlearn: 6.8941866\ttotal: 131ms\tremaining: 416ms\n",
      "72:\tlearn: 6.8829526\ttotal: 133ms\tremaining: 414ms\n",
      "73:\tlearn: 6.8748073\ttotal: 135ms\tremaining: 412ms\n",
      "74:\tlearn: 6.8488987\ttotal: 137ms\tremaining: 410ms\n",
      "75:\tlearn: 6.8420034\ttotal: 138ms\tremaining: 408ms\n",
      "76:\tlearn: 6.8373166\ttotal: 140ms\tremaining: 406ms\n",
      "77:\tlearn: 6.8309433\ttotal: 142ms\tremaining: 404ms\n",
      "78:\tlearn: 6.8005534\ttotal: 144ms\tremaining: 402ms\n",
      "79:\tlearn: 6.7761200\ttotal: 146ms\tremaining: 400ms\n",
      "80:\tlearn: 6.7532629\ttotal: 147ms\tremaining: 398ms\n",
      "81:\tlearn: 6.7342537\ttotal: 149ms\tremaining: 397ms\n",
      "82:\tlearn: 6.7260418\ttotal: 151ms\tremaining: 394ms\n",
      "83:\tlearn: 6.7086528\ttotal: 153ms\tremaining: 393ms\n",
      "84:\tlearn: 6.6814845\ttotal: 155ms\tremaining: 391ms\n",
      "85:\tlearn: 6.6612457\ttotal: 156ms\tremaining: 389ms\n",
      "86:\tlearn: 6.6566048\ttotal: 159ms\tremaining: 389ms\n",
      "87:\tlearn: 6.6310680\ttotal: 161ms\tremaining: 387ms\n",
      "88:\tlearn: 6.6105325\ttotal: 163ms\tremaining: 386ms\n",
      "89:\tlearn: 6.5991809\ttotal: 164ms\tremaining: 384ms\n",
      "90:\tlearn: 6.5766772\ttotal: 166ms\tremaining: 382ms\n",
      "91:\tlearn: 6.5548018\ttotal: 168ms\tremaining: 380ms\n",
      "92:\tlearn: 6.5492013\ttotal: 170ms\tremaining: 378ms\n",
      "93:\tlearn: 6.5207381\ttotal: 172ms\tremaining: 377ms\n",
      "94:\tlearn: 6.5137611\ttotal: 174ms\tremaining: 375ms\n",
      "95:\tlearn: 6.5075960\ttotal: 176ms\tremaining: 373ms\n",
      "96:\tlearn: 6.4779645\ttotal: 177ms\tremaining: 371ms\n",
      "97:\tlearn: 6.4734005\ttotal: 180ms\tremaining: 371ms\n",
      "98:\tlearn: 6.4677167\ttotal: 183ms\tremaining: 371ms\n",
      "99:\tlearn: 6.4389140\ttotal: 185ms\tremaining: 371ms\n",
      "100:\tlearn: 6.4181188\ttotal: 188ms\tremaining: 369ms\n",
      "101:\tlearn: 6.3923149\ttotal: 189ms\tremaining: 368ms\n",
      "102:\tlearn: 6.3876720\ttotal: 191ms\tremaining: 366ms\n",
      "103:\tlearn: 6.3621629\ttotal: 193ms\tremaining: 365ms\n",
      "104:\tlearn: 6.3562946\ttotal: 195ms\tremaining: 363ms\n",
      "105:\tlearn: 6.3356971\ttotal: 197ms\tremaining: 361ms\n",
      "106:\tlearn: 6.3076271\ttotal: 199ms\tremaining: 359ms\n",
      "107:\tlearn: 6.3033803\ttotal: 201ms\tremaining: 357ms\n",
      "108:\tlearn: 6.2888262\ttotal: 202ms\tremaining: 355ms\n",
      "109:\tlearn: 6.2850825\ttotal: 204ms\tremaining: 353ms\n",
      "110:\tlearn: 6.2646712\ttotal: 206ms\tremaining: 351ms\n",
      "111:\tlearn: 6.2537589\ttotal: 208ms\tremaining: 349ms\n",
      "112:\tlearn: 6.2506837\ttotal: 209ms\tremaining: 346ms\n",
      "113:\tlearn: 6.2474585\ttotal: 211ms\tremaining: 345ms\n",
      "114:\tlearn: 6.2436467\ttotal: 213ms\tremaining: 343ms\n",
      "115:\tlearn: 6.2171614\ttotal: 215ms\tremaining: 341ms\n",
      "116:\tlearn: 6.1970526\ttotal: 217ms\tremaining: 339ms\n",
      "117:\tlearn: 6.1802395\ttotal: 219ms\tremaining: 337ms\n",
      "118:\tlearn: 6.1650717\ttotal: 221ms\tremaining: 335ms\n",
      "119:\tlearn: 6.1492827\ttotal: 222ms\tremaining: 334ms\n",
      "120:\tlearn: 6.1269772\ttotal: 224ms\tremaining: 332ms\n",
      "121:\tlearn: 6.1243236\ttotal: 226ms\tremaining: 329ms\n",
      "122:\tlearn: 6.0993391\ttotal: 229ms\tremaining: 329ms\n",
      "123:\tlearn: 6.0798465\ttotal: 231ms\tremaining: 328ms\n",
      "124:\tlearn: 6.0775715\ttotal: 233ms\tremaining: 326ms\n",
      "125:\tlearn: 6.0602908\ttotal: 235ms\tremaining: 324ms\n",
      "126:\tlearn: 6.0575654\ttotal: 237ms\tremaining: 322ms\n",
      "127:\tlearn: 6.0395613\ttotal: 238ms\tremaining: 320ms\n",
      "128:\tlearn: 6.0257424\ttotal: 240ms\tremaining: 318ms\n",
      "129:\tlearn: 6.0245677\ttotal: 242ms\tremaining: 316ms\n",
      "130:\tlearn: 6.0144995\ttotal: 244ms\tremaining: 314ms\n",
      "131:\tlearn: 6.0118231\ttotal: 245ms\tremaining: 312ms\n",
      "132:\tlearn: 6.0099019\ttotal: 247ms\tremaining: 310ms\n",
      "133:\tlearn: 5.9893918\ttotal: 249ms\tremaining: 309ms\n",
      "134:\tlearn: 5.9679501\ttotal: 251ms\tremaining: 307ms\n",
      "135:\tlearn: 5.9665922\ttotal: 253ms\tremaining: 305ms\n",
      "136:\tlearn: 5.9554836\ttotal: 254ms\tremaining: 303ms\n",
      "137:\tlearn: 5.9532564\ttotal: 256ms\tremaining: 301ms\n",
      "138:\tlearn: 5.9377810\ttotal: 258ms\tremaining: 299ms\n",
      "139:\tlearn: 5.9360105\ttotal: 260ms\tremaining: 297ms\n",
      "140:\tlearn: 5.9223809\ttotal: 262ms\tremaining: 295ms\n",
      "141:\tlearn: 5.9038010\ttotal: 264ms\tremaining: 293ms\n",
      "142:\tlearn: 5.8905481\ttotal: 265ms\tremaining: 291ms\n",
      "143:\tlearn: 5.8710928\ttotal: 267ms\tremaining: 290ms\n",
      "144:\tlearn: 5.8670341\ttotal: 269ms\tremaining: 288ms\n",
      "145:\tlearn: 5.8554346\ttotal: 271ms\tremaining: 286ms\n",
      "146:\tlearn: 5.8339303\ttotal: 273ms\tremaining: 284ms\n",
      "147:\tlearn: 5.8324844\ttotal: 275ms\tremaining: 282ms\n",
      "148:\tlearn: 5.8303956\ttotal: 277ms\tremaining: 280ms\n",
      "149:\tlearn: 5.8286061\ttotal: 278ms\tremaining: 278ms\n",
      "150:\tlearn: 5.8114380\ttotal: 280ms\tremaining: 277ms\n",
      "151:\tlearn: 5.7934032\ttotal: 282ms\tremaining: 275ms\n",
      "152:\tlearn: 5.7815471\ttotal: 284ms\tremaining: 273ms\n",
      "153:\tlearn: 5.7784605\ttotal: 286ms\tremaining: 271ms\n",
      "154:\tlearn: 5.7764874\ttotal: 288ms\tremaining: 269ms\n",
      "155:\tlearn: 5.7591426\ttotal: 289ms\tremaining: 267ms\n",
      "156:\tlearn: 5.7577577\ttotal: 291ms\tremaining: 265ms\n",
      "157:\tlearn: 5.7564679\ttotal: 293ms\tremaining: 263ms\n",
      "158:\tlearn: 5.7341089\ttotal: 295ms\tremaining: 261ms\n",
      "159:\tlearn: 5.7258049\ttotal: 297ms\tremaining: 260ms\n",
      "160:\tlearn: 5.7146011\ttotal: 298ms\tremaining: 258ms\n",
      "161:\tlearn: 5.6939661\ttotal: 300ms\tremaining: 256ms\n",
      "162:\tlearn: 5.6833990\ttotal: 302ms\tremaining: 254ms\n",
      "163:\tlearn: 5.6689709\ttotal: 304ms\tremaining: 252ms\n",
      "164:\tlearn: 5.6679818\ttotal: 306ms\tremaining: 250ms\n",
      "165:\tlearn: 5.6543771\ttotal: 308ms\tremaining: 248ms\n",
      "166:\tlearn: 5.6429728\ttotal: 309ms\tremaining: 246ms\n",
      "167:\tlearn: 5.6306572\ttotal: 311ms\tremaining: 244ms\n",
      "168:\tlearn: 5.6293695\ttotal: 313ms\tremaining: 243ms\n",
      "169:\tlearn: 5.6275319\ttotal: 315ms\tremaining: 241ms\n",
      "170:\tlearn: 5.6147595\ttotal: 317ms\tremaining: 239ms\n",
      "171:\tlearn: 5.5973246\ttotal: 318ms\tremaining: 237ms\n",
      "172:\tlearn: 5.5824152\ttotal: 320ms\tremaining: 235ms\n",
      "173:\tlearn: 5.5639966\ttotal: 322ms\tremaining: 233ms\n",
      "174:\tlearn: 5.5527487\ttotal: 324ms\tremaining: 231ms\n",
      "175:\tlearn: 5.5371794\ttotal: 326ms\tremaining: 230ms\n",
      "176:\tlearn: 5.5362596\ttotal: 328ms\tremaining: 228ms\n",
      "177:\tlearn: 5.5305239\ttotal: 330ms\tremaining: 226ms\n",
      "178:\tlearn: 5.5188114\ttotal: 331ms\tremaining: 224ms\n",
      "179:\tlearn: 5.4986636\ttotal: 333ms\tremaining: 222ms\n",
      "180:\tlearn: 5.4855491\ttotal: 335ms\tremaining: 220ms\n",
      "181:\tlearn: 5.4744341\ttotal: 337ms\tremaining: 219ms\n",
      "182:\tlearn: 5.4638203\ttotal: 339ms\tremaining: 217ms\n",
      "183:\tlearn: 5.4493114\ttotal: 341ms\tremaining: 215ms\n",
      "184:\tlearn: 5.4391364\ttotal: 343ms\tremaining: 213ms\n",
      "185:\tlearn: 5.4240538\ttotal: 345ms\tremaining: 211ms\n",
      "186:\tlearn: 5.4123779\ttotal: 347ms\tremaining: 209ms\n",
      "187:\tlearn: 5.4108973\ttotal: 348ms\tremaining: 207ms\n",
      "188:\tlearn: 5.4084795\ttotal: 350ms\tremaining: 206ms\n",
      "189:\tlearn: 5.3973352\ttotal: 352ms\tremaining: 204ms\n",
      "190:\tlearn: 5.3803844\ttotal: 354ms\tremaining: 202ms\n",
      "191:\tlearn: 5.3685912\ttotal: 356ms\tremaining: 200ms\n",
      "192:\tlearn: 5.3673972\ttotal: 357ms\tremaining: 198ms\n",
      "193:\tlearn: 5.3509018\ttotal: 359ms\tremaining: 196ms\n",
      "194:\tlearn: 5.3496762\ttotal: 361ms\tremaining: 194ms\n",
      "195:\tlearn: 5.3302993\ttotal: 363ms\tremaining: 193ms\n",
      "196:\tlearn: 5.3260178\ttotal: 365ms\tremaining: 191ms\n",
      "197:\tlearn: 5.3149013\ttotal: 367ms\tremaining: 189ms\n",
      "198:\tlearn: 5.3136385\ttotal: 369ms\tremaining: 187ms\n",
      "199:\tlearn: 5.2975251\ttotal: 371ms\tremaining: 185ms\n",
      "200:\tlearn: 5.2880443\ttotal: 372ms\tremaining: 183ms\n",
      "201:\tlearn: 5.2760700\ttotal: 374ms\tremaining: 182ms\n",
      "202:\tlearn: 5.2753259\ttotal: 376ms\tremaining: 180ms\n",
      "203:\tlearn: 5.2693171\ttotal: 378ms\tremaining: 178ms\n",
      "204:\tlearn: 5.2543701\ttotal: 380ms\tremaining: 176ms\n",
      "205:\tlearn: 5.2407549\ttotal: 382ms\tremaining: 174ms\n",
      "206:\tlearn: 5.2342351\ttotal: 383ms\tremaining: 172ms\n",
      "207:\tlearn: 5.2222829\ttotal: 385ms\tremaining: 170ms\n",
      "208:\tlearn: 5.2157286\ttotal: 387ms\tremaining: 169ms\n",
      "209:\tlearn: 5.1989214\ttotal: 389ms\tremaining: 167ms\n",
      "210:\tlearn: 5.1851919\ttotal: 391ms\tremaining: 165ms\n",
      "211:\tlearn: 5.1716841\ttotal: 393ms\tremaining: 163ms\n",
      "212:\tlearn: 5.1669378\ttotal: 395ms\tremaining: 161ms\n",
      "213:\tlearn: 5.1662608\ttotal: 397ms\tremaining: 159ms\n",
      "214:\tlearn: 5.1538368\ttotal: 398ms\tremaining: 158ms\n",
      "215:\tlearn: 5.1466202\ttotal: 400ms\tremaining: 156ms\n",
      "216:\tlearn: 5.1356521\ttotal: 402ms\tremaining: 154ms\n",
      "217:\tlearn: 5.1337834\ttotal: 404ms\tremaining: 152ms\n",
      "218:\tlearn: 5.1203817\ttotal: 406ms\tremaining: 150ms\n",
      "219:\tlearn: 5.1172367\ttotal: 408ms\tremaining: 148ms\n",
      "220:\tlearn: 5.1095258\ttotal: 409ms\tremaining: 146ms\n",
      "221:\tlearn: 5.1002850\ttotal: 411ms\tremaining: 144ms\n",
      "222:\tlearn: 5.0917235\ttotal: 413ms\tremaining: 143ms\n",
      "223:\tlearn: 5.0819883\ttotal: 415ms\tremaining: 141ms\n",
      "224:\tlearn: 5.0807290\ttotal: 417ms\tremaining: 139ms\n",
      "225:\tlearn: 5.0795869\ttotal: 418ms\tremaining: 137ms\n",
      "226:\tlearn: 5.0673838\ttotal: 420ms\tremaining: 135ms\n",
      "227:\tlearn: 5.0561057\ttotal: 422ms\tremaining: 133ms\n",
      "228:\tlearn: 5.0476129\ttotal: 424ms\tremaining: 132ms\n",
      "229:\tlearn: 5.0309524\ttotal: 426ms\tremaining: 130ms\n",
      "230:\tlearn: 5.0299655\ttotal: 428ms\tremaining: 128ms\n",
      "231:\tlearn: 5.0290291\ttotal: 430ms\tremaining: 126ms\n",
      "232:\tlearn: 5.0272777\ttotal: 432ms\tremaining: 124ms\n",
      "233:\tlearn: 5.0262622\ttotal: 433ms\tremaining: 122ms\n",
      "234:\tlearn: 5.0184303\ttotal: 435ms\tremaining: 120ms\n",
      "235:\tlearn: 5.0070270\ttotal: 437ms\tremaining: 119ms\n",
      "236:\tlearn: 5.0058910\ttotal: 439ms\tremaining: 117ms\n",
      "237:\tlearn: 4.9964185\ttotal: 441ms\tremaining: 115ms\n",
      "238:\tlearn: 4.9784024\ttotal: 442ms\tremaining: 113ms\n",
      "239:\tlearn: 4.9767279\ttotal: 444ms\tremaining: 111ms\n",
      "240:\tlearn: 4.9680608\ttotal: 446ms\tremaining: 109ms\n",
      "241:\tlearn: 4.9574000\ttotal: 447ms\tremaining: 107ms\n",
      "242:\tlearn: 4.9475441\ttotal: 449ms\tremaining: 105ms\n",
      "243:\tlearn: 4.9438596\ttotal: 451ms\tremaining: 104ms\n",
      "244:\tlearn: 4.9299772\ttotal: 453ms\tremaining: 102ms\n",
      "245:\tlearn: 4.9195361\ttotal: 455ms\tremaining: 99.8ms\n",
      "246:\tlearn: 4.9088288\ttotal: 457ms\tremaining: 98ms\n",
      "247:\tlearn: 4.9077258\ttotal: 458ms\tremaining: 96.1ms\n",
      "248:\tlearn: 4.9035024\ttotal: 460ms\tremaining: 94.2ms\n",
      "249:\tlearn: 4.8947760\ttotal: 462ms\tremaining: 92.4ms\n",
      "250:\tlearn: 4.8940808\ttotal: 464ms\tremaining: 90.5ms\n",
      "251:\tlearn: 4.8818809\ttotal: 465ms\tremaining: 88.6ms\n",
      "252:\tlearn: 4.8722596\ttotal: 467ms\tremaining: 86.8ms\n",
      "253:\tlearn: 4.8634705\ttotal: 469ms\tremaining: 84.9ms\n",
      "254:\tlearn: 4.8508271\ttotal: 471ms\tremaining: 83.1ms\n",
      "255:\tlearn: 4.8481401\ttotal: 473ms\tremaining: 81.2ms\n",
      "256:\tlearn: 4.8396100\ttotal: 474ms\tremaining: 79.4ms\n",
      "257:\tlearn: 4.8247254\ttotal: 476ms\tremaining: 77.5ms\n",
      "258:\tlearn: 4.8147759\ttotal: 478ms\tremaining: 75.7ms\n",
      "259:\tlearn: 4.8108241\ttotal: 480ms\tremaining: 73.8ms\n",
      "260:\tlearn: 4.8054459\ttotal: 482ms\tremaining: 72ms\n",
      "261:\tlearn: 4.8045612\ttotal: 483ms\tremaining: 70.1ms\n",
      "262:\tlearn: 4.7939609\ttotal: 485ms\tremaining: 68.2ms\n",
      "263:\tlearn: 4.7825939\ttotal: 487ms\tremaining: 66.4ms\n",
      "264:\tlearn: 4.7820183\ttotal: 489ms\tremaining: 64.5ms\n",
      "265:\tlearn: 4.7806350\ttotal: 490ms\tremaining: 62.7ms\n",
      "266:\tlearn: 4.7793526\ttotal: 492ms\tremaining: 60.8ms\n",
      "267:\tlearn: 4.7782326\ttotal: 494ms\tremaining: 59ms\n",
      "268:\tlearn: 4.7665431\ttotal: 496ms\tremaining: 57.1ms\n",
      "269:\tlearn: 4.7652822\ttotal: 498ms\tremaining: 55.3ms\n",
      "270:\tlearn: 4.7639557\ttotal: 500ms\tremaining: 53.5ms\n",
      "271:\tlearn: 4.7572300\ttotal: 502ms\tremaining: 51.6ms\n",
      "272:\tlearn: 4.7482033\ttotal: 503ms\tremaining: 49.8ms\n",
      "273:\tlearn: 4.7377635\ttotal: 505ms\tremaining: 48ms\n",
      "274:\tlearn: 4.7292011\ttotal: 507ms\tremaining: 46.1ms\n",
      "275:\tlearn: 4.7172121\ttotal: 509ms\tremaining: 44.3ms\n",
      "276:\tlearn: 4.7146765\ttotal: 511ms\tremaining: 42.4ms\n",
      "277:\tlearn: 4.7092562\ttotal: 512ms\tremaining: 40.6ms\n",
      "278:\tlearn: 4.7025516\ttotal: 514ms\tremaining: 38.7ms\n",
      "279:\tlearn: 4.7013730\ttotal: 516ms\tremaining: 36.8ms\n",
      "280:\tlearn: 4.6937618\ttotal: 518ms\tremaining: 35ms\n",
      "281:\tlearn: 4.6828079\ttotal: 520ms\tremaining: 33.2ms\n",
      "282:\tlearn: 4.6724400\ttotal: 521ms\tremaining: 31.3ms\n",
      "283:\tlearn: 4.6693767\ttotal: 523ms\tremaining: 29.5ms\n",
      "284:\tlearn: 4.6683265\ttotal: 525ms\tremaining: 27.6ms\n",
      "285:\tlearn: 4.6674158\ttotal: 527ms\tremaining: 25.8ms\n",
      "286:\tlearn: 4.6617270\ttotal: 528ms\tremaining: 23.9ms\n",
      "287:\tlearn: 4.6609973\ttotal: 530ms\tremaining: 22.1ms\n",
      "288:\tlearn: 4.6528041\ttotal: 532ms\tremaining: 20.2ms\n",
      "289:\tlearn: 4.6410400\ttotal: 534ms\tremaining: 18.4ms\n",
      "290:\tlearn: 4.6313315\ttotal: 535ms\tremaining: 16.6ms\n",
      "291:\tlearn: 4.6219641\ttotal: 537ms\tremaining: 14.7ms\n",
      "292:\tlearn: 4.6142933\ttotal: 539ms\tremaining: 12.9ms\n",
      "293:\tlearn: 4.6083434\ttotal: 541ms\tremaining: 11ms\n",
      "294:\tlearn: 4.5975565\ttotal: 543ms\tremaining: 9.2ms\n",
      "295:\tlearn: 4.5888751\ttotal: 544ms\tremaining: 7.36ms\n",
      "296:\tlearn: 4.5884807\ttotal: 546ms\tremaining: 5.51ms\n",
      "297:\tlearn: 4.5807759\ttotal: 548ms\tremaining: 3.67ms\n",
      "298:\tlearn: 4.5722944\ttotal: 549ms\tremaining: 1.84ms\n",
      "299:\tlearn: 4.5572601\ttotal: 551ms\tremaining: 0us\n",
      "0:\tlearn: 10.8093819\ttotal: 2.08ms\tremaining: 623ms\n",
      "1:\tlearn: 10.6421430\ttotal: 3.89ms\tremaining: 580ms\n",
      "2:\tlearn: 10.4454766\ttotal: 5.75ms\tremaining: 569ms\n",
      "3:\tlearn: 10.3190732\ttotal: 7.52ms\tremaining: 556ms\n",
      "4:\tlearn: 10.1418555\ttotal: 9.4ms\tremaining: 555ms\n",
      "5:\tlearn: 10.0097356\ttotal: 11.3ms\tremaining: 555ms\n",
      "6:\tlearn: 9.8713365\ttotal: 13.1ms\tremaining: 549ms\n",
      "7:\tlearn: 9.7574747\ttotal: 15.1ms\tremaining: 550ms\n",
      "8:\tlearn: 9.6753499\ttotal: 16.9ms\tremaining: 545ms\n",
      "9:\tlearn: 9.5743444\ttotal: 18.7ms\tremaining: 543ms\n",
      "10:\tlearn: 9.4843541\ttotal: 20.5ms\tremaining: 539ms\n",
      "11:\tlearn: 9.3864696\ttotal: 23.1ms\tremaining: 554ms\n",
      "12:\tlearn: 9.3057036\ttotal: 24.9ms\tremaining: 551ms\n",
      "13:\tlearn: 9.2290008\ttotal: 26.8ms\tremaining: 546ms\n",
      "14:\tlearn: 9.1510141\ttotal: 28.7ms\tremaining: 545ms\n",
      "15:\tlearn: 9.0906752\ttotal: 30.4ms\tremaining: 540ms\n",
      "16:\tlearn: 9.0240582\ttotal: 32.2ms\tremaining: 536ms\n",
      "17:\tlearn: 8.9535217\ttotal: 33.8ms\tremaining: 530ms\n",
      "18:\tlearn: 8.8891099\ttotal: 35.7ms\tremaining: 529ms\n",
      "19:\tlearn: 8.8363998\ttotal: 37.5ms\tremaining: 525ms\n",
      "20:\tlearn: 8.7822444\ttotal: 39.3ms\tremaining: 522ms\n",
      "21:\tlearn: 8.7302081\ttotal: 41.1ms\tremaining: 519ms\n",
      "22:\tlearn: 8.6777411\ttotal: 43.6ms\tremaining: 525ms\n",
      "23:\tlearn: 8.6514045\ttotal: 45.6ms\tremaining: 524ms\n",
      "24:\tlearn: 8.6205914\ttotal: 47.6ms\tremaining: 523ms\n",
      "25:\tlearn: 8.5749626\ttotal: 49.5ms\tremaining: 522ms\n",
      "26:\tlearn: 8.5365309\ttotal: 51.4ms\tremaining: 520ms\n",
      "27:\tlearn: 8.5037132\ttotal: 53.3ms\tremaining: 518ms\n",
      "28:\tlearn: 8.4624886\ttotal: 55.1ms\tremaining: 515ms\n",
      "29:\tlearn: 8.4086747\ttotal: 57ms\tremaining: 513ms\n",
      "30:\tlearn: 8.3744052\ttotal: 58.9ms\tremaining: 511ms\n",
      "31:\tlearn: 8.3368067\ttotal: 60.6ms\tremaining: 508ms\n",
      "32:\tlearn: 8.2965225\ttotal: 62.6ms\tremaining: 506ms\n",
      "33:\tlearn: 8.2692632\ttotal: 64.5ms\tremaining: 505ms\n",
      "34:\tlearn: 8.2303935\ttotal: 66.3ms\tremaining: 502ms\n",
      "35:\tlearn: 8.2046358\ttotal: 68.1ms\tremaining: 499ms\n",
      "36:\tlearn: 8.1790391\ttotal: 69.9ms\tremaining: 497ms\n",
      "37:\tlearn: 8.1540426\ttotal: 71.7ms\tremaining: 495ms\n",
      "38:\tlearn: 8.1273953\ttotal: 73.6ms\tremaining: 492ms\n",
      "39:\tlearn: 8.0912381\ttotal: 75.4ms\tremaining: 490ms\n",
      "40:\tlearn: 8.0700974\ttotal: 77.1ms\tremaining: 487ms\n",
      "41:\tlearn: 8.0403110\ttotal: 79.1ms\tremaining: 486ms\n",
      "42:\tlearn: 8.0276747\ttotal: 80.8ms\tremaining: 483ms\n",
      "43:\tlearn: 7.9835702\ttotal: 82.7ms\tremaining: 481ms\n",
      "44:\tlearn: 7.9667738\ttotal: 84.3ms\tremaining: 478ms\n",
      "45:\tlearn: 7.9427635\ttotal: 86ms\tremaining: 475ms\n",
      "46:\tlearn: 7.9321411\ttotal: 87.9ms\tremaining: 473ms\n",
      "47:\tlearn: 7.8997932\ttotal: 89.7ms\tremaining: 471ms\n",
      "48:\tlearn: 7.8557634\ttotal: 91.6ms\tremaining: 469ms\n",
      "49:\tlearn: 7.8229341\ttotal: 93.3ms\tremaining: 467ms\n",
      "50:\tlearn: 7.8132959\ttotal: 95.1ms\tremaining: 465ms\n",
      "51:\tlearn: 7.7729345\ttotal: 96.9ms\tremaining: 462ms\n",
      "52:\tlearn: 7.7477823\ttotal: 98.8ms\tremaining: 460ms\n",
      "53:\tlearn: 7.7155206\ttotal: 101ms\tremaining: 458ms\n",
      "54:\tlearn: 7.6848930\ttotal: 102ms\tremaining: 456ms\n",
      "55:\tlearn: 7.6795638\ttotal: 105ms\tremaining: 455ms\n",
      "56:\tlearn: 7.6371667\ttotal: 106ms\tremaining: 453ms\n",
      "57:\tlearn: 7.5979345\ttotal: 108ms\tremaining: 451ms\n",
      "58:\tlearn: 7.5605155\ttotal: 110ms\tremaining: 449ms\n",
      "59:\tlearn: 7.5370433\ttotal: 112ms\tremaining: 447ms\n",
      "60:\tlearn: 7.5165311\ttotal: 113ms\tremaining: 445ms\n",
      "61:\tlearn: 7.4980604\ttotal: 115ms\tremaining: 443ms\n",
      "62:\tlearn: 7.4663823\ttotal: 117ms\tremaining: 440ms\n",
      "63:\tlearn: 7.4615833\ttotal: 119ms\tremaining: 438ms\n",
      "64:\tlearn: 7.4443207\ttotal: 121ms\tremaining: 436ms\n",
      "65:\tlearn: 7.4181723\ttotal: 123ms\tremaining: 435ms\n",
      "66:\tlearn: 7.4034734\ttotal: 124ms\tremaining: 433ms\n",
      "67:\tlearn: 7.3935771\ttotal: 126ms\tremaining: 431ms\n",
      "68:\tlearn: 7.3673616\ttotal: 128ms\tremaining: 429ms\n",
      "69:\tlearn: 7.3599412\ttotal: 130ms\tremaining: 427ms\n",
      "70:\tlearn: 7.3367699\ttotal: 132ms\tremaining: 425ms\n",
      "71:\tlearn: 7.3323346\ttotal: 133ms\tremaining: 422ms\n",
      "72:\tlearn: 7.3216672\ttotal: 135ms\tremaining: 420ms\n",
      "73:\tlearn: 7.3123535\ttotal: 137ms\tremaining: 418ms\n",
      "74:\tlearn: 7.3061555\ttotal: 138ms\tremaining: 415ms\n",
      "75:\tlearn: 7.2774092\ttotal: 140ms\tremaining: 413ms\n",
      "76:\tlearn: 7.2687095\ttotal: 142ms\tremaining: 412ms\n",
      "77:\tlearn: 7.2497030\ttotal: 145ms\tremaining: 412ms\n",
      "78:\tlearn: 7.2249194\ttotal: 146ms\tremaining: 410ms\n",
      "79:\tlearn: 7.2129565\ttotal: 148ms\tremaining: 408ms\n",
      "80:\tlearn: 7.2015300\ttotal: 150ms\tremaining: 406ms\n",
      "81:\tlearn: 7.1800435\ttotal: 152ms\tremaining: 404ms\n",
      "82:\tlearn: 7.1508703\ttotal: 154ms\tremaining: 402ms\n",
      "83:\tlearn: 7.1297954\ttotal: 156ms\tremaining: 400ms\n",
      "84:\tlearn: 7.0947404\ttotal: 157ms\tremaining: 398ms\n",
      "85:\tlearn: 7.0703371\ttotal: 159ms\tremaining: 396ms\n",
      "86:\tlearn: 7.0624165\ttotal: 161ms\tremaining: 394ms\n",
      "87:\tlearn: 7.0558821\ttotal: 163ms\tremaining: 392ms\n",
      "88:\tlearn: 7.0474006\ttotal: 165ms\tremaining: 390ms\n",
      "89:\tlearn: 7.0415646\ttotal: 166ms\tremaining: 388ms\n",
      "90:\tlearn: 7.0175141\ttotal: 168ms\tremaining: 386ms\n",
      "91:\tlearn: 7.0012193\ttotal: 170ms\tremaining: 384ms\n",
      "92:\tlearn: 6.9901646\ttotal: 172ms\tremaining: 383ms\n",
      "93:\tlearn: 6.9626980\ttotal: 174ms\tremaining: 381ms\n",
      "94:\tlearn: 6.9398744\ttotal: 176ms\tremaining: 379ms\n",
      "95:\tlearn: 6.9307092\ttotal: 178ms\tremaining: 377ms\n",
      "96:\tlearn: 6.9064676\ttotal: 179ms\tremaining: 375ms\n",
      "97:\tlearn: 6.9026631\ttotal: 181ms\tremaining: 373ms\n",
      "98:\tlearn: 6.8937170\ttotal: 183ms\tremaining: 371ms\n",
      "99:\tlearn: 6.8902275\ttotal: 185ms\tremaining: 369ms\n",
      "100:\tlearn: 6.8815761\ttotal: 186ms\tremaining: 367ms\n",
      "101:\tlearn: 6.8628742\ttotal: 188ms\tremaining: 365ms\n",
      "102:\tlearn: 6.8376381\ttotal: 190ms\tremaining: 364ms\n",
      "103:\tlearn: 6.8145508\ttotal: 193ms\tremaining: 364ms\n",
      "104:\tlearn: 6.8067501\ttotal: 196ms\tremaining: 364ms\n",
      "105:\tlearn: 6.7836462\ttotal: 199ms\tremaining: 364ms\n",
      "106:\tlearn: 6.7629914\ttotal: 201ms\tremaining: 362ms\n",
      "107:\tlearn: 6.7578954\ttotal: 203ms\tremaining: 360ms\n",
      "108:\tlearn: 6.7500860\ttotal: 204ms\tremaining: 358ms\n",
      "109:\tlearn: 6.7420430\ttotal: 206ms\tremaining: 356ms\n",
      "110:\tlearn: 6.7117629\ttotal: 208ms\tremaining: 354ms\n",
      "111:\tlearn: 6.7087443\ttotal: 209ms\tremaining: 352ms\n",
      "112:\tlearn: 6.7013685\ttotal: 211ms\tremaining: 350ms\n",
      "113:\tlearn: 6.6695973\ttotal: 213ms\tremaining: 348ms\n",
      "114:\tlearn: 6.6519937\ttotal: 215ms\tremaining: 346ms\n",
      "115:\tlearn: 6.6321168\ttotal: 217ms\tremaining: 344ms\n",
      "116:\tlearn: 6.6205452\ttotal: 219ms\tremaining: 342ms\n",
      "117:\tlearn: 6.6129684\ttotal: 220ms\tremaining: 340ms\n",
      "118:\tlearn: 6.5938495\ttotal: 222ms\tremaining: 338ms\n",
      "119:\tlearn: 6.5876390\ttotal: 224ms\tremaining: 336ms\n",
      "120:\tlearn: 6.5580682\ttotal: 226ms\tremaining: 334ms\n",
      "121:\tlearn: 6.5511035\ttotal: 227ms\tremaining: 332ms\n",
      "122:\tlearn: 6.5316740\ttotal: 229ms\tremaining: 330ms\n",
      "123:\tlearn: 6.5281183\ttotal: 231ms\tremaining: 328ms\n",
      "124:\tlearn: 6.5077456\ttotal: 233ms\tremaining: 326ms\n",
      "125:\tlearn: 6.5052365\ttotal: 235ms\tremaining: 324ms\n",
      "126:\tlearn: 6.5028187\ttotal: 236ms\tremaining: 322ms\n",
      "127:\tlearn: 6.4777940\ttotal: 238ms\tremaining: 320ms\n",
      "128:\tlearn: 6.4513623\ttotal: 240ms\tremaining: 318ms\n",
      "129:\tlearn: 6.4264347\ttotal: 242ms\tremaining: 316ms\n",
      "130:\tlearn: 6.4222199\ttotal: 244ms\tremaining: 314ms\n",
      "131:\tlearn: 6.4020699\ttotal: 245ms\tremaining: 312ms\n",
      "132:\tlearn: 6.3902685\ttotal: 247ms\tremaining: 310ms\n",
      "133:\tlearn: 6.3637854\ttotal: 249ms\tremaining: 308ms\n",
      "134:\tlearn: 6.3575953\ttotal: 251ms\tremaining: 306ms\n",
      "135:\tlearn: 6.3399224\ttotal: 252ms\tremaining: 304ms\n",
      "136:\tlearn: 6.3349210\ttotal: 254ms\tremaining: 302ms\n",
      "137:\tlearn: 6.3295085\ttotal: 256ms\tremaining: 300ms\n",
      "138:\tlearn: 6.3275596\ttotal: 258ms\tremaining: 298ms\n",
      "139:\tlearn: 6.3097287\ttotal: 259ms\tremaining: 296ms\n",
      "140:\tlearn: 6.2891217\ttotal: 261ms\tremaining: 295ms\n",
      "141:\tlearn: 6.2699165\ttotal: 263ms\tremaining: 293ms\n",
      "142:\tlearn: 6.2627783\ttotal: 265ms\tremaining: 291ms\n",
      "143:\tlearn: 6.2403655\ttotal: 267ms\tremaining: 289ms\n",
      "144:\tlearn: 6.2269753\ttotal: 269ms\tremaining: 287ms\n",
      "145:\tlearn: 6.2215014\ttotal: 270ms\tremaining: 285ms\n",
      "146:\tlearn: 6.1964636\ttotal: 272ms\tremaining: 283ms\n",
      "147:\tlearn: 6.1915406\ttotal: 274ms\tremaining: 281ms\n",
      "148:\tlearn: 6.1732300\ttotal: 276ms\tremaining: 279ms\n",
      "149:\tlearn: 6.1694684\ttotal: 277ms\tremaining: 277ms\n",
      "150:\tlearn: 6.1646910\ttotal: 279ms\tremaining: 275ms\n",
      "151:\tlearn: 6.1628793\ttotal: 281ms\tremaining: 274ms\n",
      "152:\tlearn: 6.1613069\ttotal: 283ms\tremaining: 272ms\n",
      "153:\tlearn: 6.1435564\ttotal: 284ms\tremaining: 270ms\n",
      "154:\tlearn: 6.1232313\ttotal: 286ms\tremaining: 268ms\n",
      "155:\tlearn: 6.1213240\ttotal: 288ms\tremaining: 266ms\n",
      "156:\tlearn: 6.1187718\ttotal: 290ms\tremaining: 264ms\n",
      "157:\tlearn: 6.1158930\ttotal: 291ms\tremaining: 262ms\n",
      "158:\tlearn: 6.1142245\ttotal: 293ms\tremaining: 260ms\n",
      "159:\tlearn: 6.0997603\ttotal: 295ms\tremaining: 258ms\n",
      "160:\tlearn: 6.0853867\ttotal: 297ms\tremaining: 256ms\n",
      "161:\tlearn: 6.0781004\ttotal: 299ms\tremaining: 255ms\n",
      "162:\tlearn: 6.0579371\ttotal: 301ms\tremaining: 253ms\n",
      "163:\tlearn: 6.0442966\ttotal: 303ms\tremaining: 251ms\n",
      "164:\tlearn: 6.0416806\ttotal: 304ms\tremaining: 249ms\n",
      "165:\tlearn: 6.0263420\ttotal: 306ms\tremaining: 247ms\n",
      "166:\tlearn: 6.0146544\ttotal: 308ms\tremaining: 245ms\n",
      "167:\tlearn: 6.0133654\ttotal: 310ms\tremaining: 243ms\n",
      "168:\tlearn: 5.9984017\ttotal: 311ms\tremaining: 241ms\n",
      "169:\tlearn: 5.9871558\ttotal: 313ms\tremaining: 240ms\n",
      "170:\tlearn: 5.9809315\ttotal: 315ms\tremaining: 238ms\n",
      "171:\tlearn: 5.9605810\ttotal: 317ms\tremaining: 236ms\n",
      "172:\tlearn: 5.9407505\ttotal: 319ms\tremaining: 234ms\n",
      "173:\tlearn: 5.9243267\ttotal: 321ms\tremaining: 232ms\n",
      "174:\tlearn: 5.9195764\ttotal: 323ms\tremaining: 230ms\n",
      "175:\tlearn: 5.9094478\ttotal: 324ms\tremaining: 229ms\n",
      "176:\tlearn: 5.8986748\ttotal: 326ms\tremaining: 227ms\n",
      "177:\tlearn: 5.8889910\ttotal: 328ms\tremaining: 225ms\n",
      "178:\tlearn: 5.8758003\ttotal: 330ms\tremaining: 223ms\n",
      "179:\tlearn: 5.8619753\ttotal: 332ms\tremaining: 221ms\n",
      "180:\tlearn: 5.8469562\ttotal: 334ms\tremaining: 219ms\n",
      "181:\tlearn: 5.8419366\ttotal: 336ms\tremaining: 218ms\n",
      "182:\tlearn: 5.8276095\ttotal: 337ms\tremaining: 216ms\n",
      "183:\tlearn: 5.8209975\ttotal: 340ms\tremaining: 214ms\n",
      "184:\tlearn: 5.7979163\ttotal: 341ms\tremaining: 212ms\n",
      "185:\tlearn: 5.7839263\ttotal: 343ms\tremaining: 210ms\n",
      "186:\tlearn: 5.7709479\ttotal: 345ms\tremaining: 208ms\n",
      "187:\tlearn: 5.7545131\ttotal: 347ms\tremaining: 207ms\n",
      "188:\tlearn: 5.7505053\ttotal: 349ms\tremaining: 205ms\n",
      "189:\tlearn: 5.7283585\ttotal: 350ms\tremaining: 203ms\n",
      "190:\tlearn: 5.7190280\ttotal: 352ms\tremaining: 201ms\n",
      "191:\tlearn: 5.7149371\ttotal: 354ms\tremaining: 199ms\n",
      "192:\tlearn: 5.6987902\ttotal: 356ms\tremaining: 197ms\n",
      "193:\tlearn: 5.6942911\ttotal: 358ms\tremaining: 196ms\n",
      "194:\tlearn: 5.6804522\ttotal: 360ms\tremaining: 194ms\n",
      "195:\tlearn: 5.6777137\ttotal: 362ms\tremaining: 192ms\n",
      "196:\tlearn: 5.6684791\ttotal: 364ms\tremaining: 190ms\n",
      "197:\tlearn: 5.6639415\ttotal: 366ms\tremaining: 188ms\n",
      "198:\tlearn: 5.6528685\ttotal: 367ms\tremaining: 186ms\n",
      "199:\tlearn: 5.6422197\ttotal: 369ms\tremaining: 185ms\n",
      "200:\tlearn: 5.6273305\ttotal: 371ms\tremaining: 183ms\n",
      "201:\tlearn: 5.6158947\ttotal: 373ms\tremaining: 181ms\n",
      "202:\tlearn: 5.5978883\ttotal: 375ms\tremaining: 179ms\n",
      "203:\tlearn: 5.5867500\ttotal: 376ms\tremaining: 177ms\n",
      "204:\tlearn: 5.5850810\ttotal: 378ms\tremaining: 175ms\n",
      "205:\tlearn: 5.5717237\ttotal: 380ms\tremaining: 173ms\n",
      "206:\tlearn: 5.5676805\ttotal: 382ms\tremaining: 172ms\n",
      "207:\tlearn: 5.5560644\ttotal: 384ms\tremaining: 170ms\n",
      "208:\tlearn: 5.5532879\ttotal: 386ms\tremaining: 168ms\n",
      "209:\tlearn: 5.5521879\ttotal: 387ms\tremaining: 166ms\n",
      "210:\tlearn: 5.5439763\ttotal: 389ms\tremaining: 164ms\n",
      "211:\tlearn: 5.5297937\ttotal: 391ms\tremaining: 162ms\n",
      "212:\tlearn: 5.5192779\ttotal: 393ms\tremaining: 160ms\n",
      "213:\tlearn: 5.5181151\ttotal: 395ms\tremaining: 159ms\n",
      "214:\tlearn: 5.5106032\ttotal: 396ms\tremaining: 157ms\n",
      "215:\tlearn: 5.5081286\ttotal: 398ms\tremaining: 155ms\n",
      "216:\tlearn: 5.5008410\ttotal: 400ms\tremaining: 153ms\n",
      "217:\tlearn: 5.4929437\ttotal: 402ms\tremaining: 151ms\n",
      "218:\tlearn: 5.4777060\ttotal: 404ms\tremaining: 149ms\n",
      "219:\tlearn: 5.4689244\ttotal: 405ms\tremaining: 147ms\n",
      "220:\tlearn: 5.4547802\ttotal: 407ms\tremaining: 146ms\n",
      "221:\tlearn: 5.4529712\ttotal: 409ms\tremaining: 144ms\n",
      "222:\tlearn: 5.4379860\ttotal: 411ms\tremaining: 142ms\n",
      "223:\tlearn: 5.4365571\ttotal: 413ms\tremaining: 140ms\n",
      "224:\tlearn: 5.4238151\ttotal: 414ms\tremaining: 138ms\n",
      "225:\tlearn: 5.4138037\ttotal: 416ms\tremaining: 136ms\n",
      "226:\tlearn: 5.4046665\ttotal: 418ms\tremaining: 134ms\n",
      "227:\tlearn: 5.3933338\ttotal: 420ms\tremaining: 132ms\n",
      "228:\tlearn: 5.3870369\ttotal: 421ms\tremaining: 131ms\n",
      "229:\tlearn: 5.3797293\ttotal: 423ms\tremaining: 129ms\n",
      "230:\tlearn: 5.3725936\ttotal: 425ms\tremaining: 127ms\n",
      "231:\tlearn: 5.3619652\ttotal: 427ms\tremaining: 125ms\n",
      "232:\tlearn: 5.3458741\ttotal: 428ms\tremaining: 123ms\n",
      "233:\tlearn: 5.3301507\ttotal: 430ms\tremaining: 121ms\n",
      "234:\tlearn: 5.3109145\ttotal: 432ms\tremaining: 120ms\n",
      "235:\tlearn: 5.3000983\ttotal: 434ms\tremaining: 118ms\n",
      "236:\tlearn: 5.2901968\ttotal: 436ms\tremaining: 116ms\n",
      "237:\tlearn: 5.2794829\ttotal: 438ms\tremaining: 114ms\n",
      "238:\tlearn: 5.2714210\ttotal: 440ms\tremaining: 112ms\n",
      "239:\tlearn: 5.2561577\ttotal: 441ms\tremaining: 110ms\n",
      "240:\tlearn: 5.2463334\ttotal: 443ms\tremaining: 108ms\n",
      "241:\tlearn: 5.2447352\ttotal: 445ms\tremaining: 107ms\n",
      "242:\tlearn: 5.2294056\ttotal: 447ms\tremaining: 105ms\n",
      "243:\tlearn: 5.2205543\ttotal: 448ms\tremaining: 103ms\n",
      "244:\tlearn: 5.2078543\ttotal: 450ms\tremaining: 101ms\n",
      "245:\tlearn: 5.1989800\ttotal: 452ms\tremaining: 99.2ms\n",
      "246:\tlearn: 5.1869646\ttotal: 454ms\tremaining: 97.4ms\n",
      "247:\tlearn: 5.1836273\ttotal: 456ms\tremaining: 95.6ms\n",
      "248:\tlearn: 5.1700632\ttotal: 458ms\tremaining: 93.7ms\n",
      "249:\tlearn: 5.1629313\ttotal: 459ms\tremaining: 91.9ms\n",
      "250:\tlearn: 5.1604521\ttotal: 461ms\tremaining: 90ms\n",
      "251:\tlearn: 5.1489717\ttotal: 463ms\tremaining: 88.2ms\n",
      "252:\tlearn: 5.1434486\ttotal: 465ms\tremaining: 86.4ms\n",
      "253:\tlearn: 5.1259429\ttotal: 467ms\tremaining: 84.5ms\n",
      "254:\tlearn: 5.1165952\ttotal: 469ms\tremaining: 82.7ms\n",
      "255:\tlearn: 5.1111928\ttotal: 470ms\tremaining: 80.9ms\n",
      "256:\tlearn: 5.0992807\ttotal: 472ms\tremaining: 79ms\n",
      "257:\tlearn: 5.0890715\ttotal: 474ms\tremaining: 77.2ms\n",
      "258:\tlearn: 5.0774824\ttotal: 476ms\tremaining: 75.3ms\n",
      "259:\tlearn: 5.0705672\ttotal: 478ms\tremaining: 73.5ms\n",
      "260:\tlearn: 5.0593313\ttotal: 480ms\tremaining: 71.7ms\n",
      "261:\tlearn: 5.0518502\ttotal: 481ms\tremaining: 69.8ms\n",
      "262:\tlearn: 5.0399699\ttotal: 483ms\tremaining: 68ms\n",
      "263:\tlearn: 5.0295853\ttotal: 485ms\tremaining: 66.1ms\n",
      "264:\tlearn: 5.0273414\ttotal: 487ms\tremaining: 64.3ms\n",
      "265:\tlearn: 5.0210803\ttotal: 489ms\tremaining: 62.5ms\n",
      "266:\tlearn: 5.0085899\ttotal: 491ms\tremaining: 60.6ms\n",
      "267:\tlearn: 5.0017588\ttotal: 492ms\tremaining: 58.8ms\n",
      "268:\tlearn: 4.9937193\ttotal: 494ms\tremaining: 56.9ms\n",
      "269:\tlearn: 4.9864499\ttotal: 496ms\tremaining: 55.1ms\n",
      "270:\tlearn: 4.9780189\ttotal: 498ms\tremaining: 53.3ms\n",
      "271:\tlearn: 4.9675360\ttotal: 499ms\tremaining: 51.4ms\n",
      "272:\tlearn: 4.9666155\ttotal: 501ms\tremaining: 49.6ms\n",
      "273:\tlearn: 4.9477530\ttotal: 503ms\tremaining: 47.7ms\n",
      "274:\tlearn: 4.9463926\ttotal: 505ms\tremaining: 45.9ms\n",
      "275:\tlearn: 4.9445049\ttotal: 507ms\tremaining: 44.1ms\n",
      "276:\tlearn: 4.9431019\ttotal: 509ms\tremaining: 42.2ms\n",
      "277:\tlearn: 4.9418096\ttotal: 510ms\tremaining: 40.4ms\n",
      "278:\tlearn: 4.9399213\ttotal: 512ms\tremaining: 38.5ms\n",
      "279:\tlearn: 4.9387170\ttotal: 514ms\tremaining: 36.7ms\n",
      "280:\tlearn: 4.9279015\ttotal: 516ms\tremaining: 34.9ms\n",
      "281:\tlearn: 4.9197397\ttotal: 517ms\tremaining: 33ms\n",
      "282:\tlearn: 4.9047704\ttotal: 519ms\tremaining: 31.2ms\n",
      "283:\tlearn: 4.8961558\ttotal: 521ms\tremaining: 29.3ms\n",
      "284:\tlearn: 4.8946599\ttotal: 523ms\tremaining: 27.5ms\n",
      "285:\tlearn: 4.8867634\ttotal: 524ms\tremaining: 25.7ms\n",
      "286:\tlearn: 4.8779515\ttotal: 526ms\tremaining: 23.8ms\n",
      "287:\tlearn: 4.8766924\ttotal: 528ms\tremaining: 22ms\n",
      "288:\tlearn: 4.8713066\ttotal: 530ms\tremaining: 20.2ms\n",
      "289:\tlearn: 4.8639814\ttotal: 532ms\tremaining: 18.3ms\n",
      "290:\tlearn: 4.8629253\ttotal: 533ms\tremaining: 16.5ms\n",
      "291:\tlearn: 4.8615127\ttotal: 535ms\tremaining: 14.7ms\n",
      "292:\tlearn: 4.8527389\ttotal: 537ms\tremaining: 12.8ms\n",
      "293:\tlearn: 4.8427556\ttotal: 538ms\tremaining: 11ms\n",
      "294:\tlearn: 4.8367033\ttotal: 540ms\tremaining: 9.15ms\n",
      "295:\tlearn: 4.8324704\ttotal: 542ms\tremaining: 7.32ms\n",
      "296:\tlearn: 4.8229322\ttotal: 544ms\tremaining: 5.49ms\n",
      "297:\tlearn: 4.8139015\ttotal: 546ms\tremaining: 3.66ms\n",
      "298:\tlearn: 4.8051635\ttotal: 548ms\tremaining: 1.83ms\n",
      "299:\tlearn: 4.7960632\ttotal: 549ms\tremaining: 0us\n",
      "0:\tlearn: 10.7031047\ttotal: 2.2ms\tremaining: 659ms\n",
      "1:\tlearn: 10.4924068\ttotal: 4.42ms\tremaining: 659ms\n",
      "2:\tlearn: 10.3090730\ttotal: 6.43ms\tremaining: 636ms\n",
      "3:\tlearn: 10.1557914\ttotal: 8.38ms\tremaining: 620ms\n",
      "4:\tlearn: 9.9885249\ttotal: 10.5ms\tremaining: 617ms\n",
      "5:\tlearn: 9.8357889\ttotal: 12.5ms\tremaining: 612ms\n",
      "6:\tlearn: 9.6786406\ttotal: 14.5ms\tremaining: 608ms\n",
      "7:\tlearn: 9.5548497\ttotal: 16.5ms\tremaining: 603ms\n",
      "8:\tlearn: 9.4308095\ttotal: 18.6ms\tremaining: 601ms\n",
      "9:\tlearn: 9.3334218\ttotal: 20.6ms\tremaining: 596ms\n",
      "10:\tlearn: 9.2413640\ttotal: 22.5ms\tremaining: 590ms\n",
      "11:\tlearn: 9.1437751\ttotal: 24.6ms\tremaining: 590ms\n",
      "12:\tlearn: 9.0619169\ttotal: 26.6ms\tremaining: 586ms\n",
      "13:\tlearn: 8.9722178\ttotal: 29.8ms\tremaining: 609ms\n",
      "14:\tlearn: 8.8899915\ttotal: 33ms\tremaining: 628ms\n",
      "15:\tlearn: 8.8414657\ttotal: 35.1ms\tremaining: 623ms\n",
      "16:\tlearn: 8.7721977\ttotal: 37.2ms\tremaining: 619ms\n",
      "17:\tlearn: 8.7162300\ttotal: 39.2ms\tremaining: 615ms\n",
      "18:\tlearn: 8.6641788\ttotal: 41.2ms\tremaining: 609ms\n",
      "19:\tlearn: 8.5975820\ttotal: 43.2ms\tremaining: 605ms\n",
      "20:\tlearn: 8.5496212\ttotal: 45.4ms\tremaining: 603ms\n",
      "21:\tlearn: 8.5214645\ttotal: 47.3ms\tremaining: 598ms\n",
      "22:\tlearn: 8.4724178\ttotal: 49.4ms\tremaining: 595ms\n",
      "23:\tlearn: 8.4399716\ttotal: 51.5ms\tremaining: 592ms\n",
      "24:\tlearn: 8.3828935\ttotal: 53.5ms\tremaining: 589ms\n",
      "25:\tlearn: 8.3169227\ttotal: 55.6ms\tremaining: 586ms\n",
      "26:\tlearn: 8.2840413\ttotal: 57.6ms\tremaining: 582ms\n",
      "27:\tlearn: 8.2471941\ttotal: 59.6ms\tremaining: 579ms\n",
      "28:\tlearn: 8.2116299\ttotal: 61.6ms\tremaining: 576ms\n",
      "29:\tlearn: 8.1826937\ttotal: 63.7ms\tremaining: 573ms\n",
      "30:\tlearn: 8.1483198\ttotal: 65.6ms\tremaining: 569ms\n",
      "31:\tlearn: 8.1278537\ttotal: 67.6ms\tremaining: 567ms\n",
      "32:\tlearn: 8.0954150\ttotal: 69.6ms\tremaining: 563ms\n",
      "33:\tlearn: 8.0686324\ttotal: 71.6ms\tremaining: 560ms\n",
      "34:\tlearn: 8.0271259\ttotal: 73.7ms\tremaining: 558ms\n",
      "35:\tlearn: 8.0076506\ttotal: 75.6ms\tremaining: 555ms\n",
      "36:\tlearn: 7.9681897\ttotal: 77.6ms\tremaining: 551ms\n",
      "37:\tlearn: 7.9469574\ttotal: 79.5ms\tremaining: 548ms\n",
      "38:\tlearn: 7.9220440\ttotal: 81.4ms\tremaining: 545ms\n",
      "39:\tlearn: 7.8937936\ttotal: 83.2ms\tremaining: 541ms\n",
      "40:\tlearn: 7.8712632\ttotal: 85.2ms\tremaining: 538ms\n",
      "41:\tlearn: 7.8371783\ttotal: 87.2ms\tremaining: 535ms\n",
      "42:\tlearn: 7.8274195\ttotal: 89.2ms\tremaining: 533ms\n",
      "43:\tlearn: 7.8074843\ttotal: 91.2ms\tremaining: 531ms\n",
      "44:\tlearn: 7.7790132\ttotal: 93.1ms\tremaining: 528ms\n",
      "45:\tlearn: 7.7640865\ttotal: 95.1ms\tremaining: 525ms\n",
      "46:\tlearn: 7.7524152\ttotal: 97ms\tremaining: 522ms\n",
      "47:\tlearn: 7.7334552\ttotal: 99.1ms\tremaining: 520ms\n",
      "48:\tlearn: 7.7037415\ttotal: 101ms\tremaining: 517ms\n",
      "49:\tlearn: 7.6820130\ttotal: 103ms\tremaining: 515ms\n",
      "50:\tlearn: 7.6683676\ttotal: 105ms\tremaining: 513ms\n",
      "51:\tlearn: 7.6451414\ttotal: 107ms\tremaining: 510ms\n",
      "52:\tlearn: 7.6232949\ttotal: 109ms\tremaining: 508ms\n",
      "53:\tlearn: 7.6031910\ttotal: 111ms\tremaining: 505ms\n",
      "54:\tlearn: 7.5718936\ttotal: 113ms\tremaining: 503ms\n",
      "55:\tlearn: 7.5496978\ttotal: 115ms\tremaining: 501ms\n",
      "56:\tlearn: 7.5094912\ttotal: 117ms\tremaining: 499ms\n",
      "57:\tlearn: 7.4767377\ttotal: 119ms\tremaining: 497ms\n",
      "58:\tlearn: 7.4531024\ttotal: 121ms\tremaining: 495ms\n",
      "59:\tlearn: 7.4425871\ttotal: 123ms\tremaining: 493ms\n",
      "60:\tlearn: 7.4244467\ttotal: 125ms\tremaining: 490ms\n",
      "61:\tlearn: 7.4110171\ttotal: 127ms\tremaining: 488ms\n",
      "62:\tlearn: 7.3810154\ttotal: 129ms\tremaining: 486ms\n",
      "63:\tlearn: 7.3540349\ttotal: 131ms\tremaining: 484ms\n",
      "64:\tlearn: 7.3385564\ttotal: 133ms\tremaining: 482ms\n",
      "65:\tlearn: 7.3148156\ttotal: 135ms\tremaining: 479ms\n",
      "66:\tlearn: 7.3028756\ttotal: 137ms\tremaining: 477ms\n",
      "67:\tlearn: 7.2903417\ttotal: 140ms\tremaining: 478ms\n",
      "68:\tlearn: 7.2625025\ttotal: 143ms\tremaining: 479ms\n",
      "69:\tlearn: 7.2474582\ttotal: 146ms\tremaining: 480ms\n",
      "70:\tlearn: 7.2299765\ttotal: 149ms\tremaining: 481ms\n",
      "71:\tlearn: 7.2109747\ttotal: 152ms\tremaining: 482ms\n",
      "72:\tlearn: 7.1968588\ttotal: 156ms\tremaining: 484ms\n",
      "73:\tlearn: 7.1768307\ttotal: 159ms\tremaining: 485ms\n",
      "74:\tlearn: 7.1563325\ttotal: 162ms\tremaining: 485ms\n",
      "75:\tlearn: 7.1489954\ttotal: 165ms\tremaining: 486ms\n",
      "76:\tlearn: 7.1190855\ttotal: 168ms\tremaining: 487ms\n",
      "77:\tlearn: 7.1070590\ttotal: 171ms\tremaining: 486ms\n",
      "78:\tlearn: 7.0825240\ttotal: 174ms\tremaining: 486ms\n",
      "79:\tlearn: 7.0731811\ttotal: 176ms\tremaining: 483ms\n",
      "80:\tlearn: 7.0659950\ttotal: 178ms\tremaining: 480ms\n",
      "81:\tlearn: 7.0413593\ttotal: 180ms\tremaining: 478ms\n",
      "82:\tlearn: 7.0172125\ttotal: 182ms\tremaining: 475ms\n",
      "83:\tlearn: 6.9995153\ttotal: 184ms\tremaining: 473ms\n",
      "84:\tlearn: 6.9840947\ttotal: 186ms\tremaining: 471ms\n",
      "85:\tlearn: 6.9769741\ttotal: 188ms\tremaining: 468ms\n",
      "86:\tlearn: 6.9727049\ttotal: 190ms\tremaining: 465ms\n",
      "87:\tlearn: 6.9665877\ttotal: 192ms\tremaining: 462ms\n",
      "88:\tlearn: 6.9616876\ttotal: 194ms\tremaining: 459ms\n",
      "89:\tlearn: 6.9590218\ttotal: 196ms\tremaining: 456ms\n",
      "90:\tlearn: 6.9512762\ttotal: 198ms\tremaining: 454ms\n",
      "91:\tlearn: 6.9350746\ttotal: 200ms\tremaining: 451ms\n",
      "92:\tlearn: 6.9158245\ttotal: 202ms\tremaining: 449ms\n",
      "93:\tlearn: 6.8957541\ttotal: 204ms\tremaining: 446ms\n",
      "94:\tlearn: 6.8808505\ttotal: 206ms\tremaining: 444ms\n",
      "95:\tlearn: 6.8666623\ttotal: 208ms\tremaining: 441ms\n",
      "96:\tlearn: 6.8452085\ttotal: 210ms\tremaining: 439ms\n",
      "97:\tlearn: 6.8413432\ttotal: 212ms\tremaining: 436ms\n",
      "98:\tlearn: 6.8265485\ttotal: 214ms\tremaining: 434ms\n",
      "99:\tlearn: 6.8241847\ttotal: 216ms\tremaining: 431ms\n",
      "100:\tlearn: 6.8081807\ttotal: 218ms\tremaining: 429ms\n",
      "101:\tlearn: 6.8045610\ttotal: 220ms\tremaining: 426ms\n",
      "102:\tlearn: 6.7890431\ttotal: 221ms\tremaining: 424ms\n",
      "103:\tlearn: 6.7679379\ttotal: 224ms\tremaining: 422ms\n",
      "104:\tlearn: 6.7637309\ttotal: 226ms\tremaining: 419ms\n",
      "105:\tlearn: 6.7436380\ttotal: 228ms\tremaining: 416ms\n",
      "106:\tlearn: 6.7261284\ttotal: 230ms\tremaining: 414ms\n",
      "107:\tlearn: 6.7036336\ttotal: 231ms\tremaining: 412ms\n",
      "108:\tlearn: 6.6815115\ttotal: 234ms\tremaining: 409ms\n",
      "109:\tlearn: 6.6621950\ttotal: 236ms\tremaining: 407ms\n",
      "110:\tlearn: 6.6503180\ttotal: 237ms\tremaining: 404ms\n",
      "111:\tlearn: 6.6413112\ttotal: 239ms\tremaining: 401ms\n",
      "112:\tlearn: 6.6230528\ttotal: 241ms\tremaining: 399ms\n",
      "113:\tlearn: 6.6048867\ttotal: 243ms\tremaining: 397ms\n",
      "114:\tlearn: 6.5988035\ttotal: 245ms\tremaining: 394ms\n",
      "115:\tlearn: 6.5745576\ttotal: 247ms\tremaining: 392ms\n",
      "116:\tlearn: 6.5596451\ttotal: 249ms\tremaining: 389ms\n",
      "117:\tlearn: 6.5552334\ttotal: 251ms\tremaining: 387ms\n",
      "118:\tlearn: 6.5512490\ttotal: 253ms\tremaining: 384ms\n",
      "119:\tlearn: 6.5478050\ttotal: 255ms\tremaining: 382ms\n",
      "120:\tlearn: 6.5277885\ttotal: 256ms\tremaining: 379ms\n",
      "121:\tlearn: 6.5254115\ttotal: 259ms\tremaining: 377ms\n",
      "122:\tlearn: 6.5082326\ttotal: 260ms\tremaining: 375ms\n",
      "123:\tlearn: 6.4942578\ttotal: 262ms\tremaining: 372ms\n",
      "124:\tlearn: 6.4763382\ttotal: 264ms\tremaining: 370ms\n",
      "125:\tlearn: 6.4604940\ttotal: 266ms\tremaining: 368ms\n",
      "126:\tlearn: 6.4432697\ttotal: 268ms\tremaining: 366ms\n",
      "127:\tlearn: 6.4343376\ttotal: 270ms\tremaining: 363ms\n",
      "128:\tlearn: 6.4293606\ttotal: 272ms\tremaining: 361ms\n",
      "129:\tlearn: 6.4093727\ttotal: 274ms\tremaining: 359ms\n",
      "130:\tlearn: 6.3985126\ttotal: 276ms\tremaining: 356ms\n",
      "131:\tlearn: 6.3955952\ttotal: 278ms\tremaining: 354ms\n",
      "132:\tlearn: 6.3938795\ttotal: 280ms\tremaining: 352ms\n",
      "133:\tlearn: 6.3794435\ttotal: 282ms\tremaining: 350ms\n",
      "134:\tlearn: 6.3740698\ttotal: 284ms\tremaining: 347ms\n",
      "135:\tlearn: 6.3659923\ttotal: 286ms\tremaining: 345ms\n",
      "136:\tlearn: 6.3572651\ttotal: 288ms\tremaining: 343ms\n",
      "137:\tlearn: 6.3392426\ttotal: 290ms\tremaining: 340ms\n",
      "138:\tlearn: 6.3267868\ttotal: 292ms\tremaining: 338ms\n",
      "139:\tlearn: 6.3165739\ttotal: 294ms\tremaining: 336ms\n",
      "140:\tlearn: 6.3144007\ttotal: 296ms\tremaining: 334ms\n",
      "141:\tlearn: 6.2896016\ttotal: 298ms\tremaining: 331ms\n",
      "142:\tlearn: 6.2794200\ttotal: 300ms\tremaining: 329ms\n",
      "143:\tlearn: 6.2623838\ttotal: 302ms\tremaining: 327ms\n",
      "144:\tlearn: 6.2529718\ttotal: 304ms\tremaining: 324ms\n",
      "145:\tlearn: 6.2383021\ttotal: 306ms\tremaining: 322ms\n",
      "146:\tlearn: 6.2199697\ttotal: 308ms\tremaining: 320ms\n",
      "147:\tlearn: 6.2152223\ttotal: 310ms\tremaining: 318ms\n",
      "148:\tlearn: 6.2079307\ttotal: 311ms\tremaining: 316ms\n",
      "149:\tlearn: 6.1969109\ttotal: 313ms\tremaining: 313ms\n",
      "150:\tlearn: 6.1941736\ttotal: 315ms\tremaining: 311ms\n",
      "151:\tlearn: 6.1885612\ttotal: 317ms\tremaining: 309ms\n",
      "152:\tlearn: 6.1757755\ttotal: 319ms\tremaining: 307ms\n",
      "153:\tlearn: 6.1622419\ttotal: 321ms\tremaining: 304ms\n",
      "154:\tlearn: 6.1507190\ttotal: 323ms\tremaining: 302ms\n",
      "155:\tlearn: 6.1463645\ttotal: 325ms\tremaining: 300ms\n",
      "156:\tlearn: 6.1380576\ttotal: 327ms\tremaining: 298ms\n",
      "157:\tlearn: 6.1272989\ttotal: 329ms\tremaining: 296ms\n",
      "158:\tlearn: 6.1240184\ttotal: 331ms\tremaining: 293ms\n",
      "159:\tlearn: 6.1155104\ttotal: 333ms\tremaining: 291ms\n",
      "160:\tlearn: 6.1135446\ttotal: 335ms\tremaining: 289ms\n",
      "161:\tlearn: 6.1036903\ttotal: 337ms\tremaining: 287ms\n",
      "162:\tlearn: 6.0922291\ttotal: 339ms\tremaining: 285ms\n",
      "163:\tlearn: 6.0833541\ttotal: 340ms\tremaining: 282ms\n",
      "164:\tlearn: 6.0723262\ttotal: 342ms\tremaining: 280ms\n",
      "165:\tlearn: 6.0654670\ttotal: 344ms\tremaining: 278ms\n",
      "166:\tlearn: 6.0597435\ttotal: 346ms\tremaining: 276ms\n",
      "167:\tlearn: 6.0477686\ttotal: 348ms\tremaining: 273ms\n",
      "168:\tlearn: 6.0359857\ttotal: 350ms\tremaining: 271ms\n",
      "169:\tlearn: 6.0257032\ttotal: 352ms\tremaining: 269ms\n",
      "170:\tlearn: 6.0242686\ttotal: 354ms\tremaining: 267ms\n",
      "171:\tlearn: 6.0195171\ttotal: 356ms\tremaining: 265ms\n",
      "172:\tlearn: 6.0096049\ttotal: 358ms\tremaining: 263ms\n",
      "173:\tlearn: 5.9972180\ttotal: 360ms\tremaining: 261ms\n",
      "174:\tlearn: 5.9903047\ttotal: 362ms\tremaining: 258ms\n",
      "175:\tlearn: 5.9879953\ttotal: 364ms\tremaining: 256ms\n",
      "176:\tlearn: 5.9793454\ttotal: 366ms\tremaining: 254ms\n",
      "177:\tlearn: 5.9775796\ttotal: 368ms\tremaining: 252ms\n",
      "178:\tlearn: 5.9721301\ttotal: 370ms\tremaining: 250ms\n",
      "179:\tlearn: 5.9596179\ttotal: 372ms\tremaining: 248ms\n",
      "180:\tlearn: 5.9436902\ttotal: 373ms\tremaining: 246ms\n",
      "181:\tlearn: 5.9306749\ttotal: 375ms\tremaining: 243ms\n",
      "182:\tlearn: 5.9283049\ttotal: 377ms\tremaining: 241ms\n",
      "183:\tlearn: 5.9233313\ttotal: 379ms\tremaining: 239ms\n",
      "184:\tlearn: 5.9075032\ttotal: 381ms\tremaining: 237ms\n",
      "185:\tlearn: 5.8920714\ttotal: 383ms\tremaining: 235ms\n",
      "186:\tlearn: 5.8817159\ttotal: 385ms\tremaining: 233ms\n",
      "187:\tlearn: 5.8746028\ttotal: 387ms\tremaining: 230ms\n",
      "188:\tlearn: 5.8719363\ttotal: 389ms\tremaining: 228ms\n",
      "189:\tlearn: 5.8657403\ttotal: 391ms\tremaining: 226ms\n",
      "190:\tlearn: 5.8541283\ttotal: 393ms\tremaining: 224ms\n",
      "191:\tlearn: 5.8507895\ttotal: 395ms\tremaining: 222ms\n",
      "192:\tlearn: 5.8478831\ttotal: 396ms\tremaining: 220ms\n",
      "193:\tlearn: 5.8381774\ttotal: 398ms\tremaining: 218ms\n",
      "194:\tlearn: 5.8270905\ttotal: 400ms\tremaining: 216ms\n",
      "195:\tlearn: 5.8236813\ttotal: 402ms\tremaining: 213ms\n",
      "196:\tlearn: 5.8134561\ttotal: 404ms\tremaining: 211ms\n",
      "197:\tlearn: 5.8057745\ttotal: 406ms\tremaining: 209ms\n",
      "198:\tlearn: 5.8007602\ttotal: 408ms\tremaining: 207ms\n",
      "199:\tlearn: 5.7907873\ttotal: 410ms\tremaining: 205ms\n",
      "200:\tlearn: 5.7892518\ttotal: 412ms\tremaining: 203ms\n",
      "201:\tlearn: 5.7793558\ttotal: 414ms\tremaining: 201ms\n",
      "202:\tlearn: 5.7731114\ttotal: 416ms\tremaining: 199ms\n",
      "203:\tlearn: 5.7682278\ttotal: 418ms\tremaining: 197ms\n",
      "204:\tlearn: 5.7612674\ttotal: 420ms\tremaining: 194ms\n",
      "205:\tlearn: 5.7533761\ttotal: 422ms\tremaining: 192ms\n",
      "206:\tlearn: 5.7501651\ttotal: 423ms\tremaining: 190ms\n",
      "207:\tlearn: 5.7378108\ttotal: 425ms\tremaining: 188ms\n",
      "208:\tlearn: 5.7351623\ttotal: 427ms\tremaining: 186ms\n",
      "209:\tlearn: 5.7271727\ttotal: 429ms\tremaining: 184ms\n",
      "210:\tlearn: 5.7251306\ttotal: 431ms\tremaining: 182ms\n",
      "211:\tlearn: 5.7232845\ttotal: 433ms\tremaining: 180ms\n",
      "212:\tlearn: 5.7151966\ttotal: 434ms\tremaining: 177ms\n",
      "213:\tlearn: 5.7085081\ttotal: 436ms\tremaining: 175ms\n",
      "214:\tlearn: 5.7019803\ttotal: 438ms\tremaining: 173ms\n",
      "215:\tlearn: 5.6929568\ttotal: 440ms\tremaining: 171ms\n",
      "216:\tlearn: 5.6864943\ttotal: 442ms\tremaining: 169ms\n",
      "217:\tlearn: 5.6843600\ttotal: 444ms\tremaining: 167ms\n",
      "218:\tlearn: 5.6754786\ttotal: 446ms\tremaining: 165ms\n",
      "219:\tlearn: 5.6734528\ttotal: 447ms\tremaining: 163ms\n",
      "220:\tlearn: 5.6660889\ttotal: 449ms\tremaining: 161ms\n",
      "221:\tlearn: 5.6642241\ttotal: 451ms\tremaining: 159ms\n",
      "222:\tlearn: 5.6526403\ttotal: 453ms\tremaining: 156ms\n",
      "223:\tlearn: 5.6489579\ttotal: 455ms\tremaining: 154ms\n",
      "224:\tlearn: 5.6439253\ttotal: 457ms\tremaining: 152ms\n",
      "225:\tlearn: 5.6313714\ttotal: 459ms\tremaining: 150ms\n",
      "226:\tlearn: 5.6278003\ttotal: 461ms\tremaining: 148ms\n",
      "227:\tlearn: 5.6195818\ttotal: 463ms\tremaining: 146ms\n",
      "228:\tlearn: 5.6094414\ttotal: 465ms\tremaining: 144ms\n",
      "229:\tlearn: 5.6065752\ttotal: 467ms\tremaining: 142ms\n",
      "230:\tlearn: 5.5971585\ttotal: 469ms\tremaining: 140ms\n",
      "231:\tlearn: 5.5833741\ttotal: 471ms\tremaining: 138ms\n",
      "232:\tlearn: 5.5786152\ttotal: 472ms\tremaining: 136ms\n",
      "233:\tlearn: 5.5714086\ttotal: 474ms\tremaining: 134ms\n",
      "234:\tlearn: 5.5672871\ttotal: 476ms\tremaining: 132ms\n",
      "235:\tlearn: 5.5552258\ttotal: 478ms\tremaining: 130ms\n",
      "236:\tlearn: 5.5547235\ttotal: 480ms\tremaining: 128ms\n",
      "237:\tlearn: 5.5496529\ttotal: 482ms\tremaining: 126ms\n",
      "238:\tlearn: 5.5391308\ttotal: 484ms\tremaining: 123ms\n",
      "239:\tlearn: 5.5222819\ttotal: 486ms\tremaining: 121ms\n",
      "240:\tlearn: 5.5142973\ttotal: 488ms\tremaining: 119ms\n",
      "241:\tlearn: 5.5117732\ttotal: 490ms\tremaining: 117ms\n",
      "242:\tlearn: 5.5103120\ttotal: 491ms\tremaining: 115ms\n",
      "243:\tlearn: 5.5040272\ttotal: 493ms\tremaining: 113ms\n",
      "244:\tlearn: 5.4976443\ttotal: 495ms\tremaining: 111ms\n",
      "245:\tlearn: 5.4927741\ttotal: 497ms\tremaining: 109ms\n",
      "246:\tlearn: 5.4827117\ttotal: 499ms\tremaining: 107ms\n",
      "247:\tlearn: 5.4801508\ttotal: 501ms\tremaining: 105ms\n",
      "248:\tlearn: 5.4691771\ttotal: 503ms\tremaining: 103ms\n",
      "249:\tlearn: 5.4684124\ttotal: 504ms\tremaining: 101ms\n",
      "250:\tlearn: 5.4605447\ttotal: 506ms\tremaining: 98.9ms\n",
      "251:\tlearn: 5.4580243\ttotal: 508ms\tremaining: 96.8ms\n",
      "252:\tlearn: 5.4529207\ttotal: 510ms\tremaining: 94.8ms\n",
      "253:\tlearn: 5.4445272\ttotal: 512ms\tremaining: 92.7ms\n",
      "254:\tlearn: 5.4378610\ttotal: 514ms\tremaining: 90.7ms\n",
      "255:\tlearn: 5.4339452\ttotal: 516ms\tremaining: 88.6ms\n",
      "256:\tlearn: 5.4262183\ttotal: 518ms\tremaining: 86.6ms\n",
      "257:\tlearn: 5.4236566\ttotal: 519ms\tremaining: 84.6ms\n",
      "258:\tlearn: 5.4140309\ttotal: 521ms\tremaining: 82.5ms\n",
      "259:\tlearn: 5.4034779\ttotal: 523ms\tremaining: 80.5ms\n",
      "260:\tlearn: 5.3994813\ttotal: 525ms\tremaining: 78.5ms\n",
      "261:\tlearn: 5.3953714\ttotal: 527ms\tremaining: 76.4ms\n",
      "262:\tlearn: 5.3893247\ttotal: 529ms\tremaining: 74.4ms\n",
      "263:\tlearn: 5.3870701\ttotal: 531ms\tremaining: 72.4ms\n",
      "264:\tlearn: 5.3826850\ttotal: 533ms\tremaining: 70.4ms\n",
      "265:\tlearn: 5.3759444\ttotal: 535ms\tremaining: 68.4ms\n",
      "266:\tlearn: 5.3703709\ttotal: 537ms\tremaining: 66.3ms\n",
      "267:\tlearn: 5.3660193\ttotal: 539ms\tremaining: 64.3ms\n",
      "268:\tlearn: 5.3653945\ttotal: 540ms\tremaining: 62.3ms\n",
      "269:\tlearn: 5.3581686\ttotal: 542ms\tremaining: 60.3ms\n",
      "270:\tlearn: 5.3540155\ttotal: 544ms\tremaining: 58.2ms\n",
      "271:\tlearn: 5.3518479\ttotal: 546ms\tremaining: 56.2ms\n",
      "272:\tlearn: 5.3368475\ttotal: 548ms\tremaining: 54.2ms\n",
      "273:\tlearn: 5.3365413\ttotal: 550ms\tremaining: 52.2ms\n",
      "274:\tlearn: 5.3280648\ttotal: 552ms\tremaining: 50.2ms\n",
      "275:\tlearn: 5.3168505\ttotal: 554ms\tremaining: 48.2ms\n",
      "276:\tlearn: 5.3165006\ttotal: 556ms\tremaining: 46.2ms\n",
      "277:\tlearn: 5.3096458\ttotal: 558ms\tremaining: 44.2ms\n",
      "278:\tlearn: 5.3092365\ttotal: 560ms\tremaining: 42.1ms\n",
      "279:\tlearn: 5.3008312\ttotal: 562ms\tremaining: 40.1ms\n",
      "280:\tlearn: 5.2949137\ttotal: 564ms\tremaining: 38.1ms\n",
      "281:\tlearn: 5.2849922\ttotal: 566ms\tremaining: 36.1ms\n",
      "282:\tlearn: 5.2772479\ttotal: 568ms\tremaining: 34.1ms\n",
      "283:\tlearn: 5.2668953\ttotal: 570ms\tremaining: 32.1ms\n",
      "284:\tlearn: 5.2629150\ttotal: 572ms\tremaining: 30.1ms\n",
      "285:\tlearn: 5.2515820\ttotal: 574ms\tremaining: 28.1ms\n",
      "286:\tlearn: 5.2510580\ttotal: 576ms\tremaining: 26.1ms\n",
      "287:\tlearn: 5.2421127\ttotal: 578ms\tremaining: 24.1ms\n",
      "288:\tlearn: 5.2369559\ttotal: 580ms\tremaining: 22.1ms\n",
      "289:\tlearn: 5.2366015\ttotal: 582ms\tremaining: 20.1ms\n",
      "290:\tlearn: 5.2301896\ttotal: 584ms\tremaining: 18ms\n",
      "291:\tlearn: 5.2287503\ttotal: 585ms\tremaining: 16ms\n",
      "292:\tlearn: 5.2266707\ttotal: 587ms\tremaining: 14ms\n",
      "293:\tlearn: 5.2143204\ttotal: 589ms\tremaining: 12ms\n",
      "294:\tlearn: 5.2139819\ttotal: 591ms\tremaining: 10ms\n",
      "295:\tlearn: 5.2083963\ttotal: 593ms\tremaining: 8.01ms\n",
      "296:\tlearn: 5.2032404\ttotal: 595ms\tremaining: 6.01ms\n",
      "297:\tlearn: 5.1932322\ttotal: 597ms\tremaining: 4ms\n",
      "298:\tlearn: 5.1908816\ttotal: 599ms\tremaining: 2ms\n",
      "299:\tlearn: 5.1905511\ttotal: 600ms\tremaining: 0us\n",
      "Лучшее значение метрики качества (train): 5.88\n",
      "Лучшие гиперпараметры: {'n_estimators': 300, 'learning_rate': 0.1, 'l2_leaf_reg': 7, 'depth': 5}\n"
     ]
    }
   ],
   "source": [
    "model_cbr = CatBoostRegressor(random_state=RANDOM_STATE) \n",
    "\n",
    "param_grid_cbr = {'learning_rate': [0.1], #исходный диапазон [0.1, 0.2],\n",
    "                  'depth': [5], #исходный диапазон [3, 4, 5, 6],\n",
    "                  'n_estimators': [300], #исходный диапазон [100, 200, 300],\n",
    "                  'l2_leaf_reg': [7] #исходный диапазон [5, 7, 9]\n",
    "                 }\n",
    "\n",
    "# будем использовать RandomizedSearchCV\n",
    "grid_cbr = RandomizedSearchCV(model_cbr,\n",
    "                            param_distributions=param_grid_cbr,\n",
    "                            scoring='neg_mean_absolute_error',\n",
    "                            cv=3\n",
    "                           )\n",
    "\n",
    "grid_cbr.fit(features_train, target_train)\n",
    "\n",
    "best_params_cbr = grid_cbr.best_params_\n",
    "grid_cbr_best_score = abs(grid_cbr.best_score_)\n",
    "print(f'Лучшее значение метрики качества (train): {grid_cbr_best_score:.2f}')\n",
    "print(f'Лучшие гиперпараметры: {best_params_cbr}')"
   ]
  },
  {
   "cell_type": "markdown",
   "id": "4a63e7de",
   "metadata": {},
   "source": [
    "Лучшее значение метрики качества (train): 5.88\n",
    "Лучшие гиперпараметры: {'n_estimators': 300, 'learning_rate': 0.1, 'l2_leaf_reg': 7, 'depth': 5}"
   ]
  },
  {
   "cell_type": "markdown",
   "id": "efae00ba",
   "metadata": {},
   "source": [
    "Попробуем подобрать другие гиперпараметры модели."
   ]
  },
  {
   "cell_type": "code",
   "execution_count": 82,
   "id": "50a985b3",
   "metadata": {
    "scrolled": true
   },
   "outputs": [
    {
     "name": "stderr",
     "output_type": "stream",
     "text": [
      "/opt/conda/lib/python3.9/site-packages/sklearn/model_selection/_search.py:285: UserWarning: The total space of parameters 1 is smaller than n_iter=10. Running 1 iterations. For exhaustive searches, use GridSearchCV.\n",
      "  warnings.warn(\n"
     ]
    },
    {
     "name": "stdout",
     "output_type": "stream",
     "text": [
      "Лучшее значение метрики качества (train): 6.01\n",
      "Лучшие гиперпараметры: {'verbose': False, 'reg_lambda': 4, 'learning_rate': 0.1, 'iterations': 100}\n"
     ]
    }
   ],
   "source": [
    "param_grid_cbr2 = {'learning_rate': [0.1], #исходный диапазон [0.03, 0.1],\n",
    "                  'iterations': [100], #исходный диапазон [50, 100, 150, 200],\n",
    "                  'reg_lambda': [4],  #исходный диапазон [3, 4, 5, 6],\n",
    "                   'verbose': [False] #исходный диапазон [False]\n",
    "                 }\n",
    "\n",
    "# будем использовать RandomizedSearchCV\n",
    "grid_cbr2 = RandomizedSearchCV(model_cbr,\n",
    "                            param_distributions=param_grid_cbr2,\n",
    "                            scoring='neg_mean_absolute_error',\n",
    "                            cv=3\n",
    "                           )\n",
    "\n",
    "grid_cbr2.fit(features_train, target_train)\n",
    "\n",
    "best_params_cbr = grid_cbr2.best_params_\n",
    "grid_cbr_best_score = abs(grid_cbr2.best_score_)\n",
    "print(f'Лучшее значение метрики качества (train): {grid_cbr_best_score:.2f}')\n",
    "print(f'Лучшие гиперпараметры: {best_params_cbr}')"
   ]
  },
  {
   "cell_type": "markdown",
   "id": "07556832",
   "metadata": {},
   "source": [
    "Первый набор гиперпараметров помог модели добиться лучших результатов. "
   ]
  },
  {
   "cell_type": "markdown",
   "id": "889fc714",
   "metadata": {},
   "source": [
    "### Вывод\n",
    "\n",
    "\n",
    "Были рассмотрены 3 модели, хорошо себя зарекомендовавшие в решении задач регрессии.\n",
    "Все три модели показали уверенно хорошие результаты в сравнении с baseline моделью MAE(train)=7,9.\n",
    "\n",
    "- LinearRegression MAE(train)=5.9473,\n",
    "- RandomForestRegressor MAE(train)=6.0111,\n",
    "- CatBoostRegressor MAE(train)=5.88.\n",
    "\n",
    "Для достижения наилучших показателей моделями:\n",
    "- проведена корректировка коллерирующих признаков для Линейной модели, \n",
    "- подобраны гиперпараметры для Случайного леса и CatBoost.\n",
    "\n",
    "Лучшей оказалась модель CatBoost со значением метрики качества (train): 5.88 и гиперпараметрами: {'n_estimators': 300, 'learning_rate': 0.1, 'l2_leaf_reg': 7, 'depth': 5}"
   ]
  },
  {
   "cell_type": "markdown",
   "id": "4ca521b8",
   "metadata": {},
   "source": [
    "## Лучшая модель"
   ]
  },
  {
   "cell_type": "code",
   "execution_count": 89,
   "id": "4b70e125",
   "metadata": {
    "scrolled": false
   },
   "outputs": [
    {
     "name": "stdout",
     "output_type": "stream",
     "text": [
      "0:\tlearn: 10.7031047\ttotal: 2.05ms\tremaining: 612ms\n",
      "1:\tlearn: 10.4924068\ttotal: 4.3ms\tremaining: 641ms\n",
      "2:\tlearn: 10.3090730\ttotal: 6.17ms\tremaining: 610ms\n",
      "3:\tlearn: 10.1557914\ttotal: 8.2ms\tremaining: 607ms\n",
      "4:\tlearn: 9.9885249\ttotal: 10.2ms\tremaining: 600ms\n",
      "5:\tlearn: 9.8357889\ttotal: 12.1ms\tremaining: 594ms\n",
      "6:\tlearn: 9.6786406\ttotal: 14ms\tremaining: 588ms\n",
      "7:\tlearn: 9.5548497\ttotal: 16ms\tremaining: 583ms\n",
      "8:\tlearn: 9.4308095\ttotal: 18ms\tremaining: 582ms\n",
      "9:\tlearn: 9.3334218\ttotal: 20ms\tremaining: 580ms\n",
      "10:\tlearn: 9.2413640\ttotal: 21.9ms\tremaining: 576ms\n",
      "11:\tlearn: 9.1437751\ttotal: 24ms\tremaining: 575ms\n",
      "12:\tlearn: 9.0619169\ttotal: 25.8ms\tremaining: 569ms\n",
      "13:\tlearn: 8.9722178\ttotal: 27.8ms\tremaining: 568ms\n",
      "14:\tlearn: 8.8899915\ttotal: 29.8ms\tremaining: 566ms\n",
      "15:\tlearn: 8.8414657\ttotal: 31.7ms\tremaining: 562ms\n",
      "16:\tlearn: 8.7721977\ttotal: 33.7ms\tremaining: 561ms\n",
      "17:\tlearn: 8.7162300\ttotal: 35.6ms\tremaining: 558ms\n",
      "18:\tlearn: 8.6641788\ttotal: 37.7ms\tremaining: 558ms\n",
      "19:\tlearn: 8.5975820\ttotal: 39.6ms\tremaining: 555ms\n",
      "20:\tlearn: 8.5496212\ttotal: 41.6ms\tremaining: 552ms\n",
      "21:\tlearn: 8.5214645\ttotal: 43.5ms\tremaining: 550ms\n",
      "22:\tlearn: 8.4724178\ttotal: 45.5ms\tremaining: 548ms\n",
      "23:\tlearn: 8.4399716\ttotal: 47.5ms\tremaining: 546ms\n",
      "24:\tlearn: 8.3828935\ttotal: 49.3ms\tremaining: 542ms\n",
      "25:\tlearn: 8.3169227\ttotal: 51.3ms\tremaining: 541ms\n",
      "26:\tlearn: 8.2840413\ttotal: 53.4ms\tremaining: 540ms\n",
      "27:\tlearn: 8.2471941\ttotal: 55.4ms\tremaining: 538ms\n",
      "28:\tlearn: 8.2116299\ttotal: 57.4ms\tremaining: 536ms\n",
      "29:\tlearn: 8.1826937\ttotal: 59.3ms\tremaining: 533ms\n",
      "30:\tlearn: 8.1483198\ttotal: 61.3ms\tremaining: 532ms\n",
      "31:\tlearn: 8.1278537\ttotal: 63.2ms\tremaining: 529ms\n",
      "32:\tlearn: 8.0954150\ttotal: 65.1ms\tremaining: 527ms\n",
      "33:\tlearn: 8.0686324\ttotal: 67.1ms\tremaining: 525ms\n",
      "34:\tlearn: 8.0271259\ttotal: 69ms\tremaining: 522ms\n",
      "35:\tlearn: 8.0076506\ttotal: 71ms\tremaining: 521ms\n",
      "36:\tlearn: 7.9681897\ttotal: 73ms\tremaining: 519ms\n",
      "37:\tlearn: 7.9469574\ttotal: 74.9ms\tremaining: 516ms\n",
      "38:\tlearn: 7.9220440\ttotal: 76.9ms\tremaining: 514ms\n",
      "39:\tlearn: 7.8937936\ttotal: 78.8ms\tremaining: 512ms\n",
      "40:\tlearn: 7.8712632\ttotal: 80.8ms\tremaining: 510ms\n",
      "41:\tlearn: 7.8371783\ttotal: 82.7ms\tremaining: 508ms\n",
      "42:\tlearn: 7.8274195\ttotal: 84.6ms\tremaining: 506ms\n",
      "43:\tlearn: 7.8074843\ttotal: 86.6ms\tremaining: 504ms\n",
      "44:\tlearn: 7.7790132\ttotal: 88.5ms\tremaining: 501ms\n",
      "45:\tlearn: 7.7640865\ttotal: 90.4ms\tremaining: 499ms\n",
      "46:\tlearn: 7.7524152\ttotal: 92.3ms\tremaining: 497ms\n",
      "47:\tlearn: 7.7334552\ttotal: 94.3ms\tremaining: 495ms\n",
      "48:\tlearn: 7.7037415\ttotal: 96.1ms\tremaining: 492ms\n",
      "49:\tlearn: 7.6820130\ttotal: 98.1ms\tremaining: 490ms\n",
      "50:\tlearn: 7.6683676\ttotal: 100ms\tremaining: 489ms\n",
      "51:\tlearn: 7.6451414\ttotal: 102ms\tremaining: 486ms\n",
      "52:\tlearn: 7.6232949\ttotal: 104ms\tremaining: 484ms\n",
      "53:\tlearn: 7.6031910\ttotal: 106ms\tremaining: 481ms\n",
      "54:\tlearn: 7.5718936\ttotal: 108ms\tremaining: 479ms\n",
      "55:\tlearn: 7.5496978\ttotal: 110ms\tremaining: 478ms\n",
      "56:\tlearn: 7.5094912\ttotal: 112ms\tremaining: 475ms\n",
      "57:\tlearn: 7.4767377\ttotal: 114ms\tremaining: 474ms\n",
      "58:\tlearn: 7.4531024\ttotal: 115ms\tremaining: 471ms\n",
      "59:\tlearn: 7.4425871\ttotal: 117ms\tremaining: 469ms\n",
      "60:\tlearn: 7.4244467\ttotal: 119ms\tremaining: 466ms\n",
      "61:\tlearn: 7.4110171\ttotal: 121ms\tremaining: 464ms\n",
      "62:\tlearn: 7.3810154\ttotal: 123ms\tremaining: 462ms\n",
      "63:\tlearn: 7.3540349\ttotal: 125ms\tremaining: 460ms\n",
      "64:\tlearn: 7.3385564\ttotal: 127ms\tremaining: 458ms\n",
      "65:\tlearn: 7.3148156\ttotal: 129ms\tremaining: 456ms\n",
      "66:\tlearn: 7.3028756\ttotal: 130ms\tremaining: 454ms\n",
      "67:\tlearn: 7.2903417\ttotal: 132ms\tremaining: 452ms\n",
      "68:\tlearn: 7.2625025\ttotal: 134ms\tremaining: 450ms\n",
      "69:\tlearn: 7.2474582\ttotal: 136ms\tremaining: 448ms\n",
      "70:\tlearn: 7.2299765\ttotal: 138ms\tremaining: 446ms\n",
      "71:\tlearn: 7.2109747\ttotal: 140ms\tremaining: 443ms\n",
      "72:\tlearn: 7.1968588\ttotal: 142ms\tremaining: 441ms\n",
      "73:\tlearn: 7.1768307\ttotal: 144ms\tremaining: 439ms\n",
      "74:\tlearn: 7.1563325\ttotal: 146ms\tremaining: 437ms\n",
      "75:\tlearn: 7.1489954\ttotal: 147ms\tremaining: 434ms\n",
      "76:\tlearn: 7.1190855\ttotal: 149ms\tremaining: 432ms\n",
      "77:\tlearn: 7.1070590\ttotal: 151ms\tremaining: 430ms\n",
      "78:\tlearn: 7.0825240\ttotal: 153ms\tremaining: 428ms\n",
      "79:\tlearn: 7.0731811\ttotal: 155ms\tremaining: 426ms\n",
      "80:\tlearn: 7.0659950\ttotal: 157ms\tremaining: 424ms\n",
      "81:\tlearn: 7.0413593\ttotal: 158ms\tremaining: 421ms\n",
      "82:\tlearn: 7.0172125\ttotal: 160ms\tremaining: 420ms\n",
      "83:\tlearn: 6.9995153\ttotal: 162ms\tremaining: 417ms\n",
      "84:\tlearn: 6.9840947\ttotal: 164ms\tremaining: 415ms\n",
      "85:\tlearn: 6.9769741\ttotal: 166ms\tremaining: 413ms\n",
      "86:\tlearn: 6.9727049\ttotal: 168ms\tremaining: 411ms\n",
      "87:\tlearn: 6.9665877\ttotal: 170ms\tremaining: 409ms\n",
      "88:\tlearn: 6.9616876\ttotal: 172ms\tremaining: 407ms\n",
      "89:\tlearn: 6.9590218\ttotal: 173ms\tremaining: 405ms\n",
      "90:\tlearn: 6.9512762\ttotal: 175ms\tremaining: 403ms\n",
      "91:\tlearn: 6.9350746\ttotal: 177ms\tremaining: 401ms\n",
      "92:\tlearn: 6.9158245\ttotal: 179ms\tremaining: 399ms\n",
      "93:\tlearn: 6.8957541\ttotal: 181ms\tremaining: 396ms\n",
      "94:\tlearn: 6.8808505\ttotal: 183ms\tremaining: 394ms\n",
      "95:\tlearn: 6.8666623\ttotal: 185ms\tremaining: 392ms\n",
      "96:\tlearn: 6.8452085\ttotal: 187ms\tremaining: 390ms\n",
      "97:\tlearn: 6.8413432\ttotal: 188ms\tremaining: 388ms\n",
      "98:\tlearn: 6.8265485\ttotal: 190ms\tremaining: 386ms\n",
      "99:\tlearn: 6.8241847\ttotal: 192ms\tremaining: 385ms\n",
      "100:\tlearn: 6.8081807\ttotal: 194ms\tremaining: 383ms\n",
      "101:\tlearn: 6.8045610\ttotal: 196ms\tremaining: 381ms\n",
      "102:\tlearn: 6.7890431\ttotal: 198ms\tremaining: 379ms\n",
      "103:\tlearn: 6.7679379\ttotal: 200ms\tremaining: 377ms\n",
      "104:\tlearn: 6.7637309\ttotal: 202ms\tremaining: 375ms\n",
      "105:\tlearn: 6.7436380\ttotal: 204ms\tremaining: 373ms\n",
      "106:\tlearn: 6.7261284\ttotal: 206ms\tremaining: 371ms\n",
      "107:\tlearn: 6.7036336\ttotal: 208ms\tremaining: 369ms\n",
      "108:\tlearn: 6.6815115\ttotal: 210ms\tremaining: 367ms\n",
      "109:\tlearn: 6.6621950\ttotal: 212ms\tremaining: 366ms\n",
      "110:\tlearn: 6.6503180\ttotal: 214ms\tremaining: 364ms\n",
      "111:\tlearn: 6.6413112\ttotal: 215ms\tremaining: 362ms\n",
      "112:\tlearn: 6.6230528\ttotal: 217ms\tremaining: 360ms\n",
      "113:\tlearn: 6.6048867\ttotal: 219ms\tremaining: 358ms\n",
      "114:\tlearn: 6.5988035\ttotal: 221ms\tremaining: 356ms\n",
      "115:\tlearn: 6.5745576\ttotal: 223ms\tremaining: 354ms\n",
      "116:\tlearn: 6.5596451\ttotal: 225ms\tremaining: 352ms\n",
      "117:\tlearn: 6.5552334\ttotal: 227ms\tremaining: 350ms\n",
      "118:\tlearn: 6.5512490\ttotal: 229ms\tremaining: 348ms\n",
      "119:\tlearn: 6.5478050\ttotal: 231ms\tremaining: 346ms\n",
      "120:\tlearn: 6.5277885\ttotal: 233ms\tremaining: 344ms\n",
      "121:\tlearn: 6.5254115\ttotal: 235ms\tremaining: 343ms\n",
      "122:\tlearn: 6.5082326\ttotal: 237ms\tremaining: 341ms\n",
      "123:\tlearn: 6.4942578\ttotal: 239ms\tremaining: 339ms\n",
      "124:\tlearn: 6.4763382\ttotal: 241ms\tremaining: 337ms\n",
      "125:\tlearn: 6.4604940\ttotal: 243ms\tremaining: 335ms\n",
      "126:\tlearn: 6.4432697\ttotal: 245ms\tremaining: 333ms\n",
      "127:\tlearn: 6.4343376\ttotal: 247ms\tremaining: 331ms\n",
      "128:\tlearn: 6.4293606\ttotal: 248ms\tremaining: 329ms\n",
      "129:\tlearn: 6.4093727\ttotal: 251ms\tremaining: 328ms\n",
      "130:\tlearn: 6.3985126\ttotal: 252ms\tremaining: 326ms\n",
      "131:\tlearn: 6.3955952\ttotal: 254ms\tremaining: 324ms\n",
      "132:\tlearn: 6.3938795\ttotal: 257ms\tremaining: 322ms\n",
      "133:\tlearn: 6.3794435\ttotal: 259ms\tremaining: 321ms\n",
      "134:\tlearn: 6.3740698\ttotal: 261ms\tremaining: 319ms\n",
      "135:\tlearn: 6.3659923\ttotal: 263ms\tremaining: 317ms\n",
      "136:\tlearn: 6.3572651\ttotal: 265ms\tremaining: 315ms\n",
      "137:\tlearn: 6.3392426\ttotal: 266ms\tremaining: 313ms\n",
      "138:\tlearn: 6.3267868\ttotal: 269ms\tremaining: 311ms\n",
      "139:\tlearn: 6.3165739\ttotal: 270ms\tremaining: 309ms\n",
      "140:\tlearn: 6.3144007\ttotal: 272ms\tremaining: 307ms\n",
      "141:\tlearn: 6.2896016\ttotal: 274ms\tremaining: 305ms\n",
      "142:\tlearn: 6.2794200\ttotal: 276ms\tremaining: 303ms\n",
      "143:\tlearn: 6.2623838\ttotal: 278ms\tremaining: 301ms\n",
      "144:\tlearn: 6.2529718\ttotal: 280ms\tremaining: 299ms\n",
      "145:\tlearn: 6.2383021\ttotal: 282ms\tremaining: 297ms\n",
      "146:\tlearn: 6.2199697\ttotal: 284ms\tremaining: 295ms\n",
      "147:\tlearn: 6.2152223\ttotal: 286ms\tremaining: 293ms\n",
      "148:\tlearn: 6.2079307\ttotal: 288ms\tremaining: 292ms\n",
      "149:\tlearn: 6.1969109\ttotal: 290ms\tremaining: 290ms\n",
      "150:\tlearn: 6.1941736\ttotal: 292ms\tremaining: 288ms\n",
      "151:\tlearn: 6.1885612\ttotal: 294ms\tremaining: 286ms\n",
      "152:\tlearn: 6.1757755\ttotal: 296ms\tremaining: 284ms\n",
      "153:\tlearn: 6.1622419\ttotal: 298ms\tremaining: 282ms\n",
      "154:\tlearn: 6.1507190\ttotal: 300ms\tremaining: 280ms\n",
      "155:\tlearn: 6.1463645\ttotal: 302ms\tremaining: 279ms\n",
      "156:\tlearn: 6.1380576\ttotal: 304ms\tremaining: 277ms\n",
      "157:\tlearn: 6.1272989\ttotal: 306ms\tremaining: 275ms\n",
      "158:\tlearn: 6.1240184\ttotal: 309ms\tremaining: 274ms\n",
      "159:\tlearn: 6.1155104\ttotal: 311ms\tremaining: 272ms\n",
      "160:\tlearn: 6.1135446\ttotal: 314ms\tremaining: 271ms\n",
      "161:\tlearn: 6.1036903\ttotal: 316ms\tremaining: 269ms\n",
      "162:\tlearn: 6.0922291\ttotal: 318ms\tremaining: 267ms\n",
      "163:\tlearn: 6.0833541\ttotal: 321ms\tremaining: 266ms\n",
      "164:\tlearn: 6.0723262\ttotal: 323ms\tremaining: 264ms\n",
      "165:\tlearn: 6.0654670\ttotal: 325ms\tremaining: 262ms\n",
      "166:\tlearn: 6.0597435\ttotal: 327ms\tremaining: 260ms\n",
      "167:\tlearn: 6.0477686\ttotal: 329ms\tremaining: 258ms\n",
      "168:\tlearn: 6.0359857\ttotal: 331ms\tremaining: 256ms\n",
      "169:\tlearn: 6.0257032\ttotal: 334ms\tremaining: 255ms\n",
      "170:\tlearn: 6.0242686\ttotal: 336ms\tremaining: 254ms\n",
      "171:\tlearn: 6.0195171\ttotal: 338ms\tremaining: 252ms\n",
      "172:\tlearn: 6.0096049\ttotal: 341ms\tremaining: 250ms\n",
      "173:\tlearn: 5.9972180\ttotal: 343ms\tremaining: 248ms\n",
      "174:\tlearn: 5.9903047\ttotal: 345ms\tremaining: 246ms\n",
      "175:\tlearn: 5.9879953\ttotal: 347ms\tremaining: 244ms\n",
      "176:\tlearn: 5.9793454\ttotal: 349ms\tremaining: 243ms\n",
      "177:\tlearn: 5.9775796\ttotal: 352ms\tremaining: 241ms\n",
      "178:\tlearn: 5.9721301\ttotal: 354ms\tremaining: 239ms\n",
      "179:\tlearn: 5.9596179\ttotal: 356ms\tremaining: 237ms\n",
      "180:\tlearn: 5.9436902\ttotal: 357ms\tremaining: 235ms\n",
      "181:\tlearn: 5.9306749\ttotal: 359ms\tremaining: 233ms\n",
      "182:\tlearn: 5.9283049\ttotal: 361ms\tremaining: 231ms\n",
      "183:\tlearn: 5.9233313\ttotal: 363ms\tremaining: 229ms\n",
      "184:\tlearn: 5.9075032\ttotal: 365ms\tremaining: 227ms\n",
      "185:\tlearn: 5.8920714\ttotal: 367ms\tremaining: 225ms\n",
      "186:\tlearn: 5.8817159\ttotal: 370ms\tremaining: 224ms\n",
      "187:\tlearn: 5.8746028\ttotal: 372ms\tremaining: 222ms\n",
      "188:\tlearn: 5.8719363\ttotal: 374ms\tremaining: 220ms\n",
      "189:\tlearn: 5.8657403\ttotal: 376ms\tremaining: 218ms\n",
      "190:\tlearn: 5.8541283\ttotal: 378ms\tremaining: 216ms\n",
      "191:\tlearn: 5.8507895\ttotal: 380ms\tremaining: 214ms\n",
      "192:\tlearn: 5.8478831\ttotal: 383ms\tremaining: 212ms\n",
      "193:\tlearn: 5.8381774\ttotal: 385ms\tremaining: 210ms\n",
      "194:\tlearn: 5.8270905\ttotal: 387ms\tremaining: 208ms\n",
      "195:\tlearn: 5.8236813\ttotal: 389ms\tremaining: 206ms\n",
      "196:\tlearn: 5.8134561\ttotal: 391ms\tremaining: 204ms\n",
      "197:\tlearn: 5.8057745\ttotal: 393ms\tremaining: 202ms\n",
      "198:\tlearn: 5.8007602\ttotal: 395ms\tremaining: 200ms\n",
      "199:\tlearn: 5.7907873\ttotal: 397ms\tremaining: 198ms\n",
      "200:\tlearn: 5.7892518\ttotal: 398ms\tremaining: 196ms\n",
      "201:\tlearn: 5.7793558\ttotal: 400ms\tremaining: 194ms\n",
      "202:\tlearn: 5.7731114\ttotal: 402ms\tremaining: 192ms\n",
      "203:\tlearn: 5.7682278\ttotal: 404ms\tremaining: 190ms\n",
      "204:\tlearn: 5.7612674\ttotal: 406ms\tremaining: 188ms\n",
      "205:\tlearn: 5.7533761\ttotal: 408ms\tremaining: 186ms\n",
      "206:\tlearn: 5.7501651\ttotal: 410ms\tremaining: 184ms\n",
      "207:\tlearn: 5.7378108\ttotal: 412ms\tremaining: 182ms\n",
      "208:\tlearn: 5.7351623\ttotal: 414ms\tremaining: 180ms\n",
      "209:\tlearn: 5.7271727\ttotal: 416ms\tremaining: 178ms\n",
      "210:\tlearn: 5.7251306\ttotal: 418ms\tremaining: 176ms\n",
      "211:\tlearn: 5.7232845\ttotal: 420ms\tremaining: 174ms\n",
      "212:\tlearn: 5.7151966\ttotal: 422ms\tremaining: 172ms\n",
      "213:\tlearn: 5.7085081\ttotal: 424ms\tremaining: 170ms\n",
      "214:\tlearn: 5.7019803\ttotal: 426ms\tremaining: 168ms\n",
      "215:\tlearn: 5.6929568\ttotal: 428ms\tremaining: 166ms\n",
      "216:\tlearn: 5.6864943\ttotal: 430ms\tremaining: 164ms\n",
      "217:\tlearn: 5.6843600\ttotal: 432ms\tremaining: 162ms\n",
      "218:\tlearn: 5.6754786\ttotal: 433ms\tremaining: 160ms\n",
      "219:\tlearn: 5.6734528\ttotal: 435ms\tremaining: 158ms\n",
      "220:\tlearn: 5.6660889\ttotal: 437ms\tremaining: 156ms\n",
      "221:\tlearn: 5.6642241\ttotal: 439ms\tremaining: 154ms\n",
      "222:\tlearn: 5.6526403\ttotal: 441ms\tremaining: 152ms\n",
      "223:\tlearn: 5.6489579\ttotal: 443ms\tremaining: 150ms\n",
      "224:\tlearn: 5.6439253\ttotal: 445ms\tremaining: 148ms\n",
      "225:\tlearn: 5.6313714\ttotal: 447ms\tremaining: 146ms\n",
      "226:\tlearn: 5.6278003\ttotal: 449ms\tremaining: 144ms\n",
      "227:\tlearn: 5.6195818\ttotal: 451ms\tremaining: 142ms\n",
      "228:\tlearn: 5.6094414\ttotal: 453ms\tremaining: 140ms\n",
      "229:\tlearn: 5.6065752\ttotal: 455ms\tremaining: 138ms\n",
      "230:\tlearn: 5.5971585\ttotal: 457ms\tremaining: 136ms\n",
      "231:\tlearn: 5.5833741\ttotal: 459ms\tremaining: 134ms\n",
      "232:\tlearn: 5.5786152\ttotal: 461ms\tremaining: 133ms\n",
      "233:\tlearn: 5.5714086\ttotal: 463ms\tremaining: 130ms\n",
      "234:\tlearn: 5.5672871\ttotal: 465ms\tremaining: 128ms\n",
      "235:\tlearn: 5.5552258\ttotal: 467ms\tremaining: 127ms\n",
      "236:\tlearn: 5.5547235\ttotal: 468ms\tremaining: 125ms\n",
      "237:\tlearn: 5.5496529\ttotal: 470ms\tremaining: 123ms\n",
      "238:\tlearn: 5.5391308\ttotal: 473ms\tremaining: 121ms\n",
      "239:\tlearn: 5.5222819\ttotal: 475ms\tremaining: 119ms\n",
      "240:\tlearn: 5.5142973\ttotal: 476ms\tremaining: 117ms\n",
      "241:\tlearn: 5.5117732\ttotal: 478ms\tremaining: 115ms\n",
      "242:\tlearn: 5.5103120\ttotal: 480ms\tremaining: 113ms\n",
      "243:\tlearn: 5.5040272\ttotal: 483ms\tremaining: 111ms\n",
      "244:\tlearn: 5.4976443\ttotal: 485ms\tremaining: 109ms\n",
      "245:\tlearn: 5.4927741\ttotal: 487ms\tremaining: 107ms\n",
      "246:\tlearn: 5.4827117\ttotal: 488ms\tremaining: 105ms\n",
      "247:\tlearn: 5.4801508\ttotal: 490ms\tremaining: 103ms\n",
      "248:\tlearn: 5.4691771\ttotal: 492ms\tremaining: 101ms\n",
      "249:\tlearn: 5.4684124\ttotal: 495ms\tremaining: 98.9ms\n",
      "250:\tlearn: 5.4605447\ttotal: 497ms\tremaining: 96.9ms\n",
      "251:\tlearn: 5.4580243\ttotal: 498ms\tremaining: 95ms\n",
      "252:\tlearn: 5.4529207\ttotal: 500ms\tremaining: 93ms\n",
      "253:\tlearn: 5.4445272\ttotal: 502ms\tremaining: 91ms\n",
      "254:\tlearn: 5.4378610\ttotal: 504ms\tremaining: 89ms\n",
      "255:\tlearn: 5.4339452\ttotal: 506ms\tremaining: 87ms\n",
      "256:\tlearn: 5.4262183\ttotal: 508ms\tremaining: 85ms\n",
      "257:\tlearn: 5.4236566\ttotal: 510ms\tremaining: 83ms\n",
      "258:\tlearn: 5.4140309\ttotal: 512ms\tremaining: 81.1ms\n",
      "259:\tlearn: 5.4034779\ttotal: 514ms\tremaining: 79.1ms\n",
      "260:\tlearn: 5.3994813\ttotal: 516ms\tremaining: 77.1ms\n",
      "261:\tlearn: 5.3953714\ttotal: 518ms\tremaining: 75.1ms\n",
      "262:\tlearn: 5.3893247\ttotal: 520ms\tremaining: 73.1ms\n",
      "263:\tlearn: 5.3870701\ttotal: 522ms\tremaining: 71.2ms\n",
      "264:\tlearn: 5.3826850\ttotal: 524ms\tremaining: 69.2ms\n",
      "265:\tlearn: 5.3759444\ttotal: 526ms\tremaining: 67.2ms\n",
      "266:\tlearn: 5.3703709\ttotal: 528ms\tremaining: 65.2ms\n",
      "267:\tlearn: 5.3660193\ttotal: 530ms\tremaining: 63.2ms\n",
      "268:\tlearn: 5.3653945\ttotal: 531ms\tremaining: 61.2ms\n",
      "269:\tlearn: 5.3581686\ttotal: 533ms\tremaining: 59.3ms\n",
      "270:\tlearn: 5.3540155\ttotal: 535ms\tremaining: 57.3ms\n",
      "271:\tlearn: 5.3518479\ttotal: 537ms\tremaining: 55.3ms\n",
      "272:\tlearn: 5.3368475\ttotal: 539ms\tremaining: 53.3ms\n",
      "273:\tlearn: 5.3365413\ttotal: 541ms\tremaining: 51.4ms\n",
      "274:\tlearn: 5.3280648\ttotal: 543ms\tremaining: 49.4ms\n",
      "275:\tlearn: 5.3168505\ttotal: 545ms\tremaining: 47.4ms\n",
      "276:\tlearn: 5.3165006\ttotal: 547ms\tremaining: 45.4ms\n",
      "277:\tlearn: 5.3096458\ttotal: 549ms\tremaining: 43.4ms\n",
      "278:\tlearn: 5.3092365\ttotal: 551ms\tremaining: 41.5ms\n",
      "279:\tlearn: 5.3008312\ttotal: 553ms\tremaining: 39.5ms\n",
      "280:\tlearn: 5.2949137\ttotal: 555ms\tremaining: 37.5ms\n",
      "281:\tlearn: 5.2849922\ttotal: 557ms\tremaining: 35.6ms\n",
      "282:\tlearn: 5.2772479\ttotal: 559ms\tremaining: 33.6ms\n",
      "283:\tlearn: 5.2668953\ttotal: 561ms\tremaining: 31.6ms\n",
      "284:\tlearn: 5.2629150\ttotal: 563ms\tremaining: 29.6ms\n",
      "285:\tlearn: 5.2515820\ttotal: 565ms\tremaining: 27.7ms\n",
      "286:\tlearn: 5.2510580\ttotal: 567ms\tremaining: 25.7ms\n",
      "287:\tlearn: 5.2421127\ttotal: 569ms\tremaining: 23.7ms\n",
      "288:\tlearn: 5.2369559\ttotal: 571ms\tremaining: 21.7ms\n",
      "289:\tlearn: 5.2366015\ttotal: 573ms\tremaining: 19.7ms\n",
      "290:\tlearn: 5.2301896\ttotal: 575ms\tremaining: 17.8ms\n",
      "291:\tlearn: 5.2287503\ttotal: 576ms\tremaining: 15.8ms\n",
      "292:\tlearn: 5.2266707\ttotal: 578ms\tremaining: 13.8ms\n",
      "293:\tlearn: 5.2143204\ttotal: 580ms\tremaining: 11.8ms\n",
      "294:\tlearn: 5.2139819\ttotal: 582ms\tremaining: 9.87ms\n",
      "295:\tlearn: 5.2083963\ttotal: 584ms\tremaining: 7.89ms\n",
      "296:\tlearn: 5.2032404\ttotal: 586ms\tremaining: 5.92ms\n",
      "297:\tlearn: 5.1932322\ttotal: 588ms\tremaining: 3.95ms\n",
      "298:\tlearn: 5.1908816\ttotal: 590ms\tremaining: 1.97ms\n",
      "299:\tlearn: 5.1905511\ttotal: 592ms\tremaining: 0us\n",
      "MAE (test): 5.99\n",
      "Коэффициент детерминации R2: 0.46169078838916755\n"
     ]
    }
   ],
   "source": [
    "model_last = CatBoostRegressor(\n",
    "    depth=5,\n",
    "    learning_rate=0.1,\n",
    "    n_estimators=300,\n",
    "    l2_leaf_reg=7,\n",
    "    random_state=RANDOM_STATE,\n",
    "   )\n",
    "\n",
    "model_last.fit(features_train, target_train)\n",
    "predictions = model_last.predict(features_test)\n",
    "result = mean_absolute_error(target_test, predictions)\n",
    "print(f'MAE (test): {result:.2f}')\n",
    "\n",
    "# Вычисляем коэффициент детерминации R2\n",
    "r2 = r2_score(target_test, predictions)\n",
    "\n",
    "print(\"Коэффициент детерминации R2:\", r2)"
   ]
  },
  {
   "cell_type": "markdown",
   "id": "14299493",
   "metadata": {},
   "source": [
    "MAE (test): 5.99 хуже, чем на тренировочных данных.\n",
    "Коэффициент детерминации R2: 0.462 показывает, что модель лишь в 46,2% случаев показывает правильный результат на новых данных.\n",
    "\n",
    "Сравним прогноз с  baseline моделью"
   ]
  },
  {
   "cell_type": "code",
   "execution_count": 84,
   "id": "bd9791e3",
   "metadata": {},
   "outputs": [
    {
     "name": "stdout",
     "output_type": "stream",
     "text": [
      "RMSE на тестовой выборке: 8.0001\n"
     ]
    }
   ],
   "source": [
    "#dummy_regr = DummyRegressor(strategy=\"mean\")\n",
    "#dummy_regr.fit(features_train, target_train)\n",
    "dummy_regr_pred_test = dummy_regr.predict(features_test)\n",
    "dummy_regr_mae = mean_absolute_error(target_test, dummy_regr_pred_test)\n",
    "print(f'RMSE на тестовой выборке: {dummy_regr_mae:.4f}')"
   ]
  },
  {
   "cell_type": "markdown",
   "id": "a9bf87d3",
   "metadata": {},
   "source": [
    "Базовая модель так же показала более высокий показатель на тестовой выборке, чем на тренировочной. Это может быть вызвано оставшимися в данных выбросах и излишним количеством признаков для обучения модели."
   ]
  },
  {
   "cell_type": "markdown",
   "id": "c12fb435",
   "metadata": {},
   "source": [
    "Проверим важность признаков для конечной модели CatBoost с помощью feature_importances_"
   ]
  },
  {
   "cell_type": "code",
   "execution_count": 85,
   "id": "80a5ba82",
   "metadata": {},
   "outputs": [
    {
     "data": {
      "image/png": "[encoded data removed]",
      "text/plain": [
       "<Figure size 1296x648 with 1 Axes>"
      ]
     },
     "metadata": {
      "needs_background": "light"
     },
     "output_type": "display_data"
    }
   ],
   "source": [
    "plot_data = {'features': features_test.columns,\n",
    "             'feature_importances': model_last.feature_importances_\n",
    "            }\n",
    "\n",
    "plot_data = pd.DataFrame(plot_data)\n",
    "plot_data.sort_values(by='feature_importances', ascending=False, inplace=True)\n",
    "plt.figure(figsize=(18, 9))\n",
    "sns.barplot(x=plot_data['feature_importances'], y=plot_data['features'])\n",
    "plt.title('Важность признаков для CatBoostRegressor', fontsize=14)\n",
    "plt.xlabel('Важность')\n",
    "plt.ylabel('Признак')\n",
    "plt.show()"
   ]
  },
  {
   "cell_type": "markdown",
   "id": "a87bd74e",
   "metadata": {},
   "source": [
    "Возьмем признаки с наибольшей корреляцией из пункта 5.1: full_power, time_arc_heating, rounds_heating, work.\n",
    "Удалим признаки с наименьшей значимостью для итоговой модели (full_power, bulk_3, bulk_4, rounds_heating) и признак work c  высокой корреляцией к основным признакам. Проследим, как это отразится на результате."
   ]
  },
  {
   "cell_type": "code",
   "execution_count": 90,
   "id": "41221a32",
   "metadata": {},
   "outputs": [],
   "source": [
    "features_train_new = features_train.copy()\n",
    "features_test_new = features_test.copy()\n",
    "\n",
    "features_train_new = features_train_new.drop(columns=['full_power', 'bulk_3', 'bulk_4', 'work', 'rounds_heating'])\n",
    "features_test_new = features_test_new.drop(columns=['full_power', 'bulk_3', 'bulk_4', 'work',  'rounds_heating'])"
   ]
  },
  {
   "cell_type": "code",
   "execution_count": 91,
   "id": "ec562134",
   "metadata": {},
   "outputs": [
    {
     "name": "stdout",
     "output_type": "stream",
     "text": [
      "0:\tlearn: 10.6824721\ttotal: 1.68ms\tremaining: 501ms\n",
      "1:\tlearn: 10.4599055\ttotal: 3.27ms\tremaining: 488ms\n",
      "2:\tlearn: 10.2393219\ttotal: 4.82ms\tremaining: 478ms\n",
      "3:\tlearn: 10.1062196\ttotal: 6.27ms\tremaining: 464ms\n",
      "4:\tlearn: 9.9540994\ttotal: 7.63ms\tremaining: 450ms\n",
      "5:\tlearn: 9.8032277\ttotal: 9.07ms\tremaining: 445ms\n",
      "6:\tlearn: 9.6597606\ttotal: 10.6ms\tremaining: 445ms\n",
      "7:\tlearn: 9.5240140\ttotal: 12.1ms\tremaining: 441ms\n",
      "8:\tlearn: 9.4319988\ttotal: 13.5ms\tremaining: 438ms\n",
      "9:\tlearn: 9.3147582\ttotal: 15ms\tremaining: 434ms\n",
      "10:\tlearn: 9.2369734\ttotal: 16.3ms\tremaining: 428ms\n",
      "11:\tlearn: 9.1411593\ttotal: 17.8ms\tremaining: 426ms\n",
      "12:\tlearn: 9.0676672\ttotal: 19.2ms\tremaining: 424ms\n",
      "13:\tlearn: 8.9718151\ttotal: 20.6ms\tremaining: 421ms\n",
      "14:\tlearn: 8.8584167\ttotal: 22ms\tremaining: 419ms\n",
      "15:\tlearn: 8.7792201\ttotal: 23.4ms\tremaining: 415ms\n",
      "16:\tlearn: 8.7336839\ttotal: 24.9ms\tremaining: 414ms\n",
      "17:\tlearn: 8.6597108\ttotal: 26.3ms\tremaining: 411ms\n",
      "18:\tlearn: 8.6057885\ttotal: 27.7ms\tremaining: 410ms\n",
      "19:\tlearn: 8.5509213\ttotal: 29ms\tremaining: 406ms\n",
      "20:\tlearn: 8.4811838\ttotal: 30.5ms\tremaining: 405ms\n",
      "21:\tlearn: 8.4259719\ttotal: 31.9ms\tremaining: 403ms\n",
      "22:\tlearn: 8.3760507\ttotal: 33.1ms\tremaining: 399ms\n",
      "23:\tlearn: 8.3382914\ttotal: 34.6ms\tremaining: 398ms\n",
      "24:\tlearn: 8.2876302\ttotal: 36ms\tremaining: 396ms\n",
      "25:\tlearn: 8.2434936\ttotal: 37.6ms\tremaining: 396ms\n",
      "26:\tlearn: 8.2109696\ttotal: 39ms\tremaining: 394ms\n",
      "27:\tlearn: 8.1601875\ttotal: 40.5ms\tremaining: 393ms\n",
      "28:\tlearn: 8.1191704\ttotal: 41.8ms\tremaining: 391ms\n",
      "29:\tlearn: 8.0822280\ttotal: 43.3ms\tremaining: 390ms\n",
      "30:\tlearn: 8.0491395\ttotal: 45.5ms\tremaining: 395ms\n",
      "31:\tlearn: 8.0132588\ttotal: 47ms\tremaining: 394ms\n",
      "32:\tlearn: 7.9916023\ttotal: 48.3ms\tremaining: 391ms\n",
      "33:\tlearn: 7.9730475\ttotal: 49.6ms\tremaining: 388ms\n",
      "34:\tlearn: 7.9332484\ttotal: 51ms\tremaining: 386ms\n",
      "35:\tlearn: 7.9091349\ttotal: 52.4ms\tremaining: 384ms\n",
      "36:\tlearn: 7.8913467\ttotal: 53.8ms\tremaining: 382ms\n",
      "37:\tlearn: 7.8540222\ttotal: 55.5ms\tremaining: 383ms\n",
      "38:\tlearn: 7.8212224\ttotal: 57.8ms\tremaining: 387ms\n",
      "39:\tlearn: 7.7948986\ttotal: 59.8ms\tremaining: 389ms\n",
      "40:\tlearn: 7.7726462\ttotal: 62ms\tremaining: 392ms\n",
      "41:\tlearn: 7.7491378\ttotal: 64.2ms\tremaining: 395ms\n",
      "42:\tlearn: 7.7332798\ttotal: 66.4ms\tremaining: 397ms\n",
      "43:\tlearn: 7.7095608\ttotal: 68.3ms\tremaining: 397ms\n",
      "44:\tlearn: 7.6908721\ttotal: 70.2ms\tremaining: 398ms\n",
      "45:\tlearn: 7.6693497\ttotal: 72.2ms\tremaining: 399ms\n",
      "46:\tlearn: 7.6578768\ttotal: 73.5ms\tremaining: 396ms\n",
      "47:\tlearn: 7.6339010\ttotal: 74.9ms\tremaining: 393ms\n",
      "48:\tlearn: 7.6082318\ttotal: 76.4ms\tremaining: 391ms\n",
      "49:\tlearn: 7.5794344\ttotal: 77.9ms\tremaining: 389ms\n",
      "50:\tlearn: 7.5614052\ttotal: 79.3ms\tremaining: 387ms\n",
      "51:\tlearn: 7.5532853\ttotal: 80.7ms\tremaining: 385ms\n",
      "52:\tlearn: 7.5231388\ttotal: 82.1ms\tremaining: 383ms\n",
      "53:\tlearn: 7.4971952\ttotal: 83.5ms\tremaining: 380ms\n",
      "54:\tlearn: 7.4777207\ttotal: 84.9ms\tremaining: 378ms\n",
      "55:\tlearn: 7.4556176\ttotal: 86.3ms\tremaining: 376ms\n",
      "56:\tlearn: 7.4256409\ttotal: 87.8ms\tremaining: 374ms\n",
      "57:\tlearn: 7.4039701\ttotal: 89.1ms\tremaining: 372ms\n",
      "58:\tlearn: 7.3765778\ttotal: 90.6ms\tremaining: 370ms\n",
      "59:\tlearn: 7.3602737\ttotal: 92ms\tremaining: 368ms\n",
      "60:\tlearn: 7.3365434\ttotal: 93.4ms\tremaining: 366ms\n",
      "61:\tlearn: 7.3120542\ttotal: 94.8ms\tremaining: 364ms\n",
      "62:\tlearn: 7.2927337\ttotal: 96.1ms\tremaining: 361ms\n",
      "63:\tlearn: 7.2746340\ttotal: 97.5ms\tremaining: 360ms\n",
      "64:\tlearn: 7.2593420\ttotal: 98.8ms\tremaining: 357ms\n",
      "65:\tlearn: 7.2389272\ttotal: 100ms\tremaining: 355ms\n",
      "66:\tlearn: 7.2214589\ttotal: 102ms\tremaining: 353ms\n",
      "67:\tlearn: 7.1963385\ttotal: 103ms\tremaining: 351ms\n",
      "68:\tlearn: 7.1844921\ttotal: 104ms\tremaining: 349ms\n",
      "69:\tlearn: 7.1605793\ttotal: 106ms\tremaining: 347ms\n",
      "70:\tlearn: 7.1381065\ttotal: 107ms\tremaining: 346ms\n",
      "71:\tlearn: 7.1181572\ttotal: 109ms\tremaining: 344ms\n",
      "72:\tlearn: 7.0993852\ttotal: 110ms\tremaining: 342ms\n",
      "73:\tlearn: 7.0864972\ttotal: 111ms\tremaining: 340ms\n",
      "74:\tlearn: 7.0653000\ttotal: 113ms\tremaining: 338ms\n",
      "75:\tlearn: 7.0435503\ttotal: 114ms\tremaining: 336ms\n",
      "76:\tlearn: 7.0336948\ttotal: 115ms\tremaining: 334ms\n",
      "77:\tlearn: 7.0156699\ttotal: 117ms\tremaining: 333ms\n",
      "78:\tlearn: 6.9916119\ttotal: 118ms\tremaining: 331ms\n",
      "79:\tlearn: 6.9846450\ttotal: 120ms\tremaining: 329ms\n",
      "80:\tlearn: 6.9743246\ttotal: 121ms\tremaining: 327ms\n",
      "81:\tlearn: 6.9634372\ttotal: 122ms\tremaining: 325ms\n",
      "82:\tlearn: 6.9492357\ttotal: 124ms\tremaining: 323ms\n",
      "83:\tlearn: 6.9241146\ttotal: 125ms\tremaining: 321ms\n",
      "84:\tlearn: 6.9165066\ttotal: 126ms\tremaining: 319ms\n",
      "85:\tlearn: 6.9072653\ttotal: 128ms\tremaining: 318ms\n",
      "86:\tlearn: 6.8991900\ttotal: 129ms\tremaining: 316ms\n",
      "87:\tlearn: 6.8830393\ttotal: 130ms\tremaining: 314ms\n",
      "88:\tlearn: 6.8611861\ttotal: 132ms\tremaining: 313ms\n",
      "89:\tlearn: 6.8526831\ttotal: 133ms\tremaining: 311ms\n",
      "90:\tlearn: 6.8449367\ttotal: 135ms\tremaining: 310ms\n",
      "91:\tlearn: 6.8377093\ttotal: 137ms\tremaining: 309ms\n",
      "92:\tlearn: 6.8228914\ttotal: 138ms\tremaining: 308ms\n",
      "93:\tlearn: 6.8054202\ttotal: 140ms\tremaining: 306ms\n",
      "94:\tlearn: 6.7919389\ttotal: 141ms\tremaining: 305ms\n",
      "95:\tlearn: 6.7821961\ttotal: 143ms\tremaining: 303ms\n",
      "96:\tlearn: 6.7637671\ttotal: 144ms\tremaining: 301ms\n",
      "97:\tlearn: 6.7496537\ttotal: 145ms\tremaining: 300ms\n",
      "98:\tlearn: 6.7458555\ttotal: 147ms\tremaining: 298ms\n",
      "99:\tlearn: 6.7284718\ttotal: 148ms\tremaining: 297ms\n",
      "100:\tlearn: 6.7235337\ttotal: 150ms\tremaining: 295ms\n",
      "101:\tlearn: 6.7024396\ttotal: 151ms\tremaining: 293ms\n",
      "102:\tlearn: 6.6929148\ttotal: 152ms\tremaining: 292ms\n",
      "103:\tlearn: 6.6856094\ttotal: 154ms\tremaining: 290ms\n",
      "104:\tlearn: 6.6575471\ttotal: 155ms\tremaining: 288ms\n",
      "105:\tlearn: 6.6468831\ttotal: 157ms\tremaining: 287ms\n",
      "106:\tlearn: 6.6364507\ttotal: 158ms\tremaining: 285ms\n",
      "107:\tlearn: 6.6152033\ttotal: 159ms\tremaining: 283ms\n",
      "108:\tlearn: 6.6127271\ttotal: 161ms\tremaining: 282ms\n",
      "109:\tlearn: 6.5952727\ttotal: 162ms\tremaining: 280ms\n",
      "110:\tlearn: 6.5912961\ttotal: 164ms\tremaining: 279ms\n",
      "111:\tlearn: 6.5827750\ttotal: 165ms\tremaining: 277ms\n",
      "112:\tlearn: 6.5741781\ttotal: 167ms\tremaining: 276ms\n",
      "113:\tlearn: 6.5718111\ttotal: 168ms\tremaining: 274ms\n",
      "114:\tlearn: 6.5546545\ttotal: 170ms\tremaining: 273ms\n",
      "115:\tlearn: 6.5458648\ttotal: 171ms\tremaining: 271ms\n",
      "116:\tlearn: 6.5268850\ttotal: 172ms\tremaining: 270ms\n",
      "117:\tlearn: 6.5245642\ttotal: 174ms\tremaining: 268ms\n",
      "118:\tlearn: 6.5204752\ttotal: 175ms\tremaining: 267ms\n",
      "119:\tlearn: 6.5057294\ttotal: 177ms\tremaining: 265ms\n",
      "120:\tlearn: 6.5039603\ttotal: 178ms\tremaining: 263ms\n",
      "121:\tlearn: 6.4960645\ttotal: 179ms\tremaining: 262ms\n",
      "122:\tlearn: 6.4825783\ttotal: 181ms\tremaining: 260ms\n",
      "123:\tlearn: 6.4700902\ttotal: 182ms\tremaining: 259ms\n",
      "124:\tlearn: 6.4595557\ttotal: 184ms\tremaining: 257ms\n",
      "125:\tlearn: 6.4546847\ttotal: 185ms\tremaining: 255ms\n",
      "126:\tlearn: 6.4450342\ttotal: 187ms\tremaining: 255ms\n",
      "127:\tlearn: 6.4400779\ttotal: 189ms\tremaining: 255ms\n",
      "128:\tlearn: 6.4297638\ttotal: 192ms\tremaining: 254ms\n",
      "129:\tlearn: 6.4192432\ttotal: 194ms\tremaining: 253ms\n",
      "130:\tlearn: 6.4146761\ttotal: 195ms\tremaining: 252ms\n",
      "131:\tlearn: 6.4061571\ttotal: 197ms\tremaining: 250ms\n",
      "132:\tlearn: 6.3894508\ttotal: 198ms\tremaining: 249ms\n",
      "133:\tlearn: 6.3873185\ttotal: 199ms\tremaining: 247ms\n",
      "134:\tlearn: 6.3834470\ttotal: 201ms\tremaining: 246ms\n",
      "135:\tlearn: 6.3643206\ttotal: 202ms\tremaining: 244ms\n",
      "136:\tlearn: 6.3448274\ttotal: 204ms\tremaining: 243ms\n",
      "137:\tlearn: 6.3432081\ttotal: 205ms\tremaining: 241ms\n",
      "138:\tlearn: 6.3358806\ttotal: 207ms\tremaining: 239ms\n",
      "139:\tlearn: 6.3341881\ttotal: 209ms\tremaining: 239ms\n",
      "140:\tlearn: 6.3199876\ttotal: 211ms\tremaining: 238ms\n",
      "141:\tlearn: 6.3149011\ttotal: 213ms\tremaining: 237ms\n",
      "142:\tlearn: 6.3028635\ttotal: 215ms\tremaining: 236ms\n",
      "143:\tlearn: 6.2955116\ttotal: 217ms\tremaining: 235ms\n",
      "144:\tlearn: 6.2863708\ttotal: 218ms\tremaining: 233ms\n",
      "145:\tlearn: 6.2657714\ttotal: 219ms\tremaining: 231ms\n",
      "146:\tlearn: 6.2543577\ttotal: 221ms\tremaining: 230ms\n",
      "147:\tlearn: 6.2385460\ttotal: 222ms\tremaining: 228ms\n",
      "148:\tlearn: 6.2252624\ttotal: 224ms\tremaining: 227ms\n",
      "149:\tlearn: 6.2088108\ttotal: 225ms\tremaining: 225ms\n",
      "150:\tlearn: 6.2021463\ttotal: 227ms\tremaining: 224ms\n",
      "151:\tlearn: 6.1985551\ttotal: 228ms\tremaining: 222ms\n",
      "152:\tlearn: 6.1878683\ttotal: 229ms\tremaining: 220ms\n",
      "153:\tlearn: 6.1851763\ttotal: 232ms\tremaining: 219ms\n",
      "154:\tlearn: 6.1714703\ttotal: 233ms\tremaining: 218ms\n",
      "155:\tlearn: 6.1654640\ttotal: 234ms\tremaining: 216ms\n",
      "156:\tlearn: 6.1537538\ttotal: 236ms\tremaining: 215ms\n",
      "157:\tlearn: 6.1457328\ttotal: 237ms\tremaining: 213ms\n",
      "158:\tlearn: 6.1394110\ttotal: 239ms\tremaining: 212ms\n",
      "159:\tlearn: 6.1354709\ttotal: 240ms\tremaining: 210ms\n",
      "160:\tlearn: 6.1283712\ttotal: 241ms\tremaining: 208ms\n",
      "161:\tlearn: 6.1119962\ttotal: 243ms\tremaining: 207ms\n",
      "162:\tlearn: 6.1063078\ttotal: 244ms\tremaining: 205ms\n",
      "163:\tlearn: 6.0991895\ttotal: 246ms\tremaining: 204ms\n",
      "164:\tlearn: 6.0858439\ttotal: 247ms\tremaining: 202ms\n",
      "165:\tlearn: 6.0704961\ttotal: 249ms\tremaining: 201ms\n",
      "166:\tlearn: 6.0569392\ttotal: 250ms\tremaining: 199ms\n",
      "167:\tlearn: 6.0478855\ttotal: 251ms\tremaining: 198ms\n",
      "168:\tlearn: 6.0375053\ttotal: 253ms\tremaining: 196ms\n",
      "169:\tlearn: 6.0268999\ttotal: 254ms\tremaining: 194ms\n",
      "170:\tlearn: 6.0218783\ttotal: 256ms\tremaining: 193ms\n",
      "171:\tlearn: 6.0140426\ttotal: 257ms\tremaining: 192ms\n",
      "172:\tlearn: 6.0092038\ttotal: 259ms\tremaining: 190ms\n",
      "173:\tlearn: 6.0062810\ttotal: 260ms\tremaining: 188ms\n",
      "174:\tlearn: 6.0023544\ttotal: 262ms\tremaining: 187ms\n",
      "175:\tlearn: 5.9989842\ttotal: 263ms\tremaining: 186ms\n",
      "176:\tlearn: 5.9837868\ttotal: 265ms\tremaining: 184ms\n",
      "177:\tlearn: 5.9764903\ttotal: 266ms\tremaining: 182ms\n",
      "178:\tlearn: 5.9684550\ttotal: 268ms\tremaining: 181ms\n",
      "179:\tlearn: 5.9617367\ttotal: 269ms\tremaining: 179ms\n",
      "180:\tlearn: 5.9492701\ttotal: 271ms\tremaining: 178ms\n",
      "181:\tlearn: 5.9433590\ttotal: 272ms\tremaining: 177ms\n",
      "182:\tlearn: 5.9352549\ttotal: 274ms\tremaining: 175ms\n",
      "183:\tlearn: 5.9199521\ttotal: 275ms\tremaining: 174ms\n",
      "184:\tlearn: 5.9098584\ttotal: 277ms\tremaining: 172ms\n",
      "185:\tlearn: 5.9030829\ttotal: 278ms\tremaining: 171ms\n",
      "186:\tlearn: 5.8991189\ttotal: 280ms\tremaining: 169ms\n",
      "187:\tlearn: 5.8867353\ttotal: 281ms\tremaining: 168ms\n",
      "188:\tlearn: 5.8820290\ttotal: 283ms\tremaining: 166ms\n",
      "189:\tlearn: 5.8804247\ttotal: 284ms\tremaining: 165ms\n",
      "190:\tlearn: 5.8683943\ttotal: 286ms\tremaining: 163ms\n",
      "191:\tlearn: 5.8597156\ttotal: 288ms\tremaining: 162ms\n",
      "192:\tlearn: 5.8506071\ttotal: 290ms\tremaining: 161ms\n",
      "193:\tlearn: 5.8442011\ttotal: 292ms\tremaining: 159ms\n",
      "194:\tlearn: 5.8348583\ttotal: 293ms\tremaining: 158ms\n",
      "195:\tlearn: 5.8251756\ttotal: 295ms\tremaining: 157ms\n",
      "196:\tlearn: 5.8153379\ttotal: 297ms\tremaining: 155ms\n",
      "197:\tlearn: 5.8120221\ttotal: 298ms\tremaining: 154ms\n",
      "198:\tlearn: 5.8028749\ttotal: 300ms\tremaining: 152ms\n",
      "199:\tlearn: 5.7927248\ttotal: 301ms\tremaining: 150ms\n",
      "200:\tlearn: 5.7859730\ttotal: 303ms\tremaining: 149ms\n",
      "201:\tlearn: 5.7781685\ttotal: 304ms\tremaining: 148ms\n",
      "202:\tlearn: 5.7714282\ttotal: 306ms\tremaining: 146ms\n",
      "203:\tlearn: 5.7631423\ttotal: 307ms\tremaining: 144ms\n",
      "204:\tlearn: 5.7560695\ttotal: 308ms\tremaining: 143ms\n",
      "205:\tlearn: 5.7457303\ttotal: 310ms\tremaining: 141ms\n",
      "206:\tlearn: 5.7432234\ttotal: 311ms\tremaining: 140ms\n",
      "207:\tlearn: 5.7333866\ttotal: 312ms\tremaining: 138ms\n",
      "208:\tlearn: 5.7252303\ttotal: 314ms\tremaining: 137ms\n",
      "209:\tlearn: 5.7162509\ttotal: 315ms\tremaining: 135ms\n",
      "210:\tlearn: 5.7081328\ttotal: 317ms\tremaining: 134ms\n",
      "211:\tlearn: 5.7046583\ttotal: 318ms\tremaining: 132ms\n",
      "212:\tlearn: 5.6950792\ttotal: 319ms\tremaining: 130ms\n",
      "213:\tlearn: 5.6868791\ttotal: 321ms\tremaining: 129ms\n",
      "214:\tlearn: 5.6817158\ttotal: 322ms\tremaining: 127ms\n",
      "215:\tlearn: 5.6735655\ttotal: 324ms\tremaining: 126ms\n",
      "216:\tlearn: 5.6705618\ttotal: 325ms\tremaining: 124ms\n",
      "217:\tlearn: 5.6582100\ttotal: 326ms\tremaining: 123ms\n",
      "218:\tlearn: 5.6505896\ttotal: 328ms\tremaining: 121ms\n",
      "219:\tlearn: 5.6424420\ttotal: 329ms\tremaining: 120ms\n",
      "220:\tlearn: 5.6369295\ttotal: 331ms\tremaining: 118ms\n",
      "221:\tlearn: 5.6353389\ttotal: 332ms\tremaining: 117ms\n",
      "222:\tlearn: 5.6267692\ttotal: 334ms\tremaining: 115ms\n",
      "223:\tlearn: 5.6137715\ttotal: 335ms\tremaining: 114ms\n",
      "224:\tlearn: 5.6120318\ttotal: 336ms\tremaining: 112ms\n",
      "225:\tlearn: 5.6032779\ttotal: 338ms\tremaining: 111ms\n",
      "226:\tlearn: 5.5961060\ttotal: 339ms\tremaining: 109ms\n",
      "227:\tlearn: 5.5938887\ttotal: 341ms\tremaining: 108ms\n",
      "228:\tlearn: 5.5890961\ttotal: 342ms\tremaining: 106ms\n",
      "229:\tlearn: 5.5797557\ttotal: 343ms\tremaining: 105ms\n",
      "230:\tlearn: 5.5732789\ttotal: 345ms\tremaining: 103ms\n",
      "231:\tlearn: 5.5671581\ttotal: 346ms\tremaining: 101ms\n",
      "232:\tlearn: 5.5627123\ttotal: 348ms\tremaining: 100ms\n",
      "233:\tlearn: 5.5549721\ttotal: 349ms\tremaining: 98.5ms\n",
      "234:\tlearn: 5.5457100\ttotal: 351ms\tremaining: 97ms\n",
      "235:\tlearn: 5.5344928\ttotal: 352ms\tremaining: 95.4ms\n",
      "236:\tlearn: 5.5275874\ttotal: 353ms\tremaining: 93.9ms\n",
      "237:\tlearn: 5.5180890\ttotal: 355ms\tremaining: 92.4ms\n",
      "238:\tlearn: 5.5107536\ttotal: 356ms\tremaining: 90.9ms\n",
      "239:\tlearn: 5.5019741\ttotal: 358ms\tremaining: 89.4ms\n",
      "240:\tlearn: 5.4929837\ttotal: 359ms\tremaining: 87.9ms\n",
      "241:\tlearn: 5.4902165\ttotal: 360ms\tremaining: 86.4ms\n",
      "242:\tlearn: 5.4801136\ttotal: 362ms\tremaining: 84.9ms\n",
      "243:\tlearn: 5.4734919\ttotal: 363ms\tremaining: 83.4ms\n",
      "244:\tlearn: 5.4670860\ttotal: 365ms\tremaining: 81.9ms\n",
      "245:\tlearn: 5.4565645\ttotal: 366ms\tremaining: 80.3ms\n",
      "246:\tlearn: 5.4491854\ttotal: 367ms\tremaining: 78.8ms\n",
      "247:\tlearn: 5.4388724\ttotal: 369ms\tremaining: 77.3ms\n",
      "248:\tlearn: 5.4368352\ttotal: 370ms\tremaining: 75.8ms\n",
      "249:\tlearn: 5.4298143\ttotal: 372ms\tremaining: 74.3ms\n",
      "250:\tlearn: 5.4230946\ttotal: 373ms\tremaining: 72.9ms\n",
      "251:\tlearn: 5.4181276\ttotal: 375ms\tremaining: 71.3ms\n",
      "252:\tlearn: 5.4156051\ttotal: 376ms\tremaining: 69.8ms\n",
      "253:\tlearn: 5.4088599\ttotal: 377ms\tremaining: 68.3ms\n",
      "254:\tlearn: 5.3995065\ttotal: 379ms\tremaining: 66.8ms\n",
      "255:\tlearn: 5.3964793\ttotal: 380ms\tremaining: 65.4ms\n",
      "256:\tlearn: 5.3931579\ttotal: 382ms\tremaining: 63.9ms\n",
      "257:\tlearn: 5.3924550\ttotal: 383ms\tremaining: 62.4ms\n",
      "258:\tlearn: 5.3844533\ttotal: 384ms\tremaining: 60.9ms\n",
      "259:\tlearn: 5.3807459\ttotal: 386ms\tremaining: 59.4ms\n",
      "260:\tlearn: 5.3771799\ttotal: 387ms\tremaining: 57.9ms\n",
      "261:\tlearn: 5.3743785\ttotal: 389ms\tremaining: 56.4ms\n",
      "262:\tlearn: 5.3705156\ttotal: 390ms\tremaining: 54.9ms\n",
      "263:\tlearn: 5.3648816\ttotal: 392ms\tremaining: 53.4ms\n",
      "264:\tlearn: 5.3583124\ttotal: 393ms\tremaining: 51.9ms\n",
      "265:\tlearn: 5.3497655\ttotal: 394ms\tremaining: 50.4ms\n",
      "266:\tlearn: 5.3435911\ttotal: 396ms\tremaining: 48.9ms\n",
      "267:\tlearn: 5.3425617\ttotal: 397ms\tremaining: 47.4ms\n",
      "268:\tlearn: 5.3329344\ttotal: 399ms\tremaining: 46ms\n",
      "269:\tlearn: 5.3275006\ttotal: 400ms\tremaining: 44.5ms\n",
      "270:\tlearn: 5.3235022\ttotal: 402ms\tremaining: 43ms\n",
      "271:\tlearn: 5.3210280\ttotal: 403ms\tremaining: 41.5ms\n",
      "272:\tlearn: 5.3155411\ttotal: 405ms\tremaining: 40ms\n",
      "273:\tlearn: 5.3055135\ttotal: 406ms\tremaining: 38.5ms\n",
      "274:\tlearn: 5.3047744\ttotal: 407ms\tremaining: 37ms\n",
      "275:\tlearn: 5.2970857\ttotal: 409ms\tremaining: 35.5ms\n",
      "276:\tlearn: 5.2928862\ttotal: 410ms\tremaining: 34.1ms\n",
      "277:\tlearn: 5.2908877\ttotal: 412ms\tremaining: 32.6ms\n",
      "278:\tlearn: 5.2838913\ttotal: 413ms\tremaining: 31.1ms\n",
      "279:\tlearn: 5.2805737\ttotal: 415ms\tremaining: 29.6ms\n",
      "280:\tlearn: 5.2749150\ttotal: 416ms\tremaining: 28.1ms\n",
      "281:\tlearn: 5.2725537\ttotal: 417ms\tremaining: 26.6ms\n",
      "282:\tlearn: 5.2674743\ttotal: 419ms\tremaining: 25.2ms\n",
      "283:\tlearn: 5.2638152\ttotal: 420ms\tremaining: 23.7ms\n",
      "284:\tlearn: 5.2585235\ttotal: 422ms\tremaining: 22.2ms\n",
      "285:\tlearn: 5.2531441\ttotal: 423ms\tremaining: 20.7ms\n",
      "286:\tlearn: 5.2511082\ttotal: 425ms\tremaining: 19.2ms\n",
      "287:\tlearn: 5.2428546\ttotal: 426ms\tremaining: 17.7ms\n",
      "288:\tlearn: 5.2352657\ttotal: 427ms\tremaining: 16.3ms\n",
      "289:\tlearn: 5.2275120\ttotal: 429ms\tremaining: 14.8ms\n",
      "290:\tlearn: 5.2203174\ttotal: 430ms\tremaining: 13.3ms\n",
      "291:\tlearn: 5.2142576\ttotal: 432ms\tremaining: 11.8ms\n",
      "292:\tlearn: 5.2088140\ttotal: 433ms\tremaining: 10.3ms\n",
      "293:\tlearn: 5.2076148\ttotal: 434ms\tremaining: 8.86ms\n",
      "294:\tlearn: 5.2054525\ttotal: 436ms\tremaining: 7.38ms\n",
      "295:\tlearn: 5.2034662\ttotal: 437ms\tremaining: 5.91ms\n",
      "296:\tlearn: 5.2016514\ttotal: 438ms\tremaining: 4.43ms\n",
      "297:\tlearn: 5.1934801\ttotal: 440ms\tremaining: 2.95ms\n",
      "298:\tlearn: 5.1881324\ttotal: 441ms\tremaining: 1.47ms\n",
      "299:\tlearn: 5.1780024\ttotal: 442ms\tremaining: 0us\n",
      "MAE (test): 5.99\n",
      "Коэффициент детерминации R2: 0.45952946274825757\n"
     ]
    }
   ],
   "source": [
    "model_last.fit(features_train_new, target_train)\n",
    "predictions = model_last.predict(features_test_new)\n",
    "\n",
    "result = mean_absolute_error(target_test, predictions)\n",
    "print(f'MAE (test): {result:.2f}')\n",
    "r2 = r2_score(target_test, predictions)\n",
    "print(\"Коэффициент детерминации R2:\", r2)"
   ]
  },
  {
   "cell_type": "markdown",
   "id": "603c2d3e",
   "metadata": {},
   "source": [
    "MAE (test): 5.99\n",
    "Коэффициент детерминации R2: 0.45952946274825757\n",
    "\n",
    "Улучшились показатели качества модели. \n",
    "Необходимые показатели достигнуты!"
   ]
  },
  {
   "cell_type": "markdown",
   "id": "d0bfecce",
   "metadata": {},
   "source": [
    "## Общий вывод и рекомендации заказчику"
   ]
  },
  {
   "cell_type": "markdown",
   "id": "160424ba",
   "metadata": {},
   "source": [
    "**Цель проекта достигнута!**\n",
    "\n",
    "Построена модель, которая предсказывает конечную температуру сплава. Достигнут показатель качества модели машинного обучения **MAE 5.99**.\n",
    "\n",
    "\n",
    "При работе с проектом было выполнено:\n",
    "\n",
    "- Исследована задача,\n",
    "\n",
    "\n",
    "- изучены данные и проведена их предобработка\n",
    " \n",
    " *(приведены к стандартному виду названия столбцов, обработаны пропуски и выбросы),*\n",
    "\n",
    "\n",
    "- выделенны(из исходных) данные для построения модели\n",
    "  \n",
    "  *(не попали в выборку признаки, по которым было совсем незначительное количество данных по партиям, и данные о температуре и времени замеров , т.к. они были преобразованы в новые признаки),* \n",
    "\n",
    "\n",
    "- при помощи математических методов созданы новые признаки\n",
    "  \n",
    "  *(полная мощность, работа, кол-во нагревов в рамках каждой партии, начальная и конечная температуры, общее время нагрева)*,\n",
    "\n",
    "\n",
    "- проведена корреляционная оценка признаков\n",
    "  \n",
    "  *(выявлены высоко коррелирующие признаки:полная мощность, работа, время и количество раундов нагрева)*,\n",
    "\n",
    "\n",
    "- выделен целевой признак и проведено разделение данных для обучения/тестирования модели\n",
    "  \n",
    "  *(целевой признак - конечная температура нагрева, данные разделены в соотношении 75/25)*,\n",
    "\n",
    "\n",
    "- исследованы 3 модели с подбором гиперпараметров на кросс-валидации\n",
    "  \n",
    "  *(LinearRegression, RandomForestRegressor, CatBoostRegressor)*,\n",
    "\n",
    "\n",
    "- выбрана наилучшая модель\n",
    "  \n",
    "  *(на обучающих данных лучшей себя показала CatBoostRegressor, показав метрику качества МАЕ(train): 5.88 с гиперпараметрами: {'n_estimators': 300, 'learning_rate': 0.1, 'l2_leaf_reg': 7, 'depth': 5} )*,\n",
    "\n",
    "\n",
    "- проведено тестирование на данных неиспользуемых в обучении\n",
    "  \n",
    "  *(на тестовых данных CatBoost спрогнозировала результаты хуже, чем на обучающем датасете MAE (test): 5,99. Это свидетельствует о переобучении модели. Возможно, нужно больше внимания уделить выбросам в исходных данных или подобрать более подходящую комбинацию признаков. После удаление коллерирующих и наименее значимых признаков, удалось поднять качество модели до 5,99. Что не может ни радовать.)*.\n",
    "\n",
    "\n",
    "Рекомендую предприятию применять прогнозные данные модели в целях уменьшения потребления электроэнергии. А так же использовать разработанную модель для имитации технологического процесса.\n"
   ]
  }
 ],
 "metadata": {
  "ExecuteTimeLog": [
   {
    "duration": 1918,
    "start_time": "2024-02-19T15:09:26.457Z"
   },
   {
    "duration": 126,
    "start_time": "2024-02-19T15:09:28.377Z"
   },
   {
    "duration": 0,
    "start_time": "2024-02-19T15:09:28.505Z"
   },
   {
    "duration": 3,
    "start_time": "2024-02-19T15:09:44.033Z"
   },
   {
    "duration": 2,
    "start_time": "2024-02-19T15:09:44.449Z"
   },
   {
    "duration": 71,
    "start_time": "2024-02-19T15:09:45.261Z"
   },
   {
    "duration": 5,
    "start_time": "2024-02-19T15:09:46.714Z"
   },
   {
    "duration": 58,
    "start_time": "2024-02-19T15:10:18.566Z"
   },
   {
    "duration": 525,
    "start_time": "2024-02-19T15:10:55.581Z"
   },
   {
    "duration": 3,
    "start_time": "2024-02-19T15:10:56.878Z"
   },
   {
    "duration": 57,
    "start_time": "2024-02-19T15:10:58.178Z"
   },
   {
    "duration": 4,
    "start_time": "2024-02-19T16:10:50.630Z"
   },
   {
    "duration": 32,
    "start_time": "2024-02-19T16:10:51.089Z"
   },
   {
    "duration": 28,
    "start_time": "2024-02-19T16:11:23.719Z"
   },
   {
    "duration": 30,
    "start_time": "2024-02-19T16:12:19.076Z"
   },
   {
    "duration": 26,
    "start_time": "2024-02-19T16:15:16.918Z"
   },
   {
    "duration": 19,
    "start_time": "2024-02-19T16:17:12.763Z"
   },
   {
    "duration": 26,
    "start_time": "2024-02-19T16:17:44.633Z"
   },
   {
    "duration": 30,
    "start_time": "2024-02-19T16:19:51.591Z"
   },
   {
    "duration": 23,
    "start_time": "2024-02-19T16:20:48.296Z"
   },
   {
    "duration": 21,
    "start_time": "2024-02-19T16:24:08.372Z"
   },
   {
    "duration": 6,
    "start_time": "2024-02-19T16:24:27.787Z"
   },
   {
    "duration": 4,
    "start_time": "2024-02-19T16:24:40.743Z"
   },
   {
    "duration": 3,
    "start_time": "2024-02-19T16:28:02.839Z"
   },
   {
    "duration": 23,
    "start_time": "2024-02-19T16:28:06.739Z"
   },
   {
    "duration": 69,
    "start_time": "2024-02-19T16:28:45.441Z"
   },
   {
    "duration": 101,
    "start_time": "2024-02-19T16:29:11.863Z"
   },
   {
    "duration": 4,
    "start_time": "2024-02-19T16:29:35.515Z"
   },
   {
    "duration": 25,
    "start_time": "2024-02-19T16:29:37.777Z"
   },
   {
    "duration": 31,
    "start_time": "2024-02-19T16:29:45.226Z"
   },
   {
    "duration": 19,
    "start_time": "2024-02-19T16:29:50.241Z"
   },
   {
    "duration": 43,
    "start_time": "2024-02-19T16:29:53.574Z"
   },
   {
    "duration": 4,
    "start_time": "2024-02-19T18:03:41.129Z"
   },
   {
    "duration": 64,
    "start_time": "2024-02-19T18:03:41.679Z"
   },
   {
    "duration": 29,
    "start_time": "2024-02-19T18:06:13.631Z"
   },
   {
    "duration": 45,
    "start_time": "2024-02-19T18:06:26.293Z"
   },
   {
    "duration": 45,
    "start_time": "2024-02-20T08:57:27.120Z"
   },
   {
    "duration": 1601,
    "start_time": "2024-02-20T08:57:31.943Z"
   },
   {
    "duration": 3,
    "start_time": "2024-02-20T08:57:34.849Z"
   },
   {
    "duration": 551,
    "start_time": "2024-02-20T08:57:36.225Z"
   },
   {
    "duration": 729,
    "start_time": "2024-02-20T08:57:52.175Z"
   },
   {
    "duration": 70,
    "start_time": "2024-02-20T09:10:40.545Z"
   },
   {
    "duration": 4,
    "start_time": "2024-02-20T09:11:03.738Z"
   },
   {
    "duration": 4,
    "start_time": "2024-02-20T09:11:43.693Z"
   },
   {
    "duration": 8,
    "start_time": "2024-02-20T09:13:05.956Z"
   },
   {
    "duration": 4,
    "start_time": "2024-02-20T09:13:36.731Z"
   },
   {
    "duration": 11,
    "start_time": "2024-02-20T09:15:01.952Z"
   },
   {
    "duration": 9,
    "start_time": "2024-02-20T09:15:45.046Z"
   },
   {
    "duration": 11,
    "start_time": "2024-02-20T09:16:04.119Z"
   },
   {
    "duration": 12,
    "start_time": "2024-02-20T09:16:43.941Z"
   },
   {
    "duration": 8,
    "start_time": "2024-02-20T09:16:48.984Z"
   },
   {
    "duration": 127,
    "start_time": "2024-02-20T09:17:32.782Z"
   },
   {
    "duration": 9,
    "start_time": "2024-02-20T09:17:38.948Z"
   },
   {
    "duration": 9,
    "start_time": "2024-02-20T09:17:44.886Z"
   },
   {
    "duration": 9,
    "start_time": "2024-02-20T09:19:28.862Z"
   },
   {
    "duration": 3,
    "start_time": "2024-02-20T09:19:49.584Z"
   },
   {
    "duration": 3,
    "start_time": "2024-02-20T09:19:53.545Z"
   },
   {
    "duration": 3,
    "start_time": "2024-02-20T09:20:03.132Z"
   },
   {
    "duration": 3,
    "start_time": "2024-02-20T09:20:32.903Z"
   },
   {
    "duration": 3,
    "start_time": "2024-02-20T09:20:55.572Z"
   },
   {
    "duration": 4,
    "start_time": "2024-02-20T10:00:55.707Z"
   },
   {
    "duration": 11,
    "start_time": "2024-02-20T10:01:52.476Z"
   },
   {
    "duration": 3,
    "start_time": "2024-02-20T10:02:20.644Z"
   },
   {
    "duration": 3,
    "start_time": "2024-02-20T10:02:39.047Z"
   },
   {
    "duration": 3,
    "start_time": "2024-02-20T10:03:03.889Z"
   },
   {
    "duration": 4,
    "start_time": "2024-02-20T10:05:42.831Z"
   },
   {
    "duration": 729,
    "start_time": "2024-02-20T10:05:44.044Z"
   },
   {
    "duration": 4,
    "start_time": "2024-02-20T10:06:02.920Z"
   },
   {
    "duration": 685,
    "start_time": "2024-02-20T10:06:03.938Z"
   },
   {
    "duration": 3,
    "start_time": "2024-02-20T10:06:38.415Z"
   },
   {
    "duration": 100,
    "start_time": "2024-02-20T10:06:51.100Z"
   },
   {
    "duration": 96,
    "start_time": "2024-02-20T10:07:19.109Z"
   },
   {
    "duration": 3,
    "start_time": "2024-02-20T10:07:30.029Z"
   },
   {
    "duration": 3,
    "start_time": "2024-02-20T10:07:31.708Z"
   },
   {
    "duration": 4,
    "start_time": "2024-02-20T10:07:33.816Z"
   },
   {
    "duration": 108,
    "start_time": "2024-02-20T10:07:34.976Z"
   },
   {
    "duration": 105,
    "start_time": "2024-02-20T10:08:24.591Z"
   },
   {
    "duration": 105,
    "start_time": "2024-02-20T10:08:43.841Z"
   },
   {
    "duration": 3,
    "start_time": "2024-02-20T10:24:29.314Z"
   },
   {
    "duration": 135,
    "start_time": "2024-02-20T10:24:30.013Z"
   },
   {
    "duration": 109,
    "start_time": "2024-02-20T10:25:48.158Z"
   },
   {
    "duration": 4,
    "start_time": "2024-02-20T10:29:23.627Z"
   },
   {
    "duration": 2,
    "start_time": "2024-02-20T10:29:24.714Z"
   },
   {
    "duration": 4,
    "start_time": "2024-02-20T10:29:27.037Z"
   },
   {
    "duration": 121,
    "start_time": "2024-02-20T10:29:27.963Z"
   },
   {
    "duration": 4,
    "start_time": "2024-02-20T10:31:18.544Z"
   },
   {
    "duration": 108,
    "start_time": "2024-02-20T10:31:19.606Z"
   },
   {
    "duration": 103,
    "start_time": "2024-02-20T10:31:36.335Z"
   },
   {
    "duration": 4,
    "start_time": "2024-02-20T10:32:58.772Z"
   },
   {
    "duration": 12,
    "start_time": "2024-02-20T10:32:59.660Z"
   },
   {
    "duration": 3,
    "start_time": "2024-02-20T10:33:26.899Z"
   },
   {
    "duration": 11,
    "start_time": "2024-02-20T10:33:28.038Z"
   },
   {
    "duration": 4,
    "start_time": "2024-02-20T10:33:34.150Z"
   },
   {
    "duration": 12,
    "start_time": "2024-02-20T10:33:34.505Z"
   },
   {
    "duration": 4,
    "start_time": "2024-02-20T10:34:06.870Z"
   },
   {
    "duration": 106,
    "start_time": "2024-02-20T10:34:07.714Z"
   },
   {
    "duration": 8,
    "start_time": "2024-02-20T10:35:57.907Z"
   },
   {
    "duration": 9,
    "start_time": "2024-02-20T10:36:27.090Z"
   },
   {
    "duration": 2,
    "start_time": "2024-02-20T10:36:54.918Z"
   },
   {
    "duration": 3,
    "start_time": "2024-02-20T10:37:22.533Z"
   },
   {
    "duration": 742,
    "start_time": "2024-02-20T10:37:24.859Z"
   },
   {
    "duration": 3,
    "start_time": "2024-02-20T10:37:35.636Z"
   },
   {
    "duration": 110,
    "start_time": "2024-02-20T10:38:43.639Z"
   },
   {
    "duration": 13,
    "start_time": "2024-02-20T10:39:50.958Z"
   },
   {
    "duration": 165,
    "start_time": "2024-02-20T10:40:41.258Z"
   },
   {
    "duration": 3,
    "start_time": "2024-02-20T10:40:45.801Z"
   },
   {
    "duration": 173,
    "start_time": "2024-02-20T10:40:49.526Z"
   },
   {
    "duration": 3,
    "start_time": "2024-02-20T10:41:08.259Z"
   },
   {
    "duration": 11,
    "start_time": "2024-02-20T10:41:13.263Z"
   },
   {
    "duration": 4,
    "start_time": "2024-02-20T10:42:55.925Z"
   },
   {
    "duration": 174,
    "start_time": "2024-02-20T10:42:56.708Z"
   },
   {
    "duration": 4,
    "start_time": "2024-02-20T10:43:18.840Z"
   },
   {
    "duration": 12,
    "start_time": "2024-02-20T10:43:19.913Z"
   },
   {
    "duration": 3,
    "start_time": "2024-02-20T10:43:29.571Z"
   },
   {
    "duration": 2,
    "start_time": "2024-02-20T10:43:30.609Z"
   },
   {
    "duration": 3,
    "start_time": "2024-02-20T10:43:32.589Z"
   },
   {
    "duration": 180,
    "start_time": "2024-02-20T10:43:33.783Z"
   },
   {
    "duration": 3,
    "start_time": "2024-02-20T10:43:37.782Z"
   },
   {
    "duration": 12,
    "start_time": "2024-02-20T10:43:39.366Z"
   },
   {
    "duration": 4,
    "start_time": "2024-02-20T10:44:38.867Z"
   },
   {
    "duration": 201,
    "start_time": "2024-02-20T10:44:39.518Z"
   },
   {
    "duration": 4,
    "start_time": "2024-02-20T10:45:16.991Z"
   },
   {
    "duration": 1429,
    "start_time": "2024-02-20T10:45:49.780Z"
   },
   {
    "duration": 3,
    "start_time": "2024-02-20T10:45:52.058Z"
   },
   {
    "duration": 4,
    "start_time": "2024-02-20T10:45:55.592Z"
   },
   {
    "duration": 178,
    "start_time": "2024-02-20T10:45:58.022Z"
   },
   {
    "duration": 3,
    "start_time": "2024-02-20T10:46:03.922Z"
   },
   {
    "duration": 106,
    "start_time": "2024-02-20T10:46:06.289Z"
   },
   {
    "duration": 5,
    "start_time": "2024-02-20T10:46:42.153Z"
   },
   {
    "duration": 13,
    "start_time": "2024-02-20T10:46:43.144Z"
   },
   {
    "duration": 4,
    "start_time": "2024-02-20T10:47:03.676Z"
   },
   {
    "duration": 196,
    "start_time": "2024-02-20T10:47:04.351Z"
   },
   {
    "duration": 3,
    "start_time": "2024-02-20T10:47:32.385Z"
   },
   {
    "duration": 12,
    "start_time": "2024-02-20T10:47:33.145Z"
   },
   {
    "duration": 5,
    "start_time": "2024-02-20T10:52:28.212Z"
   },
   {
    "duration": 4,
    "start_time": "2024-02-20T10:53:29.552Z"
   },
   {
    "duration": 203,
    "start_time": "2024-02-20T10:53:30.542Z"
   },
   {
    "duration": 4,
    "start_time": "2024-02-20T10:53:35.305Z"
   },
   {
    "duration": 2,
    "start_time": "2024-02-20T10:59:34.482Z"
   },
   {
    "duration": 10,
    "start_time": "2024-02-20T10:59:44.671Z"
   },
   {
    "duration": 4,
    "start_time": "2024-02-20T11:07:31.771Z"
   },
   {
    "duration": 63,
    "start_time": "2024-02-20T11:07:32.414Z"
   },
   {
    "duration": 3,
    "start_time": "2024-02-20T11:08:34.645Z"
   },
   {
    "duration": 61,
    "start_time": "2024-02-20T11:08:35.339Z"
   },
   {
    "duration": 4,
    "start_time": "2024-02-20T11:17:04.511Z"
   },
   {
    "duration": 58,
    "start_time": "2024-02-20T11:17:05.598Z"
   },
   {
    "duration": 232,
    "start_time": "2024-02-20T11:17:20.953Z"
   },
   {
    "duration": 6,
    "start_time": "2024-02-20T11:17:30.051Z"
   },
   {
    "duration": 89,
    "start_time": "2024-02-20T11:17:30.779Z"
   },
   {
    "duration": 62,
    "start_time": "2024-02-20T11:18:28.264Z"
   },
   {
    "duration": 3,
    "start_time": "2024-02-20T11:20:54.550Z"
   },
   {
    "duration": 196,
    "start_time": "2024-02-20T11:20:55.342Z"
   },
   {
    "duration": 3,
    "start_time": "2024-02-20T11:30:08.444Z"
   },
   {
    "duration": 1650,
    "start_time": "2024-02-20T21:10:21.962Z"
   },
   {
    "duration": 2,
    "start_time": "2024-02-20T21:10:23.614Z"
   },
   {
    "duration": 4,
    "start_time": "2024-02-20T21:10:24.055Z"
   },
   {
    "duration": 544,
    "start_time": "2024-02-20T21:10:27.139Z"
   },
   {
    "duration": 3,
    "start_time": "2024-02-20T21:10:29.679Z"
   },
   {
    "duration": 140,
    "start_time": "2024-02-20T21:10:31.956Z"
   },
   {
    "duration": 4,
    "start_time": "2024-02-20T21:10:46.269Z"
   },
   {
    "duration": 58,
    "start_time": "2024-02-20T21:10:48.049Z"
   },
   {
    "duration": 56,
    "start_time": "2024-02-20T21:24:20.117Z"
   },
   {
    "duration": 93,
    "start_time": "2024-02-20T21:25:09.727Z"
   },
   {
    "duration": 78,
    "start_time": "2024-02-20T21:25:25.084Z"
   },
   {
    "duration": 109,
    "start_time": "2024-02-20T21:25:34.709Z"
   },
   {
    "duration": 18,
    "start_time": "2024-02-20T21:28:10.087Z"
   },
   {
    "duration": 9,
    "start_time": "2024-02-20T21:28:44.370Z"
   },
   {
    "duration": 35974,
    "start_time": "2024-02-20T21:29:08.239Z"
   },
   {
    "duration": 74,
    "start_time": "2024-02-20T21:30:50.485Z"
   },
   {
    "duration": 14,
    "start_time": "2024-02-20T21:36:10.832Z"
   },
   {
    "duration": 6100,
    "start_time": "2024-02-20T21:36:56.710Z"
   },
   {
    "duration": 18,
    "start_time": "2024-02-20T21:37:02.812Z"
   },
   {
    "duration": 6,
    "start_time": "2024-02-20T21:44:15.779Z"
   },
   {
    "duration": 8,
    "start_time": "2024-02-20T21:44:28.883Z"
   },
   {
    "duration": 38,
    "start_time": "2024-02-20T21:44:51.993Z"
   },
   {
    "duration": 3,
    "start_time": "2024-02-20T21:53:27.852Z"
   },
   {
    "duration": 10,
    "start_time": "2024-02-20T21:53:51.783Z"
   },
   {
    "duration": 3,
    "start_time": "2024-02-20T21:54:19.844Z"
   },
   {
    "duration": 99,
    "start_time": "2024-02-20T21:54:25.873Z"
   },
   {
    "duration": 96,
    "start_time": "2024-02-20T21:54:41.941Z"
   },
   {
    "duration": 140,
    "start_time": "2024-02-20T21:54:49.086Z"
   },
   {
    "duration": 77,
    "start_time": "2024-02-20T21:54:53.636Z"
   },
   {
    "duration": 4,
    "start_time": "2024-02-20T22:00:31.030Z"
   },
   {
    "duration": 186,
    "start_time": "2024-02-20T22:05:24.271Z"
   },
   {
    "duration": 3,
    "start_time": "2024-02-20T22:05:25.737Z"
   },
   {
    "duration": 56,
    "start_time": "2024-02-20T22:05:26.843Z"
   },
   {
    "duration": 4,
    "start_time": "2024-02-20T22:05:28.136Z"
   },
   {
    "duration": 6,
    "start_time": "2024-02-20T22:05:28.548Z"
   },
   {
    "duration": 145,
    "start_time": "2024-02-20T22:05:29.496Z"
   },
   {
    "duration": 6,
    "start_time": "2024-02-20T22:05:30.874Z"
   },
   {
    "duration": 10,
    "start_time": "2024-02-20T22:05:32.068Z"
   },
   {
    "duration": 7,
    "start_time": "2024-02-20T22:05:53.513Z"
   },
   {
    "duration": 18,
    "start_time": "2024-02-20T22:07:02.677Z"
   },
   {
    "duration": 7,
    "start_time": "2024-02-20T22:07:39.514Z"
   },
   {
    "duration": 13,
    "start_time": "2024-02-20T22:08:14.395Z"
   },
   {
    "duration": 21,
    "start_time": "2024-02-20T22:12:51.669Z"
   },
   {
    "duration": 1671,
    "start_time": "2024-02-20T22:19:47.797Z"
   },
   {
    "duration": 10,
    "start_time": "2024-02-20T22:20:01.675Z"
   },
   {
    "duration": 8,
    "start_time": "2024-02-20T22:20:09.993Z"
   },
   {
    "duration": 9,
    "start_time": "2024-02-20T22:25:44.807Z"
   },
   {
    "duration": 10,
    "start_time": "2024-02-20T22:26:02.006Z"
   },
   {
    "duration": 900,
    "start_time": "2024-02-20T22:30:12.376Z"
   },
   {
    "duration": 862,
    "start_time": "2024-02-20T22:30:39.570Z"
   },
   {
    "duration": 21,
    "start_time": "2024-02-20T22:31:16.342Z"
   },
   {
    "duration": 35,
    "start_time": "2024-02-20T22:31:50.884Z"
   },
   {
    "duration": 6,
    "start_time": "2024-02-20T22:32:17.719Z"
   },
   {
    "duration": 6,
    "start_time": "2024-02-20T22:32:33.245Z"
   },
   {
    "duration": 17,
    "start_time": "2024-02-20T22:32:33.896Z"
   },
   {
    "duration": 7,
    "start_time": "2024-02-20T22:32:59.694Z"
   },
   {
    "duration": 12,
    "start_time": "2024-02-20T22:34:36.909Z"
   },
   {
    "duration": 12,
    "start_time": "2024-02-20T22:35:12.533Z"
   },
   {
    "duration": 18,
    "start_time": "2024-02-20T22:36:24.119Z"
   },
   {
    "duration": 16,
    "start_time": "2024-02-20T22:36:35.802Z"
   },
   {
    "duration": 6,
    "start_time": "2024-02-20T22:40:39.901Z"
   },
   {
    "duration": 13,
    "start_time": "2024-02-20T22:41:02.355Z"
   },
   {
    "duration": 11,
    "start_time": "2024-02-20T22:43:18.528Z"
   },
   {
    "duration": 17,
    "start_time": "2024-02-20T22:43:26.200Z"
   },
   {
    "duration": 9,
    "start_time": "2024-02-20T22:43:42.751Z"
   },
   {
    "duration": 7,
    "start_time": "2024-02-20T22:44:16.141Z"
   },
   {
    "duration": 13,
    "start_time": "2024-02-20T22:44:17.502Z"
   },
   {
    "duration": 7,
    "start_time": "2024-02-20T22:44:49.934Z"
   },
   {
    "duration": 13,
    "start_time": "2024-02-20T22:44:50.575Z"
   },
   {
    "duration": 73,
    "start_time": "2024-02-20T22:46:28.762Z"
   },
   {
    "duration": 15,
    "start_time": "2024-02-20T22:51:26.730Z"
   },
   {
    "duration": 8,
    "start_time": "2024-02-20T22:51:27.464Z"
   },
   {
    "duration": 26,
    "start_time": "2024-02-20T22:52:55.683Z"
   },
   {
    "duration": 16,
    "start_time": "2024-02-20T22:53:30.497Z"
   },
   {
    "duration": 9,
    "start_time": "2024-02-20T22:55:22.108Z"
   },
   {
    "duration": 7,
    "start_time": "2024-02-20T22:55:22.694Z"
   },
   {
    "duration": 18,
    "start_time": "2024-02-20T22:57:20.144Z"
   },
   {
    "duration": 10,
    "start_time": "2024-02-20T22:57:21.987Z"
   },
   {
    "duration": 17,
    "start_time": "2024-02-20T22:57:22.591Z"
   },
   {
    "duration": 9,
    "start_time": "2024-02-20T22:58:10.836Z"
   },
   {
    "duration": 14,
    "start_time": "2024-02-20T22:58:11.550Z"
   },
   {
    "duration": 8,
    "start_time": "2024-02-20T22:59:05.635Z"
   },
   {
    "duration": 16,
    "start_time": "2024-02-20T22:59:06.125Z"
   },
   {
    "duration": 8,
    "start_time": "2024-02-20T23:00:18.750Z"
   },
   {
    "duration": 15,
    "start_time": "2024-02-20T23:00:20.907Z"
   },
   {
    "duration": 9,
    "start_time": "2024-02-20T23:00:26.558Z"
   },
   {
    "duration": 16,
    "start_time": "2024-02-20T23:00:28.405Z"
   },
   {
    "duration": 8,
    "start_time": "2024-02-20T23:00:49.767Z"
   },
   {
    "duration": 16,
    "start_time": "2024-02-20T23:00:50.565Z"
   },
   {
    "duration": 14,
    "start_time": "2024-02-20T23:04:45.712Z"
   },
   {
    "duration": 8,
    "start_time": "2024-02-20T23:04:46.607Z"
   },
   {
    "duration": 3,
    "start_time": "2024-02-20T23:14:54.769Z"
   },
   {
    "duration": 4,
    "start_time": "2024-02-20T23:15:27.511Z"
   },
   {
    "duration": 15,
    "start_time": "2024-02-20T23:22:22.879Z"
   },
   {
    "duration": 299,
    "start_time": "2024-02-20T23:22:50.574Z"
   },
   {
    "duration": 326,
    "start_time": "2024-02-20T23:24:31.623Z"
   },
   {
    "duration": 2750,
    "start_time": "2024-02-20T23:28:25.984Z"
   },
   {
    "duration": 5519,
    "start_time": "2024-02-20T23:30:07.847Z"
   },
   {
    "duration": 102,
    "start_time": "2024-02-20T23:31:37.343Z"
   },
   {
    "duration": 5502,
    "start_time": "2024-02-20T23:31:45.340Z"
   },
   {
    "duration": 1759,
    "start_time": "2024-02-21T07:23:22.051Z"
   },
   {
    "duration": 3,
    "start_time": "2024-02-21T07:23:23.811Z"
   },
   {
    "duration": 4,
    "start_time": "2024-02-21T07:23:26.363Z"
   },
   {
    "duration": 514,
    "start_time": "2024-02-21T07:23:26.875Z"
   },
   {
    "duration": 4,
    "start_time": "2024-02-21T07:23:28.039Z"
   },
   {
    "duration": 67,
    "start_time": "2024-02-21T07:23:29.061Z"
   },
   {
    "duration": 4,
    "start_time": "2024-02-21T07:23:30.179Z"
   },
   {
    "duration": 20,
    "start_time": "2024-02-21T07:23:30.653Z"
   },
   {
    "duration": 7,
    "start_time": "2024-02-21T07:23:31.843Z"
   },
   {
    "duration": 99,
    "start_time": "2024-02-21T07:23:33.099Z"
   },
   {
    "duration": 10,
    "start_time": "2024-02-21T07:23:34.742Z"
   },
   {
    "duration": 17,
    "start_time": "2024-02-21T07:23:35.666Z"
   },
   {
    "duration": 13,
    "start_time": "2024-02-21T07:23:37.051Z"
   },
   {
    "duration": 9,
    "start_time": "2024-02-21T07:23:37.943Z"
   },
   {
    "duration": 4,
    "start_time": "2024-02-21T09:40:24.497Z"
   },
   {
    "duration": 324,
    "start_time": "2024-02-21T09:40:39.872Z"
   },
   {
    "duration": 6,
    "start_time": "2024-02-21T09:40:47.620Z"
   },
   {
    "duration": 9,
    "start_time": "2024-02-21T09:41:33.612Z"
   },
   {
    "duration": 24,
    "start_time": "2024-02-21T09:41:34.242Z"
   },
   {
    "duration": 14,
    "start_time": "2024-02-21T09:41:42.867Z"
   },
   {
    "duration": 5,
    "start_time": "2024-02-21T09:41:54.297Z"
   },
   {
    "duration": 8,
    "start_time": "2024-02-21T09:41:55.034Z"
   },
   {
    "duration": 185,
    "start_time": "2024-02-21T09:42:13.929Z"
   },
   {
    "duration": 75,
    "start_time": "2024-02-21T09:42:22.029Z"
   },
   {
    "duration": 4,
    "start_time": "2024-02-21T09:42:23.415Z"
   },
   {
    "duration": 3,
    "start_time": "2024-02-21T09:42:24.364Z"
   },
   {
    "duration": 270,
    "start_time": "2024-02-21T09:42:25.509Z"
   },
   {
    "duration": 6,
    "start_time": "2024-02-21T09:42:27.464Z"
   },
   {
    "duration": 10,
    "start_time": "2024-02-21T09:42:28.249Z"
   },
   {
    "duration": 78,
    "start_time": "2024-02-21T09:43:06.561Z"
   },
   {
    "duration": 34,
    "start_time": "2024-02-21T09:52:14.255Z"
   },
   {
    "duration": 4,
    "start_time": "2024-02-21T09:57:13.227Z"
   },
   {
    "duration": 293,
    "start_time": "2024-02-21T09:57:16.515Z"
   },
   {
    "duration": 228,
    "start_time": "2024-02-21T09:57:40.523Z"
   },
   {
    "duration": 6,
    "start_time": "2024-02-21T09:59:45.010Z"
   },
   {
    "duration": 8,
    "start_time": "2024-02-21T09:59:45.591Z"
   },
   {
    "duration": 47,
    "start_time": "2024-02-21T10:00:08.805Z"
   },
   {
    "duration": 4,
    "start_time": "2024-02-21T10:07:55.861Z"
   },
   {
    "duration": 9,
    "start_time": "2024-02-21T10:08:56.563Z"
   },
   {
    "duration": 13,
    "start_time": "2024-02-21T10:13:11.182Z"
   },
   {
    "duration": 133,
    "start_time": "2024-02-21T10:14:22.594Z"
   },
   {
    "duration": 12,
    "start_time": "2024-02-21T10:14:38.209Z"
   },
   {
    "duration": 6,
    "start_time": "2024-02-21T10:15:12.579Z"
   },
   {
    "duration": 15,
    "start_time": "2024-02-21T10:15:50.019Z"
   },
   {
    "duration": 12,
    "start_time": "2024-02-21T10:16:58.777Z"
   },
   {
    "duration": 12,
    "start_time": "2024-02-21T10:17:10.568Z"
   },
   {
    "duration": 123,
    "start_time": "2024-02-21T10:21:45.935Z"
   },
   {
    "duration": 11,
    "start_time": "2024-02-21T10:22:11.671Z"
   },
   {
    "duration": 13,
    "start_time": "2024-02-21T10:23:54.351Z"
   },
   {
    "duration": 14,
    "start_time": "2024-02-21T10:26:49.451Z"
   },
   {
    "duration": 9,
    "start_time": "2024-02-21T10:26:50.045Z"
   },
   {
    "duration": 68,
    "start_time": "2024-02-21T10:26:55.766Z"
   },
   {
    "duration": 3,
    "start_time": "2024-02-21T10:31:57.521Z"
   },
   {
    "duration": 5,
    "start_time": "2024-02-21T10:33:27.916Z"
   },
   {
    "duration": 21,
    "start_time": "2024-02-21T10:33:46.635Z"
   },
   {
    "duration": 4,
    "start_time": "2024-02-21T10:34:04.446Z"
   },
   {
    "duration": 8,
    "start_time": "2024-02-21T10:34:06.218Z"
   },
   {
    "duration": 4,
    "start_time": "2024-02-21T10:34:12.129Z"
   },
   {
    "duration": 21,
    "start_time": "2024-02-21T10:34:12.687Z"
   },
   {
    "duration": 191,
    "start_time": "2024-02-21T10:34:23.547Z"
   },
   {
    "duration": 5,
    "start_time": "2024-02-21T10:34:29.396Z"
   },
   {
    "duration": 21,
    "start_time": "2024-02-21T10:34:29.979Z"
   },
   {
    "duration": 5,
    "start_time": "2024-02-21T10:36:11.733Z"
   },
   {
    "duration": 14,
    "start_time": "2024-02-21T10:36:12.407Z"
   },
   {
    "duration": 61,
    "start_time": "2024-02-21T10:36:22.742Z"
   },
   {
    "duration": 12,
    "start_time": "2024-02-21T10:43:09.992Z"
   },
   {
    "duration": 7,
    "start_time": "2024-02-21T10:44:06.130Z"
   },
   {
    "duration": 21,
    "start_time": "2024-02-21T10:45:51.522Z"
   },
   {
    "duration": 12,
    "start_time": "2024-02-21T10:46:05.300Z"
   },
   {
    "duration": 14,
    "start_time": "2024-02-21T10:46:16.364Z"
   },
   {
    "duration": 8,
    "start_time": "2024-02-21T10:46:25.675Z"
   },
   {
    "duration": 11,
    "start_time": "2024-02-21T10:46:26.415Z"
   },
   {
    "duration": 8,
    "start_time": "2024-02-21T10:46:28.399Z"
   },
   {
    "duration": 14,
    "start_time": "2024-02-21T10:46:31.474Z"
   },
   {
    "duration": 8,
    "start_time": "2024-02-21T10:48:19.694Z"
   },
   {
    "duration": 9,
    "start_time": "2024-02-21T10:48:22.505Z"
   },
   {
    "duration": 9,
    "start_time": "2024-02-21T10:48:43.793Z"
   },
   {
    "duration": 13,
    "start_time": "2024-02-21T10:48:44.890Z"
   },
   {
    "duration": 5,
    "start_time": "2024-02-21T10:48:46.491Z"
   },
   {
    "duration": 7,
    "start_time": "2024-02-21T10:48:47.358Z"
   },
   {
    "duration": 4,
    "start_time": "2024-02-21T10:52:43.998Z"
   },
   {
    "duration": 32,
    "start_time": "2024-02-21T11:17:26.655Z"
   },
   {
    "duration": 59,
    "start_time": "2024-02-21T11:17:39.805Z"
   },
   {
    "duration": 5,
    "start_time": "2024-02-21T11:17:40.694Z"
   },
   {
    "duration": 19,
    "start_time": "2024-02-21T11:17:41.042Z"
   },
   {
    "duration": 6,
    "start_time": "2024-02-21T11:17:41.359Z"
   },
   {
    "duration": 78,
    "start_time": "2024-02-21T11:17:42.096Z"
   },
   {
    "duration": 11,
    "start_time": "2024-02-21T11:17:43.576Z"
   },
   {
    "duration": 16,
    "start_time": "2024-02-21T11:17:45.023Z"
   },
   {
    "duration": 12,
    "start_time": "2024-02-21T11:17:46.086Z"
   },
   {
    "duration": 8,
    "start_time": "2024-02-21T11:17:47.174Z"
   },
   {
    "duration": 85,
    "start_time": "2024-02-21T11:17:49.045Z"
   },
   {
    "duration": 4,
    "start_time": "2024-02-21T11:17:50.501Z"
   },
   {
    "duration": 4,
    "start_time": "2024-02-21T11:17:51.673Z"
   },
   {
    "duration": 284,
    "start_time": "2024-02-21T11:17:52.922Z"
   },
   {
    "duration": 5,
    "start_time": "2024-02-21T11:17:58.898Z"
   },
   {
    "duration": 10,
    "start_time": "2024-02-21T11:18:25.038Z"
   },
   {
    "duration": 5,
    "start_time": "2024-02-21T11:18:34.231Z"
   },
   {
    "duration": 11,
    "start_time": "2024-02-21T11:18:34.939Z"
   },
   {
    "duration": 10,
    "start_time": "2024-02-21T11:18:52.792Z"
   },
   {
    "duration": 10,
    "start_time": "2024-02-21T12:21:28.640Z"
   },
   {
    "duration": 6,
    "start_time": "2024-02-21T12:22:47.789Z"
   },
   {
    "duration": 8,
    "start_time": "2024-02-21T12:22:54.712Z"
   },
   {
    "duration": 7,
    "start_time": "2024-02-21T12:23:01.796Z"
   },
   {
    "duration": 13,
    "start_time": "2024-02-21T12:23:04.463Z"
   },
   {
    "duration": 8,
    "start_time": "2024-02-21T12:23:07.734Z"
   },
   {
    "duration": 12,
    "start_time": "2024-02-21T12:23:21.042Z"
   },
   {
    "duration": 9,
    "start_time": "2024-02-21T12:23:31.909Z"
   },
   {
    "duration": 5,
    "start_time": "2024-02-21T12:29:29.772Z"
   },
   {
    "duration": 7,
    "start_time": "2024-02-21T12:39:46.804Z"
   },
   {
    "duration": 6,
    "start_time": "2024-02-21T12:41:03.484Z"
   },
   {
    "duration": 11,
    "start_time": "2024-02-21T12:41:04.158Z"
   },
   {
    "duration": 11,
    "start_time": "2024-02-21T12:41:43.262Z"
   },
   {
    "duration": 9,
    "start_time": "2024-02-21T12:41:44.532Z"
   },
   {
    "duration": 10,
    "start_time": "2024-02-21T12:42:51.518Z"
   },
   {
    "duration": 7,
    "start_time": "2024-02-21T12:44:16.697Z"
   },
   {
    "duration": 36,
    "start_time": "2024-02-21T12:44:51.452Z"
   },
   {
    "duration": 12,
    "start_time": "2024-02-21T12:50:49.306Z"
   },
   {
    "duration": 12,
    "start_time": "2024-02-21T12:50:54.886Z"
   },
   {
    "duration": 6,
    "start_time": "2024-02-21T12:50:55.670Z"
   },
   {
    "duration": 11,
    "start_time": "2024-02-21T12:50:56.243Z"
   },
   {
    "duration": 2,
    "start_time": "2024-02-21T12:50:57.649Z"
   },
   {
    "duration": 9,
    "start_time": "2024-02-21T12:50:59.102Z"
   },
   {
    "duration": 12,
    "start_time": "2024-02-21T12:51:00.704Z"
   },
   {
    "duration": 8,
    "start_time": "2024-02-21T12:51:26.237Z"
   },
   {
    "duration": 9,
    "start_time": "2024-02-21T12:52:47.673Z"
   },
   {
    "duration": 9,
    "start_time": "2024-02-21T12:54:48.500Z"
   },
   {
    "duration": 17,
    "start_time": "2024-02-21T12:59:01.052Z"
   },
   {
    "duration": 16,
    "start_time": "2024-02-21T13:01:32.187Z"
   },
   {
    "duration": 19,
    "start_time": "2024-02-21T13:01:55.474Z"
   },
   {
    "duration": 414,
    "start_time": "2024-02-21T13:02:44.147Z"
   },
   {
    "duration": 20,
    "start_time": "2024-02-21T13:16:02.649Z"
   },
   {
    "duration": 19,
    "start_time": "2024-02-21T13:31:49.023Z"
   },
   {
    "duration": 16,
    "start_time": "2024-02-21T13:32:08.102Z"
   },
   {
    "duration": 19,
    "start_time": "2024-02-21T13:32:27.130Z"
   },
   {
    "duration": 167,
    "start_time": "2024-02-21T13:33:31.152Z"
   },
   {
    "duration": 10,
    "start_time": "2024-02-21T13:33:38.979Z"
   },
   {
    "duration": 6,
    "start_time": "2024-02-21T13:33:40.208Z"
   },
   {
    "duration": 11,
    "start_time": "2024-02-21T13:33:42.172Z"
   },
   {
    "duration": 10,
    "start_time": "2024-02-21T13:33:46.047Z"
   },
   {
    "duration": 11,
    "start_time": "2024-02-21T13:33:47.350Z"
   },
   {
    "duration": 11,
    "start_time": "2024-02-21T13:33:55.610Z"
   },
   {
    "duration": 20,
    "start_time": "2024-02-21T13:34:17.894Z"
   },
   {
    "duration": 37,
    "start_time": "2024-02-21T13:34:50.472Z"
   },
   {
    "duration": 11,
    "start_time": "2024-02-21T13:34:57.864Z"
   },
   {
    "duration": 20,
    "start_time": "2024-02-21T13:34:59.345Z"
   },
   {
    "duration": 5,
    "start_time": "2024-02-21T13:35:50.764Z"
   },
   {
    "duration": 16,
    "start_time": "2024-02-21T13:36:03.392Z"
   },
   {
    "duration": 9,
    "start_time": "2024-02-21T13:38:55.578Z"
   },
   {
    "duration": 4,
    "start_time": "2024-02-21T13:44:25.607Z"
   },
   {
    "duration": 9,
    "start_time": "2024-02-21T13:44:26.550Z"
   },
   {
    "duration": 12,
    "start_time": "2024-02-21T13:55:52.720Z"
   },
   {
    "duration": 1446,
    "start_time": "2024-02-21T13:57:29.060Z"
   },
   {
    "duration": 10,
    "start_time": "2024-02-21T13:57:30.688Z"
   },
   {
    "duration": 12,
    "start_time": "2024-02-21T13:57:50.960Z"
   },
   {
    "duration": 4,
    "start_time": "2024-02-21T13:59:27.564Z"
   },
   {
    "duration": 4,
    "start_time": "2024-02-21T13:59:28.823Z"
   },
   {
    "duration": 4,
    "start_time": "2024-02-21T13:59:30.407Z"
   },
   {
    "duration": 7,
    "start_time": "2024-02-21T13:59:32.007Z"
   },
   {
    "duration": 11,
    "start_time": "2024-02-21T14:03:02.219Z"
   },
   {
    "duration": 3,
    "start_time": "2024-02-21T14:03:05.212Z"
   },
   {
    "duration": 4,
    "start_time": "2024-02-21T14:03:06.195Z"
   },
   {
    "duration": 7,
    "start_time": "2024-02-21T14:03:07.497Z"
   },
   {
    "duration": 77,
    "start_time": "2024-02-22T12:21:37.572Z"
   },
   {
    "duration": 1669,
    "start_time": "2024-02-22T12:22:05.583Z"
   },
   {
    "duration": 4,
    "start_time": "2024-02-22T12:22:07.254Z"
   },
   {
    "duration": 4,
    "start_time": "2024-02-22T12:22:09.898Z"
   },
   {
    "duration": 512,
    "start_time": "2024-02-22T12:22:10.628Z"
   },
   {
    "duration": 3,
    "start_time": "2024-02-22T12:22:11.460Z"
   },
   {
    "duration": 58,
    "start_time": "2024-02-22T12:22:11.909Z"
   },
   {
    "duration": 4,
    "start_time": "2024-02-22T12:22:12.378Z"
   },
   {
    "duration": 19,
    "start_time": "2024-02-22T12:22:12.596Z"
   },
   {
    "duration": 7,
    "start_time": "2024-02-22T12:22:12.811Z"
   },
   {
    "duration": 138,
    "start_time": "2024-02-22T12:22:13.279Z"
   },
   {
    "duration": 9,
    "start_time": "2024-02-22T12:22:13.720Z"
   },
   {
    "duration": 14,
    "start_time": "2024-02-22T12:22:13.957Z"
   },
   {
    "duration": 12,
    "start_time": "2024-02-22T12:22:14.177Z"
   },
   {
    "duration": 4,
    "start_time": "2024-02-22T12:22:14.634Z"
   },
   {
    "duration": 10,
    "start_time": "2024-02-22T12:22:15.089Z"
   },
   {
    "duration": 69,
    "start_time": "2024-02-22T12:22:15.687Z"
   },
   {
    "duration": 4,
    "start_time": "2024-02-22T12:22:16.155Z"
   },
   {
    "duration": 3,
    "start_time": "2024-02-22T12:22:16.613Z"
   },
   {
    "duration": 4,
    "start_time": "2024-02-22T12:22:17.108Z"
   },
   {
    "duration": 7,
    "start_time": "2024-02-22T12:22:17.373Z"
   },
   {
    "duration": 76,
    "start_time": "2024-02-22T12:22:17.837Z"
   },
   {
    "duration": 27,
    "start_time": "2024-02-22T12:22:18.583Z"
   },
   {
    "duration": 3,
    "start_time": "2024-02-22T12:22:19.084Z"
   },
   {
    "duration": 7,
    "start_time": "2024-02-22T12:22:19.358Z"
   },
   {
    "duration": 39,
    "start_time": "2024-02-22T12:22:19.868Z"
   },
   {
    "duration": 8,
    "start_time": "2024-02-22T12:22:20.363Z"
   },
   {
    "duration": 6,
    "start_time": "2024-02-22T12:22:20.892Z"
   },
   {
    "duration": 11,
    "start_time": "2024-02-22T12:22:21.148Z"
   },
   {
    "duration": 9,
    "start_time": "2024-02-22T12:22:22.001Z"
   },
   {
    "duration": 10,
    "start_time": "2024-02-22T12:22:22.103Z"
   },
   {
    "duration": 12,
    "start_time": "2024-02-22T12:22:22.592Z"
   },
   {
    "duration": 11,
    "start_time": "2024-02-22T12:22:23.078Z"
   },
   {
    "duration": 9,
    "start_time": "2024-02-22T12:22:23.322Z"
   },
   {
    "duration": 50,
    "start_time": "2024-02-22T12:22:23.789Z"
   },
   {
    "duration": 5,
    "start_time": "2024-02-22T12:22:24.350Z"
   },
   {
    "duration": 4,
    "start_time": "2024-02-22T12:22:24.621Z"
   },
   {
    "duration": 7,
    "start_time": "2024-02-22T12:22:24.883Z"
   },
   {
    "duration": 48,
    "start_time": "2024-02-22T12:22:25.472Z"
   },
   {
    "duration": 80,
    "start_time": "2024-02-22T12:22:28.897Z"
   },
   {
    "duration": 3,
    "start_time": "2024-02-22T12:44:52.259Z"
   },
   {
    "duration": 20,
    "start_time": "2024-02-22T12:46:28.367Z"
   },
   {
    "duration": 3,
    "start_time": "2024-02-22T12:46:30.547Z"
   },
   {
    "duration": 22,
    "start_time": "2024-02-22T12:46:31.432Z"
   },
   {
    "duration": 3,
    "start_time": "2024-02-22T12:47:35.272Z"
   },
   {
    "duration": 3,
    "start_time": "2024-02-22T12:47:41.359Z"
   },
   {
    "duration": 2,
    "start_time": "2024-02-22T12:49:22.124Z"
   },
   {
    "duration": 2,
    "start_time": "2024-02-22T12:49:22.526Z"
   },
   {
    "duration": 128,
    "start_time": "2024-02-22T12:49:23.339Z"
   },
   {
    "duration": 4,
    "start_time": "2024-02-22T12:49:59.447Z"
   },
   {
    "duration": 7,
    "start_time": "2024-02-22T12:49:59.960Z"
   },
   {
    "duration": 3,
    "start_time": "2024-02-22T12:50:09.965Z"
   },
   {
    "duration": 3,
    "start_time": "2024-02-22T12:50:10.566Z"
   },
   {
    "duration": 24,
    "start_time": "2024-02-22T12:50:11.562Z"
   },
   {
    "duration": 36,
    "start_time": "2024-02-22T12:50:28.266Z"
   },
   {
    "duration": 44,
    "start_time": "2024-02-22T12:53:29.551Z"
   },
   {
    "duration": 8,
    "start_time": "2024-02-22T12:55:04.770Z"
   },
   {
    "duration": 12,
    "start_time": "2024-02-22T12:55:18.820Z"
   },
   {
    "duration": 9,
    "start_time": "2024-02-22T12:56:24.791Z"
   },
   {
    "duration": 11,
    "start_time": "2024-02-22T12:56:36.200Z"
   },
   {
    "duration": 370,
    "start_time": "2024-02-22T13:07:20.039Z"
   },
   {
    "duration": 6,
    "start_time": "2024-02-22T13:07:30.412Z"
   },
   {
    "duration": 10,
    "start_time": "2024-02-22T13:07:31.692Z"
   },
   {
    "duration": 10,
    "start_time": "2024-02-22T13:07:33.575Z"
   },
   {
    "duration": 10,
    "start_time": "2024-02-22T13:07:34.610Z"
   },
   {
    "duration": 11,
    "start_time": "2024-02-22T13:07:36.188Z"
   },
   {
    "duration": 12,
    "start_time": "2024-02-22T13:07:37.781Z"
   },
   {
    "duration": 8,
    "start_time": "2024-02-22T13:07:39.955Z"
   },
   {
    "duration": 3,
    "start_time": "2024-02-22T13:07:48.930Z"
   },
   {
    "duration": 2,
    "start_time": "2024-02-22T13:07:49.264Z"
   },
   {
    "duration": 27,
    "start_time": "2024-02-22T13:07:49.840Z"
   },
   {
    "duration": 10,
    "start_time": "2024-02-22T13:07:52.141Z"
   },
   {
    "duration": 1537,
    "start_time": "2024-02-22T13:10:51.286Z"
   },
   {
    "duration": 1622,
    "start_time": "2024-02-22T13:20:42.975Z"
   },
   {
    "duration": 4,
    "start_time": "2024-02-22T13:25:02.820Z"
   },
   {
    "duration": 8023,
    "start_time": "2024-02-22T13:29:31.497Z"
   },
   {
    "duration": 3,
    "start_time": "2024-02-22T13:37:25.999Z"
   },
   {
    "duration": 11,
    "start_time": "2024-02-22T13:38:40.050Z"
   },
   {
    "duration": 475,
    "start_time": "2024-02-22T13:38:49.360Z"
   },
   {
    "duration": 4,
    "start_time": "2024-02-22T13:40:58.786Z"
   },
   {
    "duration": 9,
    "start_time": "2024-02-22T13:40:59.461Z"
   },
   {
    "duration": 461,
    "start_time": "2024-02-22T13:41:09.340Z"
   },
   {
    "duration": 586,
    "start_time": "2024-02-22T13:41:23.734Z"
   },
   {
    "duration": 504,
    "start_time": "2024-02-22T13:42:42.701Z"
   },
   {
    "duration": 440,
    "start_time": "2024-02-22T13:42:43.560Z"
   },
   {
    "duration": 574,
    "start_time": "2024-02-22T13:52:06.844Z"
   },
   {
    "duration": 498,
    "start_time": "2024-02-22T13:52:07.420Z"
   },
   {
    "duration": 2393,
    "start_time": "2024-02-22T13:52:07.921Z"
   },
   {
    "duration": 456,
    "start_time": "2024-02-22T13:52:10.317Z"
   },
   {
    "duration": 574,
    "start_time": "2024-02-22T13:52:10.775Z"
   },
   {
    "duration": 454,
    "start_time": "2024-02-22T13:52:11.351Z"
   },
   {
    "duration": 448,
    "start_time": "2024-02-22T13:52:11.807Z"
   },
   {
    "duration": 598,
    "start_time": "2024-02-22T13:52:15.700Z"
   },
   {
    "duration": 458,
    "start_time": "2024-02-22T13:52:17.041Z"
   },
   {
    "duration": 51,
    "start_time": "2024-02-24T09:35:13.138Z"
   },
   {
    "duration": 1859,
    "start_time": "2024-02-24T09:38:48.491Z"
   },
   {
    "duration": 3,
    "start_time": "2024-02-24T09:38:50.352Z"
   },
   {
    "duration": 4,
    "start_time": "2024-02-24T09:39:00.657Z"
   },
   {
    "duration": 556,
    "start_time": "2024-02-24T09:39:01.239Z"
   },
   {
    "duration": 4,
    "start_time": "2024-02-24T09:39:01.916Z"
   },
   {
    "duration": 68,
    "start_time": "2024-02-24T09:39:02.351Z"
   },
   {
    "duration": 4,
    "start_time": "2024-02-24T09:39:02.773Z"
   },
   {
    "duration": 21,
    "start_time": "2024-02-24T09:39:03.007Z"
   },
   {
    "duration": 9,
    "start_time": "2024-02-24T09:39:03.238Z"
   },
   {
    "duration": 224,
    "start_time": "2024-02-24T09:39:03.659Z"
   },
   {
    "duration": 11,
    "start_time": "2024-02-24T09:39:04.086Z"
   },
   {
    "duration": 17,
    "start_time": "2024-02-24T09:39:04.295Z"
   },
   {
    "duration": 15,
    "start_time": "2024-02-24T09:39:04.506Z"
   },
   {
    "duration": 4,
    "start_time": "2024-02-24T09:39:04.973Z"
   },
   {
    "duration": 9,
    "start_time": "2024-02-24T09:39:05.178Z"
   },
   {
    "duration": 74,
    "start_time": "2024-02-24T09:39:05.608Z"
   },
   {
    "duration": 4,
    "start_time": "2024-02-24T09:39:06.034Z"
   },
   {
    "duration": 4,
    "start_time": "2024-02-24T09:39:06.704Z"
   },
   {
    "duration": 5,
    "start_time": "2024-02-24T09:39:07.153Z"
   },
   {
    "duration": 8,
    "start_time": "2024-02-24T09:39:07.377Z"
   },
   {
    "duration": 75,
    "start_time": "2024-02-24T09:39:07.840Z"
   },
   {
    "duration": 32,
    "start_time": "2024-02-24T09:39:08.487Z"
   },
   {
    "duration": 4,
    "start_time": "2024-02-24T09:39:08.925Z"
   },
   {
    "duration": 8,
    "start_time": "2024-02-24T09:39:09.135Z"
   },
   {
    "duration": 48,
    "start_time": "2024-02-24T09:39:09.537Z"
   },
   {
    "duration": 9,
    "start_time": "2024-02-24T09:39:09.996Z"
   },
   {
    "duration": 8,
    "start_time": "2024-02-24T09:39:10.435Z"
   },
   {
    "duration": 13,
    "start_time": "2024-02-24T09:39:10.642Z"
   },
   {
    "duration": 11,
    "start_time": "2024-02-24T09:39:11.278Z"
   },
   {
    "duration": 11,
    "start_time": "2024-02-24T09:39:11.485Z"
   },
   {
    "duration": 12,
    "start_time": "2024-02-24T09:39:11.936Z"
   },
   {
    "duration": 15,
    "start_time": "2024-02-24T09:39:12.349Z"
   },
   {
    "duration": 9,
    "start_time": "2024-02-24T09:39:12.570Z"
   },
   {
    "duration": 55,
    "start_time": "2024-02-24T09:39:13.216Z"
   },
   {
    "duration": 4,
    "start_time": "2024-02-24T09:39:20.599Z"
   },
   {
    "duration": 4,
    "start_time": "2024-02-24T09:39:20.832Z"
   },
   {
    "duration": 9,
    "start_time": "2024-02-24T09:39:21.135Z"
   },
   {
    "duration": 56,
    "start_time": "2024-02-24T09:39:21.698Z"
   },
   {
    "duration": 3,
    "start_time": "2024-02-24T09:39:23.545Z"
   },
   {
    "duration": 3,
    "start_time": "2024-02-24T09:39:23.782Z"
   },
   {
    "duration": 30,
    "start_time": "2024-02-24T09:39:24.009Z"
   },
   {
    "duration": 11,
    "start_time": "2024-02-24T09:39:24.232Z"
   },
   {
    "duration": 1671,
    "start_time": "2024-02-24T09:39:24.915Z"
   },
   {
    "duration": 4,
    "start_time": "2024-02-24T09:39:26.587Z"
   },
   {
    "duration": 607,
    "start_time": "2024-02-24T09:39:26.593Z"
   },
   {
    "duration": 521,
    "start_time": "2024-02-24T09:39:27.203Z"
   },
   {
    "duration": 504,
    "start_time": "2024-02-24T09:39:27.725Z"
   },
   {
    "duration": 654,
    "start_time": "2024-02-24T09:39:28.230Z"
   },
   {
    "duration": 2644,
    "start_time": "2024-02-24T09:39:28.886Z"
   },
   {
    "duration": 541,
    "start_time": "2024-02-24T09:39:31.532Z"
   },
   {
    "duration": 648,
    "start_time": "2024-02-24T09:39:32.075Z"
   },
   {
    "duration": 531,
    "start_time": "2024-02-24T09:39:32.724Z"
   },
   {
    "duration": 506,
    "start_time": "2024-02-24T09:39:33.257Z"
   },
   {
    "duration": 531,
    "start_time": "2024-02-24T09:39:33.765Z"
   },
   {
    "duration": 668,
    "start_time": "2024-02-24T09:41:00.221Z"
   },
   {
    "duration": 4,
    "start_time": "2024-02-24T09:41:01.483Z"
   },
   {
    "duration": 85,
    "start_time": "2024-02-24T09:41:02.703Z"
   },
   {
    "duration": 13,
    "start_time": "2024-02-24T09:42:00.139Z"
   },
   {
    "duration": 13,
    "start_time": "2024-02-24T09:42:59.365Z"
   },
   {
    "duration": 108,
    "start_time": "2024-02-24T09:44:08.439Z"
   },
   {
    "duration": 14,
    "start_time": "2024-02-24T09:44:18.922Z"
   },
   {
    "duration": 13,
    "start_time": "2024-02-24T09:44:42.164Z"
   },
   {
    "duration": 14,
    "start_time": "2024-02-24T09:50:37.746Z"
   },
   {
    "duration": 125,
    "start_time": "2024-02-24T09:50:43.130Z"
   },
   {
    "duration": 6,
    "start_time": "2024-02-24T09:50:53.074Z"
   },
   {
    "duration": 5,
    "start_time": "2024-02-24T10:02:35.395Z"
   },
   {
    "duration": 4,
    "start_time": "2024-02-24T10:02:36.601Z"
   },
   {
    "duration": 7,
    "start_time": "2024-02-24T10:04:01.989Z"
   },
   {
    "duration": 4,
    "start_time": "2024-02-24T10:04:02.656Z"
   },
   {
    "duration": 1745,
    "start_time": "2024-02-26T14:38:43.257Z"
   },
   {
    "duration": 3,
    "start_time": "2024-02-26T14:38:45.681Z"
   },
   {
    "duration": 4,
    "start_time": "2024-02-26T14:38:46.217Z"
   },
   {
    "duration": 544,
    "start_time": "2024-02-26T14:38:47.743Z"
   },
   {
    "duration": 3,
    "start_time": "2024-02-26T14:38:48.434Z"
   },
   {
    "duration": 62,
    "start_time": "2024-02-26T14:38:48.863Z"
   },
   {
    "duration": 4,
    "start_time": "2024-02-26T14:38:49.296Z"
   },
   {
    "duration": 20,
    "start_time": "2024-02-26T14:38:49.505Z"
   },
   {
    "duration": 9,
    "start_time": "2024-02-26T14:38:49.706Z"
   },
   {
    "duration": 175,
    "start_time": "2024-02-26T14:38:50.146Z"
   },
   {
    "duration": 11,
    "start_time": "2024-02-26T14:38:50.595Z"
   },
   {
    "duration": 17,
    "start_time": "2024-02-26T14:38:50.824Z"
   },
   {
    "duration": 14,
    "start_time": "2024-02-26T14:38:51.066Z"
   },
   {
    "duration": 4,
    "start_time": "2024-02-26T14:38:51.545Z"
   },
   {
    "duration": 13,
    "start_time": "2024-02-26T14:38:51.779Z"
   },
   {
    "duration": 73,
    "start_time": "2024-02-26T14:38:52.292Z"
   },
   {
    "duration": 4,
    "start_time": "2024-02-26T14:38:52.803Z"
   },
   {
    "duration": 3,
    "start_time": "2024-02-26T14:38:53.327Z"
   },
   {
    "duration": 4,
    "start_time": "2024-02-26T14:38:54.697Z"
   },
   {
    "duration": 8,
    "start_time": "2024-02-26T14:38:56.473Z"
   },
   {
    "duration": 75,
    "start_time": "2024-02-26T14:38:57.487Z"
   },
   {
    "duration": 40,
    "start_time": "2024-02-26T14:38:58.860Z"
   },
   {
    "duration": 4,
    "start_time": "2024-02-26T14:39:00.204Z"
   },
   {
    "duration": 9,
    "start_time": "2024-02-26T14:39:00.524Z"
   },
   {
    "duration": 47,
    "start_time": "2024-02-26T14:39:01.483Z"
   },
   {
    "duration": 8,
    "start_time": "2024-02-26T14:39:02.518Z"
   },
   {
    "duration": 6,
    "start_time": "2024-02-26T14:39:03.387Z"
   },
   {
    "duration": 11,
    "start_time": "2024-02-26T14:39:03.825Z"
   },
   {
    "duration": 10,
    "start_time": "2024-02-26T14:39:05.532Z"
   },
   {
    "duration": 12,
    "start_time": "2024-02-26T14:39:06.284Z"
   },
   {
    "duration": 12,
    "start_time": "2024-02-26T14:39:07.184Z"
   },
   {
    "duration": 15,
    "start_time": "2024-02-26T14:39:08.265Z"
   },
   {
    "duration": 11,
    "start_time": "2024-02-26T14:39:08.838Z"
   },
   {
    "duration": 56,
    "start_time": "2024-02-26T14:39:09.998Z"
   },
   {
    "duration": 5,
    "start_time": "2024-02-26T14:39:12.132Z"
   },
   {
    "duration": 4,
    "start_time": "2024-02-26T14:39:12.601Z"
   },
   {
    "duration": 8,
    "start_time": "2024-02-26T14:39:13.042Z"
   },
   {
    "duration": 54,
    "start_time": "2024-02-26T14:39:14.909Z"
   },
   {
    "duration": 2,
    "start_time": "2024-02-26T14:39:17.826Z"
   },
   {
    "duration": 3,
    "start_time": "2024-02-26T14:39:18.446Z"
   },
   {
    "duration": 29,
    "start_time": "2024-02-26T14:39:18.962Z"
   },
   {
    "duration": 11,
    "start_time": "2024-02-26T14:39:19.597Z"
   },
   {
    "duration": 1720,
    "start_time": "2024-02-26T14:39:22.167Z"
   },
   {
    "duration": 4,
    "start_time": "2024-02-26T14:39:31.890Z"
   },
   {
    "duration": 6,
    "start_time": "2024-02-26T14:39:34.170Z"
   },
   {
    "duration": 71,
    "start_time": "2024-02-26T14:39:35.327Z"
   },
   {
    "duration": 191,
    "start_time": "2024-02-26T15:02:56.308Z"
   },
   {
    "duration": 16,
    "start_time": "2024-02-26T15:03:27.081Z"
   },
   {
    "duration": 4,
    "start_time": "2024-02-26T15:04:53.918Z"
   },
   {
    "duration": 22,
    "start_time": "2024-02-26T15:05:03.488Z"
   },
   {
    "duration": 12,
    "start_time": "2024-02-26T15:05:33.414Z"
   },
   {
    "duration": 4,
    "start_time": "2024-02-26T15:06:15.181Z"
   },
   {
    "duration": 64,
    "start_time": "2024-02-26T15:06:18.136Z"
   },
   {
    "duration": 21,
    "start_time": "2024-02-26T15:08:42.427Z"
   },
   {
    "duration": 20,
    "start_time": "2024-02-26T15:08:49.118Z"
   },
   {
    "duration": 29,
    "start_time": "2024-02-26T16:58:47.491Z"
   },
   {
    "duration": 122300,
    "start_time": "2024-02-26T17:04:48.749Z"
   },
   {
    "duration": 15,
    "start_time": "2024-02-26T17:49:45.486Z"
   },
   {
    "duration": 4,
    "start_time": "2024-02-26T17:51:02.463Z"
   },
   {
    "duration": 38508,
    "start_time": "2024-02-26T17:51:05.524Z"
   },
   {
    "duration": 42847,
    "start_time": "2024-02-26T17:52:48.402Z"
   },
   {
    "duration": 64500,
    "start_time": "2024-02-26T17:54:26.296Z"
   },
   {
    "duration": 55498,
    "start_time": "2024-02-26T20:00:31.361Z"
   },
   {
    "duration": 113639,
    "start_time": "2024-02-26T20:06:05.215Z"
   },
   {
    "duration": 66,
    "start_time": "2024-02-26T20:10:53.658Z"
   },
   {
    "duration": 4,
    "start_time": "2024-02-26T20:12:54.959Z"
   },
   {
    "duration": 19,
    "start_time": "2024-02-26T20:13:03.790Z"
   },
   {
    "duration": 8,
    "start_time": "2024-02-26T20:13:12.170Z"
   },
   {
    "duration": 19,
    "start_time": "2024-02-26T20:14:15.088Z"
   },
   {
    "duration": 12,
    "start_time": "2024-02-26T20:18:53.871Z"
   },
   {
    "duration": 43,
    "start_time": "2024-02-26T20:19:00.923Z"
   },
   {
    "duration": 22,
    "start_time": "2024-02-26T20:20:58.590Z"
   },
   {
    "duration": 112455,
    "start_time": "2024-02-26T21:46:58.726Z"
   },
   {
    "duration": 12,
    "start_time": "2024-02-26T21:57:41.672Z"
   },
   {
    "duration": 102,
    "start_time": "2024-02-26T21:58:05.719Z"
   },
   {
    "duration": 12,
    "start_time": "2024-02-26T22:01:57.649Z"
   },
   {
    "duration": 8,
    "start_time": "2024-02-26T22:02:13.779Z"
   },
   {
    "duration": 41,
    "start_time": "2024-02-26T22:04:15.185Z"
   },
   {
    "duration": 891,
    "start_time": "2024-02-26T22:04:23.030Z"
   },
   {
    "duration": 956,
    "start_time": "2024-02-26T22:04:45.870Z"
   },
   {
    "duration": 1068,
    "start_time": "2024-02-26T22:05:03.265Z"
   },
   {
    "duration": 852,
    "start_time": "2024-02-26T22:05:11.775Z"
   },
   {
    "duration": 1051,
    "start_time": "2024-02-26T22:05:16.976Z"
   },
   {
    "duration": 965,
    "start_time": "2024-02-26T22:06:03.364Z"
   },
   {
    "duration": 824,
    "start_time": "2024-02-26T22:06:23.997Z"
   },
   {
    "duration": 855,
    "start_time": "2024-02-26T22:06:41.672Z"
   },
   {
    "duration": 994,
    "start_time": "2024-02-26T22:08:24.528Z"
   },
   {
    "duration": 1029,
    "start_time": "2024-02-26T22:10:15.692Z"
   },
   {
    "duration": 864,
    "start_time": "2024-02-26T22:21:13.663Z"
   },
   {
    "duration": 912,
    "start_time": "2024-02-26T22:21:50.412Z"
   },
   {
    "duration": 890,
    "start_time": "2024-02-26T22:22:37.834Z"
   },
   {
    "duration": 45,
    "start_time": "2024-02-26T22:22:54.474Z"
   },
   {
    "duration": 907,
    "start_time": "2024-02-26T22:23:39.620Z"
   },
   {
    "duration": 110,
    "start_time": "2024-02-26T22:26:51.924Z"
   },
   {
    "duration": 187,
    "start_time": "2024-02-26T22:26:56.150Z"
   },
   {
    "duration": 1140,
    "start_time": "2024-02-26T22:30:33.991Z"
   },
   {
    "duration": 1698,
    "start_time": "2024-02-27T11:35:53.725Z"
   },
   {
    "duration": 2,
    "start_time": "2024-02-27T11:35:55.426Z"
   },
   {
    "duration": 4,
    "start_time": "2024-02-27T11:35:55.430Z"
   },
   {
    "duration": 532,
    "start_time": "2024-02-27T11:35:56.334Z"
   },
   {
    "duration": 3,
    "start_time": "2024-02-27T11:35:57.217Z"
   },
   {
    "duration": 62,
    "start_time": "2024-02-27T11:35:57.712Z"
   },
   {
    "duration": 5,
    "start_time": "2024-02-27T11:35:58.144Z"
   },
   {
    "duration": 19,
    "start_time": "2024-02-27T11:35:58.376Z"
   },
   {
    "duration": 6,
    "start_time": "2024-02-27T11:35:58.573Z"
   },
   {
    "duration": 96,
    "start_time": "2024-02-27T11:35:59.028Z"
   },
   {
    "duration": 11,
    "start_time": "2024-02-27T11:35:59.981Z"
   },
   {
    "duration": 16,
    "start_time": "2024-02-27T11:36:00.397Z"
   },
   {
    "duration": 14,
    "start_time": "2024-02-27T11:36:00.601Z"
   },
   {
    "duration": 6,
    "start_time": "2024-02-27T11:36:01.011Z"
   },
   {
    "duration": 11,
    "start_time": "2024-02-27T11:36:01.221Z"
   },
   {
    "duration": 75,
    "start_time": "2024-02-27T11:36:01.646Z"
   },
   {
    "duration": 4,
    "start_time": "2024-02-27T11:36:02.066Z"
   },
   {
    "duration": 3,
    "start_time": "2024-02-27T11:36:02.499Z"
   },
   {
    "duration": 5,
    "start_time": "2024-02-27T11:36:02.951Z"
   },
   {
    "duration": 7,
    "start_time": "2024-02-27T11:36:03.206Z"
   },
   {
    "duration": 81,
    "start_time": "2024-02-27T11:36:03.637Z"
   },
   {
    "duration": 31,
    "start_time": "2024-02-27T11:36:10.881Z"
   },
   {
    "duration": 3,
    "start_time": "2024-02-27T11:36:11.553Z"
   },
   {
    "duration": 7,
    "start_time": "2024-02-27T11:36:11.795Z"
   },
   {
    "duration": 44,
    "start_time": "2024-02-27T11:36:12.286Z"
   },
   {
    "duration": 9,
    "start_time": "2024-02-27T11:36:35.196Z"
   },
   {
    "duration": 5,
    "start_time": "2024-02-27T11:36:35.907Z"
   },
   {
    "duration": 12,
    "start_time": "2024-02-27T11:36:36.373Z"
   },
   {
    "duration": 11,
    "start_time": "2024-02-27T11:36:37.498Z"
   },
   {
    "duration": 11,
    "start_time": "2024-02-27T11:36:37.873Z"
   },
   {
    "duration": 11,
    "start_time": "2024-02-27T11:36:54.429Z"
   },
   {
    "duration": 14,
    "start_time": "2024-02-27T11:36:55.230Z"
   },
   {
    "duration": 11,
    "start_time": "2024-02-27T11:36:55.762Z"
   },
   {
    "duration": 55,
    "start_time": "2024-02-27T11:36:56.462Z"
   },
   {
    "duration": 4,
    "start_time": "2024-02-27T11:36:57.367Z"
   },
   {
    "duration": 4,
    "start_time": "2024-02-27T11:36:57.629Z"
   },
   {
    "duration": 8,
    "start_time": "2024-02-27T11:36:57.896Z"
   },
   {
    "duration": 55,
    "start_time": "2024-02-27T11:36:59.152Z"
   },
   {
    "duration": 3,
    "start_time": "2024-02-27T11:37:01.317Z"
   },
   {
    "duration": 3,
    "start_time": "2024-02-27T11:37:01.587Z"
   },
   {
    "duration": 34,
    "start_time": "2024-02-27T11:37:01.995Z"
   },
   {
    "duration": 10,
    "start_time": "2024-02-27T11:37:02.342Z"
   },
   {
    "duration": 1622,
    "start_time": "2024-02-27T11:37:03.413Z"
   },
   {
    "duration": 4,
    "start_time": "2024-02-27T11:37:05.037Z"
   },
   {
    "duration": 568,
    "start_time": "2024-02-27T11:37:05.042Z"
   },
   {
    "duration": 525,
    "start_time": "2024-02-27T11:37:05.612Z"
   },
   {
    "duration": 489,
    "start_time": "2024-02-27T11:37:06.139Z"
   },
   {
    "duration": 638,
    "start_time": "2024-02-27T11:37:06.630Z"
   },
   {
    "duration": 2503,
    "start_time": "2024-02-27T11:37:07.269Z"
   },
   {
    "duration": 485,
    "start_time": "2024-02-27T11:37:09.775Z"
   },
   {
    "duration": 612,
    "start_time": "2024-02-27T11:37:10.262Z"
   },
   {
    "duration": 479,
    "start_time": "2024-02-27T11:37:10.876Z"
   },
   {
    "duration": 482,
    "start_time": "2024-02-27T11:37:11.357Z"
   },
   {
    "duration": 519,
    "start_time": "2024-02-27T11:37:11.841Z"
   },
   {
    "duration": 623,
    "start_time": "2024-02-27T11:37:12.363Z"
   },
   {
    "duration": 4,
    "start_time": "2024-02-27T11:37:12.988Z"
   },
   {
    "duration": 6,
    "start_time": "2024-02-27T11:37:13.291Z"
   },
   {
    "duration": 175,
    "start_time": "2024-02-27T11:37:16.055Z"
   },
   {
    "duration": 210,
    "start_time": "2024-02-27T11:37:16.707Z"
   },
   {
    "duration": 1070,
    "start_time": "2024-02-27T11:37:17.544Z"
   },
   {
    "duration": 123636,
    "start_time": "2024-02-27T11:37:18.618Z"
   },
   {
    "duration": 67392,
    "start_time": "2024-02-27T11:39:22.256Z"
   },
   {
    "duration": 1153,
    "start_time": "2024-02-27T11:40:29.650Z"
   },
   {
    "duration": 60638,
    "start_time": "2024-02-27T12:48:37.619Z"
   },
   {
    "duration": 175,
    "start_time": "2024-02-27T13:04:09.240Z"
   },
   {
    "duration": 17,
    "start_time": "2024-02-27T13:04:49.110Z"
   },
   {
    "duration": 219,
    "start_time": "2024-02-27T13:06:11.304Z"
   },
   {
    "duration": 270,
    "start_time": "2024-02-27T13:06:36.250Z"
   },
   {
    "duration": 47,
    "start_time": "2024-02-27T13:08:50.855Z"
   },
   {
    "duration": 91,
    "start_time": "2024-02-27T13:10:20.925Z"
   },
   {
    "duration": 63,
    "start_time": "2024-02-27T13:10:31.753Z"
   },
   {
    "duration": 81,
    "start_time": "2024-02-27T13:11:02.346Z"
   },
   {
    "duration": 12,
    "start_time": "2024-02-27T13:12:45.760Z"
   },
   {
    "duration": 37,
    "start_time": "2024-02-27T13:16:40.645Z"
   },
   {
    "duration": 1791,
    "start_time": "2024-02-28T11:38:03.240Z"
   },
   {
    "duration": 3,
    "start_time": "2024-02-28T11:38:05.033Z"
   },
   {
    "duration": 9,
    "start_time": "2024-02-28T11:38:05.037Z"
   },
   {
    "duration": 535,
    "start_time": "2024-02-28T11:38:05.048Z"
   },
   {
    "duration": 3,
    "start_time": "2024-02-28T11:38:05.585Z"
   },
   {
    "duration": 80,
    "start_time": "2024-02-28T11:38:05.590Z"
   },
   {
    "duration": 4,
    "start_time": "2024-02-28T11:38:05.968Z"
   },
   {
    "duration": 21,
    "start_time": "2024-02-28T11:38:06.238Z"
   },
   {
    "duration": 7,
    "start_time": "2024-02-28T11:38:06.508Z"
   },
   {
    "duration": 73,
    "start_time": "2024-02-28T11:38:07.146Z"
   },
   {
    "duration": 11,
    "start_time": "2024-02-28T11:38:07.797Z"
   },
   {
    "duration": 18,
    "start_time": "2024-02-28T11:38:08.140Z"
   },
   {
    "duration": 15,
    "start_time": "2024-02-28T11:38:08.489Z"
   },
   {
    "duration": 4,
    "start_time": "2024-02-28T11:38:08.929Z"
   },
   {
    "duration": 10,
    "start_time": "2024-02-28T11:38:09.136Z"
   },
   {
    "duration": 89,
    "start_time": "2024-02-28T11:38:09.552Z"
   },
   {
    "duration": 4,
    "start_time": "2024-02-28T11:38:10.012Z"
   },
   {
    "duration": 4,
    "start_time": "2024-02-28T11:38:10.759Z"
   },
   {
    "duration": 4,
    "start_time": "2024-02-28T11:38:11.216Z"
   },
   {
    "duration": 8,
    "start_time": "2024-02-28T11:38:11.442Z"
   },
   {
    "duration": 73,
    "start_time": "2024-02-28T11:38:11.924Z"
   },
   {
    "duration": 32,
    "start_time": "2024-02-28T11:38:12.710Z"
   },
   {
    "duration": 3,
    "start_time": "2024-02-28T11:38:13.085Z"
   },
   {
    "duration": 7,
    "start_time": "2024-02-28T11:38:13.315Z"
   },
   {
    "duration": 45,
    "start_time": "2024-02-28T11:38:13.731Z"
   },
   {
    "duration": 8,
    "start_time": "2024-02-28T11:38:14.145Z"
   },
   {
    "duration": 5,
    "start_time": "2024-02-28T11:38:14.580Z"
   },
   {
    "duration": 12,
    "start_time": "2024-02-28T11:38:14.761Z"
   },
   {
    "duration": 10,
    "start_time": "2024-02-28T11:38:15.395Z"
   },
   {
    "duration": 12,
    "start_time": "2024-02-28T11:38:15.646Z"
   },
   {
    "duration": 12,
    "start_time": "2024-02-28T11:38:16.301Z"
   },
   {
    "duration": 16,
    "start_time": "2024-02-28T11:38:16.736Z"
   },
   {
    "duration": 9,
    "start_time": "2024-02-28T11:38:16.965Z"
   },
   {
    "duration": 55,
    "start_time": "2024-02-28T11:38:17.345Z"
   },
   {
    "duration": 5,
    "start_time": "2024-02-28T11:38:17.811Z"
   },
   {
    "duration": 4,
    "start_time": "2024-02-28T11:38:18.014Z"
   },
   {
    "duration": 8,
    "start_time": "2024-02-28T11:38:18.241Z"
   },
   {
    "duration": 52,
    "start_time": "2024-02-28T11:38:18.676Z"
   },
   {
    "duration": 4,
    "start_time": "2024-02-28T11:38:21.921Z"
   },
   {
    "duration": 3,
    "start_time": "2024-02-28T11:38:22.317Z"
   },
   {
    "duration": 30,
    "start_time": "2024-02-28T11:38:22.621Z"
   },
   {
    "duration": 11,
    "start_time": "2024-02-28T11:38:22.969Z"
   },
   {
    "duration": 1701,
    "start_time": "2024-02-28T11:38:25.433Z"
   },
   {
    "duration": 6,
    "start_time": "2024-02-28T11:38:32.672Z"
   },
   {
    "duration": 4,
    "start_time": "2024-02-28T11:38:40.007Z"
   },
   {
    "duration": 8,
    "start_time": "2024-02-28T11:38:41.027Z"
   },
   {
    "duration": 377,
    "start_time": "2024-02-28T11:38:44.652Z"
   },
   {
    "duration": 108,
    "start_time": "2024-02-28T11:38:46.722Z"
   },
   {
    "duration": 206,
    "start_time": "2024-02-28T11:38:48.428Z"
   },
   {
    "duration": 336,
    "start_time": "2024-02-28T11:39:12.309Z"
   },
   {
    "duration": 127810,
    "start_time": "2024-02-28T11:42:10.898Z"
   },
   {
    "duration": 118,
    "start_time": "2024-02-28T11:46:06.786Z"
   },
   {
    "duration": 5,
    "start_time": "2024-02-28T11:46:32.051Z"
   },
   {
    "duration": 34,
    "start_time": "2024-02-28T11:46:35.576Z"
   },
   {
    "duration": 32,
    "start_time": "2024-02-28T11:46:41.426Z"
   },
   {
    "duration": 4,
    "start_time": "2024-02-28T11:47:32.602Z"
   },
   {
    "duration": 238,
    "start_time": "2024-02-28T11:47:36.205Z"
   },
   {
    "duration": 40,
    "start_time": "2024-02-28T11:47:39.466Z"
   },
   {
    "duration": 27,
    "start_time": "2024-02-28T11:49:54.007Z"
   },
   {
    "duration": 36,
    "start_time": "2024-02-28T11:51:41.054Z"
   },
   {
    "duration": 31,
    "start_time": "2024-02-28T11:55:50.614Z"
   },
   {
    "duration": 5,
    "start_time": "2024-02-28T11:56:16.935Z"
   },
   {
    "duration": 289,
    "start_time": "2024-02-28T11:56:18.056Z"
   },
   {
    "duration": 30,
    "start_time": "2024-02-28T11:56:22.333Z"
   },
   {
    "duration": 1822,
    "start_time": "2024-02-28T11:57:06.214Z"
   },
   {
    "duration": 3,
    "start_time": "2024-02-28T11:57:08.038Z"
   },
   {
    "duration": 9,
    "start_time": "2024-02-28T11:57:08.042Z"
   },
   {
    "duration": 211,
    "start_time": "2024-02-28T11:57:08.053Z"
   },
   {
    "duration": 3,
    "start_time": "2024-02-28T11:57:08.267Z"
   },
   {
    "duration": 71,
    "start_time": "2024-02-28T11:57:08.272Z"
   },
   {
    "duration": 4,
    "start_time": "2024-02-28T11:57:08.345Z"
   },
   {
    "duration": 27,
    "start_time": "2024-02-28T11:57:08.351Z"
   },
   {
    "duration": 8,
    "start_time": "2024-02-28T11:57:08.379Z"
   },
   {
    "duration": 74,
    "start_time": "2024-02-28T11:57:08.389Z"
   },
   {
    "duration": 12,
    "start_time": "2024-02-28T11:57:08.465Z"
   },
   {
    "duration": 18,
    "start_time": "2024-02-28T11:57:08.479Z"
   },
   {
    "duration": 19,
    "start_time": "2024-02-28T11:57:08.499Z"
   },
   {
    "duration": 6,
    "start_time": "2024-02-28T11:57:08.521Z"
   },
   {
    "duration": 16,
    "start_time": "2024-02-28T11:57:08.528Z"
   },
   {
    "duration": 102,
    "start_time": "2024-02-28T11:57:08.545Z"
   },
   {
    "duration": 5,
    "start_time": "2024-02-28T11:57:08.649Z"
   },
   {
    "duration": 5,
    "start_time": "2024-02-28T11:57:08.655Z"
   },
   {
    "duration": 6,
    "start_time": "2024-02-28T11:57:08.662Z"
   },
   {
    "duration": 9,
    "start_time": "2024-02-28T11:57:08.670Z"
   },
   {
    "duration": 104,
    "start_time": "2024-02-28T11:57:08.681Z"
   },
   {
    "duration": 52,
    "start_time": "2024-02-28T11:57:08.786Z"
   },
   {
    "duration": 3,
    "start_time": "2024-02-28T11:57:08.839Z"
   },
   {
    "duration": 11,
    "start_time": "2024-02-28T11:57:08.844Z"
   },
   {
    "duration": 74,
    "start_time": "2024-02-28T11:57:08.856Z"
   },
   {
    "duration": 8,
    "start_time": "2024-02-28T11:57:08.932Z"
   },
   {
    "duration": 17,
    "start_time": "2024-02-28T11:57:08.942Z"
   },
   {
    "duration": 19,
    "start_time": "2024-02-28T11:57:08.961Z"
   },
   {
    "duration": 11,
    "start_time": "2024-02-28T11:57:08.982Z"
   },
   {
    "duration": 30,
    "start_time": "2024-02-28T11:57:08.995Z"
   },
   {
    "duration": 13,
    "start_time": "2024-02-28T11:57:09.027Z"
   },
   {
    "duration": 23,
    "start_time": "2024-02-28T11:57:09.042Z"
   },
   {
    "duration": 12,
    "start_time": "2024-02-28T11:57:09.067Z"
   },
   {
    "duration": 89,
    "start_time": "2024-02-28T11:57:09.081Z"
   },
   {
    "duration": 5,
    "start_time": "2024-02-28T11:57:09.171Z"
   },
   {
    "duration": 10,
    "start_time": "2024-02-28T11:57:09.177Z"
   },
   {
    "duration": 22,
    "start_time": "2024-02-28T11:57:09.188Z"
   },
   {
    "duration": 55,
    "start_time": "2024-02-28T11:57:09.223Z"
   },
   {
    "duration": 3,
    "start_time": "2024-02-28T11:57:09.279Z"
   },
   {
    "duration": 14,
    "start_time": "2024-02-28T11:57:09.284Z"
   },
   {
    "duration": 51,
    "start_time": "2024-02-28T11:57:09.302Z"
   },
   {
    "duration": 10,
    "start_time": "2024-02-28T11:57:09.355Z"
   },
   {
    "duration": 1767,
    "start_time": "2024-02-28T11:57:09.367Z"
   },
   {
    "duration": 4,
    "start_time": "2024-02-28T11:57:11.136Z"
   },
   {
    "duration": 623,
    "start_time": "2024-02-28T11:57:11.142Z"
   },
   {
    "duration": 510,
    "start_time": "2024-02-28T11:57:11.766Z"
   },
   {
    "duration": 523,
    "start_time": "2024-02-28T11:57:12.278Z"
   },
   {
    "duration": 638,
    "start_time": "2024-02-28T11:57:12.802Z"
   },
   {
    "duration": 2750,
    "start_time": "2024-02-28T11:57:13.442Z"
   },
   {
    "duration": 521,
    "start_time": "2024-02-28T11:57:16.195Z"
   },
   {
    "duration": 678,
    "start_time": "2024-02-28T11:57:16.718Z"
   },
   {
    "duration": 529,
    "start_time": "2024-02-28T11:57:17.398Z"
   },
   {
    "duration": 501,
    "start_time": "2024-02-28T11:57:17.929Z"
   },
   {
    "duration": 509,
    "start_time": "2024-02-28T11:57:18.431Z"
   },
   {
    "duration": 674,
    "start_time": "2024-02-28T11:57:18.942Z"
   },
   {
    "duration": 4,
    "start_time": "2024-02-28T11:57:19.623Z"
   },
   {
    "duration": 11,
    "start_time": "2024-02-28T11:57:19.629Z"
   },
   {
    "duration": 10,
    "start_time": "2024-02-28T11:57:19.642Z"
   },
   {
    "duration": 381,
    "start_time": "2024-02-28T11:57:19.653Z"
   },
   {
    "duration": 312,
    "start_time": "2024-02-28T11:57:20.036Z"
   },
   {
    "duration": 0,
    "start_time": "2024-02-28T11:57:20.350Z"
   },
   {
    "duration": 0,
    "start_time": "2024-02-28T11:57:20.351Z"
   },
   {
    "duration": 0,
    "start_time": "2024-02-28T11:57:20.352Z"
   },
   {
    "duration": 311,
    "start_time": "2024-02-28T12:10:28.159Z"
   },
   {
    "duration": 377,
    "start_time": "2024-02-28T12:10:53.131Z"
   },
   {
    "duration": 12,
    "start_time": "2024-02-28T12:10:58.136Z"
   },
   {
    "duration": 17,
    "start_time": "2024-02-28T12:11:00.708Z"
   },
   {
    "duration": 12,
    "start_time": "2024-02-28T12:11:26.508Z"
   },
   {
    "duration": 308,
    "start_time": "2024-02-28T12:11:54.608Z"
   },
   {
    "duration": 18,
    "start_time": "2024-02-28T12:11:57.613Z"
   },
   {
    "duration": 36,
    "start_time": "2024-02-28T12:11:59.038Z"
   },
   {
    "duration": 318,
    "start_time": "2024-02-28T12:13:44.294Z"
   },
   {
    "duration": 344,
    "start_time": "2024-02-28T12:13:49.242Z"
   },
   {
    "duration": 14,
    "start_time": "2024-02-28T12:13:54.671Z"
   },
   {
    "duration": 14,
    "start_time": "2024-02-28T12:13:55.955Z"
   },
   {
    "duration": 12,
    "start_time": "2024-02-28T12:14:03.347Z"
   },
   {
    "duration": 3,
    "start_time": "2024-02-28T12:14:35.238Z"
   },
   {
    "duration": 11,
    "start_time": "2024-02-28T12:14:36.236Z"
   },
   {
    "duration": 9,
    "start_time": "2024-02-28T12:14:58.204Z"
   },
   {
    "duration": 14,
    "start_time": "2024-02-28T12:15:30.872Z"
   },
   {
    "duration": 3,
    "start_time": "2024-02-28T12:15:36.809Z"
   },
   {
    "duration": 3,
    "start_time": "2024-02-28T12:15:37.157Z"
   },
   {
    "duration": 31,
    "start_time": "2024-02-28T12:15:37.660Z"
   },
   {
    "duration": 11,
    "start_time": "2024-02-28T12:15:38.360Z"
   },
   {
    "duration": 3,
    "start_time": "2024-02-28T12:20:05.315Z"
   },
   {
    "duration": 3,
    "start_time": "2024-02-28T12:20:37.661Z"
   },
   {
    "duration": 4,
    "start_time": "2024-02-28T12:20:38.388Z"
   },
   {
    "duration": 4,
    "start_time": "2024-02-28T12:20:39.598Z"
   },
   {
    "duration": 7,
    "start_time": "2024-02-28T12:20:40.476Z"
   },
   {
    "duration": 79,
    "start_time": "2024-02-28T12:20:41.918Z"
   },
   {
    "duration": 3,
    "start_time": "2024-02-28T12:20:52.757Z"
   },
   {
    "duration": 35,
    "start_time": "2024-02-28T12:20:55.431Z"
   },
   {
    "duration": 12,
    "start_time": "2024-02-28T12:20:56.894Z"
   },
   {
    "duration": 10,
    "start_time": "2024-02-28T12:21:53.452Z"
   },
   {
    "duration": 4,
    "start_time": "2024-02-28T12:22:12.731Z"
   },
   {
    "duration": 4,
    "start_time": "2024-02-28T12:22:13.851Z"
   },
   {
    "duration": 4,
    "start_time": "2024-02-28T12:22:19.081Z"
   },
   {
    "duration": 10,
    "start_time": "2024-02-28T12:22:20.081Z"
   },
   {
    "duration": 1668,
    "start_time": "2024-02-28T12:23:00.633Z"
   },
   {
    "duration": 3,
    "start_time": "2024-02-28T12:23:02.302Z"
   },
   {
    "duration": 4,
    "start_time": "2024-02-28T12:23:02.705Z"
   },
   {
    "duration": 202,
    "start_time": "2024-02-28T12:23:03.587Z"
   },
   {
    "duration": 4,
    "start_time": "2024-02-28T12:23:05.660Z"
   },
   {
    "duration": 84,
    "start_time": "2024-02-28T12:23:06.189Z"
   },
   {
    "duration": 5,
    "start_time": "2024-02-28T12:23:07.009Z"
   },
   {
    "duration": 34,
    "start_time": "2024-02-28T12:23:07.016Z"
   },
   {
    "duration": 6,
    "start_time": "2024-02-28T12:23:07.052Z"
   },
   {
    "duration": 90,
    "start_time": "2024-02-28T12:23:07.472Z"
   },
   {
    "duration": 11,
    "start_time": "2024-02-28T12:23:07.996Z"
   },
   {
    "duration": 17,
    "start_time": "2024-02-28T12:23:08.285Z"
   },
   {
    "duration": 15,
    "start_time": "2024-02-28T12:23:08.534Z"
   },
   {
    "duration": 5,
    "start_time": "2024-02-28T12:23:08.972Z"
   },
   {
    "duration": 9,
    "start_time": "2024-02-28T12:23:09.176Z"
   },
   {
    "duration": 80,
    "start_time": "2024-02-28T12:23:10.242Z"
   },
   {
    "duration": 3,
    "start_time": "2024-02-28T12:23:12.044Z"
   },
   {
    "duration": 4,
    "start_time": "2024-02-28T12:23:12.795Z"
   },
   {
    "duration": 5,
    "start_time": "2024-02-28T12:23:13.658Z"
   },
   {
    "duration": 13,
    "start_time": "2024-02-28T12:23:14.206Z"
   },
   {
    "duration": 12,
    "start_time": "2024-02-28T12:23:22.357Z"
   },
   {
    "duration": 85,
    "start_time": "2024-02-28T13:21:16.093Z"
   },
   {
    "duration": 36,
    "start_time": "2024-02-28T13:21:16.909Z"
   },
   {
    "duration": 3,
    "start_time": "2024-02-28T13:21:17.491Z"
   },
   {
    "duration": 8,
    "start_time": "2024-02-28T13:21:17.892Z"
   },
   {
    "duration": 51,
    "start_time": "2024-02-28T13:21:18.310Z"
   },
   {
    "duration": 9,
    "start_time": "2024-02-28T13:21:18.742Z"
   },
   {
    "duration": 7,
    "start_time": "2024-02-28T13:21:19.158Z"
   },
   {
    "duration": 12,
    "start_time": "2024-02-28T13:21:19.377Z"
   },
   {
    "duration": 15,
    "start_time": "2024-02-28T13:21:20.018Z"
   },
   {
    "duration": 16,
    "start_time": "2024-02-28T13:21:20.229Z"
   },
   {
    "duration": 13,
    "start_time": "2024-02-28T13:21:20.637Z"
   },
   {
    "duration": 15,
    "start_time": "2024-02-28T13:21:21.067Z"
   },
   {
    "duration": 9,
    "start_time": "2024-02-28T13:21:21.286Z"
   },
   {
    "duration": 56,
    "start_time": "2024-02-28T13:21:21.742Z"
   },
   {
    "duration": 5,
    "start_time": "2024-02-28T13:21:22.376Z"
   },
   {
    "duration": 5,
    "start_time": "2024-02-28T13:21:22.601Z"
   },
   {
    "duration": 8,
    "start_time": "2024-02-28T13:21:22.814Z"
   },
   {
    "duration": 54,
    "start_time": "2024-02-28T13:21:23.665Z"
   },
   {
    "duration": 3,
    "start_time": "2024-02-28T13:21:26.954Z"
   },
   {
    "duration": 4,
    "start_time": "2024-02-28T13:21:27.571Z"
   },
   {
    "duration": 49,
    "start_time": "2024-02-28T13:21:27.827Z"
   },
   {
    "duration": 11,
    "start_time": "2024-02-28T13:21:28.065Z"
   },
   {
    "duration": 1692,
    "start_time": "2024-02-28T13:21:29.350Z"
   },
   {
    "duration": 4,
    "start_time": "2024-02-28T13:21:37.900Z"
   },
   {
    "duration": 7,
    "start_time": "2024-02-28T13:21:38.283Z"
   },
   {
    "duration": 5,
    "start_time": "2024-02-28T13:21:43.969Z"
   },
   {
    "duration": 378,
    "start_time": "2024-02-28T13:21:46.967Z"
   },
   {
    "duration": 151,
    "start_time": "2024-02-28T13:22:07.672Z"
   },
   {
    "duration": 11,
    "start_time": "2024-02-28T13:23:38.170Z"
   },
   {
    "duration": 4,
    "start_time": "2024-02-28T13:24:19.436Z"
   },
   {
    "duration": 299,
    "start_time": "2024-02-28T13:24:21.139Z"
   },
   {
    "duration": 11,
    "start_time": "2024-02-28T13:24:23.465Z"
   },
   {
    "duration": 41,
    "start_time": "2024-02-28T13:24:25.220Z"
   },
   {
    "duration": 50,
    "start_time": "2024-02-28T13:25:38.743Z"
   },
   {
    "duration": 31,
    "start_time": "2024-02-28T13:25:54.950Z"
   },
   {
    "duration": 9,
    "start_time": "2024-02-28T13:28:19.712Z"
   },
   {
    "duration": 4,
    "start_time": "2024-02-28T13:28:48.206Z"
   },
   {
    "duration": 129772,
    "start_time": "2024-02-28T13:29:19.343Z"
   },
   {
    "duration": 35907,
    "start_time": "2024-02-28T13:32:39.325Z"
   },
   {
    "duration": 131105,
    "start_time": "2024-02-28T13:33:17.203Z"
   },
   {
    "duration": 67272,
    "start_time": "2024-02-28T13:35:28.311Z"
   },
   {
    "duration": 364254,
    "start_time": "2024-02-28T13:44:50.201Z"
   },
   {
    "duration": 67869,
    "start_time": "2024-02-28T13:50:54.458Z"
   },
   {
    "duration": 58710,
    "start_time": "2024-02-28T13:53:41.718Z"
   },
   {
    "duration": 37034,
    "start_time": "2024-02-28T13:56:56.824Z"
   },
   {
    "duration": 29571,
    "start_time": "2024-02-28T13:59:19.079Z"
   },
   {
    "duration": 88,
    "start_time": "2024-02-28T14:04:46.638Z"
   },
   {
    "duration": 85,
    "start_time": "2024-02-28T14:05:02.840Z"
   },
   {
    "duration": 9408,
    "start_time": "2024-02-28T14:05:20.259Z"
   },
   {
    "duration": 17598,
    "start_time": "2024-02-28T14:05:59.448Z"
   },
   {
    "duration": 11022,
    "start_time": "2024-02-28T14:07:29.670Z"
   },
   {
    "duration": 1896,
    "start_time": "2024-02-28T14:09:30.746Z"
   },
   {
    "duration": 1568,
    "start_time": "2024-02-28T14:10:23.538Z"
   },
   {
    "duration": 259,
    "start_time": "2024-02-28T14:13:59.296Z"
   },
   {
    "duration": 1622,
    "start_time": "2024-02-28T20:23:24.835Z"
   },
   {
    "duration": 3,
    "start_time": "2024-02-28T20:23:26.459Z"
   },
   {
    "duration": 5,
    "start_time": "2024-02-28T20:23:26.463Z"
   },
   {
    "duration": 546,
    "start_time": "2024-02-28T20:23:26.469Z"
   },
   {
    "duration": 4,
    "start_time": "2024-02-28T20:23:27.016Z"
   },
   {
    "duration": 61,
    "start_time": "2024-02-28T20:23:27.067Z"
   },
   {
    "duration": 4,
    "start_time": "2024-02-28T20:23:27.519Z"
   },
   {
    "duration": 19,
    "start_time": "2024-02-28T20:23:27.725Z"
   },
   {
    "duration": 6,
    "start_time": "2024-02-28T20:23:27.963Z"
   },
   {
    "duration": 102,
    "start_time": "2024-02-28T20:23:28.334Z"
   },
   {
    "duration": 12,
    "start_time": "2024-02-28T20:23:28.730Z"
   },
   {
    "duration": 15,
    "start_time": "2024-02-28T20:23:28.920Z"
   },
   {
    "duration": 14,
    "start_time": "2024-02-28T20:23:29.118Z"
   },
   {
    "duration": 4,
    "start_time": "2024-02-28T20:23:29.554Z"
   },
   {
    "duration": 8,
    "start_time": "2024-02-28T20:23:29.758Z"
   },
   {
    "duration": 79,
    "start_time": "2024-02-28T20:23:30.212Z"
   },
   {
    "duration": 3,
    "start_time": "2024-02-28T20:23:30.641Z"
   },
   {
    "duration": 3,
    "start_time": "2024-02-28T20:23:31.071Z"
   },
   {
    "duration": 5,
    "start_time": "2024-02-28T20:23:31.481Z"
   },
   {
    "duration": 10,
    "start_time": "2024-02-28T20:23:31.688Z"
   },
   {
    "duration": 67,
    "start_time": "2024-02-28T20:23:32.107Z"
   },
   {
    "duration": 29,
    "start_time": "2024-02-28T20:23:32.922Z"
   },
   {
    "duration": 3,
    "start_time": "2024-02-28T20:23:33.555Z"
   },
   {
    "duration": 7,
    "start_time": "2024-02-28T20:23:33.772Z"
   },
   {
    "duration": 40,
    "start_time": "2024-02-28T20:23:34.213Z"
   },
   {
    "duration": 8,
    "start_time": "2024-02-28T20:23:34.623Z"
   },
   {
    "duration": 6,
    "start_time": "2024-02-28T20:23:35.056Z"
   },
   {
    "duration": 12,
    "start_time": "2024-02-28T20:23:35.278Z"
   },
   {
    "duration": 11,
    "start_time": "2024-02-28T20:23:35.976Z"
   },
   {
    "duration": 11,
    "start_time": "2024-02-28T20:23:36.189Z"
   },
   {
    "duration": 11,
    "start_time": "2024-02-28T20:23:36.656Z"
   },
   {
    "duration": 14,
    "start_time": "2024-02-28T20:23:37.257Z"
   },
   {
    "duration": 8,
    "start_time": "2024-02-28T20:23:37.519Z"
   },
   {
    "duration": 52,
    "start_time": "2024-02-28T20:23:37.973Z"
   },
   {
    "duration": 5,
    "start_time": "2024-02-28T20:23:38.631Z"
   },
   {
    "duration": 4,
    "start_time": "2024-02-28T20:23:38.859Z"
   },
   {
    "duration": 7,
    "start_time": "2024-02-28T20:23:39.078Z"
   },
   {
    "duration": 47,
    "start_time": "2024-02-28T20:23:39.575Z"
   },
   {
    "duration": 3,
    "start_time": "2024-02-28T20:23:41.052Z"
   },
   {
    "duration": 3,
    "start_time": "2024-02-28T20:23:41.302Z"
   },
   {
    "duration": 32,
    "start_time": "2024-02-28T20:23:41.572Z"
   },
   {
    "duration": 13,
    "start_time": "2024-02-28T20:23:41.823Z"
   },
   {
    "duration": 12,
    "start_time": "2024-02-28T20:40:37.058Z"
   },
   {
    "duration": 9,
    "start_time": "2024-02-28T20:40:40.386Z"
   },
   {
    "duration": 1477,
    "start_time": "2024-02-28T20:40:51.558Z"
   },
   {
    "duration": 281,
    "start_time": "2024-02-28T20:41:01.080Z"
   },
   {
    "duration": 5,
    "start_time": "2024-02-28T20:41:06.593Z"
   },
   {
    "duration": 1303,
    "start_time": "2024-02-28T20:41:08.137Z"
   },
   {
    "duration": 31663,
    "start_time": "2024-02-28T20:42:49.594Z"
   },
   {
    "duration": 1001,
    "start_time": "2024-02-28T20:46:27.577Z"
   },
   {
    "duration": 4,
    "start_time": "2024-02-28T21:29:49.756Z"
   },
   {
    "duration": 1378,
    "start_time": "2024-02-28T21:29:50.873Z"
   },
   {
    "duration": 1378,
    "start_time": "2024-02-28T21:30:35.463Z"
   },
   {
    "duration": 1310,
    "start_time": "2024-02-28T21:32:08.088Z"
   },
   {
    "duration": 1323,
    "start_time": "2024-02-28T21:32:57.273Z"
   },
   {
    "duration": 3,
    "start_time": "2024-02-28T21:35:59.086Z"
   },
   {
    "duration": 462,
    "start_time": "2024-02-28T21:36:01.618Z"
   },
   {
    "duration": 430,
    "start_time": "2024-02-28T21:39:15.711Z"
   },
   {
    "duration": 104,
    "start_time": "2024-02-28T21:57:24.020Z"
   },
   {
    "duration": 6,
    "start_time": "2024-02-28T21:57:26.082Z"
   },
   {
    "duration": 42,
    "start_time": "2024-02-28T21:57:26.970Z"
   },
   {
    "duration": 8,
    "start_time": "2024-02-28T22:09:53.984Z"
   },
   {
    "duration": 31,
    "start_time": "2024-02-28T22:10:07.432Z"
   },
   {
    "duration": 93,
    "start_time": "2024-02-28T22:10:37.826Z"
   },
   {
    "duration": 31,
    "start_time": "2024-02-28T22:10:46.474Z"
   },
   {
    "duration": 10,
    "start_time": "2024-02-28T22:21:20.226Z"
   },
   {
    "duration": 5432,
    "start_time": "2024-02-28T22:21:54.916Z"
   },
   {
    "duration": 765,
    "start_time": "2024-02-28T22:24:27.566Z"
   },
   {
    "duration": 5,
    "start_time": "2024-02-28T22:25:40.512Z"
   },
   {
    "duration": 427,
    "start_time": "2024-02-28T22:25:57.083Z"
   },
   {
    "duration": 542,
    "start_time": "2024-02-28T22:26:42.811Z"
   },
   {
    "duration": 3,
    "start_time": "2024-02-28T22:27:10.870Z"
   },
   {
    "duration": 3,
    "start_time": "2024-02-28T22:27:11.368Z"
   },
   {
    "duration": 30,
    "start_time": "2024-02-28T22:27:12.984Z"
   },
   {
    "duration": 10,
    "start_time": "2024-02-28T22:27:14.386Z"
   },
   {
    "duration": 423,
    "start_time": "2024-02-28T22:27:29.166Z"
   },
   {
    "duration": 423,
    "start_time": "2024-02-28T22:27:58.843Z"
   },
   {
    "duration": 533,
    "start_time": "2024-02-28T22:29:06.410Z"
   },
   {
    "duration": 4,
    "start_time": "2024-02-28T22:31:37.233Z"
   },
   {
    "duration": 1555,
    "start_time": "2024-02-28T22:37:34.686Z"
   },
   {
    "duration": 4,
    "start_time": "2024-02-28T22:38:06.529Z"
   },
   {
    "duration": 1319,
    "start_time": "2024-02-28T22:38:12.272Z"
   },
   {
    "duration": 20,
    "start_time": "2024-02-28T22:49:05.362Z"
   },
   {
    "duration": 557,
    "start_time": "2024-02-28T22:49:16.928Z"
   },
   {
    "duration": 20,
    "start_time": "2024-02-28T22:49:57.188Z"
   },
   {
    "duration": 10,
    "start_time": "2024-02-28T22:50:15.495Z"
   },
   {
    "duration": 3,
    "start_time": "2024-02-28T22:52:28.967Z"
   },
   {
    "duration": 3,
    "start_time": "2024-02-28T22:52:29.408Z"
   },
   {
    "duration": 36,
    "start_time": "2024-02-28T22:52:30.172Z"
   },
   {
    "duration": 20,
    "start_time": "2024-02-28T22:52:35.640Z"
   },
   {
    "duration": 11,
    "start_time": "2024-02-28T22:52:36.784Z"
   },
   {
    "duration": 4,
    "start_time": "2024-02-28T23:03:09.221Z"
   },
   {
    "duration": 9,
    "start_time": "2024-02-28T23:03:10.046Z"
   },
   {
    "duration": 5,
    "start_time": "2024-02-28T23:03:22.714Z"
   },
   {
    "duration": 4,
    "start_time": "2024-02-28T23:03:23.353Z"
   },
   {
    "duration": 8,
    "start_time": "2024-02-28T23:03:24.049Z"
   },
   {
    "duration": 2,
    "start_time": "2024-02-28T23:03:30.999Z"
   },
   {
    "duration": 3,
    "start_time": "2024-02-28T23:03:31.737Z"
   },
   {
    "duration": 29,
    "start_time": "2024-02-28T23:03:32.553Z"
   },
   {
    "duration": 11,
    "start_time": "2024-02-28T23:03:35.644Z"
   },
   {
    "duration": 1105,
    "start_time": "2024-02-28T23:04:01.466Z"
   },
   {
    "duration": 4,
    "start_time": "2024-02-28T23:05:29.683Z"
   },
   {
    "duration": 7,
    "start_time": "2024-02-28T23:05:31.183Z"
   },
   {
    "duration": 5,
    "start_time": "2024-02-28T23:05:37.249Z"
   },
   {
    "duration": 314,
    "start_time": "2024-02-28T23:05:38.047Z"
   },
   {
    "duration": 4,
    "start_time": "2024-02-28T23:05:46.036Z"
   },
   {
    "duration": 127,
    "start_time": "2024-02-28T23:05:46.738Z"
   },
   {
    "duration": 9173,
    "start_time": "2024-02-28T23:05:51.071Z"
   },
   {
    "duration": 5429,
    "start_time": "2024-02-28T23:06:25.124Z"
   },
   {
    "duration": 6,
    "start_time": "2024-02-28T23:09:56.309Z"
   },
   {
    "duration": 10,
    "start_time": "2024-02-28T23:09:56.791Z"
   },
   {
    "duration": 1470,
    "start_time": "2024-02-28T23:10:24.532Z"
   },
   {
    "duration": 2,
    "start_time": "2024-02-28T23:10:26.004Z"
   },
   {
    "duration": 17,
    "start_time": "2024-02-28T23:10:26.008Z"
   },
   {
    "duration": 192,
    "start_time": "2024-02-28T23:10:26.026Z"
   },
   {
    "duration": 3,
    "start_time": "2024-02-28T23:10:26.220Z"
   },
   {
    "duration": 72,
    "start_time": "2024-02-28T23:10:26.225Z"
   },
   {
    "duration": 4,
    "start_time": "2024-02-28T23:10:26.299Z"
   },
   {
    "duration": 22,
    "start_time": "2024-02-28T23:10:26.304Z"
   },
   {
    "duration": 8,
    "start_time": "2024-02-28T23:10:26.327Z"
   },
   {
    "duration": 95,
    "start_time": "2024-02-28T23:10:26.337Z"
   },
   {
    "duration": 10,
    "start_time": "2024-02-28T23:10:26.433Z"
   },
   {
    "duration": 22,
    "start_time": "2024-02-28T23:10:26.444Z"
   },
   {
    "duration": 11,
    "start_time": "2024-02-28T23:10:26.467Z"
   },
   {
    "duration": 4,
    "start_time": "2024-02-28T23:10:26.482Z"
   },
   {
    "duration": 18,
    "start_time": "2024-02-28T23:10:26.488Z"
   },
   {
    "duration": 108,
    "start_time": "2024-02-28T23:10:26.507Z"
   },
   {
    "duration": 3,
    "start_time": "2024-02-28T23:10:26.616Z"
   },
   {
    "duration": 8,
    "start_time": "2024-02-28T23:10:26.620Z"
   },
   {
    "duration": 5,
    "start_time": "2024-02-28T23:10:26.629Z"
   },
   {
    "duration": 12,
    "start_time": "2024-02-28T23:10:26.635Z"
   },
   {
    "duration": 73,
    "start_time": "2024-02-28T23:10:26.659Z"
   },
   {
    "duration": 43,
    "start_time": "2024-02-28T23:10:26.733Z"
   },
   {
    "duration": 3,
    "start_time": "2024-02-28T23:10:26.778Z"
   },
   {
    "duration": 15,
    "start_time": "2024-02-28T23:10:26.782Z"
   },
   {
    "duration": 63,
    "start_time": "2024-02-28T23:10:26.799Z"
   },
   {
    "duration": 8,
    "start_time": "2024-02-28T23:10:26.863Z"
   },
   {
    "duration": 9,
    "start_time": "2024-02-28T23:10:26.872Z"
   },
   {
    "duration": 10,
    "start_time": "2024-02-28T23:10:26.882Z"
   },
   {
    "duration": 8,
    "start_time": "2024-02-28T23:10:26.894Z"
   },
   {
    "duration": 10,
    "start_time": "2024-02-28T23:10:26.904Z"
   },
   {
    "duration": 11,
    "start_time": "2024-02-28T23:10:26.915Z"
   },
   {
    "duration": 14,
    "start_time": "2024-02-28T23:10:26.959Z"
   },
   {
    "duration": 8,
    "start_time": "2024-02-28T23:10:26.974Z"
   },
   {
    "duration": 55,
    "start_time": "2024-02-28T23:10:26.983Z"
   },
   {
    "duration": 4,
    "start_time": "2024-02-28T23:10:27.059Z"
   },
   {
    "duration": 16,
    "start_time": "2024-02-28T23:10:27.064Z"
   },
   {
    "duration": 12,
    "start_time": "2024-02-28T23:10:27.081Z"
   },
   {
    "duration": 56,
    "start_time": "2024-02-28T23:10:27.095Z"
   },
   {
    "duration": 7,
    "start_time": "2024-02-28T23:10:27.153Z"
   },
   {
    "duration": 25,
    "start_time": "2024-02-28T23:10:27.161Z"
   },
   {
    "duration": 32,
    "start_time": "2024-02-28T23:10:27.190Z"
   },
   {
    "duration": 10,
    "start_time": "2024-02-28T23:10:27.223Z"
   },
   {
    "duration": 6,
    "start_time": "2024-02-28T23:10:27.234Z"
   },
   {
    "duration": 59,
    "start_time": "2024-02-28T23:10:27.241Z"
   },
   {
    "duration": 1462,
    "start_time": "2024-02-28T23:10:27.301Z"
   },
   {
    "duration": 3,
    "start_time": "2024-02-28T23:10:28.765Z"
   },
   {
    "duration": 512,
    "start_time": "2024-02-28T23:10:28.770Z"
   },
   {
    "duration": 442,
    "start_time": "2024-02-28T23:10:29.284Z"
   },
   {
    "duration": 490,
    "start_time": "2024-02-28T23:10:29.728Z"
   },
   {
    "duration": 545,
    "start_time": "2024-02-28T23:10:30.221Z"
   },
   {
    "duration": 2364,
    "start_time": "2024-02-28T23:10:30.767Z"
   },
   {
    "duration": 597,
    "start_time": "2024-02-28T23:10:33.133Z"
   },
   {
    "duration": 546,
    "start_time": "2024-02-28T23:10:33.732Z"
   },
   {
    "duration": 445,
    "start_time": "2024-02-28T23:10:34.279Z"
   },
   {
    "duration": 441,
    "start_time": "2024-02-28T23:10:34.725Z"
   },
   {
    "duration": 462,
    "start_time": "2024-02-28T23:10:35.168Z"
   },
   {
    "duration": 568,
    "start_time": "2024-02-28T23:10:35.632Z"
   },
   {
    "duration": 4,
    "start_time": "2024-02-28T23:10:36.201Z"
   },
   {
    "duration": 11,
    "start_time": "2024-02-28T23:10:36.206Z"
   },
   {
    "duration": 7,
    "start_time": "2024-02-28T23:10:36.218Z"
   },
   {
    "duration": 155,
    "start_time": "2024-02-28T23:10:36.226Z"
   },
   {
    "duration": 11347,
    "start_time": "2024-02-28T23:10:36.460Z"
   },
   {
    "duration": 113,
    "start_time": "2024-02-28T23:10:47.809Z"
   },
   {
    "duration": 0,
    "start_time": "2024-02-28T23:10:47.924Z"
   },
   {
    "duration": 0,
    "start_time": "2024-02-28T23:10:47.925Z"
   },
   {
    "duration": 0,
    "start_time": "2024-02-28T23:10:47.925Z"
   },
   {
    "duration": 0,
    "start_time": "2024-02-28T23:10:47.926Z"
   },
   {
    "duration": 5265,
    "start_time": "2024-02-28T23:11:25.372Z"
   },
   {
    "duration": 14,
    "start_time": "2024-02-28T23:11:59.372Z"
   },
   {
    "duration": 1334,
    "start_time": "2024-02-28T23:12:14.969Z"
   },
   {
    "duration": 249,
    "start_time": "2024-02-28T23:12:31.002Z"
   },
   {
    "duration": 7,
    "start_time": "2024-02-28T23:12:38.458Z"
   },
   {
    "duration": 1377,
    "start_time": "2024-02-28T23:12:40.602Z"
   },
   {
    "duration": 5,
    "start_time": "2024-02-28T23:15:31.595Z"
   },
   {
    "duration": 1162,
    "start_time": "2024-02-28T23:15:32.895Z"
   },
   {
    "duration": 5,
    "start_time": "2024-02-28T23:15:58.359Z"
   },
   {
    "duration": 1256,
    "start_time": "2024-02-28T23:15:59.215Z"
   },
   {
    "duration": 5,
    "start_time": "2024-02-28T23:16:40.628Z"
   },
   {
    "duration": 1193,
    "start_time": "2024-02-28T23:16:41.991Z"
   },
   {
    "duration": 5,
    "start_time": "2024-02-28T23:18:42.539Z"
   },
   {
    "duration": 1223,
    "start_time": "2024-02-28T23:18:43.329Z"
   },
   {
    "duration": 5,
    "start_time": "2024-02-28T23:19:40.061Z"
   },
   {
    "duration": 1204,
    "start_time": "2024-02-28T23:19:40.632Z"
   },
   {
    "duration": 1525,
    "start_time": "2024-02-29T00:01:31.451Z"
   },
   {
    "duration": 2,
    "start_time": "2024-02-29T00:01:32.978Z"
   },
   {
    "duration": 4,
    "start_time": "2024-02-29T00:01:32.981Z"
   },
   {
    "duration": 185,
    "start_time": "2024-02-29T00:01:32.986Z"
   },
   {
    "duration": 3,
    "start_time": "2024-02-29T00:01:33.173Z"
   },
   {
    "duration": 83,
    "start_time": "2024-02-29T00:01:33.177Z"
   },
   {
    "duration": 4,
    "start_time": "2024-02-29T00:01:33.261Z"
   },
   {
    "duration": 18,
    "start_time": "2024-02-29T00:01:33.267Z"
   },
   {
    "duration": 7,
    "start_time": "2024-02-29T00:01:33.287Z"
   },
   {
    "duration": 87,
    "start_time": "2024-02-29T00:01:33.295Z"
   },
   {
    "duration": 10,
    "start_time": "2024-02-29T00:01:33.383Z"
   },
   {
    "duration": 16,
    "start_time": "2024-02-29T00:01:33.394Z"
   },
   {
    "duration": 12,
    "start_time": "2024-02-29T00:01:33.412Z"
   },
   {
    "duration": 4,
    "start_time": "2024-02-29T00:01:33.428Z"
   },
   {
    "duration": 17,
    "start_time": "2024-02-29T00:01:33.433Z"
   },
   {
    "duration": 79,
    "start_time": "2024-02-29T00:01:33.458Z"
   },
   {
    "duration": 3,
    "start_time": "2024-02-29T00:01:33.538Z"
   },
   {
    "duration": 3,
    "start_time": "2024-02-29T00:01:33.558Z"
   },
   {
    "duration": 6,
    "start_time": "2024-02-29T00:01:33.562Z"
   },
   {
    "duration": 10,
    "start_time": "2024-02-29T00:01:33.570Z"
   },
   {
    "duration": 97,
    "start_time": "2024-02-29T00:01:33.582Z"
   },
   {
    "duration": 27,
    "start_time": "2024-02-29T00:01:33.681Z"
   },
   {
    "duration": 3,
    "start_time": "2024-02-29T00:01:33.709Z"
   },
   {
    "duration": 10,
    "start_time": "2024-02-29T00:01:33.713Z"
   },
   {
    "duration": 65,
    "start_time": "2024-02-29T00:01:33.724Z"
   },
   {
    "duration": 7,
    "start_time": "2024-02-29T00:01:33.791Z"
   },
   {
    "duration": 13,
    "start_time": "2024-02-29T00:01:33.799Z"
   },
   {
    "duration": 13,
    "start_time": "2024-02-29T00:01:33.813Z"
   },
   {
    "duration": 9,
    "start_time": "2024-02-29T00:01:33.827Z"
   },
   {
    "duration": 31,
    "start_time": "2024-02-29T00:01:33.837Z"
   },
   {
    "duration": 10,
    "start_time": "2024-02-29T00:01:33.869Z"
   },
   {
    "duration": 13,
    "start_time": "2024-02-29T00:01:33.880Z"
   },
   {
    "duration": 8,
    "start_time": "2024-02-29T00:01:33.894Z"
   },
   {
    "duration": 80,
    "start_time": "2024-02-29T00:01:33.903Z"
   },
   {
    "duration": 4,
    "start_time": "2024-02-29T00:01:33.985Z"
   },
   {
    "duration": 14,
    "start_time": "2024-02-29T00:01:33.990Z"
   },
   {
    "duration": 9,
    "start_time": "2024-02-29T00:01:34.005Z"
   },
   {
    "duration": 71,
    "start_time": "2024-02-29T00:01:34.015Z"
   },
   {
    "duration": 2,
    "start_time": "2024-02-29T00:01:34.087Z"
   },
   {
    "duration": 3,
    "start_time": "2024-02-29T00:01:34.091Z"
   },
   {
    "duration": 29,
    "start_time": "2024-02-29T00:01:34.098Z"
   },
   {
    "duration": 33,
    "start_time": "2024-02-29T00:01:34.128Z"
   },
   {
    "duration": 5,
    "start_time": "2024-02-29T00:01:34.162Z"
   },
   {
    "duration": 45,
    "start_time": "2024-02-29T00:01:34.168Z"
   },
   {
    "duration": 1516,
    "start_time": "2024-02-29T00:01:34.215Z"
   },
   {
    "duration": 7,
    "start_time": "2024-02-29T00:01:35.733Z"
   },
   {
    "duration": 534,
    "start_time": "2024-02-29T00:01:35.741Z"
   },
   {
    "duration": 444,
    "start_time": "2024-02-29T00:01:36.277Z"
   },
   {
    "duration": 439,
    "start_time": "2024-02-29T00:01:36.722Z"
   },
   {
    "duration": 551,
    "start_time": "2024-02-29T00:01:37.163Z"
   },
   {
    "duration": 2322,
    "start_time": "2024-02-29T00:01:37.716Z"
   },
   {
    "duration": 455,
    "start_time": "2024-02-29T00:01:40.039Z"
   },
   {
    "duration": 571,
    "start_time": "2024-02-29T00:01:40.495Z"
   },
   {
    "duration": 467,
    "start_time": "2024-02-29T00:01:41.067Z"
   },
   {
    "duration": 464,
    "start_time": "2024-02-29T00:01:41.536Z"
   },
   {
    "duration": 489,
    "start_time": "2024-02-29T00:01:42.001Z"
   },
   {
    "duration": 572,
    "start_time": "2024-02-29T00:01:42.492Z"
   },
   {
    "duration": 4,
    "start_time": "2024-02-29T00:01:43.065Z"
   },
   {
    "duration": 18,
    "start_time": "2024-02-29T00:01:43.071Z"
   },
   {
    "duration": 5,
    "start_time": "2024-02-29T00:01:43.090Z"
   },
   {
    "duration": 272,
    "start_time": "2024-02-29T00:01:43.097Z"
   },
   {
    "duration": 10651,
    "start_time": "2024-02-29T00:01:43.371Z"
   },
   {
    "duration": 5424,
    "start_time": "2024-02-29T00:01:54.023Z"
   },
   {
    "duration": 1421,
    "start_time": "2024-02-29T00:01:59.449Z"
   },
   {
    "duration": 230,
    "start_time": "2024-02-29T00:02:00.872Z"
   },
   {
    "duration": 5,
    "start_time": "2024-02-29T00:02:01.103Z"
   },
   {
    "duration": 1789,
    "start_time": "2024-02-29T00:02:01.109Z"
   },
   {
    "duration": 110,
    "start_time": "2024-02-29T00:03:42.061Z"
   },
   {
    "duration": 16,
    "start_time": "2024-02-29T00:03:58.384Z"
   },
   {
    "duration": 13,
    "start_time": "2024-02-29T00:05:15.745Z"
   },
   {
    "duration": 1430,
    "start_time": "2024-02-29T00:05:22.989Z"
   },
   {
    "duration": 252,
    "start_time": "2024-02-29T00:05:26.328Z"
   },
   {
    "duration": 1693,
    "start_time": "2024-02-29T08:49:06.329Z"
   },
   {
    "duration": 3,
    "start_time": "2024-02-29T08:49:08.024Z"
   },
   {
    "duration": 15,
    "start_time": "2024-02-29T08:49:08.028Z"
   },
   {
    "duration": 548,
    "start_time": "2024-02-29T08:49:08.045Z"
   },
   {
    "duration": 4,
    "start_time": "2024-02-29T08:49:08.596Z"
   },
   {
    "duration": 71,
    "start_time": "2024-02-29T08:49:08.602Z"
   },
   {
    "duration": 6,
    "start_time": "2024-02-29T08:49:08.675Z"
   },
   {
    "duration": 42,
    "start_time": "2024-02-29T08:49:08.685Z"
   },
   {
    "duration": 9,
    "start_time": "2024-02-29T08:49:08.728Z"
   },
   {
    "duration": 69,
    "start_time": "2024-02-29T08:49:08.739Z"
   },
   {
    "duration": 12,
    "start_time": "2024-02-29T08:49:08.809Z"
   },
   {
    "duration": 18,
    "start_time": "2024-02-29T08:49:08.822Z"
   },
   {
    "duration": 15,
    "start_time": "2024-02-29T08:49:08.841Z"
   },
   {
    "duration": 5,
    "start_time": "2024-02-29T08:49:08.859Z"
   },
   {
    "duration": 38,
    "start_time": "2024-02-29T08:49:08.866Z"
   },
   {
    "duration": 84,
    "start_time": "2024-02-29T08:49:08.906Z"
   },
   {
    "duration": 3,
    "start_time": "2024-02-29T08:49:08.992Z"
   },
   {
    "duration": 33,
    "start_time": "2024-02-29T08:49:08.996Z"
   },
   {
    "duration": 16,
    "start_time": "2024-02-29T08:49:09.030Z"
   },
   {
    "duration": 23,
    "start_time": "2024-02-29T08:49:09.047Z"
   },
   {
    "duration": 83,
    "start_time": "2024-02-29T08:49:09.072Z"
   },
   {
    "duration": 30,
    "start_time": "2024-02-29T08:49:09.156Z"
   },
   {
    "duration": 3,
    "start_time": "2024-02-29T08:49:09.188Z"
   },
   {
    "duration": 19,
    "start_time": "2024-02-29T08:49:09.214Z"
   },
   {
    "duration": 51,
    "start_time": "2024-02-29T08:49:09.235Z"
   },
   {
    "duration": 8,
    "start_time": "2024-02-29T08:49:09.288Z"
   },
   {
    "duration": 37,
    "start_time": "2024-02-29T08:49:09.297Z"
   },
   {
    "duration": 12,
    "start_time": "2024-02-29T08:49:09.335Z"
   },
   {
    "duration": 19,
    "start_time": "2024-02-29T08:49:09.348Z"
   },
   {
    "duration": 12,
    "start_time": "2024-02-29T08:49:09.368Z"
   },
   {
    "duration": 30,
    "start_time": "2024-02-29T08:49:09.381Z"
   },
   {
    "duration": 16,
    "start_time": "2024-02-29T08:49:09.423Z"
   },
   {
    "duration": 9,
    "start_time": "2024-02-29T08:49:09.441Z"
   },
   {
    "duration": 89,
    "start_time": "2024-02-29T08:49:09.451Z"
   },
   {
    "duration": 4,
    "start_time": "2024-02-29T08:49:09.542Z"
   },
   {
    "duration": 11,
    "start_time": "2024-02-29T08:49:09.548Z"
   },
   {
    "duration": 16,
    "start_time": "2024-02-29T08:49:09.561Z"
   },
   {
    "duration": 69,
    "start_time": "2024-02-29T08:49:09.579Z"
   },
   {
    "duration": 3,
    "start_time": "2024-02-29T08:49:09.649Z"
   },
   {
    "duration": 43,
    "start_time": "2024-02-29T08:49:09.654Z"
   },
   {
    "duration": 45,
    "start_time": "2024-02-29T08:49:09.701Z"
   },
   {
    "duration": 11,
    "start_time": "2024-02-29T08:49:09.748Z"
   },
   {
    "duration": 7,
    "start_time": "2024-02-29T08:49:09.760Z"
   },
   {
    "duration": 72,
    "start_time": "2024-02-29T08:49:09.768Z"
   },
   {
    "duration": 1641,
    "start_time": "2024-02-29T08:49:09.842Z"
   },
   {
    "duration": 5,
    "start_time": "2024-02-29T08:49:11.485Z"
   },
   {
    "duration": 622,
    "start_time": "2024-02-29T08:49:11.491Z"
   },
   {
    "duration": 513,
    "start_time": "2024-02-29T08:49:12.115Z"
   },
   {
    "duration": 499,
    "start_time": "2024-02-29T08:49:12.630Z"
   },
   {
    "duration": 618,
    "start_time": "2024-02-29T08:49:13.131Z"
   },
   {
    "duration": 2579,
    "start_time": "2024-02-29T08:49:13.750Z"
   },
   {
    "duration": 482,
    "start_time": "2024-02-29T08:49:16.331Z"
   },
   {
    "duration": 630,
    "start_time": "2024-02-29T08:49:16.816Z"
   },
   {
    "duration": 494,
    "start_time": "2024-02-29T08:49:17.448Z"
   },
   {
    "duration": 513,
    "start_time": "2024-02-29T08:49:17.944Z"
   },
   {
    "duration": 526,
    "start_time": "2024-02-29T08:49:18.458Z"
   },
   {
    "duration": 616,
    "start_time": "2024-02-29T08:49:18.985Z"
   },
   {
    "duration": 4,
    "start_time": "2024-02-29T08:49:19.603Z"
   },
   {
    "duration": 39,
    "start_time": "2024-02-29T08:49:19.608Z"
   },
   {
    "duration": 5,
    "start_time": "2024-02-29T08:49:19.649Z"
   },
   {
    "duration": 359,
    "start_time": "2024-02-29T08:49:19.656Z"
   },
   {
    "duration": 12126,
    "start_time": "2024-02-29T08:49:20.017Z"
   },
   {
    "duration": 5256,
    "start_time": "2024-02-29T08:49:32.145Z"
   },
   {
    "duration": 3076,
    "start_time": "2024-02-29T08:49:37.402Z"
   },
   {
    "duration": 0,
    "start_time": "2024-02-29T08:49:40.480Z"
   },
   {
    "duration": 0,
    "start_time": "2024-02-29T08:49:40.481Z"
   },
   {
    "duration": 0,
    "start_time": "2024-02-29T08:49:40.482Z"
   },
   {
    "duration": 0,
    "start_time": "2024-02-29T08:49:40.483Z"
   },
   {
    "duration": 30792,
    "start_time": "2024-02-29T08:52:36.156Z"
   },
   {
    "duration": 10,
    "start_time": "2024-02-29T09:01:55.682Z"
   },
   {
    "duration": 19,
    "start_time": "2024-02-29T09:02:51.330Z"
   },
   {
    "duration": 17,
    "start_time": "2024-02-29T09:03:17.134Z"
   },
   {
    "duration": 4,
    "start_time": "2024-02-29T09:06:45.106Z"
   },
   {
    "duration": 5,
    "start_time": "2024-02-29T09:06:47.122Z"
   },
   {
    "duration": 138,
    "start_time": "2024-02-29T09:06:49.308Z"
   },
   {
    "duration": 4,
    "start_time": "2024-02-29T09:17:33.237Z"
   },
   {
    "duration": 16,
    "start_time": "2024-02-29T09:29:34.843Z"
   },
   {
    "duration": 15,
    "start_time": "2024-02-29T09:30:01.448Z"
   },
   {
    "duration": 4,
    "start_time": "2024-02-29T09:30:30.398Z"
   },
   {
    "duration": 6,
    "start_time": "2024-02-29T09:30:39.417Z"
   },
   {
    "duration": 6,
    "start_time": "2024-02-29T09:31:08.866Z"
   },
   {
    "duration": 4,
    "start_time": "2024-02-29T09:40:30.652Z"
   },
   {
    "duration": 954,
    "start_time": "2024-02-29T09:49:33.562Z"
   },
   {
    "duration": 1049,
    "start_time": "2024-02-29T09:49:49.333Z"
   },
   {
    "duration": 495,
    "start_time": "2024-02-29T09:52:35.594Z"
   },
   {
    "duration": 1515,
    "start_time": "2024-02-29T10:21:01.527Z"
   },
   {
    "duration": 3,
    "start_time": "2024-02-29T10:21:03.044Z"
   },
   {
    "duration": 12,
    "start_time": "2024-02-29T10:21:03.048Z"
   },
   {
    "duration": 199,
    "start_time": "2024-02-29T10:21:03.061Z"
   },
   {
    "duration": 4,
    "start_time": "2024-02-29T10:21:03.262Z"
   },
   {
    "duration": 73,
    "start_time": "2024-02-29T10:21:03.267Z"
   },
   {
    "duration": 4,
    "start_time": "2024-02-29T10:21:03.341Z"
   },
   {
    "duration": 22,
    "start_time": "2024-02-29T10:21:03.347Z"
   },
   {
    "duration": 6,
    "start_time": "2024-02-29T10:21:03.371Z"
   },
   {
    "duration": 99,
    "start_time": "2024-02-29T10:21:03.378Z"
   },
   {
    "duration": 10,
    "start_time": "2024-02-29T10:21:03.478Z"
   },
   {
    "duration": 28,
    "start_time": "2024-02-29T10:21:03.490Z"
   },
   {
    "duration": 18,
    "start_time": "2024-02-29T10:21:03.520Z"
   },
   {
    "duration": 4,
    "start_time": "2024-02-29T10:21:03.542Z"
   },
   {
    "duration": 19,
    "start_time": "2024-02-29T10:21:03.548Z"
   },
   {
    "duration": 97,
    "start_time": "2024-02-29T10:21:03.569Z"
   },
   {
    "duration": 3,
    "start_time": "2024-02-29T10:21:03.667Z"
   },
   {
    "duration": 6,
    "start_time": "2024-02-29T10:21:03.671Z"
   },
   {
    "duration": 28,
    "start_time": "2024-02-29T10:21:03.678Z"
   },
   {
    "duration": 15,
    "start_time": "2024-02-29T10:21:03.708Z"
   },
   {
    "duration": 82,
    "start_time": "2024-02-29T10:21:03.724Z"
   },
   {
    "duration": 28,
    "start_time": "2024-02-29T10:21:03.808Z"
   },
   {
    "duration": 6,
    "start_time": "2024-02-29T10:21:03.837Z"
   },
   {
    "duration": 21,
    "start_time": "2024-02-29T10:21:03.844Z"
   },
   {
    "duration": 46,
    "start_time": "2024-02-29T10:21:03.867Z"
   },
   {
    "duration": 8,
    "start_time": "2024-02-29T10:21:03.915Z"
   },
   {
    "duration": 14,
    "start_time": "2024-02-29T10:21:03.924Z"
   },
   {
    "duration": 11,
    "start_time": "2024-02-29T10:21:03.940Z"
   },
   {
    "duration": 9,
    "start_time": "2024-02-29T10:21:03.952Z"
   },
   {
    "duration": 12,
    "start_time": "2024-02-29T10:21:03.963Z"
   },
   {
    "duration": 13,
    "start_time": "2024-02-29T10:21:04.014Z"
   },
   {
    "duration": 14,
    "start_time": "2024-02-29T10:21:04.028Z"
   },
   {
    "duration": 9,
    "start_time": "2024-02-29T10:21:04.044Z"
   },
   {
    "duration": 92,
    "start_time": "2024-02-29T10:21:04.054Z"
   },
   {
    "duration": 4,
    "start_time": "2024-02-29T10:21:04.148Z"
   },
   {
    "duration": 14,
    "start_time": "2024-02-29T10:21:04.154Z"
   },
   {
    "duration": 53,
    "start_time": "2024-02-29T10:21:04.169Z"
   },
   {
    "duration": 57,
    "start_time": "2024-02-29T10:21:04.223Z"
   },
   {
    "duration": 3,
    "start_time": "2024-02-29T10:21:04.281Z"
   },
   {
    "duration": 11,
    "start_time": "2024-02-29T10:21:04.286Z"
   },
   {
    "duration": 34,
    "start_time": "2024-02-29T10:21:04.314Z"
   },
   {
    "duration": 10,
    "start_time": "2024-02-29T10:21:04.350Z"
   },
   {
    "duration": 6,
    "start_time": "2024-02-29T10:21:04.362Z"
   },
   {
    "duration": 58,
    "start_time": "2024-02-29T10:21:04.370Z"
   },
   {
    "duration": 1762,
    "start_time": "2024-02-29T10:21:04.430Z"
   },
   {
    "duration": 5,
    "start_time": "2024-02-29T10:21:06.194Z"
   },
   {
    "duration": 569,
    "start_time": "2024-02-29T10:21:06.201Z"
   },
   {
    "duration": 499,
    "start_time": "2024-02-29T10:21:06.772Z"
   },
   {
    "duration": 508,
    "start_time": "2024-02-29T10:21:07.273Z"
   },
   {
    "duration": 599,
    "start_time": "2024-02-29T10:21:07.783Z"
   },
   {
    "duration": 490,
    "start_time": "2024-02-29T10:21:08.384Z"
   },
   {
    "duration": 482,
    "start_time": "2024-02-29T10:21:08.876Z"
   },
   {
    "duration": 508,
    "start_time": "2024-02-29T10:21:09.360Z"
   },
   {
    "duration": 598,
    "start_time": "2024-02-29T10:21:09.870Z"
   },
   {
    "duration": 2526,
    "start_time": "2024-02-29T10:21:10.470Z"
   },
   {
    "duration": 499,
    "start_time": "2024-02-29T10:21:12.997Z"
   },
   {
    "duration": 643,
    "start_time": "2024-02-29T10:21:13.497Z"
   },
   {
    "duration": 4,
    "start_time": "2024-02-29T10:21:14.141Z"
   },
   {
    "duration": 26,
    "start_time": "2024-02-29T10:21:14.146Z"
   },
   {
    "duration": 20,
    "start_time": "2024-02-29T10:21:14.173Z"
   },
   {
    "duration": 7,
    "start_time": "2024-02-29T10:21:14.195Z"
   },
   {
    "duration": 9,
    "start_time": "2024-02-29T10:21:14.204Z"
   },
   {
    "duration": 121,
    "start_time": "2024-02-29T10:21:14.215Z"
   },
   {
    "duration": 12034,
    "start_time": "2024-02-29T10:21:14.337Z"
   },
   {
    "duration": 5097,
    "start_time": "2024-02-29T10:21:26.373Z"
   },
   {
    "duration": 3667,
    "start_time": "2024-02-29T10:21:31.472Z"
   },
   {
    "duration": 1280,
    "start_time": "2024-02-29T10:21:35.141Z"
   },
   {
    "duration": 4,
    "start_time": "2024-02-29T10:21:36.423Z"
   },
   {
    "duration": 259,
    "start_time": "2024-02-29T10:21:36.428Z"
   },
   {
    "duration": 6,
    "start_time": "2024-02-29T10:21:36.688Z"
   },
   {
    "duration": 1059,
    "start_time": "2024-02-29T10:21:36.695Z"
   },
   {
    "duration": 7085,
    "start_time": "2024-02-29T10:33:29.067Z"
   },
   {
    "duration": 1354,
    "start_time": "2024-02-29T10:34:32.753Z"
   },
   {
    "duration": 142,
    "start_time": "2024-02-29T10:40:35.757Z"
   },
   {
    "duration": 6,
    "start_time": "2024-02-29T10:41:45.279Z"
   },
   {
    "duration": 12,
    "start_time": "2024-02-29T10:49:42.734Z"
   },
   {
    "duration": 17,
    "start_time": "2024-02-29T10:50:03.418Z"
   },
   {
    "duration": 16,
    "start_time": "2024-02-29T10:50:17.246Z"
   },
   {
    "duration": 8,
    "start_time": "2024-02-29T10:55:54.188Z"
   },
   {
    "duration": 9,
    "start_time": "2024-02-29T10:56:05.913Z"
   },
   {
    "duration": 13,
    "start_time": "2024-02-29T10:56:37.299Z"
   },
   {
    "duration": 9,
    "start_time": "2024-02-29T10:57:21.412Z"
   },
   {
    "duration": 9,
    "start_time": "2024-02-29T11:00:43.539Z"
   },
   {
    "duration": 11,
    "start_time": "2024-02-29T11:00:58.787Z"
   },
   {
    "duration": 14,
    "start_time": "2024-02-29T11:01:07.563Z"
   },
   {
    "duration": 868,
    "start_time": "2024-02-29T11:01:33.935Z"
   },
   {
    "duration": 75,
    "start_time": "2024-02-29T11:02:15.865Z"
   },
   {
    "duration": 961,
    "start_time": "2024-02-29T11:02:48.679Z"
   },
   {
    "duration": 12,
    "start_time": "2024-02-29T11:11:37.459Z"
   },
   {
    "duration": 16,
    "start_time": "2024-02-29T11:11:48.251Z"
   },
   {
    "duration": 10,
    "start_time": "2024-02-29T11:12:21.885Z"
   },
   {
    "duration": 96,
    "start_time": "2024-02-29T11:15:30.192Z"
   },
   {
    "duration": 11,
    "start_time": "2024-02-29T11:15:52.467Z"
   },
   {
    "duration": 4,
    "start_time": "2024-02-29T11:22:00.589Z"
   },
   {
    "duration": 10,
    "start_time": "2024-02-29T11:22:31.779Z"
   },
   {
    "duration": 5,
    "start_time": "2024-02-29T11:22:41.123Z"
   },
   {
    "duration": 7,
    "start_time": "2024-02-29T11:22:59.148Z"
   },
   {
    "duration": 6,
    "start_time": "2024-02-29T11:23:43.053Z"
   },
   {
    "duration": 7,
    "start_time": "2024-02-29T11:23:43.845Z"
   },
   {
    "duration": 4,
    "start_time": "2024-02-29T11:23:44.924Z"
   },
   {
    "duration": 5,
    "start_time": "2024-02-29T11:23:58.370Z"
   },
   {
    "duration": 3,
    "start_time": "2024-02-29T11:26:48.414Z"
   },
   {
    "duration": 7,
    "start_time": "2024-02-29T11:26:49.601Z"
   },
   {
    "duration": 8,
    "start_time": "2024-02-29T11:26:51.565Z"
   },
   {
    "duration": 12,
    "start_time": "2024-02-29T11:28:24.469Z"
   },
   {
    "duration": 5,
    "start_time": "2024-02-29T11:28:48.760Z"
   },
   {
    "duration": 6,
    "start_time": "2024-02-29T11:28:49.679Z"
   },
   {
    "duration": 8,
    "start_time": "2024-02-29T11:28:50.939Z"
   },
   {
    "duration": 4,
    "start_time": "2024-02-29T11:29:01.534Z"
   },
   {
    "duration": 6,
    "start_time": "2024-02-29T11:29:02.555Z"
   },
   {
    "duration": 8,
    "start_time": "2024-02-29T11:29:03.988Z"
   },
   {
    "duration": 5,
    "start_time": "2024-02-29T11:29:08.911Z"
   },
   {
    "duration": 4,
    "start_time": "2024-02-29T11:29:12.931Z"
   },
   {
    "duration": 6,
    "start_time": "2024-02-29T11:29:13.575Z"
   },
   {
    "duration": 73,
    "start_time": "2024-02-29T11:29:14.461Z"
   },
   {
    "duration": 11795,
    "start_time": "2024-02-29T11:29:17.928Z"
   },
   {
    "duration": 6500,
    "start_time": "2024-02-29T11:29:29.725Z"
   },
   {
    "duration": 3359,
    "start_time": "2024-02-29T11:29:36.228Z"
   },
   {
    "duration": 1399,
    "start_time": "2024-02-29T11:30:16.782Z"
   },
   {
    "duration": 5,
    "start_time": "2024-02-29T11:30:40.407Z"
   },
   {
    "duration": 263,
    "start_time": "2024-02-29T11:30:45.590Z"
   },
   {
    "duration": 5,
    "start_time": "2024-02-29T11:30:47.393Z"
   },
   {
    "duration": 1155,
    "start_time": "2024-02-29T11:30:48.416Z"
   },
   {
    "duration": 1531,
    "start_time": "2024-02-29T11:31:31.916Z"
   },
   {
    "duration": 3,
    "start_time": "2024-02-29T11:31:33.449Z"
   },
   {
    "duration": 9,
    "start_time": "2024-02-29T11:31:33.453Z"
   },
   {
    "duration": 189,
    "start_time": "2024-02-29T11:31:33.464Z"
   },
   {
    "duration": 3,
    "start_time": "2024-02-29T11:31:33.655Z"
   },
   {
    "duration": 80,
    "start_time": "2024-02-29T11:31:33.659Z"
   },
   {
    "duration": 4,
    "start_time": "2024-02-29T11:31:33.741Z"
   },
   {
    "duration": 35,
    "start_time": "2024-02-29T11:31:33.746Z"
   },
   {
    "duration": 8,
    "start_time": "2024-02-29T11:31:33.782Z"
   },
   {
    "duration": 87,
    "start_time": "2024-02-29T11:31:33.791Z"
   },
   {
    "duration": 10,
    "start_time": "2024-02-29T11:31:33.880Z"
   },
   {
    "duration": 17,
    "start_time": "2024-02-29T11:31:33.892Z"
   },
   {
    "duration": 12,
    "start_time": "2024-02-29T11:31:33.911Z"
   },
   {
    "duration": 6,
    "start_time": "2024-02-29T11:31:33.927Z"
   },
   {
    "duration": 17,
    "start_time": "2024-02-29T11:31:33.935Z"
   },
   {
    "duration": 99,
    "start_time": "2024-02-29T11:31:33.953Z"
   },
   {
    "duration": 4,
    "start_time": "2024-02-29T11:31:34.054Z"
   },
   {
    "duration": 5,
    "start_time": "2024-02-29T11:31:34.060Z"
   },
   {
    "duration": 5,
    "start_time": "2024-02-29T11:31:34.067Z"
   },
   {
    "duration": 27,
    "start_time": "2024-02-29T11:31:34.075Z"
   },
   {
    "duration": 76,
    "start_time": "2024-02-29T11:31:34.115Z"
   },
   {
    "duration": 32,
    "start_time": "2024-02-29T11:31:34.214Z"
   },
   {
    "duration": 3,
    "start_time": "2024-02-29T11:31:34.248Z"
   },
   {
    "duration": 14,
    "start_time": "2024-02-29T11:31:34.252Z"
   },
   {
    "duration": 84,
    "start_time": "2024-02-29T11:31:34.268Z"
   },
   {
    "duration": 9,
    "start_time": "2024-02-29T11:31:34.354Z"
   },
   {
    "duration": 7,
    "start_time": "2024-02-29T11:31:34.365Z"
   },
   {
    "duration": 11,
    "start_time": "2024-02-29T11:31:34.374Z"
   },
   {
    "duration": 38,
    "start_time": "2024-02-29T11:31:34.386Z"
   },
   {
    "duration": 12,
    "start_time": "2024-02-29T11:31:34.426Z"
   },
   {
    "duration": 21,
    "start_time": "2024-02-29T11:31:34.440Z"
   },
   {
    "duration": 19,
    "start_time": "2024-02-29T11:31:34.467Z"
   },
   {
    "duration": 36,
    "start_time": "2024-02-29T11:31:34.488Z"
   },
   {
    "duration": 59,
    "start_time": "2024-02-29T11:31:34.525Z"
   },
   {
    "duration": 4,
    "start_time": "2024-02-29T11:31:34.614Z"
   },
   {
    "duration": 18,
    "start_time": "2024-02-29T11:31:34.620Z"
   },
   {
    "duration": 19,
    "start_time": "2024-02-29T11:31:34.640Z"
   },
   {
    "duration": 65,
    "start_time": "2024-02-29T11:31:34.661Z"
   },
   {
    "duration": 4,
    "start_time": "2024-02-29T11:31:34.728Z"
   },
   {
    "duration": 7,
    "start_time": "2024-02-29T11:31:34.734Z"
   },
   {
    "duration": 43,
    "start_time": "2024-02-29T11:31:34.747Z"
   },
   {
    "duration": 30,
    "start_time": "2024-02-29T11:31:34.791Z"
   },
   {
    "duration": 9,
    "start_time": "2024-02-29T11:31:34.823Z"
   },
   {
    "duration": 94,
    "start_time": "2024-02-29T11:31:34.835Z"
   },
   {
    "duration": 1584,
    "start_time": "2024-02-29T11:31:34.931Z"
   },
   {
    "duration": 4,
    "start_time": "2024-02-29T11:31:36.516Z"
   },
   {
    "duration": 594,
    "start_time": "2024-02-29T11:31:36.522Z"
   },
   {
    "duration": 510,
    "start_time": "2024-02-29T11:31:37.118Z"
   },
   {
    "duration": 478,
    "start_time": "2024-02-29T11:31:37.630Z"
   },
   {
    "duration": 614,
    "start_time": "2024-02-29T11:31:38.114Z"
   },
   {
    "duration": 479,
    "start_time": "2024-02-29T11:31:38.730Z"
   },
   {
    "duration": 490,
    "start_time": "2024-02-29T11:31:39.211Z"
   },
   {
    "duration": 470,
    "start_time": "2024-02-29T11:31:39.702Z"
   },
   {
    "duration": 599,
    "start_time": "2024-02-29T11:31:40.174Z"
   },
   {
    "duration": 2504,
    "start_time": "2024-02-29T11:31:40.775Z"
   },
   {
    "duration": 486,
    "start_time": "2024-02-29T11:31:43.281Z"
   },
   {
    "duration": 606,
    "start_time": "2024-02-29T11:31:43.769Z"
   },
   {
    "duration": 4,
    "start_time": "2024-02-29T11:31:44.377Z"
   },
   {
    "duration": 8,
    "start_time": "2024-02-29T11:31:44.383Z"
   },
   {
    "duration": 23,
    "start_time": "2024-02-29T11:31:44.393Z"
   },
   {
    "duration": 6,
    "start_time": "2024-02-29T11:31:44.418Z"
   },
   {
    "duration": 6,
    "start_time": "2024-02-29T11:31:44.425Z"
   },
   {
    "duration": 6,
    "start_time": "2024-02-29T11:31:44.432Z"
   },
   {
    "duration": 175,
    "start_time": "2024-02-29T11:31:44.440Z"
   },
   {
    "duration": 11109,
    "start_time": "2024-02-29T11:31:44.617Z"
   },
   {
    "duration": 5236,
    "start_time": "2024-02-29T11:31:55.727Z"
   },
   {
    "duration": 3520,
    "start_time": "2024-02-29T11:32:00.966Z"
   },
   {
    "duration": 1338,
    "start_time": "2024-02-29T11:32:04.487Z"
   },
   {
    "duration": 4,
    "start_time": "2024-02-29T11:32:05.827Z"
   },
   {
    "duration": 247,
    "start_time": "2024-02-29T11:32:05.832Z"
   },
   {
    "duration": 5,
    "start_time": "2024-02-29T11:32:06.080Z"
   },
   {
    "duration": 1057,
    "start_time": "2024-02-29T11:32:06.087Z"
   },
   {
    "duration": 1435,
    "start_time": "2024-02-29T11:44:11.440Z"
   },
   {
    "duration": 4,
    "start_time": "2024-02-29T11:44:12.876Z"
   },
   {
    "duration": 22,
    "start_time": "2024-02-29T11:44:12.882Z"
   },
   {
    "duration": 206,
    "start_time": "2024-02-29T11:44:12.905Z"
   },
   {
    "duration": 3,
    "start_time": "2024-02-29T11:44:13.113Z"
   },
   {
    "duration": 72,
    "start_time": "2024-02-29T11:44:13.118Z"
   },
   {
    "duration": 3,
    "start_time": "2024-02-29T11:44:13.192Z"
   },
   {
    "duration": 30,
    "start_time": "2024-02-29T11:44:13.197Z"
   },
   {
    "duration": 6,
    "start_time": "2024-02-29T11:44:13.228Z"
   },
   {
    "duration": 93,
    "start_time": "2024-02-29T11:44:13.236Z"
   },
   {
    "duration": 11,
    "start_time": "2024-02-29T11:44:13.331Z"
   },
   {
    "duration": 20,
    "start_time": "2024-02-29T11:44:13.344Z"
   },
   {
    "duration": 13,
    "start_time": "2024-02-29T11:44:13.366Z"
   },
   {
    "duration": 4,
    "start_time": "2024-02-29T11:44:13.383Z"
   },
   {
    "duration": 35,
    "start_time": "2024-02-29T11:44:13.388Z"
   },
   {
    "duration": 90,
    "start_time": "2024-02-29T11:44:13.425Z"
   },
   {
    "duration": 3,
    "start_time": "2024-02-29T11:44:13.517Z"
   },
   {
    "duration": 15,
    "start_time": "2024-02-29T11:44:13.521Z"
   },
   {
    "duration": 4,
    "start_time": "2024-02-29T11:44:13.538Z"
   },
   {
    "duration": 14,
    "start_time": "2024-02-29T11:44:13.543Z"
   },
   {
    "duration": 90,
    "start_time": "2024-02-29T11:44:13.558Z"
   },
   {
    "duration": 31,
    "start_time": "2024-02-29T11:44:13.650Z"
   },
   {
    "duration": 3,
    "start_time": "2024-02-29T11:44:13.683Z"
   },
   {
    "duration": 8,
    "start_time": "2024-02-29T11:44:13.714Z"
   },
   {
    "duration": 47,
    "start_time": "2024-02-29T11:44:13.723Z"
   },
   {
    "duration": 7,
    "start_time": "2024-02-29T11:44:13.772Z"
   },
   {
    "duration": 39,
    "start_time": "2024-02-29T11:44:13.781Z"
   },
   {
    "duration": 11,
    "start_time": "2024-02-29T11:44:13.821Z"
   },
   {
    "duration": 10,
    "start_time": "2024-02-29T11:44:13.834Z"
   },
   {
    "duration": 12,
    "start_time": "2024-02-29T11:44:13.845Z"
   },
   {
    "duration": 11,
    "start_time": "2024-02-29T11:44:13.859Z"
   },
   {
    "duration": 55,
    "start_time": "2024-02-29T11:44:13.871Z"
   },
   {
    "duration": 9,
    "start_time": "2024-02-29T11:44:13.928Z"
   },
   {
    "duration": 79,
    "start_time": "2024-02-29T11:44:13.939Z"
   },
   {
    "duration": 4,
    "start_time": "2024-02-29T11:44:14.020Z"
   },
   {
    "duration": 10,
    "start_time": "2024-02-29T11:44:14.026Z"
   },
   {
    "duration": 17,
    "start_time": "2024-02-29T11:44:14.037Z"
   },
   {
    "duration": 80,
    "start_time": "2024-02-29T11:44:14.056Z"
   },
   {
    "duration": 3,
    "start_time": "2024-02-29T11:44:14.138Z"
   },
   {
    "duration": 16,
    "start_time": "2024-02-29T11:44:14.143Z"
   },
   {
    "duration": 34,
    "start_time": "2024-02-29T11:44:14.166Z"
   },
   {
    "duration": 14,
    "start_time": "2024-02-29T11:44:14.214Z"
   },
   {
    "duration": 12,
    "start_time": "2024-02-29T11:44:14.230Z"
   },
   {
    "duration": 53,
    "start_time": "2024-02-29T11:44:14.243Z"
   },
   {
    "duration": 1588,
    "start_time": "2024-02-29T11:44:14.315Z"
   },
   {
    "duration": 4,
    "start_time": "2024-02-29T11:44:15.904Z"
   },
   {
    "duration": 563,
    "start_time": "2024-02-29T11:44:15.910Z"
   },
   {
    "duration": 480,
    "start_time": "2024-02-29T11:44:16.475Z"
   },
   {
    "duration": 493,
    "start_time": "2024-02-29T11:44:16.956Z"
   },
   {
    "duration": 617,
    "start_time": "2024-02-29T11:44:17.451Z"
   },
   {
    "duration": 480,
    "start_time": "2024-02-29T11:44:18.070Z"
   },
   {
    "duration": 500,
    "start_time": "2024-02-29T11:44:18.551Z"
   },
   {
    "duration": 481,
    "start_time": "2024-02-29T11:44:19.053Z"
   },
   {
    "duration": 610,
    "start_time": "2024-02-29T11:44:19.536Z"
   },
   {
    "duration": 2484,
    "start_time": "2024-02-29T11:44:20.148Z"
   },
   {
    "duration": 520,
    "start_time": "2024-02-29T11:44:22.634Z"
   },
   {
    "duration": 589,
    "start_time": "2024-02-29T11:44:23.155Z"
   },
   {
    "duration": 4,
    "start_time": "2024-02-29T11:44:23.746Z"
   },
   {
    "duration": 7,
    "start_time": "2024-02-29T11:44:23.751Z"
   },
   {
    "duration": 16,
    "start_time": "2024-02-29T11:44:23.760Z"
   },
   {
    "duration": 6,
    "start_time": "2024-02-29T11:44:23.778Z"
   },
   {
    "duration": 30,
    "start_time": "2024-02-29T11:44:23.786Z"
   },
   {
    "duration": 8,
    "start_time": "2024-02-29T11:44:23.818Z"
   },
   {
    "duration": 190,
    "start_time": "2024-02-29T11:44:23.828Z"
   },
   {
    "duration": 12024,
    "start_time": "2024-02-29T11:44:24.020Z"
   },
   {
    "duration": 4940,
    "start_time": "2024-02-29T11:44:36.045Z"
   },
   {
    "duration": 3332,
    "start_time": "2024-02-29T11:44:40.986Z"
   },
   {
    "duration": 1289,
    "start_time": "2024-02-29T11:44:44.320Z"
   },
   {
    "duration": 4,
    "start_time": "2024-02-29T11:44:45.610Z"
   },
   {
    "duration": 277,
    "start_time": "2024-02-29T11:44:45.616Z"
   },
   {
    "duration": 5,
    "start_time": "2024-02-29T11:44:45.894Z"
   },
   {
    "duration": 1084,
    "start_time": "2024-02-29T11:44:45.901Z"
   },
   {
    "duration": 4,
    "start_time": "2024-02-29T11:45:40.809Z"
   },
   {
    "duration": 7,
    "start_time": "2024-02-29T11:45:42.392Z"
   },
   {
    "duration": 8,
    "start_time": "2024-02-29T11:45:44.231Z"
   },
   {
    "duration": 5,
    "start_time": "2024-02-29T11:45:53.113Z"
   },
   {
    "duration": 5,
    "start_time": "2024-02-29T11:45:55.582Z"
   },
   {
    "duration": 4,
    "start_time": "2024-02-29T11:45:56.041Z"
   },
   {
    "duration": 117,
    "start_time": "2024-02-29T11:45:56.411Z"
   },
   {
    "duration": 11204,
    "start_time": "2024-02-29T11:46:02.002Z"
   },
   {
    "duration": 5054,
    "start_time": "2024-02-29T11:46:13.207Z"
   },
   {
    "duration": 3359,
    "start_time": "2024-02-29T11:46:18.263Z"
   },
   {
    "duration": 1264,
    "start_time": "2024-02-29T11:46:32.509Z"
   },
   {
    "duration": 5,
    "start_time": "2024-02-29T11:46:44.687Z"
   },
   {
    "duration": 248,
    "start_time": "2024-02-29T11:46:49.752Z"
   },
   {
    "duration": 6,
    "start_time": "2024-02-29T11:46:53.779Z"
   },
   {
    "duration": 1121,
    "start_time": "2024-02-29T11:46:54.893Z"
   },
   {
    "duration": 1234,
    "start_time": "2024-02-29T11:47:29.783Z"
   },
   {
    "duration": 1294,
    "start_time": "2024-02-29T11:49:31.440Z"
   },
   {
    "duration": 6,
    "start_time": "2024-02-29T11:50:23.810Z"
   },
   {
    "duration": 1035,
    "start_time": "2024-02-29T11:50:24.703Z"
   }
  ],
  "kernelspec": {
   "display_name": "Python 3 (ipykernel)",
   "language": "python",
   "name": "python3"
  },
  "language_info": {
   "codemirror_mode": {
    "name": "ipython",
    "version": 3
   },
   "file_extension": ".py",
   "mimetype": "text/x-python",
   "name": "python",
   "nbconvert_exporter": "python",
   "pygments_lexer": "ipython3",
   "version": "3.11.5"
  },
  "toc": {
   "base_numbering": 1,
   "nav_menu": {},
   "number_sections": true,
   "sideBar": true,
   "skip_h1_title": true,
   "title_cell": "Table of Contents",
   "title_sidebar": "Contents",
   "toc_cell": false,
   "toc_position": {
    "height": "calc(100% - 180px)",
    "left": "10px",
    "top": "150px",
    "width": "455.094px"
   },
   "toc_section_display": true,
   "toc_window_display": true
  },
  "varInspector": {
   "cols": {
    "lenName": 16,
    "lenType": 16,
    "lenVar": 40
   },
   "kernels_config": {
    "python": {
     "delete_cmd_postfix": "",
     "delete_cmd_prefix": "del ",
     "library": "var_list.py",
     "varRefreshCmd": "print(var_dic_list())"
    },
    "r": {
     "delete_cmd_postfix": ") ",
     "delete_cmd_prefix": "rm(",
     "library": "var_list.r",
     "varRefreshCmd": "cat(var_dic_list()) "
    }
   },
   "types_to_exclude": [
    "module",
    "function",
    "builtin_function_or_method",
    "instance",
    "_Feature"
   ],
   "window_display": false
  }
 },
 "nbformat": 4,
 "nbformat_minor": 5
}
