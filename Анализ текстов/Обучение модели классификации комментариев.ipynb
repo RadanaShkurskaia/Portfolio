{
 "cells": [
  {
   "cell_type": "markdown",
   "id": "6361108e",
   "metadata": {},
   "source": [
    "# Проект для «Викишоп»"
   ]
  },
  {
   "cell_type": "markdown",
   "id": "6959f125",
   "metadata": {},
   "source": [
    "Интернет-магазин «Викишоп» запускает новый сервис. Теперь пользователи могут редактировать и дополнять описания товаров, как в вики-сообществах. То есть клиенты предлагают свои правки и комментируют изменения других. Магазину нужен инструмент, который будет искать токсичные комментарии и отправлять их на модерацию. \n",
    "\n",
    "Обучите модель классифицировать комментарии на позитивные и негативные. В вашем распоряжении набор данных с разметкой о токсичности правок.\n",
    "\n",
    "Постройте модель со значением метрики качества *F1* не меньше 0.75. \n",
    "\n",
    "**Инструкция по выполнению проекта**\n",
    "\n",
    "1. Загрузите и подготовьте данные.\n",
    "2. Обучите разные модели. \n",
    "3. Сделайте выводы.\n",
    "\n",
    "Для выполнения проекта применять *BERT* необязательно, но вы можете попробовать.\n",
    "\n",
    "**Описание данных**\n",
    "\n",
    "Данные находятся в файле `toxic_comments.csv`. Столбец *text* в нём содержит текст комментария, а *toxic* — целевой признак."
   ]
  },
  {
   "cell_type": "markdown",
   "id": "31a6a53b",
   "metadata": {},
   "source": [
    "## Подготовка"
   ]
  },
  {
   "cell_type": "markdown",
   "id": "e4ce9da5",
   "metadata": {},
   "source": [
    "  ### Загрузка необходимых библиотек и инструментов."
   ]
  },
  {
   "cell_type": "code",
   "execution_count": 15,
   "id": "ed650581",
   "metadata": {},
   "outputs": [],
   "source": [
    "!pip install pymystem3 -q\n",
    "!pip install catboost -q "
   ]
  },
  {
   "cell_type": "code",
   "execution_count": 16,
   "id": "0a0e7c98",
   "metadata": {},
   "outputs": [],
   "source": [
    "import matplotlib.pyplot as plt\n",
    "import numpy as np\n",
    "import pandas as pd\n",
    "import re\n",
    "import os\n",
    "from pymystem3 import Mystem\n",
    "import nltk\n",
    "from nltk.corpus import stopwords as nltk_stopwords\n",
    "from sklearn.impute import SimpleImputer\n",
    "from sklearn.preprocessing import StandardScaler\n",
    "from sklearn.feature_extraction.text import TfidfVectorizer\n",
    "from sklearn.model_selection import (train_test_split, \n",
    "                                     cross_val_score, \n",
    "                                     GridSearchCV, \n",
    "                                     StratifiedShuffleSplit, \n",
    "                                     TimeSeriesSplit,\n",
    "                                     ParameterGrid)\n",
    "\n",
    "# Модели машинного обучения \n",
    "from sklearn.linear_model import (LinearRegression,\n",
    "                                  LogisticRegression, \n",
    "                                  Ridge,\n",
    "                                  Lasso,\n",
    "                                  ElasticNet)\n",
    "\n",
    "from sklearn.pipeline import Pipeline\n",
    "from catboost import CatBoostClassifier\n",
    "#from sklearn.tree import DecisionTreeClassifier\n",
    "#from catboost import CatBoostClassifier\n",
    "from sklearn.metrics import make_scorer, mean_squared_error, f1_score #, precision_score, recall_score, accuracy_score, roc_auc_score, roc_curve\n",
    "from sklearn.utils import shuffle\n",
    "import warnings\n",
    "#warnings.filterwarnings('ignore')"
   ]
  },
  {
   "cell_type": "code",
   "execution_count": 17,
   "id": "c95b8669",
   "metadata": {},
   "outputs": [],
   "source": [
    "state = np.random.seed(12345)"
   ]
  },
  {
   "cell_type": "markdown",
   "id": "bcc2dde4",
   "metadata": {},
   "source": [
    "### Загрузка данных"
   ]
  },
  {
   "cell_type": "code",
   "execution_count": 18,
   "id": "fda111c9",
   "metadata": {},
   "outputs": [],
   "source": [
    "pth1 = '/datasets/toxic_comments.csv'\n",
    "pth2 = 'https://code.s3.yandex.net/datasets/toxic_comments.csv'\n",
    "\n",
    "if os.path.exists(pth1):\n",
    "    data = pd.read_csv(pth1, parse_dates=[0])\n",
    "elif os.path.exists(pth2):\n",
    "    data = pd.read_csv(pth2, parse_dates=[0])\n",
    "else:\n",
    "    print('Something is wrong')"
   ]
  },
  {
   "cell_type": "code",
   "execution_count": 19,
   "id": "45a9a039",
   "metadata": {},
   "outputs": [],
   "source": [
    "def get_data_info(data):\n",
    "    display(data.head(5))\n",
    "    display(data.info())\n",
    "    display(data.isna().sum())\n",
    "#    display(data.describe(include='all'))"
   ]
  },
  {
   "cell_type": "code",
   "execution_count": 20,
   "id": "b9336196",
   "metadata": {},
   "outputs": [
    {
     "data": {
      "text/html": [
       "<div>\n",
       "<style scoped>\n",
       "    .dataframe tbody tr th:only-of-type {\n",
       "        vertical-align: middle;\n",
       "    }\n",
       "\n",
       "    .dataframe tbody tr th {\n",
       "        vertical-align: top;\n",
       "    }\n",
       "\n",
       "    .dataframe thead th {\n",
       "        text-align: right;\n",
       "    }\n",
       "</style>\n",
       "<table border=\"1\" class=\"dataframe\">\n",
       "  <thead>\n",
       "    <tr style=\"text-align: right;\">\n",
       "      <th></th>\n",
       "      <th>Unnamed: 0</th>\n",
       "      <th>text</th>\n",
       "      <th>toxic</th>\n",
       "    </tr>\n",
       "  </thead>\n",
       "  <tbody>\n",
       "    <tr>\n",
       "      <th>0</th>\n",
       "      <td>0</td>\n",
       "      <td>Explanation\\nWhy the edits made under my usern...</td>\n",
       "      <td>0</td>\n",
       "    </tr>\n",
       "    <tr>\n",
       "      <th>1</th>\n",
       "      <td>1</td>\n",
       "      <td>D'aww! He matches this background colour I'm s...</td>\n",
       "      <td>0</td>\n",
       "    </tr>\n",
       "    <tr>\n",
       "      <th>2</th>\n",
       "      <td>2</td>\n",
       "      <td>Hey man, I'm really not trying to edit war. It...</td>\n",
       "      <td>0</td>\n",
       "    </tr>\n",
       "    <tr>\n",
       "      <th>3</th>\n",
       "      <td>3</td>\n",
       "      <td>\"\\nMore\\nI can't make any real suggestions on ...</td>\n",
       "      <td>0</td>\n",
       "    </tr>\n",
       "    <tr>\n",
       "      <th>4</th>\n",
       "      <td>4</td>\n",
       "      <td>You, sir, are my hero. Any chance you remember...</td>\n",
       "      <td>0</td>\n",
       "    </tr>\n",
       "  </tbody>\n",
       "</table>\n",
       "</div>"
      ],
      "text/plain": [
       "  Unnamed: 0                                               text  toxic\n",
       "0          0  Explanation\\nWhy the edits made under my usern...      0\n",
       "1          1  D'aww! He matches this background colour I'm s...      0\n",
       "2          2  Hey man, I'm really not trying to edit war. It...      0\n",
       "3          3  \"\\nMore\\nI can't make any real suggestions on ...      0\n",
       "4          4  You, sir, are my hero. Any chance you remember...      0"
      ]
     },
     "metadata": {},
     "output_type": "display_data"
    },
    {
     "name": "stdout",
     "output_type": "stream",
     "text": [
      "<class 'pandas.core.frame.DataFrame'>\n",
      "RangeIndex: 159292 entries, 0 to 159291\n",
      "Data columns (total 3 columns):\n",
      " #   Column      Non-Null Count   Dtype \n",
      "---  ------      --------------   ----- \n",
      " 0   Unnamed: 0  159292 non-null  object\n",
      " 1   text        159292 non-null  object\n",
      " 2   toxic       159292 non-null  int64 \n",
      "dtypes: int64(1), object(2)\n",
      "memory usage: 3.6+ MB\n"
     ]
    },
    {
     "data": {
      "text/plain": [
       "None"
      ]
     },
     "metadata": {},
     "output_type": "display_data"
    },
    {
     "data": {
      "text/plain": [
       "Unnamed: 0    0\n",
       "text          0\n",
       "toxic         0\n",
       "dtype: int64"
      ]
     },
     "metadata": {},
     "output_type": "display_data"
    }
   ],
   "source": [
    "get_data_info(data)"
   ]
  },
  {
   "cell_type": "markdown",
   "id": "f54a546f",
   "metadata": {},
   "source": [
    "Данные загружены. Пропусков и явных аномалий в данных нет."
   ]
  },
  {
   "cell_type": "markdown",
   "id": "b0b0cc12",
   "metadata": {},
   "source": [
    "### Вывод:\n",
    "\n",
    "В данных содержится 159292 объекта без пропусков и 3 признака. \n",
    "- Признак 'text' содержит исходные тексты твитов на английском языке, является не целевым и будет использован в обучении и предсказании. \n",
    "- Признак 'toxic'  содержит данные по классификации текстов и явялется целевым.\n",
    "Содержит только 0 и 1, но, при этом, имеет тип данных int64. Его следует оптимизировать до uint8.\n",
    "Классы признака несбалансированны  многократным перевесом в пользу класса 0. Этот файкт требуется учесть при делении датафрейма на обучающие и тестовые выборки.\n",
    "- Признак 'Unnamed: 0' не содержит ценной для обучения информации."
   ]
  },
  {
   "cell_type": "markdown",
   "id": "176e1565",
   "metadata": {},
   "source": [
    "##  Обработка данных"
   ]
  },
  {
   "cell_type": "markdown",
   "id": "04c356bd",
   "metadata": {},
   "source": [
    "Присутствует столбец 'Unnamed: 0' повторяющий индексацию, избавимся от него."
   ]
  },
  {
   "cell_type": "code",
   "execution_count": 21,
   "id": "dbcfa0fe",
   "metadata": {},
   "outputs": [],
   "source": [
    "data = data.drop(['Unnamed: 0'], axis=1)"
   ]
  },
  {
   "cell_type": "markdown",
   "id": "477a0ed9",
   "metadata": {},
   "source": [
    "Целевой признак в столбце \"toxic\" является категоральным. Посмотрим на распределение классов в нем."
   ]
  },
  {
   "cell_type": "code",
   "execution_count": 22,
   "id": "e59dcafc",
   "metadata": {},
   "outputs": [
    {
     "name": "stdout",
     "output_type": "stream",
     "text": [
      "0    143106\n",
      "1     16186\n",
      "Name: toxic, dtype: int64\n"
     ]
    },
    {
     "data": {
      "image/png": "[encoded data removed]",
      "text/plain": [
       "<Figure size 432x288 with 1 Axes>"
      ]
     },
     "metadata": {
      "needs_background": "light"
     },
     "output_type": "display_data"
    }
   ],
   "source": [
    "print(data['toxic'].value_counts())\n",
    "\n",
    "data['toxic'].hist()\n",
    "plt.title('Распределение тональности комментариев')\n",
    "plt.ylabel('Количество комментариев')\n",
    "plt.xticks([0,1],['Негативные комментарии','Позитивные комментарии'], rotation = 0)\n",
    "plt.show()"
   ]
  },
  {
   "cell_type": "markdown",
   "id": "a5eafaaa",
   "metadata": {},
   "source": [
    "Классы определенно несбалансированы. Нужно избавиться от дисбаланса данных, очистить и лимитизировать текст.\n",
    "\n",
    "Воспользуемся для этого функцией."
   ]
  },
  {
   "cell_type": "code",
   "execution_count": 23,
   "id": "3566edd2",
   "metadata": {},
   "outputs": [
    {
     "data": {
      "text/plain": [
       "['i',\n",
       " 'me',\n",
       " 'my',\n",
       " 'myself',\n",
       " 'we',\n",
       " 'our',\n",
       " 'ours',\n",
       " 'ourselves',\n",
       " 'you',\n",
       " \"you're\",\n",
       " \"you've\",\n",
       " \"you'll\",\n",
       " \"you'd\",\n",
       " 'your',\n",
       " 'yours',\n",
       " 'yourself',\n",
       " 'yourselves',\n",
       " 'he',\n",
       " 'him',\n",
       " 'his',\n",
       " 'himself',\n",
       " 'she',\n",
       " \"she's\",\n",
       " 'her',\n",
       " 'hers',\n",
       " 'herself',\n",
       " 'it',\n",
       " \"it's\",\n",
       " 'its',\n",
       " 'itself',\n",
       " 'they',\n",
       " 'them',\n",
       " 'their',\n",
       " 'theirs',\n",
       " 'themselves',\n",
       " 'what',\n",
       " 'which',\n",
       " 'who',\n",
       " 'whom',\n",
       " 'this',\n",
       " 'that',\n",
       " \"that'll\",\n",
       " 'these',\n",
       " 'those',\n",
       " 'am',\n",
       " 'is',\n",
       " 'are',\n",
       " 'was',\n",
       " 'were',\n",
       " 'be',\n",
       " 'been',\n",
       " 'being',\n",
       " 'have',\n",
       " 'has',\n",
       " 'had',\n",
       " 'having',\n",
       " 'do',\n",
       " 'does',\n",
       " 'did',\n",
       " 'doing',\n",
       " 'a',\n",
       " 'an',\n",
       " 'the',\n",
       " 'and',\n",
       " 'but',\n",
       " 'if',\n",
       " 'or',\n",
       " 'because',\n",
       " 'as',\n",
       " 'until',\n",
       " 'while',\n",
       " 'of',\n",
       " 'at',\n",
       " 'by',\n",
       " 'for',\n",
       " 'with',\n",
       " 'about',\n",
       " 'against',\n",
       " 'between',\n",
       " 'into',\n",
       " 'through',\n",
       " 'during',\n",
       " 'before',\n",
       " 'after',\n",
       " 'above',\n",
       " 'below',\n",
       " 'to',\n",
       " 'from',\n",
       " 'up',\n",
       " 'down',\n",
       " 'in',\n",
       " 'out',\n",
       " 'on',\n",
       " 'off',\n",
       " 'over',\n",
       " 'under',\n",
       " 'again',\n",
       " 'further',\n",
       " 'then',\n",
       " 'once',\n",
       " 'here',\n",
       " 'there',\n",
       " 'when',\n",
       " 'where',\n",
       " 'why',\n",
       " 'how',\n",
       " 'all',\n",
       " 'any',\n",
       " 'both',\n",
       " 'each',\n",
       " 'few',\n",
       " 'more',\n",
       " 'most',\n",
       " 'other',\n",
       " 'some',\n",
       " 'such',\n",
       " 'no',\n",
       " 'nor',\n",
       " 'not',\n",
       " 'only',\n",
       " 'own',\n",
       " 'same',\n",
       " 'so',\n",
       " 'than',\n",
       " 'too',\n",
       " 'very',\n",
       " 's',\n",
       " 't',\n",
       " 'can',\n",
       " 'will',\n",
       " 'just',\n",
       " 'don',\n",
       " \"don't\",\n",
       " 'should',\n",
       " \"should've\",\n",
       " 'now',\n",
       " 'd',\n",
       " 'll',\n",
       " 'm',\n",
       " 'o',\n",
       " 're',\n",
       " 've',\n",
       " 'y',\n",
       " 'ain',\n",
       " 'aren',\n",
       " \"aren't\",\n",
       " 'couldn',\n",
       " \"couldn't\",\n",
       " 'didn',\n",
       " \"didn't\",\n",
       " 'doesn',\n",
       " \"doesn't\",\n",
       " 'hadn',\n",
       " \"hadn't\",\n",
       " 'hasn',\n",
       " \"hasn't\",\n",
       " 'haven',\n",
       " \"haven't\",\n",
       " 'isn',\n",
       " \"isn't\",\n",
       " 'ma',\n",
       " 'mightn',\n",
       " \"mightn't\",\n",
       " 'mustn',\n",
       " \"mustn't\",\n",
       " 'needn',\n",
       " \"needn't\",\n",
       " 'shan',\n",
       " \"shan't\",\n",
       " 'shouldn',\n",
       " \"shouldn't\",\n",
       " 'wasn',\n",
       " \"wasn't\",\n",
       " 'weren',\n",
       " \"weren't\",\n",
       " 'won',\n",
       " \"won't\",\n",
       " 'wouldn',\n",
       " \"wouldn't\"]"
      ]
     },
     "execution_count": 23,
     "metadata": {},
     "output_type": "execute_result"
    }
   ],
   "source": [
    "def utils_preprocess_text(text, flg_stemm=False, flg_lemm=True, lst_stopwords=None):\n",
    "    \"\"\" Функуия очистки текста \n",
    "    (перевод в нижний регистр,\n",
    "    удаление знаков препинания и символов, \n",
    "    стемминг и  лемматизация \"\"\"\n",
    "    \n",
    "    text = re.sub(r'[^\\w\\s]', '', str(text).lower().strip())\n",
    "            \n",
    "    ## Токенизация (преобразование из строки в список)\n",
    "    lst_text = text.split()    ## remove Stopwords\n",
    "    if lst_stopwords is not None:\n",
    "        lst_text = [word for word in lst_text if word not in \n",
    "                    lst_stopwords]\n",
    "                \n",
    "    ## Стемминг (удаление -ing, -ly, ...)\n",
    "    if flg_stemm == True:\n",
    "        ps = nltk.stem.porter.PorterStemmer()\n",
    "        lst_text = [ps.stem(word) for word in lst_text]\n",
    "                \n",
    "    ## Лемматизация (преобразование слова в корневое слово)\n",
    "    if flg_lemm == True:\n",
    "        lem = nltk.stem.wordnet.WordNetLemmatizer()\n",
    "        lst_text = [lem.lemmatize(word) for word in lst_text]\n",
    "            \n",
    "    ## возврат к строке из списка\n",
    "    text = \" \".join(lst_text)\n",
    "    return text\n",
    "\n",
    "\n",
    "lst_stopwords = nltk.corpus.stopwords.words(\"english\")\n",
    "lst_stopwords"
   ]
  },
  {
   "cell_type": "code",
   "execution_count": 24,
   "id": "4756d7c8",
   "metadata": {},
   "outputs": [
    {
     "data": {
      "text/html": [
       "<div>\n",
       "<style scoped>\n",
       "    .dataframe tbody tr th:only-of-type {\n",
       "        vertical-align: middle;\n",
       "    }\n",
       "\n",
       "    .dataframe tbody tr th {\n",
       "        vertical-align: top;\n",
       "    }\n",
       "\n",
       "    .dataframe thead th {\n",
       "        text-align: right;\n",
       "    }\n",
       "</style>\n",
       "<table border=\"1\" class=\"dataframe\">\n",
       "  <thead>\n",
       "    <tr style=\"text-align: right;\">\n",
       "      <th></th>\n",
       "      <th>text</th>\n",
       "      <th>toxic</th>\n",
       "      <th>text_clean</th>\n",
       "    </tr>\n",
       "  </thead>\n",
       "  <tbody>\n",
       "    <tr>\n",
       "      <th>0</th>\n",
       "      <td>Explanation\\nWhy the edits made under my usern...</td>\n",
       "      <td>0</td>\n",
       "      <td>explanation edits made username hardcore metal...</td>\n",
       "    </tr>\n",
       "    <tr>\n",
       "      <th>1</th>\n",
       "      <td>D'aww! He matches this background colour I'm s...</td>\n",
       "      <td>0</td>\n",
       "      <td>daww match background colour im seemingly stuc...</td>\n",
       "    </tr>\n",
       "    <tr>\n",
       "      <th>2</th>\n",
       "      <td>Hey man, I'm really not trying to edit war. It...</td>\n",
       "      <td>0</td>\n",
       "      <td>hey man im really trying edit war guy constant...</td>\n",
       "    </tr>\n",
       "    <tr>\n",
       "      <th>3</th>\n",
       "      <td>\"\\nMore\\nI can't make any real suggestions on ...</td>\n",
       "      <td>0</td>\n",
       "      <td>cant make real suggestion improvement wondered...</td>\n",
       "    </tr>\n",
       "    <tr>\n",
       "      <th>4</th>\n",
       "      <td>You, sir, are my hero. Any chance you remember...</td>\n",
       "      <td>0</td>\n",
       "      <td>sir hero chance remember page thats</td>\n",
       "    </tr>\n",
       "  </tbody>\n",
       "</table>\n",
       "</div>"
      ],
      "text/plain": [
       "                                                text  toxic  \\\n",
       "0  Explanation\\nWhy the edits made under my usern...      0   \n",
       "1  D'aww! He matches this background colour I'm s...      0   \n",
       "2  Hey man, I'm really not trying to edit war. It...      0   \n",
       "3  \"\\nMore\\nI can't make any real suggestions on ...      0   \n",
       "4  You, sir, are my hero. Any chance you remember...      0   \n",
       "\n",
       "                                          text_clean  \n",
       "0  explanation edits made username hardcore metal...  \n",
       "1  daww match background colour im seemingly stuc...  \n",
       "2  hey man im really trying edit war guy constant...  \n",
       "3  cant make real suggestion improvement wondered...  \n",
       "4                sir hero chance remember page thats  "
      ]
     },
     "execution_count": 24,
     "metadata": {},
     "output_type": "execute_result"
    }
   ],
   "source": [
    "# применим написанную функцию ко всему набору данных и сохраним результат в новом столбце с именем «text_clean»\n",
    "# чтобы мы могли работать с необработанным корпусом или с предварительно обработанным текстом.\n",
    "\n",
    "data[\"text_clean\"] = data[\"text\"].apply(lambda x: \n",
    "          utils_preprocess_text(x, flg_stemm=False, flg_lemm=True, \n",
    "          lst_stopwords=lst_stopwords))\n",
    "\n",
    "data.head()"
   ]
  },
  {
   "cell_type": "markdown",
   "id": "0e832e6a",
   "metadata": {},
   "source": [
    "Супер! Текст исправлен и готов к дальнейшей работе.\n",
    "\n",
    "Разделим признаки для обучения и тестирования моделей. Выделим целевой признак."
   ]
  },
  {
   "cell_type": "code",
   "execution_count": 25,
   "id": "91fbda65",
   "metadata": {
    "scrolled": true
   },
   "outputs": [],
   "source": [
    "# Стратифицируем train/val/test\n",
    "strat = StratifiedShuffleSplit(n_splits=1, test_size=0.3, random_state=42)\n",
    "\n",
    "X = data['text_clean']\n",
    "y = data['toxic']\n",
    "\n",
    "for train_index, test_index in strat.split(X, y):\n",
    "    X_test, y_test = X.iloc[test_index], y.iloc[test_index]\n",
    "    X_train, y_train = X.iloc[train_index], y.iloc[train_index]\n"
   ]
  },
  {
   "cell_type": "code",
   "execution_count": 26,
   "id": "aac8cfff",
   "metadata": {},
   "outputs": [],
   "source": [
    "# Создадим матрицу TF-IDF\n",
    "# Обучим TfidfVectorizer на train, трансформируем test\n",
    "vectorizer = TfidfVectorizer(stop_words=lst_stopwords)\n",
    "X_train = vectorizer.fit_transform(X_train)\n",
    "\n",
    "\n",
    "X_test = vectorizer.transform(X_test)"
   ]
  },
  {
   "cell_type": "code",
   "execution_count": 27,
   "id": "609f2d6d",
   "metadata": {
    "scrolled": true
   },
   "outputs": [
    {
     "name": "stdout",
     "output_type": "stream",
     "text": [
      "Обучающая выборка:  (111504, 186816) (111504,)\n",
      "Тестовый набор:  (47788, 186816) (47788,)\n"
     ]
    }
   ],
   "source": [
    "print(\"Обучающая выборка: \", X_train.shape, y_train.shape)\n",
    "print(\"Тестовый набор: \", X_test.shape, y_test.shape)"
   ]
  },
  {
   "cell_type": "markdown",
   "id": "6a235c18",
   "metadata": {},
   "source": [
    "### Вывод\n",
    "\n",
    "Данные очищены и подготовлены к построению моделей.\n",
    "Бли проведены следущие манипуляции:\n",
    "- удаление лишних данных,\n",
    "- перевод текста в нижний регистр,\n",
    "- удаление знаков препинания и символов, \n",
    "- стемминг и лемматизация текста,\n",
    "- выделен целевой признак, дана оценка распределения классов в нем,\n",
    "- выделены обучающая и тестовая выборки,\n",
    "- проведен TF-IDF."
   ]
  },
  {
   "cell_type": "markdown",
   "id": "2e9ace7c",
   "metadata": {},
   "source": [
    "## Обучение"
   ]
  },
  {
   "cell_type": "markdown",
   "id": "391c9e04",
   "metadata": {},
   "source": [
    "**Logistic Regression**"
   ]
  },
  {
   "cell_type": "markdown",
   "id": "b7997b01",
   "metadata": {},
   "source": [
    "Возьмем в качестве baseline модель LogisticRegression небольшим каличеством гиперпараметров."
   ]
  },
  {
   "cell_type": "code",
   "execution_count": null,
   "id": "30a4a489",
   "metadata": {},
   "outputs": [],
   "source": [
    "model_lr_b = LogisticRegression(max_iter=1000, class_weight='balanced')\n",
    "model_lr_b.fit(X_train, y_train)\n",
    "# Предскажем на valid\n",
    "y_train_pred_lr = model_lr_b.predict(X_train)\n",
    "\n",
    "# Рассчитаем F1\n",
    "f1_lr_b = f1_score(y_train, y_train_pred_lr)\n",
    "print('F1 score: ', f1_lr)"
   ]
  },
  {
   "cell_type": "markdown",
   "id": "89cd85a3",
   "metadata": {},
   "source": [
    "F1 score:  0.7364228819695872\n",
    "\n",
    "Довольно неплохой результат, но можно лучше. Подберем гиперпараметры."
   ]
  },
  {
   "cell_type": "code",
   "execution_count": null,
   "id": "3dc43641",
   "metadata": {
    "scrolled": true
   },
   "outputs": [],
   "source": [
    "# сетка параметров\n",
    "params = [{'penalty': ['l1', 'l2']\n",
    "           , 'random_state': [12345] # default 1.0\n",
    "           , 'C': np.arange(0.001, 6, 1) # default 5\n",
    "           , 'max_iter': np.arange(100, 1000, 100)\n",
    "           , 'solver': ['liblinear']\n",
    "            #'regressor__C': np.arange(0.001, 10, 1) # default 5\n",
    "           #, 'regressor__max_iter': np.arange(0, 210, 20)\n",
    "          }]\n",
    "\n",
    "model_lr = LogisticRegression()\n",
    "\n",
    "# функционал ошибки\n",
    "f1 = make_scorer(f1_score, average='micro')\n",
    "    \n",
    "# подбираем параметры\n",
    "grid_lr = GridSearchCV(model_lr, param_grid=params, n_jobs=-1, cv=5, \n",
    "                         scoring=f1, verbose=True, error_score='raise')\n",
    "grid_lr.fit(X_train, y_train)\n",
    "    \n",
    "#Посмотрим наилучшие подобранные параметры\n",
    "print('')\n",
    "print('Параметры лучшей модели:', grid_lr.best_params_)\n",
    "print('Значение лучшей метрики качества:', grid_lr.best_score_)"
   ]
  },
  {
   "cell_type": "markdown",
   "id": "ff582317",
   "metadata": {},
   "source": [
    "Fitting 5 folds for each of 108 candidates, totalling 540 fits\n",
    "\n",
    "Параметры лучшей модели: {'C': 3.0009999999999994, 'max_iter': 100, 'penalty': 'l1', 'random_state': 12345, 'solver': 'liblinear'}\n",
    "Значение лучшей метрики качества: 0.9593915919634401\n",
    "    \n",
    "Метрика качества стремится к 1. LogisticRegression явно переобучилась на данной задаче. Такой результат тяжело будет перебить, но на тестировочном датасете она покажет результаты явно ниже."
   ]
  },
  {
   "cell_type": "markdown",
   "id": "1769876b",
   "metadata": {},
   "source": [
    "**CatBoostClassifier**"
   ]
  },
  {
   "cell_type": "code",
   "execution_count": null,
   "id": "8a43c48c",
   "metadata": {},
   "outputs": [],
   "source": [
    "# сетка параметров\n",
    "params = [{'learning_rate': [0.2, 0.4]\n",
    "           ,'depth': [5, 10, 15]\n",
    "           ,'l2_leaf_reg': [1, 3, 5]\n",
    "           ,'iterations': [200, 500, 1000]\n",
    "           ,'border_count': [32, 64, 128, 254]\n",
    "           ,'auto_class_weights': ['Balanced', 'SqrtBalanced']\n",
    "          }]\n",
    "\n",
    "model_cbr = CatBoostClassifier(random_state=state,verbose=50)\n",
    "\n",
    "# функционал ошибки\n",
    "f1 = make_scorer(f1_score, average='micro')\n",
    "    \n",
    "# подбираем параметры\n",
    "grid_cbr = GridSearchCV(model_cbr, param_grid=params, n_jobs=-1, cv=5, \n",
    "                         scoring=f1, verbose=True, error_score='raise')\n",
    "grid_cbr.fit(X_train, y_train)\n",
    "    \n",
    "#Посмотрим наилучшие подобранные параметры\n",
    "print('')\n",
    "print('Параметры лучшей модели:', grid_cbr.best_params_)\n",
    "print('Значение лучшей метрики качества:', grid_cbr.best_score_)"
   ]
  },
  {
   "cell_type": "markdown",
   "id": "b945f55b",
   "metadata": {},
   "source": [
    "Fitting 5 folds for each of 432 candidates, totalling 2160 fits\n",
    "\n",
    "Лучшие гиперпараметры: {'auto_class_weights': 'SqrtBalanced', 'iterations': 1000, 'learning_rate': 0.2, 'loss_function': 'Logloss'}\n",
    "F1 score:  0.7833405265429435"
   ]
  },
  {
   "cell_type": "markdown",
   "id": "4fc6ff9e",
   "metadata": {},
   "source": [
    "### Вывод"
   ]
  },
  {
   "cell_type": "markdown",
   "id": "f288ee04",
   "metadata": {},
   "source": [
    "Были протестированы на обучающей выборке две модели машинного обучения и подобраны гиперпараметры к ним:\n",
    "\n",
    "- LogisticRegression \n",
    "F1 = 0.9594, параметры модели: {'C': 3.0009999999999994, 'max_iter': 100, 'penalty': 'l1', 'random_state': 12345, 'solver': 'liblinear'}\n",
    "\n",
    "- CatBoostClassifier\n",
    "F1 = 0.7833, параметры модели: {'auto_class_weights': 'SqrtBalanced', 'iterations': 1000, 'learning_rate': 0.2, 'loss_function': 'Logloss'}\n",
    "    \n",
    "Обе модели построены со значением метрики качества F1 не меньше 0.75, но модель LogisticRegression показала явное переобучение . Протестируем на тестовом датасете CatBoostClassifier."
   ]
  },
  {
   "cell_type": "markdown",
   "id": "b160fdea",
   "metadata": {},
   "source": [
    "## Тестирование модели"
   ]
  },
  {
   "cell_type": "markdown",
   "id": "977293f1",
   "metadata": {},
   "source": [
    " Лучшая модель  \n",
    " CatBoostClassifier(auto_class_weights='SqrtBalanced', iterations=1000, learning_rate=0.2, loss_function='Logloss')\n"
   ]
  },
  {
   "cell_type": "code",
   "execution_count": null,
   "id": "39572fc2",
   "metadata": {},
   "outputs": [],
   "source": [
    "final_pred = grid_cat.predict(X_test)\n",
    "f1 = f1_score(y_test, final_pred)\n",
    "print('F1 score: ', f1)"
   ]
  },
  {
   "cell_type": "markdown",
   "id": "0e1cd3cf",
   "metadata": {},
   "source": [
    "F1 score:  0.7800624394445043"
   ]
  },
  {
   "cell_type": "markdown",
   "id": "49e7578e",
   "metadata": {},
   "source": [
    "## Вывод\n"
   ]
  },
  {
   "cell_type": "markdown",
   "id": "69a78ae9",
   "metadata": {},
   "source": [
    "В ходе работы над проектом было сделано:\n",
    "\n",
    "- подготовленны данные обучения на моделях,\n",
    "- данные сбалансированны и поделены на обучающую и тестовою выборку,\n",
    "- обучены модели с наилучшими показателями гиперпараметров,\n",
    "- выбрана лучшая модель по параметру качества на валидационной выборке,\n",
    "- лучшая модель протестированна на тестовых данных.\n",
    "\n",
    "В проекте были иследованны две модели машинного обучения : LogisticRegression и CatBoostClassifier. Обе модели отлично справились с задачей на обучающем датасете. LogisticRegression превзошла всякие ожидания набрав F1 = 0.9594, но показатели метри качества так близко приближающиеся к 1 свидетельствуют о переобучении модели.\n",
    "\n",
    "На тестовом датасете работал CatBoostClassifier. Показатель метрики качества  - F1 = 0.78. \n",
    "F1-мера удовлетворяет условию, а значит цель проекта достигнута!"
   ]
  }
 ],
 "metadata": {
  "kernelspec": {
   "display_name": "Python 3 (ipykernel)",
   "language": "python",
   "name": "python3"
  },
  "language_info": {
   "codemirror_mode": {
    "name": "ipython",
    "version": 3
   },
   "file_extension": ".py",
   "mimetype": "text/x-python",
   "name": "python",
   "nbconvert_exporter": "python",
   "pygments_lexer": "ipython3",
   "version": "3.11.5"
  },
  "toc": {
   "base_numbering": 1,
   "nav_menu": {},
   "number_sections": true,
   "sideBar": true,
   "skip_h1_title": true,
   "title_cell": "Table of Contents",
   "title_sidebar": "Contents",
   "toc_cell": false,
   "toc_position": {},
   "toc_section_display": true,
   "toc_window_display": false
  },
  "varInspector": {
   "cols": {
    "lenName": 16,
    "lenType": 16,
    "lenVar": 40
   },
   "kernels_config": {
    "python": {
     "delete_cmd_postfix": "",
     "delete_cmd_prefix": "del ",
     "library": "var_list.py",
     "varRefreshCmd": "print(var_dic_list())"
    },
    "r": {
     "delete_cmd_postfix": ") ",
     "delete_cmd_prefix": "rm(",
     "library": "var_list.r",
     "varRefreshCmd": "cat(var_dic_list()) "
    }
   },
   "types_to_exclude": [
    "module",
    "function",
    "builtin_function_or_method",
    "instance",
    "_Feature"
   ],
   "window_display": false
  }
 },
 "nbformat": 4,
 "nbformat_minor": 5
}
